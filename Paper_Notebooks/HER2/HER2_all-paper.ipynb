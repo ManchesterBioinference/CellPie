{
 "cells": [
  {
   "cell_type": "code",
   "execution_count": null,
   "id": "96c7a314",
   "metadata": {},
   "outputs": [],
   "source": [
    "import numpy as np\n",
    "import pandas as pd\n",
    "import matplotlib.pyplot as plt\n",
    "from os import path\n",
    "from math import ceil\n",
    "import squidpy as sq\n",
    "import scanpy as sc\n",
    "from scanpy import read_h5ad\n",
    "import sys\n",
    "sys.path.append(\"/Users/user/CellPie/CellPie/\") # go to parent dir\n",
    "import cellpie_main as cp\n",
    "from cellpie_main import intNMF"
   ]
  },
  {
   "cell_type": "code",
   "execution_count": null,
   "id": "71e94e72",
   "metadata": {},
   "outputs": [],
   "source": [
    "random_state=123"
   ]
  },
  {
   "cell_type": "code",
   "execution_count": null,
   "id": "0b1b72c8",
   "metadata": {},
   "outputs": [],
   "source": [
    "histo_2 = pd.read_csv('H1_labeled_coordinates.tsv',sep='\\t')\n",
    "histo_2.set_index('Row.names')"
   ]
  },
  {
   "cell_type": "code",
   "execution_count": null,
   "id": "839c8033",
   "metadata": {},
   "outputs": [],
   "source": [
    "adata=sc.read_h5ad('her2_h1.h5ad')"
   ]
  },
  {
   "cell_type": "code",
   "execution_count": null,
   "id": "feece086",
   "metadata": {},
   "outputs": [],
   "source": [
    "# df_sp.index = df_sp['Unnamed: 0']\n",
    "histo_2.index = histo_2['Row.names']\n",
    "histo_2.index.names = ['']\n",
    "new_index_values = []\n",
    "\n",
    "for i in range(len(histo_2)):\n",
    "    x = histo_2['x'].round().astype(np.int64).iloc[i]\n",
    "    y = histo_2['y'].round().astype(np.int64).iloc[i]\n",
    "    new_index_values.append(\"{0}x{1}\".format(x, y))\n",
    "    \n",
    "histo_2.index=new_index_values\n",
    "adata.obs['path_labels'] =histo_2['label']"
   ]
  },
  {
   "cell_type": "code",
   "execution_count": null,
   "id": "9bd06e70",
   "metadata": {},
   "outputs": [],
   "source": [
    "adata = adata[adata.obs_names.isin(histo_2.index),:]"
   ]
  },
  {
   "cell_type": "code",
   "execution_count": null,
   "id": "c3e36476",
   "metadata": {},
   "outputs": [],
   "source": [
    "scale_range = np.arange(0.1,4,1)"
   ]
  },
  {
   "cell_type": "code",
   "execution_count": null,
   "id": "c4230fbe",
   "metadata": {},
   "outputs": [],
   "source": [
    "from sklearn import metrics\n",
    "from sklearn.cluster import KMeans\n",
    "res = []"
   ]
  },
  {
   "cell_type": "code",
   "execution_count": null,
   "id": "4fe4f541",
   "metadata": {},
   "outputs": [],
   "source": [
    "from feature_extr import extract_features\n",
    "extract_features(adata,img_path='HE_BT24044_D2.jpg',\n",
    "                         spot_scale=scale_range)"
   ]
  },
  {
   "cell_type": "code",
   "execution_count": null,
   "id": "943bbe70",
   "metadata": {},
   "outputs": [],
   "source": [
    "from cp_utils import preprocess_data\n",
    "preprocess_data(adata,min_cells=100)"
   ]
  },
  {
   "cell_type": "code",
   "execution_count": null,
   "id": "ede26816",
   "metadata": {},
   "outputs": [],
   "source": [
    "adata.obs['Histology']=adata.obs['path_labels'] "
   ]
  },
  {
   "cell_type": "code",
   "execution_count": null,
   "id": "a0bf869d",
   "metadata": {
    "scrolled": true
   },
   "outputs": [],
   "source": [
    "from cp_utils import model_selection_alpha\n",
    "k = np.arange(1,30)\n",
    "mod_sel = model_selection_alpha(adata,k,random_state=random_state)"
   ]
  },
  {
   "cell_type": "code",
   "execution_count": null,
   "id": "927f9458",
   "metadata": {
    "scrolled": true
   },
   "outputs": [],
   "source": [
    "mod = []\n",
    "\n",
    "for i in np.arange(0, 2.01,0.1):\n",
    "    nmf_model = intNMF(adata,5,epochs = 50, init = 'nndsvd',random_state=random_state,mod1_skew=i)\n",
    "    nmf_model.fit(adata)\n",
    "    kmeans_cellpie = KMeans(n_clusters=6, init='k-means++',max_iter=500,random_state=random_state).fit(nmf_model.theta[:,:])\n",
    "    adata.obs['CellPie']=kmeans_cellpie.labels_.astype(str)\n",
    "    mut_info=metrics.fowlkes_mallows_score(adata.obs['CellPie'],adata.obs['path_labels'])\n",
    "    adj_rand=metrics.adjusted_rand_score(adata.obs['CellPie'],adata.obs['path_labels'])\n",
    "    adj_mut_info=metrics.adjusted_mutual_info_score(adata.obs['CellPie'],adata.obs['path_labels'])\n",
    "    mod.append((i,mut_info,adj_rand,adj_mut_info)) "
   ]
  },
  {
   "cell_type": "code",
   "execution_count": null,
   "id": "8d7f2a3f",
   "metadata": {},
   "outputs": [],
   "source": [
    "score_mod = pd.DataFrame(mod)  \n",
    "plt.plot(score_mod[0],score_mod[1],color=\"green\",label='Fowlkes Mallows Score')\n",
    "plt.plot(score_mod[0],score_mod[2],color=\"red\",label='Adjusted Rand Score')\n",
    "plt.plot(score_mod[0],score_mod[3],color=\"blue\",label='Adjusted Mutual Info Score')\n",
    "plt.xlabel(\"Modality Weight\")\n",
    "plt.ylabel(\"Score\")\n",
    "plt.legend(prop={'size': 9})"
   ]
  },
  {
   "cell_type": "code",
   "execution_count": null,
   "id": "0971a234",
   "metadata": {},
   "outputs": [],
   "source": [
    "nmf_model = intNMF(adata,5,epochs = 50, init = 'nndsvd',random_state=random_state,mod1_skew=1.9)\n",
    "nmf_model.fit(adata)\n",
    "kmeans_cellpie = KMeans(n_clusters=6, init='k-means++',max_iter=500,random_state=random_state).fit(nmf_model.theta[:,:])\n",
    "adata.obs['CellPie']=kmeans_cellpie.labels_.astype(str)"
   ]
  },
  {
   "cell_type": "code",
   "execution_count": null,
   "id": "1c41a3e5-b35b-4601-8103-614846f236f6",
   "metadata": {},
   "outputs": [],
   "source": []
  },
  {
   "cell_type": "code",
   "execution_count": null,
   "id": "2b48498e",
   "metadata": {},
   "outputs": [],
   "source": [
    "from sklearn.decomposition import FactorAnalysis\n",
    "transformer = FactorAnalysis(n_components=4, random_state=random_state)\n",
    "X_transformed = transformer.fit_transform(adata.X)\n",
    "kmeans = KMeans(n_clusters=6, init='k-means++',max_iter=500,random_state=random_state).fit(X_transformed)\n",
    "adata.obs['FA']=kmeans.labels_.astype(str)"
   ]
  },
  {
   "cell_type": "code",
   "execution_count": null,
   "id": "bc98dcd6",
   "metadata": {},
   "outputs": [],
   "source": [
    "mef = pd.read_csv(f'../range_benchmark/factors_mefisto_her2_4_bench.csv',index_col=0)\n",
    "mef = mef.reindex(adata.obs.index)\n",
    "\n",
    "kmeans = KMeans(n_clusters=6, init='k-means++',max_iter=500,random_state=random_state).fit(mef.iloc[:,:])\n",
    "adata.obs['MEFISTO']=kmeans.labels_.astype(str)\n"
   ]
  },
  {
   "cell_type": "code",
   "execution_count": null,
   "id": "56690795",
   "metadata": {},
   "outputs": [],
   "source": [
    "nsf = pd.read_csv(f'../range_benchmark/factors_nsf_her2_poi_4_bench.csv',index_col=0)\n",
    "nsf = nsf.reindex(adata.obs.index)\n",
    "kmeans = KMeans(n_clusters=6, init='k-means++',max_iter=500,random_state=random_state).fit(nsf.iloc[:,:])\n",
    "adata.obs['NSF']=kmeans.labels_.astype(str)"
   ]
  },
  {
   "cell_type": "code",
   "execution_count": null,
   "id": "14295add",
   "metadata": {},
   "outputs": [],
   "source": [
    "nsfh_s = pd.read_csv(f'../range_benchmark/spatialfactors_nsfh_her2_poi_4_bench.csv',index_col=0)\n",
    "nsfh_ns = pd.read_csv(f'../range_benchmark/nonspatialfactors_her2_prostate_poi_4_bench.csv',index_col=0)\n",
    "nsfh = pd.concat([nsfh_ns,nsfh_s], axis=1)\n",
    "nsfh = nsfh.reindex(adata.obs.index)\n",
    "kmeans = KMeans(n_clusters=6, init='k-means++',max_iter=500,random_state=random_state).fit(nsfh.iloc[:,:])\n",
    "adata.obs['NSFH']=kmeans.labels_.astype(str)\n"
   ]
  },
  {
   "cell_type": "code",
   "execution_count": null,
   "id": "a934afe1",
   "metadata": {},
   "outputs": [],
   "source": [
    "pnmf = pd.read_csv(f'../range_benchmark/factors_pnmf_her2_poi_6_bench.csv',index_col=0)\n",
    "pnmf = pnmf.reindex(adata.obs.index)\n",
    "\n",
    "kmeans = KMeans(n_clusters=6, init='k-means++',max_iter=500,random_state=random_state).fit(pnmf.iloc[:,:])\n",
    "adata.obs['PNMF']=kmeans.labels_.astype(str)"
   ]
  },
  {
   "cell_type": "code",
   "execution_count": null,
   "id": "a7077fe8",
   "metadata": {},
   "outputs": [],
   "source": [
    "nmf_model_0 = intNMF(adata,5,epochs = 50,init = 'nndsvd',random_state=random_state,mod1_skew=2)\n",
    "nmf_model_0.fit(adata)\n",
    "kmeans_cp_0 = KMeans(n_clusters=6, init='k-means++',max_iter=500,random_state=random_state).fit(nmf_model_0.theta[:,:])\n",
    "adata.obs['CellPie_0']=kmeans_cp_0.labels_.astype(str)"
   ]
  },
  {
   "cell_type": "code",
   "execution_count": null,
   "id": "ca4ad057",
   "metadata": {},
   "outputs": [],
   "source": [
    "adata.uns['CellPie_colors'] = ['#d62728','#9467bd','#2ca02c','#1f77b4','#ff7f0e','#8c564b']\n",
    "adata.uns['NSF_colors'] = ['#1f77b4','#2ca02c','#ff7f0e','#d62728','#ff7f0e','#9467bd']\n",
    "\n",
    "adata.uns['NSFH_colors'] = ['#1f77b4','#9467bd','#ff7f0e','#8c564b','#00e6e6','#2ca02c']\n",
    "\n",
    "adata.uns['MEFISTO_colors'] = ['#1f77b4','#2ca02c','#ff7f0e','#9467bd','#8c564b','#d62728']\n",
    "\n",
    "\n",
    "adata.uns['FA_colors'] = ['#d62728','#2ca02c','#1f77b4','#8c564b','#ff7f0e','#9467bd']\n",
    "\n",
    "adata.uns['PNMF_colors'] = ['#d62728','#2ca02c','#8c564b','#1f77b4','#ff7f0e','#9467bd']\n",
    "\n",
    "adata.uns['CellPie_0_colors'] = ['#d62728','#2ca02c','#ff7f0e','#9467bd','#8c564b','#1f77b4']"
   ]
  },
  {
   "cell_type": "code",
   "execution_count": null,
   "id": "5ddc5e5a",
   "metadata": {},
   "outputs": [],
   "source": [
    "sc.pl.spatial(adata,color=['Histology','CellPie','NSF','NSFH','MEFISTO','FA','PNMF','CellPie_0'],\n",
    "              size=4,ncols=4)\n",
    "              # save = 'her2_kmeans_revision.png')"
   ]
  },
  {
   "cell_type": "code",
   "execution_count": null,
   "id": "bb0512d2",
   "metadata": {},
   "outputs": [],
   "source": [
    "tls = pd.read_csv('Benchmark/tls_score_H1.csv',index_col=0)"
   ]
  },
  {
   "cell_type": "code",
   "execution_count": null,
   "id": "6ffafeb9",
   "metadata": {},
   "outputs": [],
   "source": [
    "adata.obs['tls'] = tls['0']"
   ]
  },
  {
   "cell_type": "code",
   "execution_count": null,
   "id": "6ab38266",
   "metadata": {
    "scrolled": true
   },
   "outputs": [],
   "source": [
    "import matplotlib as mpl\n",
    "with mpl.rc_context({'figure.figsize': (5, 6), 'axes.facecolor': 'black'}):\n",
    "    sc.pl.spatial(adata,color='tls',size=4,alpha_img=0.2,save = 'tls.png')"
   ]
  },
  {
   "cell_type": "code",
   "execution_count": null,
   "id": "8ba6e295",
   "metadata": {},
   "outputs": [],
   "source": [
    "mi_scores = np.zeros((1,5))\n",
    "for i in range(1):\n",
    "    for j in range(5):\n",
    "        mi_scores[i,j] = np.corrcoef(adata.obs['tls'],nmf_model.theta[:, j])[1][0]      \n",
    "mi_scores_nsf = np.zeros((1,4))\n",
    "for i in range(1):\n",
    "    for j in range(4):\n",
    "        mi_scores_nsf[i,j] = np.corrcoef(adata.obs['tls'],nsf.iloc[:, j])[1][0]      \n",
    "mi_scores_nsfh = np.zeros((1,4))\n",
    "for i in range(1):\n",
    "    for j in range(4):\n",
    "        mi_scores_nsfh[i,j] = np.corrcoef(adata.obs['tls'],nsfh.iloc[:, j])[1][0]    \n",
    "mi_scores_mef = np.zeros((1,4))\n",
    "for i in range(1):\n",
    "    for j in range(4):\n",
    "        mi_scores_mef[i,j] = np.corrcoef(adata.obs['tls'],mef.iloc[:, j])[1][0]\n",
    "mi_scores_fa = np.zeros((1,4))\n",
    "for i in range(1):\n",
    "    for j in range(4):\n",
    "        mi_scores_fa[i,j] = np.corrcoef(adata.obs['tls'],X_transformed[:, j])[1][0]\n",
    "mi_scores_pnmf = np.zeros((1,6))\n",
    "for i in range(1):\n",
    "    for j in range(6):\n",
    "        mi_scores_pnmf[i,j] = np.corrcoef(adata.obs['tls'],pnmf.iloc[:, j])[1][0]"
   ]
  },
  {
   "cell_type": "code",
   "execution_count": null,
   "id": "b848d7a6",
   "metadata": {},
   "outputs": [],
   "source": [
    "factors = ['Factor_1', 'Factor_2', 'Factor_3', 'Factor_4', 'Factor_5']"
   ]
  },
  {
   "cell_type": "code",
   "execution_count": null,
   "id": "9ecfcf9b",
   "metadata": {},
   "outputs": [],
   "source": [
    "import seaborn as sns\n",
    "plt.figure(figsize=(33, 1))\n",
    "plt.rcParams[\"axes.grid\"] = False\n",
    "sns.heatmap(mi_scores, annot=True, cmap='viridis',\n",
    "            xticklabels=factors,annot_kws={\"fontsize\":35})\n",
    "sns.set(font_scale=2.5)\n",
    "plt.title('Pearson Correlation Between TLS score and CellPie Factors')\n",
    "plt.xlabel('Factors')\n",
    "plt.ylabel('TLS')\n",
    "plt.show()"
   ]
  },
  {
   "cell_type": "code",
   "execution_count": null,
   "id": "f7495ebd",
   "metadata": {},
   "outputs": [],
   "source": [
    "plt.figure(figsize=(33, 1))\n",
    "plt.rcParams[\"axes.grid\"] = False\n",
    "sns.heatmap(mi_scores_nsf, annot=True, cmap='viridis',\n",
    "            xticklabels=factors,annot_kws={\"fontsize\":35})\n",
    "sns.set(font_scale=2.5)\n",
    "plt.title('Pearson Correlation Between TLS score and NSF Factors')\n",
    "plt.xlabel('Factors')\n",
    "plt.ylabel('TLS')\n",
    "plt.show()"
   ]
  },
  {
   "cell_type": "code",
   "execution_count": null,
   "id": "331d8c88",
   "metadata": {},
   "outputs": [],
   "source": [
    "plt.figure(figsize=(33, 1))\n",
    "plt.rcParams[\"axes.grid\"] = False\n",
    "sns.heatmap(mi_scores_nsfh, annot=True, cmap='viridis',\n",
    "            xticklabels=factors,annot_kws={\"fontsize\":35})\n",
    "sns.set(font_scale=2.5)\n",
    "plt.title('Pearson Correlation Between TLS score and NSFH Factors')\n",
    "plt.xlabel('Factors')\n",
    "plt.ylabel('TLS')\n",
    "plt.show()"
   ]
  },
  {
   "cell_type": "code",
   "execution_count": null,
   "id": "b0dbbca5",
   "metadata": {},
   "outputs": [],
   "source": [
    "plt.figure(figsize=(33, 1))\n",
    "plt.rcParams[\"axes.grid\"] = False\n",
    "sns.heatmap(mi_scores_fa, annot=True, cmap='viridis',\n",
    "            xticklabels=factors,annot_kws={\"fontsize\":35})\n",
    "sns.set(font_scale=2.5)\n",
    "plt.title('Pearson Correlation Between TLS score and FA Factors')\n",
    "plt.xlabel('Factors')\n",
    "plt.ylabel('TLS')\n",
    "plt.show()"
   ]
  },
  {
   "cell_type": "code",
   "execution_count": null,
   "id": "a40df866",
   "metadata": {},
   "outputs": [],
   "source": [
    "plt.figure(figsize=(33, 1))\n",
    "plt.rcParams[\"axes.grid\"] = False\n",
    "sns.heatmap(mi_scores_pnmf, annot=True, cmap='viridis',\n",
    "            xticklabels=factors,annot_kws={\"fontsize\":35})\n",
    "sns.set(font_scale=2.5)\n",
    "plt.title('Pearson Correlation Between TLS score and PNMF Factors')\n",
    "plt.xlabel('Factors')\n",
    "plt.ylabel('TLS')\n",
    "plt.show()"
   ]
  },
  {
   "cell_type": "code",
   "execution_count": null,
   "id": "45b6bc13",
   "metadata": {},
   "outputs": [],
   "source": [
    "plt.figure(figsize=(33, 1))\n",
    "plt.rcParams[\"axes.grid\"] = False\n",
    "sns.heatmap(mi_scores_mef, annot=True, cmap='viridis',\n",
    "            xticklabels=factors,annot_kws={\"fontsize\":35})\n",
    "sns.set(font_scale=2.5)\n",
    "plt.title('Pearson Correlation Between TLS score and MEFISTO Factors')\n",
    "plt.xlabel('Factors')\n",
    "plt.ylabel('TLS')\n",
    "plt.show()"
   ]
  },
  {
   "cell_type": "code",
   "execution_count": null,
   "id": "53af11fd",
   "metadata": {},
   "outputs": [],
   "source": [
    "from sklearn import metrics\n",
    "l_t = ['CellPie','MEFISTO','PNMF','NSF','NSFH','FA', 'CellPie_0']\n",
    "res = []\n",
    "for l_t in l_t:\n",
    "    mut_info=metrics.fowlkes_mallows_score(adata.obs[l_t],adata.obs['path_labels'])\n",
    "    adj_rand=metrics.adjusted_rand_score(adata.obs[l_t],adata.obs['path_labels'])\n",
    "    adj_mut_info=metrics.adjusted_mutual_info_score(adata.obs[l_t],adata.obs['path_labels'])\n",
    "    res.append((l_t,mut_info,adj_rand,adj_mut_info))\n",
    "res_df = pd.DataFrame(res, columns = ['Method','Mutual Info','Adjusted Rand Index','Adjusted Mutual Info'])"
   ]
  },
  {
   "cell_type": "code",
   "execution_count": null,
   "id": "64f25b05-ac4c-4d15-837e-2ee8210f7729",
   "metadata": {},
   "outputs": [],
   "source": [
    "res_df"
   ]
  },
  {
   "cell_type": "code",
   "execution_count": null,
   "id": "ca5fcf0c-99a7-4d45-92cf-33fe5bd93406",
   "metadata": {},
   "outputs": [],
   "source": [
    "res_df"
   ]
  },
  {
   "cell_type": "code",
   "execution_count": null,
   "id": "9e12986f",
   "metadata": {},
   "outputs": [],
   "source": [
    "import seaborn as sns\n",
    "plot=sns.barplot(data=res_df,x = res_df['Method'],y='Adjusted Rand Index',hue='Adjusted Rand Index',width=0.6, legend=False)\n",
    "plot.set_xticklabels(plot.get_xticklabels(), fontsize=10)\n",
    "plt.title('ARI-kmeans Clustering')\n",
    "plt.grid(False)"
   ]
  },
  {
   "cell_type": "code",
   "execution_count": null,
   "id": "3ea433da",
   "metadata": {},
   "outputs": [],
   "source": [
    "k = 5\n",
    "from re import sub\n",
    "import matplotlib as mpl\n",
    "sel_clust = ['Factor_'+str(i+1) for i in range(k)]\n",
    "with mpl.rc_context({'figure.figsize': (5, 6), 'axes.facecolor': 'black'}):\n",
    "    sc.pl.spatial(adata,\n",
    "                cmap='magma',\n",
    "                color=sel_clust,\n",
    "                ncols=1,\n",
    "                size=4, img_key='hires', \n",
    "                alpha_img=0\n",
    "                 )"
   ]
  },
  {
   "cell_type": "code",
   "execution_count": null,
   "id": "feb8e69f",
   "metadata": {},
   "outputs": [],
   "source": [
    "import gseapy as gp\n",
    "def gene_er(topic):\n",
    "    enr = gp.enrichr(gene_list=topic,\n",
    "                gene_sets=['GO_Biological_Process_2023'],cutoff = 0.5,\n",
    "                organism='human', \n",
    "                outdir=None,\n",
    "                )\n",
    "    return enr"
   ]
  },
  {
   "cell_type": "code",
   "execution_count": null,
   "id": "c6ee80fc",
   "metadata": {},
   "outputs": [],
   "source": [
    "l=cp.get_genes_topic(adata,nmf_model.phi_expr)\n",
    "enr0 = gene_er(l.T[0].sort_values(ascending=False).index[0:150].to_list())\n",
    "enr1 = gene_er(l.T[1].sort_values(ascending=False).index[0:150].to_list())\n",
    "enr2 = gene_er(l.T[2].sort_values(ascending=False).index[0:150].to_list())\n",
    "enr3 = gene_er(l.T[3].sort_values(ascending=False).index[0:150].to_list())\n",
    "enr4 = gene_er(l.T[4].sort_values(ascending=False).index[0:150].to_list())"
   ]
  },
  {
   "cell_type": "code",
   "execution_count": null,
   "id": "b70126f2",
   "metadata": {},
   "outputs": [],
   "source": [
    "gp.barplot(enr2.res2d,title='GO_Biological_Process_2023 Factor 3',color=['darkred'])\n",
    "plt.grid(None)"
   ]
  },
  {
   "cell_type": "code",
   "execution_count": null,
   "id": "627f0715",
   "metadata": {},
   "outputs": [],
   "source": [
    "gp.barplot(enr1.res2d,title='GO_Biological_Process_2023 Factor 2',color=['darkred'])\n",
    "plt.grid(None)"
   ]
  },
  {
   "cell_type": "code",
   "execution_count": null,
   "id": "013b1f1d",
   "metadata": {},
   "outputs": [],
   "source": [
    "methods = ['CellPie', 'NSF','NSFH','PNMF','FA','MEFISTO']\n",
    "\n",
    "for i in methods:\n",
    "    plt.figure(figsize=(12, 8))\n",
    "    sns.heatmap(\n",
    "        pd.crosstab(\n",
    "           adata.obs['Histology'].values, adata.obs[f'{i}'].values,\n",
    "            normalize ='index'\n",
    "        ), \n",
    "        cmap=sns.color_palette(\"crest\", as_cmap=True),\n",
    "        annot = True\n",
    "    )\n",
    "    plt.title(f'Contingency Table {i}')\n",
    "    plt.grid(None)\n",
    "    plt.show()"
   ]
  },
  {
   "cell_type": "code",
   "execution_count": null,
   "id": "cc0f7fc2",
   "metadata": {},
   "outputs": [],
   "source": []
  }
 ],
 "metadata": {
  "jupytext": {
   "encoding": "# -*- coding: utf-8 -*-"
  },
  "kernelspec": {
   "display_name": "Python 3 (ipykernel)",
   "language": "python",
   "name": "python3"
  },
  "language_info": {
   "codemirror_mode": {
    "name": "ipython",
    "version": 3
   },
   "file_extension": ".py",
   "mimetype": "text/x-python",
   "name": "python",
   "nbconvert_exporter": "python",
   "pygments_lexer": "ipython3",
   "version": "3.12.4"
  }
 },
 "nbformat": 4,
 "nbformat_minor": 5
}
