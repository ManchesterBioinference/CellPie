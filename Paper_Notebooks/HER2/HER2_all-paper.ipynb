{
 "cells": [
  {
   "cell_type": "code",
   "execution_count": null,
   "id": "96c7a314",
   "metadata": {},
   "outputs": [],
   "source": [
    "import numpy as np\n",
    "import pandas as pd\n",
    "import matplotlib.pyplot as plt\n",
    "from os import path\n",
    "from math import ceil\n",
    "import squidpy as sq\n",
    "import scanpy as sc\n",
    "from scanpy import read_h5ad\n",
    "import seaborn as sns\n",
    "import sys\n",
    "sys.path.append(\"/Users/user/CellPie/CellPie/\") # go to parent dir\n",
    "import cellpie_main as cp\n",
    "from cellpie_main import intNMF"
   ]
  },
  {
   "cell_type": "code",
   "execution_count": null,
   "id": "699265c5-8d4c-4fc0-b098-f4c5fa9b0ece",
   "metadata": {},
   "outputs": [],
   "source": [
    "sc.set_figure_params(scanpy=True, dpi=250, dpi_save=300)"
   ]
  },
  {
   "cell_type": "code",
   "execution_count": null,
   "id": "71e94e72",
   "metadata": {},
   "outputs": [],
   "source": [
    "random_state=123"
   ]
  },
  {
   "cell_type": "code",
   "execution_count": null,
   "id": "0b1b72c8",
   "metadata": {},
   "outputs": [],
   "source": [
    "histo_2 = pd.read_csv('H1_labeled_coordinates.tsv',sep='\\t')\n",
    "histo_2.set_index('Row.names')"
   ]
  },
  {
   "cell_type": "code",
   "execution_count": null,
   "id": "839c8033",
   "metadata": {},
   "outputs": [],
   "source": [
    "adata=sc.read_h5ad('her2_h1.h5ad')"
   ]
  },
  {
   "cell_type": "code",
   "execution_count": null,
   "id": "feece086",
   "metadata": {},
   "outputs": [],
   "source": [
    "histo_2.index = histo_2['Row.names']\n",
    "histo_2.index.names = ['']\n",
    "new_index_values = []\n",
    "\n",
    "for i in range(len(histo_2)):\n",
    "    x = histo_2['x'].round().astype(np.int64).iloc[i]\n",
    "    y = histo_2['y'].round().astype(np.int64).iloc[i]\n",
    "    new_index_values.append(\"{0}x{1}\".format(x, y))\n",
    "    \n",
    "histo_2.index=new_index_values\n",
    "adata.obs['path_labels'] =histo_2['label']"
   ]
  },
  {
   "cell_type": "code",
   "execution_count": null,
   "id": "9bd06e70",
   "metadata": {},
   "outputs": [],
   "source": [
    "adata = adata[adata.obs_names.isin(histo_2.index),:]"
   ]
  },
  {
   "cell_type": "code",
   "execution_count": null,
   "id": "c3e36476",
   "metadata": {},
   "outputs": [],
   "source": [
    "scale_range = np.arange(1,4,1)"
   ]
  },
  {
   "cell_type": "code",
   "execution_count": null,
   "id": "c4230fbe",
   "metadata": {},
   "outputs": [],
   "source": [
    "from sklearn import metrics\n",
    "from sklearn.cluster import KMeans\n",
    "res = []"
   ]
  },
  {
   "cell_type": "code",
   "execution_count": null,
   "id": "4fe4f541",
   "metadata": {
    "scrolled": true
   },
   "outputs": [],
   "source": [
    "from feature_extr import extract_features\n",
    "extract_features(adata,img_path='HE_BT24044_D2.jpg',\n",
    "                         spot_scale=scale_range,bins=100)"
   ]
  },
  {
   "cell_type": "code",
   "execution_count": null,
   "id": "8819fee5-f27e-4df5-bea8-dd3e31bca5c4",
   "metadata": {},
   "outputs": [],
   "source": [
    "from cp_utils import preprocess_data_visium\n",
    "preprocess_data_visium(adata,min_cells=100)"
   ]
  },
  {
   "cell_type": "code",
   "execution_count": null,
   "id": "ede26816",
   "metadata": {},
   "outputs": [],
   "source": [
    "adata.obs['Histology']=adata.obs['path_labels'] "
   ]
  },
  {
   "cell_type": "code",
   "execution_count": null,
   "id": "223ab539-8bbe-4d7c-9d46-dd7dc23348ac",
   "metadata": {
    "scrolled": true
   },
   "outputs": [],
   "source": [
    "# Model selection\n",
    "# from cp_utils import model_selection_alpha\n",
    "# k = np.arange(4,61)\n",
    "# mod_sel = model_selection_alpha(adata,k,random_state=random_state,epochs =50, init='random',mod1_skew=1)"
   ]
  },
  {
   "cell_type": "code",
   "execution_count": null,
   "id": "1bd9d5bf-b846-4864-a74e-20a8d990d310",
   "metadata": {
    "scrolled": true
   },
   "outputs": [],
   "source": [
    "# selection of the optimal modality weight\n",
    "mod = []\n",
    "for i in np.arange(0.1, 2.01,0.1):\n",
    "    nmf_model = intNMF(adata,16,epochs = 50, init = 'random',random_state=random_state,mod1_skew=i)\n",
    "    nmf_model.fit(adata)\n",
    "    kmeans_cellpie = KMeans(n_clusters=6, init='k-means++',max_iter=500,random_state=random_state).fit(nmf_model.theta[:,:])\n",
    "    adata.obs['CellPie']=kmeans_cellpie.labels_.astype(str)\n",
    "    mut_info=metrics.fowlkes_mallows_score(adata.obs['CellPie'],adata.obs['path_labels'])\n",
    "    adj_rand=metrics.adjusted_rand_score(adata.obs['CellPie'],adata.obs['path_labels'])\n",
    "    adj_mut_info=metrics.adjusted_mutual_info_score(adata.obs['CellPie'],adata.obs['path_labels'])\n",
    "    mod.append((i,mut_info,adj_rand,adj_mut_info)) "
   ]
  },
  {
   "cell_type": "code",
   "execution_count": null,
   "id": "bd246760-d743-4c7e-875e-78704d69acd9",
   "metadata": {},
   "outputs": [],
   "source": [
    "score_mod = pd.DataFrame(mod)  \n",
    "plt.plot(score_mod[0],score_mod[1],color=\"green\",label='Fowlkes Mallows Score')\n",
    "plt.plot(score_mod[0],score_mod[2],color=\"red\",label='Adjusted Rand Score')\n",
    "plt.plot(score_mod[0],score_mod[3],color=\"blue\",label='Adjusted Mutual Info Score')\n",
    "plt.xlabel(\"Modality Weight\")\n",
    "plt.ylabel(\"Score\")\n",
    "plt.legend(prop={'size': 8})\n",
    "plt.show()"
   ]
  },
  {
   "cell_type": "code",
   "execution_count": null,
   "id": "0971a234",
   "metadata": {
    "scrolled": true
   },
   "outputs": [],
   "source": [
    "nmf_model = intNMF(adata,16,epochs = 50,init = 'random',random_state=random_state,mod1_skew=0.3)\n",
    "nmf_model.fit(adata)\n",
    "adata.obsm['cellpie'] = nmf_model.theta"
   ]
  },
  {
   "cell_type": "code",
   "execution_count": null,
   "id": "6270a448-a152-4584-b0d1-a3ec889fb534",
   "metadata": {},
   "outputs": [],
   "source": [
    "from sklearn.cluster import KMeans\n",
    "kmeans_cellpie = KMeans(n_clusters=6, init='k-means++',max_iter=500,random_state=random_state).fit(nmf_model.theta[:,:])\n",
    "adata.obs['CellPie']=kmeans_cellpie.labels_.astype(str)"
   ]
  },
  {
   "cell_type": "code",
   "execution_count": null,
   "id": "2b48498e",
   "metadata": {},
   "outputs": [],
   "source": [
    "from sklearn.decomposition import FactorAnalysis\n",
    "transformer = FactorAnalysis(n_components=4, random_state=random_state)\n",
    "X_transformed = transformer.fit_transform(adata.X)\n",
    "kmeans = KMeans(n_clusters=6, init='k-means++',max_iter=500,random_state=random_state).fit(X_transformed)\n",
    "adata.obs['FA']=kmeans.labels_.astype(str)"
   ]
  },
  {
   "cell_type": "code",
   "execution_count": null,
   "id": "765d3077-a549-4a12-8b25-357fc28f4b76",
   "metadata": {},
   "outputs": [],
   "source": [
    "mef = pd.read_csv('Benchmark/factors_mefisto_her2_4_bench.csv',index_col=0)\n",
    "mef = mef.reindex(adata.obs.index)\n",
    "kmeans = KMeans(n_clusters=6, init='k-means++',max_iter=500,random_state=random_state).fit(mef.iloc[:,:])\n",
    "adata.obs['MEFISTO']=kmeans.labels_.astype(str)"
   ]
  },
  {
   "cell_type": "code",
   "execution_count": null,
   "id": "56690795",
   "metadata": {},
   "outputs": [],
   "source": [
    "nsf = pd.read_csv('Benchmark/factors_nsf_her2_poi_15_bench.csv',index_col=0)\n",
    "nsf = nsf.reindex(adata.obs.index)\n",
    "kmeans = KMeans(n_clusters=6, init='k-means++',max_iter=500,random_state=random_state).fit(nsf.iloc[:,:])\n",
    "adata.obs['NSF']=kmeans.labels_.astype(str)"
   ]
  },
  {
   "cell_type": "code",
   "execution_count": null,
   "id": "14295add",
   "metadata": {},
   "outputs": [],
   "source": [
    "nsfh_s = pd.read_csv('Benchmark/spatialfactors_nsfh_her2_poi_7_bench.csv',index_col=0)\n",
    "nsfh_ns = pd.read_csv('Benchmark/nonspatialfactors_her2_prostate_poi_7_bench.csv',index_col=0)\n",
    "nsfh = pd.concat([nsfh_ns,nsfh_s], axis=1)\n",
    "nsfh = nsfh.reindex(adata.obs.index)\n",
    "kmeans = KMeans(n_clusters=6, init='k-means++',max_iter=500,random_state=random_state).fit(nsfh.iloc[:,:])\n",
    "adata.obs['NSFH']=kmeans.labels_.astype(str)"
   ]
  },
  {
   "cell_type": "code",
   "execution_count": null,
   "id": "a934afe1",
   "metadata": {},
   "outputs": [],
   "source": [
    "pnmf = pd.read_csv('Benchmark/factors_pnmf_her2_poi_6_bench.csv',index_col=0)\n",
    "pnmf = pnmf.reindex(adata.obs.index)\n",
    "kmeans = KMeans(n_clusters=6, init='k-means++',max_iter=500,random_state=random_state).fit(pnmf.iloc[:,:])\n",
    "adata.obs['PNMF']=kmeans.labels_.astype(str)"
   ]
  },
  {
   "cell_type": "code",
   "execution_count": null,
   "id": "ca4ad057",
   "metadata": {},
   "outputs": [],
   "source": [
    "adata.uns['CellPie_colors'] = ['#d62728','#2ca02c','#8c564b','#1f77b4','#9467bd','#ff7f0e']\n",
    "adata.uns['NSF_colors'] = ['#d62728','#9467bd','#ff7f0e','#1f77b4', '#8c564b','#2ca02c']\n",
    "adata.uns['NSFH_colors'] = ['#d62728','#2ca02c','#ff7f0e','#9467bd','#8c564b','#99ffcc']\n",
    "adata.uns['MEFISTO_colors'] = ['#d62728','#2ca02c','#1f77b4','#ff7f0e','#8c564b','#9467bd']\n",
    "adata.uns['FA_colors'] = ['#d62728','#2ca02c','#1f77b4','#8c564b','#ff7f0e','#9467bd']\n",
    "adata.uns['PNMF_colors'] = ['#d62728','#9467bd','#1f77b4','#ff7f0e','#2ca02c', '#8c564b']\n",
    "# adata.uns['CellPie_0_colors'] = ['#d62728','#2ca02c','#ff7f0e','#9467bd','#8c564b','#1f77b4']"
   ]
  },
  {
   "cell_type": "code",
   "execution_count": null,
   "id": "5ddc5e5a",
   "metadata": {},
   "outputs": [],
   "source": [
    "sc.pl.spatial(adata,color=['Histology','CellPie','NSF','NSFH','MEFISTO','FA','PNMF'],\n",
    "              size=4,ncols=1)"
   ]
  },
  {
   "cell_type": "code",
   "execution_count": null,
   "id": "bb0512d2",
   "metadata": {},
   "outputs": [],
   "source": [
    "tls = pd.read_csv('Benchmark/tls_score_H1.csv',index_col=0)"
   ]
  },
  {
   "cell_type": "code",
   "execution_count": null,
   "id": "6ffafeb9",
   "metadata": {},
   "outputs": [],
   "source": [
    "adata.obs['tls'] = tls['0']"
   ]
  },
  {
   "cell_type": "code",
   "execution_count": null,
   "id": "8ba6e295",
   "metadata": {},
   "outputs": [],
   "source": [
    "mi_scores = np.zeros((1,16))\n",
    "for i in range(1):\n",
    "    for j in range(16):\n",
    "        mi_scores[i,j] = np.corrcoef(adata.obs['tls'],nmf_model.theta[:, j])[1][0]      \n",
    "mi_scores_nsf = np.zeros((1,nsf.shape[1]))\n",
    "for i in range(1):\n",
    "    for j in range(nsf.shape[1]):\n",
    "        mi_scores_nsf[i,j] = np.corrcoef(adata.obs['tls'],nsf.iloc[:, j])[1][0]      \n",
    "mi_scores_nsfh = np.zeros((1,nsfh.shape[1]))\n",
    "for i in range(1):\n",
    "    for j in range(nsfh.shape[1]):\n",
    "        mi_scores_nsfh[i,j] = np.corrcoef(adata.obs['tls'],nsfh.iloc[:, j])[1][0]    \n",
    "mi_scores_mef = np.zeros((1,mef.shape[1]))\n",
    "for i in range(1):\n",
    "    for j in range(mef.shape[1]):\n",
    "        mi_scores_mef[i,j] = np.corrcoef(adata.obs['tls'],mef.iloc[:, j])[1][0]\n",
    "mi_scores_fa = np.zeros((1,X_transformed.shape[1]))\n",
    "for i in range(1):\n",
    "    for j in range(X_transformed.shape[1]):\n",
    "        mi_scores_fa[i,j] = np.corrcoef(adata.obs['tls'],X_transformed[:, j])[1][0]\n",
    "mi_scores_pnmf = np.zeros((1,pnmf.shape[1]))\n",
    "for i in range(1):\n",
    "    for j in range(pnmf.shape[1]):\n",
    "        mi_scores_pnmf[i,j] = np.corrcoef(adata.obs['tls'],pnmf.iloc[:, j])[1][0]"
   ]
  },
  {
   "cell_type": "code",
   "execution_count": null,
   "id": "b848d7a6",
   "metadata": {},
   "outputs": [],
   "source": [
    "factors = ['Factor_'+str(i+1) for i in range(16)]"
   ]
  },
  {
   "cell_type": "code",
   "execution_count": null,
   "id": "9ecfcf9b",
   "metadata": {},
   "outputs": [],
   "source": [
    "import seaborn as sns\n",
    "plt.figure(figsize=(33, 1))\n",
    "plt.rcParams[\"axes.grid\"] = False\n",
    "sns.heatmap(mi_scores, annot=True, cmap='viridis',\n",
    "            xticklabels=factors,annot_kws={\"fontsize\":35})\n",
    "sns.set(font_scale=2.5)\n",
    "plt.title('Pearson Correlation Between TLS score and CellPie Factors')\n",
    "plt.xlabel('Factors')\n",
    "plt.ylabel('TLS')"
   ]
  },
  {
   "cell_type": "code",
   "execution_count": null,
   "id": "f7495ebd",
   "metadata": {},
   "outputs": [],
   "source": [
    "plt.figure(figsize=(33, 1))\n",
    "plt.rcParams[\"axes.grid\"] = False\n",
    "factors = ['Factor_'+str(i+1) for i in range(nsf.shape[1])]\n",
    "sns.heatmap(mi_scores_nsf, annot=True, cmap='viridis',\n",
    "            xticklabels=factors,annot_kws={\"fontsize\":35})\n",
    "sns.set(font_scale=2.5)\n",
    "plt.title('Pearson Correlation Between TLS score and NSF Factors')\n",
    "plt.xlabel('Factors')\n",
    "plt.ylabel('TLS')"
   ]
  },
  {
   "cell_type": "code",
   "execution_count": null,
   "id": "331d8c88",
   "metadata": {},
   "outputs": [],
   "source": [
    "plt.figure(figsize=(33, 1))\n",
    "plt.rcParams[\"axes.grid\"] = False\n",
    "factors = ['Factor_'+str(i+1) for i in range(nsfh.shape[1])]\n",
    "sns.heatmap(mi_scores_nsfh, annot=True, cmap='viridis',\n",
    "            xticklabels=factors,annot_kws={\"fontsize\":35})\n",
    "sns.set(font_scale=2.5)\n",
    "plt.title('Pearson Correlation Between TLS score and NSFH Factors')\n",
    "plt.xlabel('Factors')\n",
    "plt.ylabel('TLS')"
   ]
  },
  {
   "cell_type": "code",
   "execution_count": null,
   "id": "b0dbbca5",
   "metadata": {},
   "outputs": [],
   "source": [
    "plt.figure(figsize=(33, 1))\n",
    "plt.rcParams[\"axes.grid\"] = False\n",
    "factors = ['Factor_'+str(i+1) for i in range(X_transformed.shape[1])]\n",
    "sns.heatmap(mi_scores_fa, annot=True, cmap='viridis',\n",
    "            xticklabels=factors,annot_kws={\"fontsize\":35})\n",
    "sns.set(font_scale=2.5)\n",
    "plt.title('Pearson Correlation Between TLS score and FA Factors')\n",
    "plt.xlabel('Factors')\n",
    "plt.ylabel('TLS')"
   ]
  },
  {
   "cell_type": "code",
   "execution_count": null,
   "id": "a40df866",
   "metadata": {},
   "outputs": [],
   "source": [
    "plt.figure(figsize=(33, 1))\n",
    "plt.rcParams[\"axes.grid\"] = False\n",
    "factors = ['Factor_'+str(i+1) for i in range(pnmf.shape[1])]\n",
    "sns.heatmap(mi_scores_pnmf, annot=True, cmap='viridis',\n",
    "            xticklabels=factors,annot_kws={\"fontsize\":35})\n",
    "sns.set(font_scale=2.5)\n",
    "plt.title('Pearson Correlation Between TLS score and PNMF Factors')\n",
    "plt.xlabel('Factors')\n",
    "plt.ylabel('TLS')"
   ]
  },
  {
   "cell_type": "code",
   "execution_count": null,
   "id": "45b6bc13",
   "metadata": {},
   "outputs": [],
   "source": [
    "plt.figure(figsize=(33, 1))\n",
    "plt.rcParams[\"axes.grid\"] = False\n",
    "factors = ['Factor_'+str(i+1) for i in range(mef.shape[1])]\n",
    "sns.heatmap(mi_scores_mef, annot=True, cmap='viridis',\n",
    "            xticklabels=factors,annot_kws={\"fontsize\":35})\n",
    "sns.set(font_scale=2.5)\n",
    "plt.title('Pearson Correlation Between TLS score and MEFISTO Factors')\n",
    "plt.xlabel('Factors')\n",
    "plt.ylabel('TLS')"
   ]
  },
  {
   "cell_type": "code",
   "execution_count": null,
   "id": "53af11fd",
   "metadata": {},
   "outputs": [],
   "source": [
    "from sklearn import metrics\n",
    "l_t = ['CellPie','MEFISTO','PNMF','NSF','NSFH','FA']\n",
    "res = []\n",
    "for l_t in l_t:\n",
    "    mut_info=metrics.fowlkes_mallows_score(adata.obs[l_t],adata.obs['path_labels'])\n",
    "    adj_rand=metrics.adjusted_rand_score(adata.obs[l_t],adata.obs['path_labels'])\n",
    "    adj_mut_info=metrics.adjusted_mutual_info_score(adata.obs[l_t],adata.obs['path_labels'])\n",
    "    res.append((l_t,mut_info,adj_rand,adj_mut_info))\n",
    "res_df = pd.DataFrame(res, columns = ['Method','Mutual Info','Adjusted Rand Index','Adjusted Mutual Info'])"
   ]
  },
  {
   "cell_type": "code",
   "execution_count": null,
   "id": "600de96f-b84d-4492-b111-f34f3c45b7e9",
   "metadata": {},
   "outputs": [],
   "source": [
    "res_df"
   ]
  },
  {
   "cell_type": "code",
   "execution_count": null,
   "id": "9e12986f",
   "metadata": {},
   "outputs": [],
   "source": [
    "import seaborn as sns\n",
    "plot=sns.barplot(data=res_df,x = res_df['Method'],y='Adjusted Rand Index',hue='Adjusted Rand Index',width=0.6, legend=False)\n",
    "plot.set_xticklabels(plot.get_xticklabels(), fontsize=10)\n",
    "plt.title('ARI-kmeans Clustering')\n",
    "plt.grid(False)"
   ]
  },
  {
   "cell_type": "code",
   "execution_count": null,
   "id": "58f867c2-4beb-4905-b287-4e5b989e2e4c",
   "metadata": {
    "scrolled": true
   },
   "outputs": [],
   "source": [
    "methods = ['CellPie', 'NSF','NSFH','PNMF','FA','MEFISTO']\n",
    "\n",
    "for i in methods:\n",
    "    plt.figure(figsize=(12, 8))\n",
    "    sns.heatmap(\n",
    "        pd.crosstab(\n",
    "           adata.obs['Histology'].values, adata.obs[f'{i}'].values,\n",
    "            normalize ='columns'\n",
    "        ), annot_kws={'size': 25},\n",
    "        cmap=sns.color_palette(\"crest\", as_cmap=True),\n",
    "        annot = True\n",
    "    )\n",
    "    plt.title(f'Contingency Table {i}')\n",
    "    plt.grid(False)\n",
    "    plt.show()"
   ]
  },
  {
   "cell_type": "code",
   "execution_count": null,
   "id": "086ce797-afeb-4b9f-bc88-dcb09714e63b",
   "metadata": {},
   "outputs": [],
   "source": [
    "nmf_model = intNMF(adata,16,epochs = 50, init = 'random',random_state=random_state,mod1_skew=0.3)\n",
    "nmf_model.fit(adata)"
   ]
  },
  {
   "cell_type": "code",
   "execution_count": null,
   "id": "feb8e69f",
   "metadata": {},
   "outputs": [],
   "source": [
    "import gseapy as gp\n",
    "def gene_er(topic):\n",
    "    enr = gp.enrichr(gene_list=topic,\n",
    "                gene_sets=['GO_Biological_Process_2023'],cutoff = 0.5,\n",
    "                organism='human', \n",
    "                outdir=None,\n",
    "                )\n",
    "    return enr"
   ]
  },
  {
   "cell_type": "code",
   "execution_count": null,
   "id": "cc0f7fc2",
   "metadata": {
    "scrolled": true
   },
   "outputs": [],
   "source": [
    "k = 16\n",
    "from re import sub\n",
    "import matplotlib as mpl\n",
    "sel_clust = ['Factor_'+str(i+1) for i in range(k)]\n",
    "with mpl.rc_context({'figure.figsize': (5, 6), 'axes.facecolor': 'black'}):\n",
    "    sc.pl.spatial(adata,\n",
    "                cmap='magma',\n",
    "                color=sel_clust,\n",
    "                ncols=4,\n",
    "                size=4, img_key='hires', \n",
    "                alpha_img=0\n",
    "                 )"
   ]
  },
  {
   "cell_type": "code",
   "execution_count": null,
   "id": "c6ee80fc",
   "metadata": {},
   "outputs": [],
   "source": [
    "l=cp.get_genes_topic(adata,nmf_model.phi_expr)\n",
    "enr0 = gene_er(l.T[0].sort_values(ascending=False).index[0:150].to_list())\n",
    "enr6 = gene_er(l.T[6].sort_values(ascending=False).index[0:150].to_list())\n",
    "enr8 = gene_er(l.T[8].sort_values(ascending=False).index[0:150].to_list())\n",
    "enr13 = gene_er(l.T[13].sort_values(ascending=False).index[0:150].to_list())\n",
    "enr14 = gene_er(l.T[14].sort_values(ascending=False).index[0:150].to_list())\n",
    "enr4 = gene_er(l.T[4].sort_values(ascending=False).index[0:150].to_list())"
   ]
  },
  {
   "cell_type": "code",
   "execution_count": null,
   "id": "b70126f2",
   "metadata": {},
   "outputs": [],
   "source": [
    "gp.barplot(enr0.res2d,title='GO_Biological_Process_2023 Factor 1',color=['darkred'])\n",
    "plt.grid(None)"
   ]
  },
  {
   "cell_type": "code",
   "execution_count": null,
   "id": "2f9bb909-c7ac-48ea-bcb7-38139eaf735a",
   "metadata": {},
   "outputs": [],
   "source": [
    "gp.barplot(enr4.res2d,title='GO_Biological_Process_2023 Factor 5',color=['darkred'])\n",
    "plt.grid(None)"
   ]
  },
  {
   "cell_type": "code",
   "execution_count": null,
   "id": "4b21c1f0-ddbf-4bc5-9cb3-d6071608549d",
   "metadata": {},
   "outputs": [],
   "source": [
    "gp.barplot(enr6.res2d,title='GO_Biological_Process_2023 Factor 7',color=['darkred'])\n",
    "plt.grid(None)"
   ]
  },
  {
   "cell_type": "code",
   "execution_count": null,
   "id": "31601fba-1f72-45aa-a964-81238ff3b35d",
   "metadata": {},
   "outputs": [],
   "source": [
    "gp.barplot(enr8.res2d,title='GO_Biological_Process_2023 Factor 9',color=['darkred'])\n",
    "plt.grid(None)"
   ]
  },
  {
   "cell_type": "code",
   "execution_count": null,
   "id": "b65cc134-10ef-4b51-9265-16f2f3cbd635",
   "metadata": {},
   "outputs": [],
   "source": [
    "gp.barplot(enr13.res2d,title='GO_Biological_Process_2023 Factor 14',color=['darkred'])\n",
    "plt.grid(None)"
   ]
  },
  {
   "cell_type": "code",
   "execution_count": null,
   "id": "627f0715",
   "metadata": {},
   "outputs": [],
   "source": [
    "gp.barplot(enr14.res2d,title='GO_Biological_Process_2023 Factor 15',color=['darkred'])\n",
    "plt.grid(None)"
   ]
  }
 ],
 "metadata": {
  "jupytext": {
   "encoding": "# -*- coding: utf-8 -*-"
  },
  "kernelspec": {
   "display_name": "Python 3 (ipykernel)",
   "language": "python",
   "name": "python3"
  },
  "language_info": {
   "codemirror_mode": {
    "name": "ipython",
    "version": 3
   },
   "file_extension": ".py",
   "mimetype": "text/x-python",
   "name": "python",
   "nbconvert_exporter": "python",
   "pygments_lexer": "ipython3",
   "version": "3.12.4"
  }
 },
 "nbformat": 4,
 "nbformat_minor": 5
}
