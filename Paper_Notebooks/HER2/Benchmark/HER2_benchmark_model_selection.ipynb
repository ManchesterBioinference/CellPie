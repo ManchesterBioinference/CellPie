{
 "cells": [
  {
   "cell_type": "code",
   "execution_count": null,
   "id": "96c7a314",
   "metadata": {},
   "outputs": [],
   "source": [
    "import numpy as np\n",
    "import pandas as pd\n",
    "import matplotlib.pyplot as plt\n",
    "import os\n",
    "from os import path\n",
    "from math import ceil\n",
    "from scanpy import read_h5ad\n",
    "from tensorflow_probability import math as tm\n",
    "tfk = tm.psd_kernels\n",
    "from sklearn.cluster import KMeans\n",
    "from sklearn import metrics"
   ]
  },
  {
   "cell_type": "code",
   "execution_count": null,
   "id": "78e6d00e",
   "metadata": {},
   "outputs": [],
   "source": [
    "from models import cf,sf,sfh\n",
    "from models.mefisto import MEFISTO\n",
    "from utils import preprocess,training,misc,visualize,postprocess"
   ]
  },
  {
   "cell_type": "code",
   "execution_count": null,
   "id": "fc702050",
   "metadata": {},
   "outputs": [],
   "source": [
    "import squidpy as sq\n",
    "import scanpy as sc"
   ]
  },
  {
   "cell_type": "code",
   "execution_count": null,
   "id": "71e94e72",
   "metadata": {},
   "outputs": [],
   "source": [
    "random_state=123"
   ]
  },
  {
   "cell_type": "code",
   "execution_count": null,
   "id": "83eb7a54-604e-48b0-80c1-0114738608a1",
   "metadata": {},
   "outputs": [],
   "source": [
    "folder_name = \"range_benchmark\"\n",
    "if not os.path.exists(folder_name):\n",
    "    os.makedirs(folder_name)"
   ]
  },
  {
   "cell_type": "code",
   "execution_count": null,
   "id": "0b1b72c8",
   "metadata": {},
   "outputs": [],
   "source": [
    "histo_2 = pd.read_csv('../H1_labeled_coordinates.tsv',sep='\\t')\n",
    "histo_2.set_index('Row.names')"
   ]
  },
  {
   "cell_type": "code",
   "execution_count": null,
   "id": "839c8033",
   "metadata": {},
   "outputs": [],
   "source": [
    "adata=sc.read_h5ad('../her2_h1.h5ad')"
   ]
  },
  {
   "cell_type": "code",
   "execution_count": null,
   "id": "feece086",
   "metadata": {},
   "outputs": [],
   "source": [
    "# df_sp.index = df_sp['Unnamed: 0']\n",
    "histo_2.index = histo_2['Row.names']\n",
    "histo_2.index.names = ['']\n",
    "new_index_values = []\n",
    "\n",
    "for i in range(len(histo_2)):\n",
    "    x = histo_2['x'].round().astype(np.int64).iloc[i]\n",
    "    y = histo_2['y'].round().astype(np.int64).iloc[i]\n",
    "    new_index_values.append(\"{0}x{1}\".format(x, y))\n",
    "    \n",
    "histo_2.index=new_index_values\n",
    "adata.obs['path_labels'] =histo_2['label']"
   ]
  },
  {
   "cell_type": "code",
   "execution_count": null,
   "id": "fac73e51",
   "metadata": {},
   "outputs": [],
   "source": [
    "dtp = \"float32\"\n",
    "# change this to your path\n",
    "pth ='/Users/user/her2st_H/' \n",
    "mpth = '/Users/user/her2st_H/'"
   ]
  },
  {
   "cell_type": "code",
   "execution_count": null,
   "id": "57313ec6",
   "metadata": {},
   "outputs": [],
   "source": [
    "import random\n",
    "ad = adata\n",
    "\n",
    "sc.pp.filter_genes(ad, min_cells=1)\n",
    "sc.pp.filter_cells(ad, min_counts=100)\n",
    "ad.layers = {\"counts\":ad.X.copy()} #store raw counts before normalization changes ad.X\n",
    "sc.pp.normalize_total(ad, inplace=True, layers=None, key_added=\"sizefactor\")\n",
    "sc.pp.log1p(ad)\n",
    "\n",
    "# %% normalization, feature selection and train/test split\n",
    "ad.var['deviance_poisson'] = preprocess.deviancePoisson(ad.layers[\"counts\"])\n",
    "o = np.argsort(-ad.var['deviance_poisson'])\n",
    "idx = list(range(ad.shape[0]))\n",
    "random.shuffle(idx)\n",
    "ad = ad[idx,o]\n",
    "\n",
    "ad.write_h5ad(path.join(pth,\"her2_nsf.h5ad\"),compression=\"gzip\")\n",
    "#ad = sc.read_h5ad(path.join(pth,\"data/visium_brain_sagittal.h5ad\"))\n",
    "ad2 = ad[:,:2000]\n",
    "ad2.write_h5ad(path.join(pth,\"her2_nsf_J2000.h5ad\"),compression=\"gzip\")"
   ]
  },
  {
   "cell_type": "code",
   "execution_count": null,
   "id": "ef44a131",
   "metadata": {},
   "outputs": [],
   "source": [
    "J = 2000\n",
    "ad = read_h5ad(path.join(pth,\"her2_nsf_J{}.h5ad\".format(J)))#[:,:J]\n",
    "Dtr,Dval = preprocess.anndata_to_train_val(ad,train_frac=1,layer=\"counts\",sz=\"scanpy\")\n",
    "Dtr_n,Dval_n = preprocess.anndata_to_train_val(ad,train_frac=1) #normalized data\n",
    "fmeans,Dtr_c,Dval_c = preprocess.center_data(Dtr_n,Dval_n) #centered features\n",
    "Xtr = Dtr[\"X\"] #note this should be identical to Dtr_n[\"X\"]\n",
    "Ntr = Xtr.shape[0]\n",
    "Dtf = preprocess.prepare_datasets_tf(Dtr,Dval=Dval,shuffle=False)\n",
    "Dtf_n = preprocess.prepare_datasets_tf(Dtr_n,Dval=Dval_n,shuffle=False)\n",
    "Dtf_c = preprocess.prepare_datasets_tf(Dtr_c,Dval=Dval_c,shuffle=False)\n",
    "visualize.heatmap(Xtr,Dtr[\"Y\"][:,0],marker=\"D\",s=15)"
   ]
  },
  {
   "cell_type": "code",
   "execution_count": null,
   "id": "4c10e68c",
   "metadata": {},
   "outputs": [],
   "source": [
    "#%% Visualize raw data\n",
    "import numpy as np\n",
    "plt.imshow(np.log1p(Dtr[\"Y\"])[:50,:100],cmap=\"Blues\")"
   ]
  },
  {
   "cell_type": "code",
   "execution_count": null,
   "id": "b2ac163f",
   "metadata": {},
   "outputs": [],
   "source": [
    "#%% Visualize inducing points\n",
    "Z = misc.kmeans_inducing_pts(Xtr,500)\n",
    "fig,ax=plt.subplots(figsize=(12,10))\n",
    "ax.scatter(Xtr[:,0],Xtr[:,1],marker=\"D\",s=50,)\n",
    "ax.scatter(Z[:,0],Z[:,1],c=\"red\",s=30)"
   ]
  },
  {
   "cell_type": "code",
   "execution_count": null,
   "id": "22e5181f",
   "metadata": {},
   "outputs": [],
   "source": [
    "# %% initialize inducing points and tuning parameters\n",
    "Z = misc.kmeans_inducing_pts(Xtr, 500)\n",
    "M = Z.shape[0]\n",
    "ker = tfk.MaternThreeHalves\n",
    "S = 3 #samples for elbo approximation"
   ]
  },
  {
   "cell_type": "code",
   "execution_count": null,
   "id": "15cd8a62",
   "metadata": {},
   "outputs": [],
   "source": [
    "L = np.arange(4,61)\n",
    "L"
   ]
  },
  {
   "cell_type": "code",
   "execution_count": null,
   "id": "9e93f3af",
   "metadata": {
    "scrolled": true
   },
   "outputs": [],
   "source": [
    "# NSF: Spatial only with non-negative factors\n",
    "for col in L:\n",
    "    fit = sf.SpatialFactorization(J,col,Z,psd_kernel=ker,nonneg=True,lik=\"poi\")\n",
    "    fit.elbo_avg(Xtr,Dtr[\"Y\"],sz=Dtr[\"sz\"])\n",
    "    fit.init_loadings(Dtr[\"Y\"],X=Xtr,sz=Dtr[\"sz\"])\n",
    "    fit.elbo_avg(Xtr,Dtr[\"Y\"],sz=Dtr[\"sz\"])\n",
    "    pp = fit.generate_pickle_path(\"scanpy\",base=mpth)\n",
    "    tro = training.ModelTrainer(fit,pickle_path=pp)\n",
    "\n",
    "\n",
    "    hmkw = {\"figsize\":(4,4), \"s\":0.3, \"marker\":\"D\", \"subplot_space\":0,\n",
    "        \"spinecolor\":\"white\"}\n",
    "    insf = postprocess.interpret_nsf(fit,Xtr,S=10,lda_mode=False)\n",
    "    tgnames = [str(i) for i in range(1,col+1)]\n",
    "\n",
    "    W = insf[\"loadings\"]#*insf[\"totals\"][:,None]\n",
    "    topgenes = W.argmax(axis=0).tolist()\n",
    "    tgnames = ad.var.index[topgenes]\n",
    "    Ytg = Dtr[\"Y\"][:,topgenes]/Dtr[\"sz\"]\n",
    "    fig,axes=visualize.multiheatmap(Xtr, np.sqrt(Ytg), (4,3), **hmkw)\n",
    "# visualize.set_titles(fig, tgnames, x=0.05, y=.85, fontsize=\"medium\", c=\"white\",\n",
    "#                      ha=\"left\", va=\"top\")\n",
    "# fig.savefig(path.join(plt_pth,\"vz_brn_heatmap_nsf12_genes.pdf\"),bbox_inches='tight')\n",
    "#save loadings to disk for further interpretation\n",
    "    Wdf=pd.DataFrame(W*insf[\"totals\"][:,None], index=ad.var.index, columns=range(1,col+1))\n",
    "    W = insf[\"loadings\"]#*insf[\"totals\"][:,None]\n",
    "    Wdf=pd.DataFrame(W*insf[\"totals\"][:,None], index=ad.var.index, columns=range(1,col+1))\n",
    "    pd.DataFrame(np.sqrt(insf[\"factors\"]),index = ad.obs_names).to_csv(f'range_benchmark/factors_nsf_her2_poi_{col}_bench.csv')"
   ]
  },
  {
   "cell_type": "code",
   "execution_count": null,
   "id": "2af2b284",
   "metadata": {},
   "outputs": [],
   "source": [
    "#%% PNMF: Non-spatial, nonnegative\n",
    "for col in L:\n",
    "    fit = cf.CountFactorization(Ntr, J, col, lik=\"poi\", nonneg=True)\n",
    "    fit.elbo_avg(Dtr[\"Y\"],sz=Dtr[\"sz\"],idx=Dtr[\"idx\"])\n",
    "    fit.init_loadings(Dtr[\"Y\"],sz=Dtr[\"sz\"])\n",
    "    pp = fit.generate_pickle_path(\"scanpy\",base=mpth)\n",
    "    tro = training.ModelTrainer(fit,pickle_path=pp)\n",
    "    ttl = \"PNMF: nonspatial, non-negative factors, Poisson likelihood\"\n",
    "# visualize.plot_loss(tro.loss,title=ttl)#,ss=range(2000,4000))\n",
    "#dev_pnmf = visualize.gof(fit,Dtr,Dval=Dval,title=ttl)\n",
    "#%% Postprocess\n",
    "    hmkw = {\"figsize\":(10,8), \"s\":0.5, \"marker\":\"D\", \"subplot_space\":0,\n",
    "        \"spinecolor\":\"white\"}\n",
    "    ipnmf = postprocess.interpret_pnmf(fit,S=8,lda_mode=False)\n",
    "    tgnames = [str(i) for i in range(1,col+1)]\n",
    "    \n",
    "    pd.DataFrame(ipnmf[\"factors\"],index = ad.obs_names).to_csv(f'range_benchmark/factors_pnmf_her2_poi_{col}_bench.csv')\n",
    "# fig,axes=visualize.multiheatmap(Xtr, np.sqrt(ipnmf[\"factors\"]), (4,5), **hmkw)\n",
    "# visualize.set_titles(fig, tgnames, x=0.05, y=.85, fontsize=\"medium\", c=\"white\",\n",
    "#                      ha=\"left\", va=\"top\")"
   ]
  },
  {
   "cell_type": "code",
   "execution_count": null,
   "id": "51ad6270",
   "metadata": {},
   "outputs": [],
   "source": [
    "#%% NSF Hybrid object\n",
    "for col in L:\n",
    "    fit = sfh.SpatialFactorizationHybrid(Ntr, J, col, Z, lik=\"poi\", nonneg=True,\n",
    "                                       psd_kernel=ker)\n",
    "    fit.elbo_avg(Dtr[\"X\"],Dtr[\"Y\"],Dtr[\"idx\"])\n",
    "    fit.init_loadings(Dtr[\"Y\"],X=Dtr[\"X\"])\n",
    "    pp = fit.generate_pickle_path(\"scanpy\",base=mpth)\n",
    "    tro = training.ModelTrainer(fit,pickle_path=pp)\n",
    "\n",
    "    ttl = \"NSFH: spatial, non-negative factors, Poisson likelihood\"\n",
    "\n",
    "    hmkw = {\"figsize\":(10,4), \"s\":0.5, \"marker\":\"D\", \"subplot_space\":0,\n",
    "        \"spinecolor\":\"white\"}\n",
    "    insfh = postprocess.interpret_nsfh(fit,Xtr,S=10,lda_mode=False)\n",
    "    Ws = insfh['spatial'][\"loadings\"]#*insf[\"totals\"][:,None]\n",
    "    Wdfs=pd.DataFrame(Ws*insfh[\"totals\"][:,None], index=ad.var.index)\n",
    "    \n",
    "    Wns = insfh['nonspatial'][\"loadings\"]#*insf[\"totals\"][:,None]\n",
    "    Wdfns=pd.DataFrame(Wns*insfh[\"totals\"][:,None], index=ad.var.index)\n",
    "    \n",
    "    pd.DataFrame(insfh['nonspatial'][\"factors\"],index = ad.obs_names).to_csv(f'range_benchmark/nonspatialfactors_her2_prostate_poi_{col}_bench.csv')\n",
    "    pd.DataFrame(insfh['spatial'][\"factors\"],index = ad.obs_names).to_csv(f'range_benchmark/spatialfactors_nsfh_her2_poi_{col}_bench.csv')\n"
   ]
  },
  {
   "cell_type": "code",
   "execution_count": null,
   "id": "da1ca7db",
   "metadata": {
    "scrolled": true
   },
   "outputs": [],
   "source": [
    "# %% MEFISTO- Gaussian\n",
    "for col in L:\n",
    "    mef = MEFISTO(Dtr_n, col, inducing_pts=500, pickle_path=pp)\n",
    "\n",
    "    #mef = MEFISTO.from_pickle(pp)\n",
    "    ttl = \"MEFISTO\"\n",
    "    dev_mef = visualize.gof(mef,Dtr,Dval=Dval,title=ttl)\n",
    "    pd.DataFrame(mef.ent.model.nodes[\"Z\"].getExpectations()[\"E\"],index = ad.obs_names).to_csv(f'range_benchmark/factors_mefisto_her2_{col}_bench.csv')"
   ]
  },
  {
   "cell_type": "code",
   "execution_count": null,
   "id": "2a968c4b",
   "metadata": {},
   "outputs": [],
   "source": [
    "histo_2 = pd.read_csv('/Users/user/CellPie/Paper_Notebooks/Paper_Notebookds/HER2/H1_labeled_coordinates.tsv',sep='\\t')\n",
    "histo_2.set_index('Row.names')"
   ]
  },
  {
   "cell_type": "code",
   "execution_count": null,
   "id": "7c58c0db",
   "metadata": {},
   "outputs": [],
   "source": [
    "# read ST data\n",
    "adata=sc.read_h5ad('/Users/user/CellPie/Paper_Notebooks/Paper_Notebookds/HER2/her2_h1.h5ad')"
   ]
  },
  {
   "cell_type": "code",
   "execution_count": null,
   "id": "7f50b2e9",
   "metadata": {},
   "outputs": [],
   "source": [
    "histo_2.index = histo_2['Row.names']\n",
    "histo_2.index.names = ['']\n",
    "new_index_values = []\n",
    "\n",
    "for i in range(len(histo_2)):\n",
    "    x = histo_2['x'].round().astype(np.int64).iloc[i]\n",
    "    y = histo_2['y'].round().astype(np.int64).iloc[i]\n",
    "    new_index_values.append(\"{0}x{1}\".format(x, y))\n",
    "    \n",
    "histo_2.index=new_index_values\n",
    "adata.obs['path_labels'] =histo_2['label']"
   ]
  },
  {
   "cell_type": "code",
   "execution_count": null,
   "id": "9bd06e70",
   "metadata": {},
   "outputs": [],
   "source": [
    "adata = adata[adata.obs_names.isin(histo_2.index),:]"
   ]
  },
  {
   "cell_type": "code",
   "execution_count": null,
   "id": "c4230fbe",
   "metadata": {},
   "outputs": [],
   "source": [
    "res = []"
   ]
  },
  {
   "cell_type": "code",
   "execution_count": null,
   "id": "ede26816",
   "metadata": {},
   "outputs": [],
   "source": [
    "adata.obs['Histology']=adata.obs['path_labels'] "
   ]
  },
  {
   "cell_type": "code",
   "execution_count": null,
   "id": "50b73968-0cef-4b45-9459-dd7b05e535e2",
   "metadata": {},
   "outputs": [],
   "source": [
    "L = np.arange(4,61)"
   ]
  },
  {
   "cell_type": "code",
   "execution_count": null,
   "id": "d7ba1bac",
   "metadata": {},
   "outputs": [],
   "source": [
    "res_nsf = []\n",
    "for col in L:\n",
    "    nsf = pd.read_csv(f'range_benchmark/factors_nsf_her2_poi_{col}_bench.csv',index_col=0)\n",
    "    nsf_aligned = nsf.reindex(adata.obs.index)\n",
    "    adata.obsm['nsf'] = nsf_aligned\n",
    "    kmeans_nsf = KMeans(n_clusters=6, init='k-means++',max_iter=500,random_state=random_state).fit(adata.obsm['nsf'])\n",
    "    adata.obs['NSF']=kmeans_nsf.labels_.astype(str)\n",
    "    nsf_aligned['Histology'] = adata.obs['Histology']\n",
    "    \n",
    "    mut_info=metrics.fowlkes_mallows_score(adata.obs['NSF'], nsf_aligned ['Histology'])\n",
    "    adj_rand=metrics.adjusted_rand_score(adata.obs['NSF'], nsf_aligned ['Histology'])\n",
    "    adj_mut_info=metrics.adjusted_mutual_info_score(adata.obs['NSF'], nsf_aligned ['Histology'])\n",
    "    res_nsf.append((col,mut_info,adj_rand,adj_mut_info))    "
   ]
  },
  {
   "cell_type": "code",
   "execution_count": null,
   "id": "ab9b9878",
   "metadata": {},
   "outputs": [],
   "source": [
    "score_nsf = pd.DataFrame(res_nsf)   \n",
    "plt.plot(score_nsf [0],score_nsf [1],color=\"green\",label='Fowlkes Mallows Score')\n",
    "plt.plot(score_nsf [0],score_nsf [2],color=\"red\",label='Adjusted Rand Index Score')\n",
    "plt.plot(score_nsf [0],score_nsf [3],color=\"blue\",label='Adjusted Mutual Info Score')\n",
    "plt.xlabel(\"Number of Factors\")\n",
    "plt.ylabel(\"Score\")\n",
    "plt.title(\"NSF\")\n",
    "plt.legend(prop={'size': 9})"
   ]
  },
  {
   "cell_type": "code",
   "execution_count": null,
   "id": "805a0f39",
   "metadata": {},
   "outputs": [],
   "source": [
    "score_nsf[2].max()"
   ]
  },
  {
   "cell_type": "code",
   "execution_count": null,
   "id": "4a42ee84",
   "metadata": {},
   "outputs": [],
   "source": [
    "res_nsfh = []\n",
    "Lnsfh = np.arange(4,59)\n",
    "for col in Lnsfh:\n",
    "    nsfh_s = pd.read_csv(f'range_benchmark/spatialfactors_nsfh_her2_poi_{col}_bench.csv',index_col=0)\n",
    "\n",
    "    nsfh_ns = pd.read_csv(f'range_benchmark/nonspatialfactors_her2_prostate_poi_{col}_bench.csv',index_col=0)\n",
    "    nsfh = pd.concat([nsfh_ns,nsfh_s], axis=1)\n",
    "\n",
    "    nsfh = nsfh.reindex(adata.obs.index)\n",
    "    nsfh_aligned = nsfh.reindex(adata.obs.index)\n",
    "    adata.obsm['nsfh'] = nsfh_aligned\n",
    "    kmeans_nsfh = KMeans(n_clusters=6, init='k-means++',max_iter=500,random_state=random_state).fit(nsfh_aligned)\n",
    "    adata.obs['NSFH']=kmeans_nsfh.labels_.astype(str)\n",
    "    nsfh_aligned['Histology'] = adata.obs['Histology']\n",
    "    \n",
    "    mut_info=metrics.fowlkes_mallows_score(adata.obs['NSFH'], nsfh_aligned['Histology'])\n",
    "    adj_rand=metrics.adjusted_rand_score(adata.obs['NSFH'], nsfh_aligned['Histology'])\n",
    "    adj_mut_info=metrics.adjusted_mutual_info_score(adata.obs['NSFH'], nsfh_aligned['Histology'])\n",
    "    res_nsfh.append((col,mut_info,adj_rand,adj_mut_info)) \n",
    "    \n",
    "    "
   ]
  },
  {
   "cell_type": "code",
   "execution_count": null,
   "id": "7f40bae2-182b-4e87-9d28-6dc531e5e0e0",
   "metadata": {},
   "outputs": [],
   "source": [
    "score_nsfh = pd.DataFrame(res_nsfh)   \n",
    "plt.plot(score_nsfh[0],score_nsfh[1],color=\"green\",label='Fowlkes Mallows Score')\n",
    "plt.plot(score_nsfh[0],score_nsfh[2],color=\"red\",label='Adjusted Rand Index Score')\n",
    "plt.plot(score_nsfh[0],score_nsfh[3],color=\"blue\",label='Adjusted Mutual Info Score')\n",
    "plt.xlabel(\"Number of Factors\")\n",
    "plt.ylabel(\"Score\")\n",
    "plt.title(\"NSFH\")\n",
    "plt.legend(prop={'size': 9})"
   ]
  },
  {
   "cell_type": "code",
   "execution_count": null,
   "id": "4ad244a4",
   "metadata": {},
   "outputs": [],
   "source": [
    "score_nsfh = pd.DataFrame(res_nsfh)   \n",
    "plt.plot(score_nsfh[0],score_nsfh[1],color=\"green\",label='Fowlkes Mallows Score')\n",
    "plt.plot(score_nsfh[0],score_nsfh[2],color=\"red\",label='Adjusted Rand Index Score')\n",
    "plt.plot(score_nsfh[0],score_nsfh[3],color=\"blue\",label='Adjusted Mutual Info Score')\n",
    "plt.xlabel(\"Number of Factors\")\n",
    "plt.ylabel(\"Score\")\n",
    "plt.title(\"NSFH\")\n",
    "plt.legend(prop={'size': 9})"
   ]
  },
  {
   "cell_type": "code",
   "execution_count": null,
   "id": "ff5726b0-8d65-4143-880f-c985bce98d43",
   "metadata": {},
   "outputs": [],
   "source": [
    "score_nsfh[2].max()"
   ]
  },
  {
   "cell_type": "code",
   "execution_count": null,
   "id": "de0eb34e",
   "metadata": {},
   "outputs": [],
   "source": [
    "res_pnmf = []\n",
    "for col in L:\n",
    "    pnmf = pd.read_csv(f'range_benchmark/factors_pnmf_her2_poi_{col}_bench.csv',index_col=0)\n",
    "\n",
    "    pnmf_aligned = pnmf.reindex(adata.obs.index)\n",
    "    adata.obsm['pnmf'] = pnmf_aligned\n",
    "    kmeans_pnmf = KMeans(n_clusters=6, init='k-means++',max_iter=500,random_state=random_state).fit(pnmf_aligned)\n",
    "    adata.obs['PNMF']=kmeans_pnmf.labels_.astype(str)\n",
    "    pnmf_aligned['Histology'] = adata.obs['Histology']\n",
    "    \n",
    "    mut_info=metrics.fowlkes_mallows_score(adata.obs['PNMF'],pnmf_aligned['Histology'])\n",
    "    adj_rand=metrics.adjusted_rand_score(adata.obs['PNMF'],pnmf_aligned['Histology'])\n",
    "    adj_mut_info=metrics.adjusted_mutual_info_score(adata.obs['PNMF'],pnmf_aligned['Histology'])\n",
    "    res_pnmf.append((col,mut_info,adj_rand,adj_mut_info))  "
   ]
  },
  {
   "cell_type": "code",
   "execution_count": null,
   "id": "0f0228f0-667a-45b1-a2ee-45e645fcfba3",
   "metadata": {},
   "outputs": [],
   "source": [
    "score_pnmf = pd.DataFrame(res_pnmf)   \n",
    "plt.plot(score_pnmf[0],score_pnmf[1],color=\"green\",label='Fowlkes Mallows Score')\n",
    "plt.plot(score_pnmf[0],score_pnmf[2],color=\"red\",label='Adjusted Rand Index Score')\n",
    "plt.plot(score_pnmf[0],score_pnmf[3],color=\"blue\",label='Adjusted Mutual Info Score')\n",
    "plt.xlabel(\"Number of Factors\")\n",
    "plt.ylabel(\"Score\")\n",
    "plt.title(\"PNMF\")\n",
    "plt.legend(prop={'size': 9})"
   ]
  },
  {
   "cell_type": "code",
   "execution_count": null,
   "id": "9bfc67cb-e66d-4b79-9e9b-a9583ca1cc1a",
   "metadata": {},
   "outputs": [],
   "source": [
    "score_pnmf[2].max()"
   ]
  },
  {
   "cell_type": "code",
   "execution_count": null,
   "id": "29ac9941",
   "metadata": {},
   "outputs": [],
   "source": [
    "res_mefisto = []\n",
    "for col in L:\n",
    "    mef = pd.read_csv(f'range_benchmark/factors_mefisto_her2_{col}_bench.csv',index_col=0)\n",
    "\n",
    "    mef_aligned = mef.reindex(adata.obs.index)\n",
    "    adata.obsm['mefisto'] = mef_aligned\n",
    "    kmeans_mef = KMeans(n_clusters=6, init='k-means++',max_iter=500,random_state=random_state).fit(mef_aligned)\n",
    "    adata.obs['MEFISTO']=kmeans_mef.labels_.astype(str)\n",
    "    mef_aligned['Histology'] = adata.obs['Histology']\n",
    "\n",
    "    \n",
    "    mut_info=metrics.fowlkes_mallows_score(adata.obs['MEFISTO'],mef_aligned['Histology'])\n",
    "    adj_rand=metrics.adjusted_rand_score(adata.obs['MEFISTO'],mef_aligned['Histology'])\n",
    "    adj_mut_info=metrics.adjusted_mutual_info_score(adata.obs['MEFISTO'],mef_aligned['Histology'])\n",
    "    res_mefisto.append((col,mut_info,adj_rand,adj_mut_info)) "
   ]
  },
  {
   "cell_type": "code",
   "execution_count": null,
   "id": "8e53ca0b",
   "metadata": {},
   "outputs": [],
   "source": [
    "score_mef = pd.DataFrame(res_mefisto)   \n",
    "plt.plot(score_mef[0],score_mef[1],color=\"green\",label='Fowlkes Mallows Score')\n",
    "plt.plot(score_mef[0],score_mef[2],color=\"red\",label='Adjusted Rand Index Score')\n",
    "plt.plot(score_mef[0],score_mef[3],color=\"blue\",label='Adjusted Mutual Info Score')\n",
    "plt.xlabel(\"Number of Factors\")\n",
    "plt.ylabel(\"Score\")\n",
    "plt.title(\"MEFISTO\")\n",
    "plt.legend(prop={'size': 9})"
   ]
  },
  {
   "cell_type": "code",
   "execution_count": null,
   "id": "ea73c18d-4347-4699-b8ab-7cffa484d4a0",
   "metadata": {},
   "outputs": [],
   "source": [
    "score_mef[2].max()"
   ]
  },
  {
   "cell_type": "code",
   "execution_count": null,
   "id": "61e299b9",
   "metadata": {
    "scrolled": true
   },
   "outputs": [],
   "source": [
    "from sklearn.decomposition import FactorAnalysis\n",
    "res_fa = []\n",
    "for col in L:\n",
    "    transformer = FactorAnalysis(n_components=col, random_state=random_state)\n",
    "    X_transformed = transformer.fit_transform(adata.X)\n",
    "    adata.obsm['fa'] = X_transformed\n",
    "    kmeans_fa = KMeans(n_clusters=6, init='k-means++',max_iter=500,random_state=random_state).fit(X_transformed)\n",
    "    adata.obs['FA']=kmeans_fa.labels_.astype(str)\n",
    "    \n",
    "    mut_info=metrics.fowlkes_mallows_score(adata.obs['FA'],adata.obs['Histology'])\n",
    "    adj_rand=metrics.adjusted_rand_score(adata.obs['FA'],adata.obs['Histology'])\n",
    "    adj_mut_info=metrics.adjusted_mutual_info_score(adata.obs['FA'],adata.obs['Histology'])\n",
    "    res_fa.append((col,mut_info,adj_rand,adj_mut_info)) "
   ]
  },
  {
   "cell_type": "code",
   "execution_count": null,
   "id": "a8e0fa67",
   "metadata": {},
   "outputs": [],
   "source": [
    "score_fa = pd.DataFrame(res_fa)   \n",
    "plt.plot(score_fa[0],score_fa[1],color=\"green\",label='Fowlkes Mallows Score')\n",
    "plt.plot(score_fa[0],score_fa[2],color=\"red\",label='Adjusted Rand Index Score')\n",
    "plt.plot(score_fa[0],score_fa[3],color=\"blue\",label='Adjusted Mutual Info Score')\n",
    "plt.xlabel(\"Number of Factors\")\n",
    "plt.ylabel(\"Score\")\n",
    "plt.title(\"FA\")\n",
    "plt.legend(prop={'size': 9})\n"
   ]
  },
  {
   "cell_type": "code",
   "execution_count": null,
   "id": "f5f63c15-196e-4950-8a93-0e932a27c8db",
   "metadata": {},
   "outputs": [],
   "source": [
    "score_fa[2].max()"
   ]
  },
  {
   "cell_type": "code",
   "execution_count": null,
   "id": "6c199bb3-11dd-4f17-84a3-6ecdf68b65b2",
   "metadata": {},
   "outputs": [],
   "source": []
  }
 ],
 "metadata": {
  "jupytext": {
   "encoding": "# -*- coding: utf-8 -*-"
  },
  "kernelspec": {
   "display_name": "Python 3 (ipykernel)",
   "language": "python",
   "name": "python3"
  },
  "language_info": {
   "codemirror_mode": {
    "name": "ipython",
    "version": 3
   },
   "file_extension": ".py",
   "mimetype": "text/x-python",
   "name": "python",
   "nbconvert_exporter": "python",
   "pygments_lexer": "ipython3",
   "version": "3.12.4"
  }
 },
 "nbformat": 4,
 "nbformat_minor": 5
}
