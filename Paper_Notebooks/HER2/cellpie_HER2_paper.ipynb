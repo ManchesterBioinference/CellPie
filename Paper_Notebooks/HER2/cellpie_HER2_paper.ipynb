{
 "cells": [
  {
   "cell_type": "markdown",
   "id": "513e4bc1-4d64-4823-bb41-0f7109284d67",
   "metadata": {},
   "source": [
    "Load required libraries. int_nmf_model must be in the same directory. If it is not it can be added to pythons path"
   ]
  },
  {
   "cell_type": "code",
   "execution_count": null,
   "id": "95ff68b8-bd25-4c74-ac54-059372017ae1",
   "metadata": {
    "ExecuteTime": {
     "end_time": "2023-07-20T14:30:56.012795Z",
     "start_time": "2023-07-20T14:30:56.005865Z"
    },
    "tags": []
   },
   "outputs": [],
   "source": [
    "import anndata as ad\n",
    "import scanpy as sc\n",
    "import numpy as np\n",
    "import scipy\n",
    "import sys\n",
    "sys.path.append(\"../../CellPie/\") # go to parent dir\n",
    "import cellpie_main as cp\n",
    "from cellpie_main import intNMF\n",
    "from matplotlib import pyplot as plt\n",
    "import scipy.io\n",
    "import pandas as pd\n",
    "from scipy import sparse\n",
    "from sklearn.cluster import KMeans\n",
    "from sklearn import metrics\n",
    "\n",
    "import seaborn as sns"
   ]
  },
  {
   "cell_type": "code",
   "execution_count": null,
   "id": "03ab9e29",
   "metadata": {
    "ExecuteTime": {
     "end_time": "2023-07-20T14:30:56.174729Z",
     "start_time": "2023-07-20T14:30:56.169872Z"
    }
   },
   "outputs": [],
   "source": [
    "sc.set_figure_params(scanpy=True, dpi=250, dpi_save=150)"
   ]
  },
  {
   "cell_type": "code",
   "execution_count": null,
   "id": "be3569be-de5e-473d-b505-da6a2d4f997b",
   "metadata": {},
   "outputs": [],
   "source": [
    "random_state=123"
   ]
  },
  {
   "cell_type": "markdown",
   "id": "e26b51ad",
   "metadata": {},
   "source": [
    "# CellPie"
   ]
  },
  {
   "cell_type": "code",
   "execution_count": null,
   "id": "e4eb0634",
   "metadata": {
    "ExecuteTime": {
     "end_time": "2023-07-20T14:30:56.459639Z",
     "start_time": "2023-07-20T14:30:56.437173Z"
    }
   },
   "outputs": [],
   "source": [
    "histo_2 = pd.read_csv('/Users/user/CellPie/Paper_Notebooks/Paper_Notebooks/HER2/H1_labeled_coordinates.tsv',sep='\\t')\n",
    "histo_2.set_index('Row.names')"
   ]
  },
  {
   "cell_type": "code",
   "execution_count": null,
   "id": "97ce6d30",
   "metadata": {
    "ExecuteTime": {
     "end_time": "2023-07-20T14:30:59.823257Z",
     "start_time": "2023-07-20T14:30:56.609415Z"
    }
   },
   "outputs": [],
   "source": [
    "# read ST data\n",
    "adata=sc.read_h5ad('/Users/user/CellPie/Paper_Notebooks/Paper_Notebooks//HER2/her2_h1.h5ad')"
   ]
  },
  {
   "cell_type": "code",
   "execution_count": null,
   "id": "c3185afb-d071-4a87-a734-53d40b668c86",
   "metadata": {},
   "outputs": [],
   "source": [
    "histo_2.index = histo_2['Row.names']\n",
    "histo_2.index.names = ['']\n",
    "new_index_values = []\n",
    "\n",
    "for i in range(len(histo_2)):\n",
    "    x = histo_2['x'].round().astype(np.int64).iloc[i]\n",
    "    y = histo_2['y'].round().astype(np.int64).iloc[i]\n",
    "    new_index_values.append(\"{0}x{1}\".format(x, y))\n",
    "    \n",
    "histo_2.index=new_index_values\n",
    "adata.obs['path_labels'] =histo_2['label']"
   ]
  },
  {
   "cell_type": "code",
   "execution_count": null,
   "id": "07aecf16-3e10-46f0-8a87-c30cbe4ed66f",
   "metadata": {},
   "outputs": [],
   "source": [
    "adata = adata[adata.obs_names.isin(histo_2.index),:]"
   ]
  },
  {
   "cell_type": "code",
   "execution_count": null,
   "id": "6ed9ae22-6346-405e-9a27-efaabf5fe4b4",
   "metadata": {},
   "outputs": [],
   "source": [
    "scale_range = np.arange(0.1,4,1)"
   ]
  },
  {
   "cell_type": "code",
   "execution_count": null,
   "id": "3b9bc589-1459-4642-9829-9b15ab8107bd",
   "metadata": {},
   "outputs": [],
   "source": [
    "from feature_extr import extract_features\n",
    "extract_features(adata,img_path='/Users/user/CellPie/Paper_Notebooks/Paper_Notebooks/HER2/HE_BT24044_D2.jpg',\n",
    "                         spot_scale=scale_range)"
   ]
  },
  {
   "cell_type": "code",
   "execution_count": null,
   "id": "554022ef-5bab-4a4a-8fd9-620f96e4d435",
   "metadata": {},
   "outputs": [],
   "source": [
    "from cp_utils import preprocess_data\n",
    "preprocess_data(adata,min_cells=100)"
   ]
  },
  {
   "cell_type": "code",
   "execution_count": null,
   "id": "0984cc09-8b06-4d19-a299-4499a73c9f55",
   "metadata": {},
   "outputs": [],
   "source": [
    "adata.obs['path_labels'] =histo_2['label']"
   ]
  },
  {
   "cell_type": "code",
   "execution_count": null,
   "id": "b048041d-1e6f-470b-aacd-d62d11eb74f8",
   "metadata": {},
   "outputs": [],
   "source": [
    "# from cp_utils import model_selection\n",
    "# k = np.arange(1,30)\n",
    "# mod_sel = model_selection(adata,k,random_state=random_state,reps=3)"
   ]
  },
  {
   "cell_type": "code",
   "execution_count": null,
   "id": "f1d25777",
   "metadata": {},
   "outputs": [],
   "source": [
    "# res = []\n",
    "\n",
    "# for i in np.arange(0, 2.01,0.1):\n",
    "    \n",
    "#     nmf_model = intNMF(adata,5,epochs = 50, init = 'nndsvd',random_state=random_state,mod1_skew=i)\n",
    "#     nmf_model.fit(adata)\n",
    "#     kmeans_cellpie = KMeans(n_clusters=6, init='k-means++',max_iter=500,random_state=random_state).fit(nmf_model.theta[:,:])\n",
    "#     adata.obs['CellPie']=kmeans_cellpie.labels_.astype(str)\n",
    "\n",
    "    \n",
    "#     mut_info=metrics.fowlkes_mallows_score(adata.obs['CellPie'],adata.obs['path_labels'])\n",
    "#     adj_rand=metrics.adjusted_rand_score(adata.obs['CellPie'],adata.obs['path_labels'])\n",
    "#     adj_mut_info=metrics.adjusted_mutual_info_score(adata.obs['CellPie'],adata.obs['path_labels'])\n",
    "\n",
    "    \n",
    "#     res.append((i,mut_info,adj_rand,adj_mut_info)) "
   ]
  },
  {
   "cell_type": "code",
   "execution_count": null,
   "id": "94a11925",
   "metadata": {
    "scrolled": true
   },
   "outputs": [],
   "source": [
    "# score = pd.DataFrame(res)  \n",
    "# plt.plot(score[0],score[1],color=\"green\",label='Fowlkes Mallows Score')\n",
    "# plt.plot(score[0],score[2],color=\"red\",label='Adjusted Rand Score')\n",
    "# plt.plot(score[0],score[3],color=\"blue\",label='Adjusted Mutual Info Score')\n",
    "# plt.xlabel(\"Weight\")\n",
    "# plt.ylabel(\"Score\")\n",
    "# plt.legend(prop={'size': 9})"
   ]
  },
  {
   "cell_type": "code",
   "execution_count": null,
   "id": "94aa888c",
   "metadata": {},
   "outputs": [],
   "source": [
    "# score[2].idxmax()"
   ]
  },
  {
   "cell_type": "code",
   "execution_count": null,
   "id": "d282e7b2-ac7d-4c88-ad49-90423c67769d",
   "metadata": {},
   "outputs": [],
   "source": [
    "k=5"
   ]
  },
  {
   "cell_type": "code",
   "execution_count": null,
   "id": "5d38c4c9-8db2-4f79-92ab-7aad60ed5255",
   "metadata": {},
   "outputs": [],
   "source": [
    "# Run CellPie with gene expression modality only\n",
    "nmf_model_0 = intNMF(adata,k,epochs = 50,init = 'nndsvd',random_state=random_state,mod1_skew=2.0)\n",
    "nmf_model_0.fit(adata)"
   ]
  },
  {
   "cell_type": "code",
   "execution_count": null,
   "id": "74a6587b",
   "metadata": {
    "ExecuteTime": {
     "end_time": "2023-07-20T15:17:45.469192Z",
     "start_time": "2023-07-20T15:15:55.839883Z"
    },
    "scrolled": true
   },
   "outputs": [],
   "source": [
    "nmf_model = intNMF(adata,k,epochs = 50,init = 'nndsvd',random_state=random_state,mod1_skew=1.9)\n",
    "nmf_model.fit(adata)"
   ]
  },
  {
   "cell_type": "code",
   "execution_count": null,
   "id": "9927fec8-847c-47a9-844c-1bca065675e4",
   "metadata": {},
   "outputs": [],
   "source": [
    "kmeans_cellpie = KMeans(n_clusters=6, init='k-means++',max_iter=500,random_state=random_state).fit(nmf_model.theta[:,:])\n",
    "adata.obs['CellPie']=kmeans_cellpie.labels_.astype(str)"
   ]
  },
  {
   "cell_type": "code",
   "execution_count": null,
   "id": "85f5e843-e579-4698-8efc-c3da90502b34",
   "metadata": {},
   "outputs": [],
   "source": [
    "adj_rand=metrics.adjusted_rand_score(adata.obs['CellPie'],adata.obs['path_labels'])\n",
    "adj_rand"
   ]
  },
  {
   "cell_type": "code",
   "execution_count": null,
   "id": "505931a8-0bf2-4567-9c65-cb61554b94d1",
   "metadata": {},
   "outputs": [],
   "source": [
    "import matplotlib as mpl\n",
    "sel_clust = ['Factor_'+str(i+1) for i in range(k)]\n",
    "with mpl.rc_context({'figure.figsize': (5, 6), 'axes.facecolor': 'black'}):\n",
    "    sc.pl.spatial(adata,\n",
    "    cmap='magma',\n",
    "    color=sel_clust,\n",
    "    ncols=3,\n",
    "    size=4, img_key='hires', \n",
    "    alpha_img=0.4)"
   ]
  },
  {
   "cell_type": "code",
   "execution_count": null,
   "id": "3d4dd7a9-876f-4337-845a-190e8904dddc",
   "metadata": {},
   "outputs": [],
   "source": [
    "mefisto = pd.read_csv('/Users/user/CellPie/Paper_Notebooks/Paper_Data/HER2/Benchmark/factors_mefisto_her2_5.csv',index_col=0)\n",
    "mefisto = mefisto.iloc[mefisto.index.isin(histo_2.index),:]\n",
    "nsf = pd.read_csv('/Users/user/CellPie/Paper_Notebooks/Paper_Data/HER2/Benchmark/factors_nsf_her2_poi_5.csv',index_col=0)\n",
    "nsf = nsf.iloc[nsf.index.isin(histo_2.index),:]\n",
    "nsfh_s = pd.read_csv('/Users/user/CellPie/Paper_Notebooks/Paper_Data/HER2/Benchmark//spatialfactors_nsfh_her2_poi_5.csv',index_col=0)\n",
    "\n",
    "nsfh_ns = pd.read_csv('/Users/user/CellPie/Paper_Notebooks/Paper_Data/HER2/Benchmark/nonspatialfactors_nsfh_her2_poi_5.csv',index_col=0)\n",
    "\n",
    "pnmf = pd.read_csv('/Users/user/CellPie/Paper_Notebooks/Paper_Data/HER2/Benchmark/factors_pnmf_her2_poi_5.csv',index_col=0)\n",
    "pnmf = pnmf.iloc[pnmf.index.isin(histo_2.index),:]"
   ]
  },
  {
   "cell_type": "code",
   "execution_count": null,
   "id": "85175699-6dab-497b-a49a-e95521b071d6",
   "metadata": {},
   "outputs": [],
   "source": [
    "nsfh_s = nsfh_s.rename(columns={\"0\": \"2\", \"1\": \"3\", \"2\": \"4\"})"
   ]
  },
  {
   "cell_type": "code",
   "execution_count": null,
   "id": "c1b36927-143f-45f6-838d-75f94de10e0c",
   "metadata": {},
   "outputs": [],
   "source": [
    "nsfh = pd.concat([nsfh_ns,nsfh_s], axis=1)\n",
    "nsfh"
   ]
  },
  {
   "cell_type": "code",
   "execution_count": null,
   "id": "e87abe4e-af23-4fd4-8ab2-cec02863e710",
   "metadata": {},
   "outputs": [],
   "source": [
    "nsfh = nsfh.iloc[nsfh.index.isin(histo_2.index),:]"
   ]
  },
  {
   "cell_type": "code",
   "execution_count": null,
   "id": "3a07930a-dda9-4388-b2bf-2181edf08e7e",
   "metadata": {},
   "outputs": [],
   "source": [
    "from sklearn.decomposition import FactorAnalysis\n",
    "transformer = FactorAnalysis(n_components=k, random_state=random_state)\n",
    "X_transformed = transformer.fit_transform(adata.X)"
   ]
  },
  {
   "cell_type": "code",
   "execution_count": null,
   "id": "28313e49-dc80-4672-acea-2c08e61683f0",
   "metadata": {},
   "outputs": [],
   "source": [
    "for i in range(k):\n",
    "    adata.obs[f\"FA_{i+1}\"] = X_transformed[:,i]\n",
    "for i in range(k):\n",
    "    adata.obs[f\"nsfh_{i+1}\"] = nsfh.iloc[:,i]\n",
    "for i in range(k):\n",
    "    adata.obs[f\"nsf_{i+1}\"] = nsf.iloc[:,i]\n",
    "for i in range(k):\n",
    "    adata.obs[f\"mefisto_{i+1}\"] = mefisto.iloc[:,i]\n",
    "for i in range(k):\n",
    "    adata.obs[f\"pnmf_{i+1}\"] = pnmf.iloc[:,i]"
   ]
  },
  {
   "cell_type": "code",
   "execution_count": null,
   "id": "27e848ee-b945-4192-8814-0e3ac4a8451b",
   "metadata": {},
   "outputs": [],
   "source": [
    "kmeans_cellpie = KMeans(n_clusters=6, init='k-means++',max_iter=500,random_state=random_state).fit(nmf_model.theta[:,:])\n",
    "adata.obs['CellPie']=kmeans_cellpie.labels_.astype(str)\n",
    "\n",
    "kmeans_nsf = KMeans(n_clusters=6, init='k-means++',max_iter=500,random_state=random_state).fit(adata.obs.loc[:,adata.obs.columns.str.contains('nsf_')])\n",
    "adata.obs['nsf']=kmeans_nsf.labels_.astype(str)\n",
    "\n",
    "kmeans_nsfh = KMeans(n_clusters=6, init='k-means++',max_iter=500,random_state=random_state).fit(adata.obs.loc[:,adata.obs.columns.str.contains('nsfh_')])\n",
    "adata.obs['nsfh']=kmeans_nsfh.labels_.astype(str)\n",
    "\n",
    "kmeans_fa = KMeans(n_clusters=6, init='k-means++',max_iter=500,random_state=random_state).fit(adata.obs.loc[:,adata.obs.columns.str.contains('FA_')])\n",
    "adata.obs['fa']=kmeans_fa.labels_.astype(str)\n",
    "\n",
    "kmeans_pnmf = KMeans(n_clusters=6, init='k-means++',max_iter=500,random_state=random_state).fit(adata.obs.loc[:,adata.obs.columns.str.contains('pnmf_')])\n",
    "adata.obs['pnmf']=kmeans_pnmf.labels_.astype(str)\n",
    "\n",
    "kmeans_mefisto= KMeans(n_clusters=6, init='k-means++',max_iter=500,random_state=random_state).fit(adata.obs.loc[:,adata.obs.columns.str.contains('mefisto_')])\n",
    "adata.obs['mefisto']=kmeans_mefisto.labels_.astype(str)\n",
    "\n",
    "kmeans_nmf = KMeans(n_clusters=6, init='k-means++',max_iter=500,random_state=random_state).fit(nmf_model_0.theta[:,:])\n",
    "adata.obs['CellPie_expression']=kmeans_nmf.labels_.astype(str)\n"
   ]
  },
  {
   "cell_type": "code",
   "execution_count": null,
   "id": "8313f9e3",
   "metadata": {},
   "outputs": [],
   "source": [
    "sc.pl.spatial(adata,color=['path_labels','CellPie','mefisto','pnmf','nsf','nsfh','fa','CellPie_expression'],size=4,\n",
    "             ncols=4,\n",
    "             )"
   ]
  },
  {
   "cell_type": "code",
   "execution_count": null,
   "id": "8cafdd3f-511d-4b7f-85a0-ba6dcb8b34d0",
   "metadata": {},
   "outputs": [],
   "source": [
    "from sklearn import metrics\n",
    "l_t = ['CellPie','mefisto','pnmf','nsf','nsfh','fa','CellPie_expression']\n",
    "res = []\n",
    "for l_t in l_t:\n",
    "    mut_info=metrics.fowlkes_mallows_score(adata.obs[l_t],adata.obs['path_labels'])\n",
    "    adj_rand=metrics.adjusted_rand_score(adata.obs[l_t],adata.obs['path_labels'])\n",
    "    adj_mut_info=metrics.adjusted_mutual_info_score(adata.obs[l_t],adata.obs['path_labels'])\n",
    "    res.append((l_t,mut_info,adj_rand,adj_mut_info))\n",
    "res_df = pd.DataFrame(res, columns = ['Method','Mutual Info','Adjusted Rand Index','Adjusted Mutual Info'])"
   ]
  },
  {
   "cell_type": "code",
   "execution_count": null,
   "id": "cad915d6-943c-4043-b79e-3dc654696bda",
   "metadata": {},
   "outputs": [],
   "source": [
    "res_df"
   ]
  },
  {
   "cell_type": "code",
   "execution_count": null,
   "id": "68fd698b-e0cc-4107-9512-26906f797b52",
   "metadata": {},
   "outputs": [],
   "source": [
    "import seaborn as sns\n",
    "plot=sns.barplot(data=res_df,x = res_df['Method'],y='Adjusted Rand Index',hue='Adjusted Rand Index',width=0.6, legend=False)\n",
    "plot.set_xticklabels(plot.get_xticklabels(), fontsize=10)\n",
    "plt.title('ARI-kmeans Clustering')\n",
    "plt.grid(False)"
   ]
  },
  {
   "cell_type": "markdown",
   "id": "5fe43144",
   "metadata": {
    "ExecuteTime": {
     "end_time": "2023-01-19T14:16:45.044553Z",
     "start_time": "2023-01-19T14:16:45.041947Z"
    }
   },
   "source": [
    "### extract gene loading matrix"
   ]
  },
  {
   "cell_type": "code",
   "execution_count": null,
   "id": "c8e7950d",
   "metadata": {
    "ExecuteTime": {
     "end_time": "2023-04-05T12:36:09.127747Z",
     "start_time": "2023-04-05T12:36:09.110042Z"
    }
   },
   "outputs": [],
   "source": [
    "l = cp.get_genes_topic(adata,nmf_model.phi_expr)"
   ]
  },
  {
   "cell_type": "code",
   "execution_count": null,
   "id": "0170da4c",
   "metadata": {
    "scrolled": true
   },
   "outputs": [],
   "source": [
    "plt.figure(figsize=(10, 8))\n",
    "sns.heatmap(\n",
    "    pd.crosstab(\n",
    "       adata.obs['path_labels'].values, adata.obs['CellPie'].values,\n",
    "        normalize ='index'\n",
    "    ), \n",
    "    cmap=sns.color_palette(\"crest\", as_cmap=True),\n",
    "    annot = True\n",
    ")\n",
    "plt.grid(None)\n",
    "plt.show()"
   ]
  },
  {
   "cell_type": "code",
   "execution_count": null,
   "id": "8f1449c0-74f4-4360-b1f0-e6f19e6222bc",
   "metadata": {},
   "outputs": [],
   "source": [
    "tls = pd.read_csv('/Users/user/CellPie/Paper_Notebooks/Paper_Data/HER2/Benchmark/tls_score_H1.csv',index_col=0)"
   ]
  },
  {
   "cell_type": "code",
   "execution_count": null,
   "id": "c16adecb-7406-4acb-874a-1461fcb23bdd",
   "metadata": {},
   "outputs": [],
   "source": [
    "adata.obs['tls'] = tls['0']"
   ]
  },
  {
   "cell_type": "code",
   "execution_count": null,
   "id": "2e7afa57-2004-44b2-baf5-6c0c21d571b8",
   "metadata": {
    "scrolled": true
   },
   "outputs": [],
   "source": [
    "with mpl.rc_context({'figure.figsize': (5, 6), 'axes.facecolor': 'black'}):\n",
    "    sc.pl.spatial(adata,color='tls',size=4,alpha_img=0.2,save = 'tls.png')"
   ]
  },
  {
   "cell_type": "code",
   "execution_count": null,
   "id": "f52b69f0-04dc-4a75-803c-a28e839fbda8",
   "metadata": {},
   "outputs": [],
   "source": [
    "factors=adata.obs.iloc[:,3:(3+k)]\n",
    "mi_scores = np.zeros((1,k))\n",
    "for i in range(1):\n",
    "    for j in range(k):\n",
    "        mi_scores[i,j] = np.corrcoef(adata.obs['tls'],factors.iloc[:, j])[1][0]      \n",
    "mi_scores_nsf = np.zeros((1,k))\n",
    "for i in range(1):\n",
    "    for j in range(k):\n",
    "        mi_scores_nsf[i,j] = np.corrcoef(adata.obs['tls'],nsf.iloc[:, j])[1][0]      \n",
    "mi_scores_nsfh = np.zeros((1,k))\n",
    "for i in range(1):\n",
    "    for j in range(k):\n",
    "        mi_scores_nsfh[i,j] = np.corrcoef(adata.obs['tls'],nsfh.iloc[:, j])[1][0]    \n",
    "mi_scores_mef = np.zeros((1,k))\n",
    "for i in range(1):\n",
    "    for j in range(k):\n",
    "        mi_scores_mef[i,j] = np.corrcoef(adata.obs['tls'],mefisto.iloc[:, j])[1][0]\n",
    "mi_scores_fa = np.zeros((1,k))\n",
    "for i in range(1):\n",
    "    for j in range(k):\n",
    "        mi_scores_fa[i,j] = np.corrcoef(adata.obs['tls'],X_transformed[:, j])[1][0]\n",
    "mi_scores_pnmf = np.zeros((1,k))\n",
    "for i in range(1):\n",
    "    for j in range(k):\n",
    "        mi_scores_pnmf[i,j] = np.corrcoef(adata.obs['tls'],pnmf.iloc[:, j])[1][0]"
   ]
  },
  {
   "cell_type": "code",
   "execution_count": null,
   "id": "61b2e54f-24fc-4606-96d8-c66026410713",
   "metadata": {},
   "outputs": [],
   "source": [
    "plt.figure(figsize=(33, 1))\n",
    "plt.rcParams[\"axes.grid\"] = False\n",
    "sns.heatmap(mi_scores, annot=True, cmap='viridis',\n",
    "            xticklabels=factors.columns,annot_kws={\"fontsize\":35})\n",
    "sns.set(font_scale=2.5)\n",
    "plt.title('Pearson Correlation Between TLS score and CellPie Factors')\n",
    "plt.xlabel('Factors')\n",
    "plt.ylabel('TLS')\n",
    "plt.show()"
   ]
  },
  {
   "cell_type": "code",
   "execution_count": null,
   "id": "6feba290-6641-436f-a99b-5acfff136e5e",
   "metadata": {},
   "outputs": [],
   "source": [
    "plt.figure(figsize=(33, 1))\n",
    "plt.rcParams[\"axes.grid\"] = False\n",
    "sns.heatmap(mi_scores_nsf, annot=True, cmap='viridis',\n",
    "            xticklabels=factors.columns,annot_kws={\"fontsize\":35})\n",
    "sns.set(font_scale=2.5)\n",
    "plt.title('Pearson Correlation Between TLS score and NSF Factors')\n",
    "plt.xlabel('Factors')\n",
    "plt.ylabel('TLS')\n",
    "plt.show()"
   ]
  },
  {
   "cell_type": "code",
   "execution_count": null,
   "id": "40392ba4-2162-4db6-b776-f7bb8bba9672",
   "metadata": {},
   "outputs": [],
   "source": [
    "plt.figure(figsize=(33, 1))\n",
    "plt.rcParams[\"axes.grid\"] = False\n",
    "sns.heatmap(mi_scores_nsfh, annot=True, cmap='viridis',\n",
    "            xticklabels=factors.columns,annot_kws={\"fontsize\":35})\n",
    "sns.set(font_scale=2.5)\n",
    "plt.title('Pearson Correlation Between TLS score and NSFH Factors')\n",
    "plt.xlabel('Factors')\n",
    "plt.ylabel('TLS')\n",
    "plt.show()"
   ]
  },
  {
   "cell_type": "code",
   "execution_count": null,
   "id": "050ac784-025e-4fb0-aae7-ff81436c5ccd",
   "metadata": {},
   "outputs": [],
   "source": [
    "plt.figure(figsize=(33, 1))\n",
    "plt.rcParams[\"axes.grid\"] = False\n",
    "sns.heatmap(mi_scores_fa, annot=True, cmap='viridis',\n",
    "            xticklabels=factors.columns,annot_kws={\"fontsize\":35})\n",
    "sns.set(font_scale=2.5)\n",
    "plt.title('Pearson Correlation Between TLS score and FA Factors')\n",
    "plt.xlabel('Factors')\n",
    "plt.ylabel('TLS')\n",
    "plt.show()"
   ]
  },
  {
   "cell_type": "code",
   "execution_count": null,
   "id": "ae5c1789-1f80-4579-b139-08fbcd7ff0ee",
   "metadata": {},
   "outputs": [],
   "source": [
    "plt.figure(figsize=(33, 1))\n",
    "plt.rcParams[\"axes.grid\"] = False\n",
    "sns.heatmap(mi_scores_pnmf, annot=True, cmap='viridis',\n",
    "            xticklabels=factors.columns,annot_kws={\"fontsize\":35})\n",
    "sns.set(font_scale=2.5)\n",
    "plt.title('Pearson Correlation Between TLS score and PNMF Factors')\n",
    "plt.xlabel('Factors')\n",
    "plt.ylabel('TLS')\n",
    "plt.show()"
   ]
  },
  {
   "cell_type": "code",
   "execution_count": null,
   "id": "d49d8336-5a9b-4ea5-ac48-0b119aa8e456",
   "metadata": {},
   "outputs": [],
   "source": [
    "plt.figure(figsize=(33, 1))\n",
    "plt.rcParams[\"axes.grid\"] = False\n",
    "sns.heatmap(mi_scores_mef, annot=True, cmap='viridis',\n",
    "            xticklabels=factors.columns,annot_kws={\"fontsize\":35})\n",
    "sns.set(font_scale=2.5)\n",
    "plt.title('Pearson Correlation Between TLS score and MEFISTO Factors')\n",
    "plt.xlabel('Factors')\n",
    "plt.ylabel('TLS')\n",
    "plt.show()"
   ]
  },
  {
   "cell_type": "code",
   "execution_count": null,
   "id": "81a4f6c5-1850-4914-8e9e-060bbf836c5f",
   "metadata": {},
   "outputs": [],
   "source": [
    "import gseapy as gp\n",
    "def gene_er(topic):\n",
    "    enr = gp.enrichr(gene_list=topic,\n",
    "                gene_sets=['GO_Biological_Process_2023'],cutoff = 0.5,\n",
    "                organism='human', \n",
    "                outdir=None,\n",
    "                )\n",
    "    return enr"
   ]
  },
  {
   "cell_type": "code",
   "execution_count": null,
   "id": "3f800d58-fcad-4204-becb-ae89bda6b836",
   "metadata": {},
   "outputs": [],
   "source": [
    "l"
   ]
  },
  {
   "cell_type": "code",
   "execution_count": null,
   "id": "c119a4d9-6eaf-434a-a92d-2e667c3818d0",
   "metadata": {},
   "outputs": [],
   "source": [
    "l=cp.get_genes_topic(adata,nmf_model.phi_expr)\n",
    "enr0 = gene_er(l.T[0].sort_values(ascending=False).index[0:150].to_list())\n",
    "enr1 = gene_er(l.T[1].sort_values(ascending=False).index[0:150].to_list())\n",
    "enr2 = gene_er(l.T[2].sort_values(ascending=False).index[0:150].to_list())\n",
    "enr3 = gene_er(l.T[3].sort_values(ascending=False).index[0:150].to_list())\n",
    "enr4 = gene_er(l.T[4].sort_values(ascending=False).index[0:150].to_list())"
   ]
  },
  {
   "cell_type": "code",
   "execution_count": null,
   "id": "9f0d9d01-8d39-49ea-bbef-06976f72179a",
   "metadata": {},
   "outputs": [],
   "source": [
    "gp.barplot(enr2.res2d,title='GO_Biological_Process_2023 Factor 3',color=['darkred'])\n",
    "plt.grid(None)"
   ]
  },
  {
   "cell_type": "code",
   "execution_count": null,
   "id": "e6be95f5-2472-4aa1-848a-86603f4fc171",
   "metadata": {},
   "outputs": [],
   "source": [
    "gp.barplot(enr1.res2d,title='GO_Biological_Process_2023 Factor 2',color=['darkred'])\n",
    "plt.grid(None)"
   ]
  },
  {
   "cell_type": "code",
   "execution_count": null,
   "id": "06a1cc69-6516-405d-9d23-4236e45e6eef",
   "metadata": {},
   "outputs": [],
   "source": [
    "from re import sub\n",
    "import matplotlib as mpl\n",
    "sel_clust = ['nsf_'+str(i+1) for i in range(k)]\n",
    "with mpl.rc_context({'figure.figsize': (5, 6), 'axes.facecolor': 'black'}):\n",
    "    sc.pl.spatial(adata,\n",
    "                cmap='magma',\n",
    "                color=sel_clust,\n",
    "                ncols=3,\n",
    "                size=4, img_key='hires', \n",
    "                alpha_img=0\n",
    "                 )"
   ]
  },
  {
   "cell_type": "code",
   "execution_count": null,
   "id": "03018cec-59ec-4931-ab74-61b3861dae8d",
   "metadata": {},
   "outputs": [],
   "source": [
    "from re import sub\n",
    "import matplotlib as mpl\n",
    "sel_clust = ['pnmf_'+str(i+1) for i in range(k)]\n",
    "with mpl.rc_context({'figure.figsize': (5, 6), 'axes.facecolor': 'black'}):\n",
    "    sc.pl.spatial(adata,\n",
    "                cmap='magma',\n",
    "                color=sel_clust,\n",
    "                ncols=3,\n",
    "                size=4, img_key='hires', \n",
    "                alpha_img=0\n",
    "                 )"
   ]
  },
  {
   "cell_type": "code",
   "execution_count": null,
   "id": "3acd0df4-43b7-4812-853e-e4dbda6f7c67",
   "metadata": {},
   "outputs": [],
   "source": [
    "from re import sub\n",
    "import matplotlib as mpl\n",
    "sel_clust = ['FA_'+str(i+1) for i in range(k)]\n",
    "with mpl.rc_context({'figure.figsize': (5, 6), 'axes.facecolor': 'black'}):\n",
    "    sc.pl.spatial(adata,\n",
    "                cmap='magma',\n",
    "                color=sel_clust,\n",
    "                ncols=3,\n",
    "                size=4, img_key='hires', \n",
    "                alpha_img=0\n",
    "                 )"
   ]
  },
  {
   "cell_type": "code",
   "execution_count": null,
   "id": "9ebd305b-4626-4599-874c-cf52cf919771",
   "metadata": {},
   "outputs": [],
   "source": [
    "from re import sub\n",
    "import matplotlib as mpl\n",
    "sel_clust = ['nsfh_'+str(i+1) for i in range(k)]\n",
    "with mpl.rc_context({'figure.figsize': (5, 6), 'axes.facecolor': 'black'}):\n",
    "    sc.pl.spatial(adata,\n",
    "                cmap='magma',\n",
    "                color=sel_clust,\n",
    "                ncols=3,\n",
    "                size=4, img_key='hires', \n",
    "                alpha_img=0\n",
    "                 )"
   ]
  },
  {
   "cell_type": "code",
   "execution_count": null,
   "id": "879bf38e-8e8c-4361-a2fb-04883064bf6b",
   "metadata": {},
   "outputs": [],
   "source": [
    "from re import sub\n",
    "import matplotlib as mpl\n",
    "sel_clust = ['mefisto_'+str(i+1) for i in range(k)]\n",
    "with mpl.rc_context({'figure.figsize': (5, 6), 'axes.facecolor': 'black'}):\n",
    "    sc.pl.spatial(adata,\n",
    "                cmap='magma',\n",
    "                color=sel_clust,\n",
    "                ncols=3,\n",
    "                size=4, img_key='hires',\n",
    "                alpha_img=0\n",
    "                 )"
   ]
  },
  {
   "cell_type": "code",
   "execution_count": null,
   "id": "ca93aeaa-0e52-4d4a-b84b-1f001b932a7f",
   "metadata": {},
   "outputs": [],
   "source": []
  }
 ],
 "metadata": {
  "kernelspec": {
   "display_name": "Python 3 (ipykernel)",
   "language": "python",
   "name": "python3"
  },
  "language_info": {
   "codemirror_mode": {
    "name": "ipython",
    "version": 3
   },
   "file_extension": ".py",
   "mimetype": "text/x-python",
   "name": "python",
   "nbconvert_exporter": "python",
   "pygments_lexer": "ipython3",
   "version": "3.12.4"
  }
 },
 "nbformat": 4,
 "nbformat_minor": 5
}
