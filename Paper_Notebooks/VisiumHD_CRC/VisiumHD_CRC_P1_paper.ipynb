{
 "cells": [
  {
   "cell_type": "markdown",
   "id": "513e4bc1-4d64-4823-bb41-0f7109284d67",
   "metadata": {},
   "source": [
    "Load required libraries. int_nmf_model must be in the same directory. If it is not it can be added to pythons path"
   ]
  },
  {
   "cell_type": "code",
   "execution_count": null,
   "id": "95ff68b8-bd25-4c74-ac54-059372017ae1",
   "metadata": {
    "ExecuteTime": {
     "end_time": "2023-07-20T14:30:56.012795Z",
     "start_time": "2023-07-20T14:30:56.005865Z"
    },
    "tags": []
   },
   "outputs": [],
   "source": [
    "import anndata as ad\n",
    "import scanpy as sc\n",
    "import numpy as np\n",
    "import scipy\n",
    "import sys\n",
    "sys.path.append(\"../../CellPie/\") # go to parent dir\n",
    "import cellpie_main as cp\n",
    "from cellpie_main import intNMF\n",
    "from matplotlib import pyplot as plt\n",
    "import scipy.io\n",
    "import pandas as pd\n",
    "from sklearn.cluster import KMeans\n",
    "import seaborn as sns"
   ]
  },
  {
   "cell_type": "code",
   "execution_count": null,
   "id": "f27cb1da",
   "metadata": {},
   "outputs": [],
   "source": [
    "import spatialdata as sd\n",
    "from spatialdata_io import visium_hd"
   ]
  },
  {
   "cell_type": "code",
   "execution_count": null,
   "id": "03ab9e29",
   "metadata": {
    "ExecuteTime": {
     "end_time": "2023-07-20T14:30:56.174729Z",
     "start_time": "2023-07-20T14:30:56.169872Z"
    }
   },
   "outputs": [],
   "source": [
    "plt.rcParams[\"axes.grid\"] = False\n",
    "sc.set_figure_params(scanpy=True, dpi=250, dpi_save=300)"
   ]
  },
  {
   "cell_type": "code",
   "execution_count": null,
   "id": "8fce8b3b-6f22-49c6-8045-06d79a50043a",
   "metadata": {},
   "outputs": [],
   "source": [
    "random_state = 123"
   ]
  },
  {
   "cell_type": "markdown",
   "id": "e26b51ad",
   "metadata": {},
   "source": [
    "# CellPie"
   ]
  },
  {
   "cell_type": "markdown",
   "id": "dc213366-4406-45cb-a5c3-d10718dab254",
   "metadata": {},
   "source": [
    "Download Visium HD CRC P1 data - https://www.10xgenomics.com/products/visium-hd-spatial-gene-expression/dataset-human-crc"
   ]
  },
  {
   "cell_type": "code",
   "execution_count": null,
   "id": "00a8b6ad-a58e-4db6-966d-b12432502d85",
   "metadata": {},
   "outputs": [],
   "source": [
    "%%sh\n",
    "mkdir -p visium_hd_crc_p1\n",
    "pushd visium_hd_crc_p1/\n",
    "wget https://cf.10xgenomics.com/samples/spatial-exp/3.0.0/Visium_HD_Human_Colon_Cancer_P1/Visium_HD_Human_Colon_Cancer_P1_binned_outputs.tar.gz\n",
    "wget https://cf.10xgenomics.com/samples/spatial-exp/3.0.0/Visium_HD_Human_Colon_Cancer_P1/Visium_HD_Human_Colon_Cancer_P1_spatial.tar.gz\n",
    "wget https://cf.10xgenomics.com/samples/spatial-exp/3.0.0/Visium_HD_Human_Colon_Cancer_P1/Visium_HD_Human_Colon_Cancer_P1_molecule_info.h5\n",
    "wget https://cf.10xgenomics.com/samples/spatial-exp/3.0.0/Visium_HD_Human_Colon_Cancer_P1/Visium_HD_Human_Colon_Cancer_P1_feature_slice.h5\n",
    "tar -xzf Visium_HD_Human_Colon_Cancer_P1_binned_output.tar.gz\n",
    "tar -xzf Visium_HD_Human_Colon_Cancer_P1_spatial.tar.gz\n",
    "rm Visium_HD_Human_Colon_Cancer_P1_binned_output.tar.gz\n",
    "rm Visium_HD_Human_Colon_Cancer_P1_spatial.tar.gz\n",
    "popd"
   ]
  },
  {
   "cell_type": "code",
   "execution_count": null,
   "id": "d1089964-d4c8-4ef3-ac81-accfc7e5bdf6",
   "metadata": {},
   "outputs": [],
   "source": [
    "import spatialdata_io\n",
    "sdata = spatialdata_io.visium_hd('visium_hd_crc_p1/')"
   ]
  },
  {
   "cell_type": "markdown",
   "id": "76923f69-289f-4a42-a6ae-c562d0ca317d",
   "metadata": {},
   "source": [
    "Extract Image Features using extract_features_visiumhd function"
   ]
  },
  {
   "cell_type": "code",
   "execution_count": null,
   "id": "e229d63f-2cd8-4d56-9d66-819625284653",
   "metadata": {},
   "outputs": [],
   "source": [
    "scale_range = [0.01,0.05,0.1,0.5,1,1.5,2,2.5,3]"
   ]
  },
  {
   "cell_type": "code",
   "execution_count": null,
   "id": "973c4f5f-f604-4388-a31a-3dd77b429e3b",
   "metadata": {},
   "outputs": [],
   "source": [
    "from feature_extr import extract_features_visiumhd\n",
    "features = extract_features_visiumhd(sdata,img_path='visium_hd_crc_p1/binned_outputs/square_016um/spatial/tissue_hires_image.png',\n",
    "                           json_path = 'visium_hd_crc_p1/binned_outputs/square_016um/spatial/scalefactors_json.json',resolution='square_016um',\n",
    "                                     spot_scale=scale_range,bins=100)"
   ]
  },
  {
   "cell_type": "code",
   "execution_count": null,
   "id": "2880ffb9-e25e-4137-8352-2db03b0e148f",
   "metadata": {},
   "outputs": [],
   "source": [
    "from spatialdata_io.experimental import from_legacy_anndata, to_legacy_anndata\n",
    "adata = to_legacy_anndata(sdata, include_images=True,table_name='square_016um',coordinate_system='downscaled_hires')"
   ]
  },
  {
   "cell_type": "code",
   "execution_count": null,
   "id": "0736e117-e77a-4165-94c1-cace7f95b2ed",
   "metadata": {},
   "outputs": [],
   "source": [
    "# from cp_utils import model_selection\n",
    "# k = np.arange(1,251)\n",
    "# mod_sel = model_selection(adata,k,random_state=random_state)"
   ]
  },
  {
   "cell_type": "code",
   "execution_count": null,
   "id": "63b3c1cd-bd17-45ab-a77e-bed623359132",
   "metadata": {},
   "outputs": [],
   "source": [
    "adata.var_names_make_unique()\n",
    "reg = sc.get.obs_df(adata,keys='REG1A')\n",
    "tgf = sc.get.obs_df(adata,keys='TGFBI')"
   ]
  },
  {
   "cell_type": "code",
   "execution_count": null,
   "id": "ba7cc4b9",
   "metadata": {},
   "outputs": [],
   "source": [
    "k=80"
   ]
  },
  {
   "cell_type": "code",
   "execution_count": null,
   "id": "74a6587b",
   "metadata": {
    "ExecuteTime": {
     "end_time": "2023-07-20T15:17:45.469192Z",
     "start_time": "2023-07-20T15:15:55.839883Z"
    }
   },
   "outputs": [],
   "source": [
    "nmf_model = intNMF(adata,k,epochs = 20, init = 'random',random_state=random_state,mod1_skew=0.9)\n",
    "nmf_model.fit(adata)"
   ]
  },
  {
   "cell_type": "code",
   "execution_count": null,
   "id": "91d78a01-68a4-4613-b1b2-f3fd6c1f82a9",
   "metadata": {},
   "outputs": [],
   "source": [
    "# weight=1\n",
    "from re import sub\n",
    "import matplotlib as mpl\n",
    "# sel_clust = ['Factor_'+str(i+1) for i in range(k)]\n",
    "sel_clust = ['Factor_34','REG1A','Factor_11','TGFBI']\n",
    "with mpl.rc_context({'figure.figsize': (10, 8), 'axes.facecolor': 'black'}):\n",
    "    sc.pl.spatial(adata,\n",
    "                cmap='magma',\n",
    "                color=sel_clust,\n",
    "                library_id = 'Visium_HD_Human_Colon_Cancer_P1_hires_image',\n",
    "                ncols=2,\n",
    "                size=3, img_key='hires', \n",
    "                alpha_img=0.2\n",
    "                 )"
   ]
  },
  {
   "cell_type": "code",
   "execution_count": null,
   "id": "15312962-459a-4f97-a0df-4f6850198722",
   "metadata": {},
   "outputs": [],
   "source": [
    "from re import sub\n",
    "import matplotlib as mpl\n",
    "sel_clust = ['Factor_'+str(i+1) for i in range(k)]\n",
    "with mpl.rc_context({'figure.figsize': (5, 6), 'axes.facecolor': 'black'}):\n",
    "    sc.pl.spatial(adata,\n",
    "                cmap='magma',\n",
    "                color=sel_clust,\n",
    "                library_id = 'Visium_HD_Human_Colon_Cancer_P1_hires_image',\n",
    "                ncols=7,\n",
    "                size=5, img_key='hires', \n",
    "                alpha_img=0.2\n",
    "                 )"
   ]
  },
  {
   "cell_type": "code",
   "execution_count": null,
   "id": "9a1e6e0a-7134-4a7f-86f7-7012584267a0",
   "metadata": {},
   "outputs": [],
   "source": [
    "import numpy as np\n",
    "import seaborn as sns\n",
    "import matplotlib.pyplot as plt\n",
    "k=80\n",
    "\n",
    "mi_scores_reg_all = []\n",
    "mi_scores_tgf_all = []\n",
    "weights = np.arange(0.1, 2.01, 0.1)\n",
    "\n",
    "for w in weights:\n",
    "\n",
    "    nmf_model = intNMF(adata, k, epochs=20, init='random', random_state=random_state, mod1_skew=w)\n",
    "    nmf_model.fit(adata)\n",
    "\n",
    "    # Extract factors\n",
    "    factors = adata.obs.iloc[:, 5:(5+k)]\n",
    "    \n",
    "\n",
    "    mi_scores_reg_18 = np.array([np.corrcoef(reg, factors.iloc[:, j])[1, 0] for j in range(k)])\n",
    "    mi_scores_reg_all.append(mi_scores_reg_18)\n",
    "\n",
    "\n",
    "    mi_scores_tgf_18 = np.array([np.corrcoef(tgf, factors.iloc[:, j])[1, 0] for j in range(k)])\n",
    "    mi_scores_tgf_all.append(mi_scores_tgf_18)\n",
    "\n",
    "mi_scores_reg_all = np.array(mi_scores_reg_all)\n",
    "mi_scores_tgf_all = np.array(mi_scores_tgf_all)\n",
    "\n",
    "\n",
    "plt.figure(figsize=(20, 10))\n",
    "sns.heatmap(mi_scores_reg_all, annot=False, cmap='viridis',\n",
    "            xticklabels=factors.columns, yticklabels=np.round(weights, 2))\n",
    "plt.title('Pearson Correlation Between REG1A and CellPie Factors')\n",
    "plt.xlabel('Factors')\n",
    "plt.ylabel('Weight (mod1_skew)')\n",
    "plt.show()\n",
    "\n",
    "plt.figure(figsize=(20, 10))\n",
    "sns.heatmap(mi_scores_tgf_all, annot=False, cmap='viridis',\n",
    "            xticklabels=factors.columns, yticklabels=np.round(weights, 2))\n",
    "plt.title('Pearson Correlation Between TGF and CellPie Factors')\n",
    "plt.xlabel('Factors')\n",
    "plt.ylabel('Weight (mod1_skew)')\n",
    "plt.show()\n"
   ]
  },
  {
   "cell_type": "code",
   "execution_count": null,
   "id": "2d57ee5c-cab5-481d-9c11-e637b75ed627",
   "metadata": {},
   "outputs": [],
   "source": [
    "import numpy as np\n",
    "import matplotlib.pyplot as plt\n",
    "\n",
    "\n",
    "weights = np.arange(0.1, 2.01, 0.1)\n",
    "\n",
    "plt.figure(figsize=(10, 6))\n",
    "\n",
    "plt.plot(weights, mi_scores_reg_all.max(axis=1), marker='o', linestyle='-', color='b', label='Max REG1A Correlation')\n",
    "plt.plot(weights, mi_scores_tgf_all.max(axis=1), marker='o', linestyle='--', color='r', label='Max TGF Correlation')\n",
    "\n",
    "plt.title('Maximum Pearson Correlation Between Factors per Weight')\n",
    "plt.xlabel('Weight (mod1_skew)')\n",
    "plt.ylabel('Maximum Correlation')\n",
    "plt.ylim(0.5, 1) \n",
    "plt.grid(True)\n",
    "\n",
    "plt.legend()\n",
    "plt.show()\n"
   ]
  },
  {
   "cell_type": "code",
   "execution_count": null,
   "id": "954481fb-58c9-405c-a245-40070f1236e2",
   "metadata": {},
   "outputs": [],
   "source": [
    "import gseapy as gp"
   ]
  },
  {
   "cell_type": "code",
   "execution_count": null,
   "id": "231692bb-5b4f-45a2-97c3-3a7b5096c9b3",
   "metadata": {},
   "outputs": [],
   "source": [
    "def gene_er(topic):\n",
    "    enr = gp.enrichr(gene_list=topic, # or \"./tests/data/gene_list.txt\",\n",
    "                gene_sets=['MSigDB_Hallmark_2020'],\n",
    "                organism='human', # don't forget to set organism to the one you desired! e.g. Yeast\n",
    "                outdir=None, # don't write to disk\n",
    "                )\n",
    "    return enr"
   ]
  },
  {
   "cell_type": "code",
   "execution_count": null,
   "id": "439ece21-a284-4d75-923c-130e5b755ba4",
   "metadata": {},
   "outputs": [],
   "source": [
    "l=cp.get_genes_topic(adata,nmf_model.phi_expr)"
   ]
  },
  {
   "cell_type": "code",
   "execution_count": null,
   "id": "1e4b9145-2892-4805-8bb8-725c71c45ba5",
   "metadata": {},
   "outputs": [],
   "source": [
    "enr34 = gene_er(l.T[33].sort_values(ascending=False).index[0:150].to_list())\n",
    "enr11 = gene_er(l.T[10].sort_values(ascending=False).index[0:150].to_list())"
   ]
  },
  {
   "cell_type": "code",
   "execution_count": null,
   "id": "5d6900f2-1319-4713-84f9-a96e1a9bd2fa",
   "metadata": {},
   "outputs": [],
   "source": [
    "gp.barplot(enr34.res2d,title='GO_Biological_Process_2023_Factor_34',color=['darkred'])\n",
    "plt.grid(False)"
   ]
  },
  {
   "cell_type": "code",
   "execution_count": null,
   "id": "e44d80f0-b950-4535-88ed-e230fb691c2b",
   "metadata": {},
   "outputs": [],
   "source": [
    "gp.barplot(enr11.res2d,title='GO_Biological_Process_2023_Factor_11',color=['darkred'])\n",
    "plt.grid(False)"
   ]
  },
  {
   "cell_type": "code",
   "execution_count": null,
   "id": "b204355b-ec28-4aa3-9bd7-88cb5719473c",
   "metadata": {},
   "outputs": [],
   "source": []
  }
 ],
 "metadata": {
  "kernelspec": {
   "display_name": "Python 3 (ipykernel)",
   "language": "python",
   "name": "python3"
  },
  "language_info": {
   "codemirror_mode": {
    "name": "ipython",
    "version": 3
   },
   "file_extension": ".py",
   "mimetype": "text/x-python",
   "name": "python",
   "nbconvert_exporter": "python",
   "pygments_lexer": "ipython3",
   "version": "3.12.4"
  }
 },
 "nbformat": 4,
 "nbformat_minor": 5
}
