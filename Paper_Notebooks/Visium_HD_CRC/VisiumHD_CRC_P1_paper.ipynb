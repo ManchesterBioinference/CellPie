{
 "cells": [
  {
   "cell_type": "markdown",
   "id": "513e4bc1-4d64-4823-bb41-0f7109284d67",
   "metadata": {},
   "source": [
    "Load required libraries. int_nmf_model must be in the same directory. If it is not it can be added to pythons path"
   ]
  },
  {
   "cell_type": "code",
   "execution_count": null,
   "id": "95ff68b8-bd25-4c74-ac54-059372017ae1",
   "metadata": {
    "ExecuteTime": {
     "end_time": "2023-07-20T14:30:56.012795Z",
     "start_time": "2023-07-20T14:30:56.005865Z"
    },
    "tags": []
   },
   "outputs": [],
   "source": [
    "import anndata as ad\n",
    "import scanpy as sc\n",
    "import numpy as np\n",
    "import scipy\n",
    "import sys\n",
    "sys.path.append(\"../../CellPie/\") # go to parent dir\n",
    "import cellpie_main as cp\n",
    "from cellpie_main import intNMF\n",
    "from matplotlib import pyplot as plt\n",
    "import scipy.io\n",
    "import pandas as pd\n",
    "from sklearn.cluster import KMeans\n",
    "import seaborn as sns"
   ]
  },
  {
   "cell_type": "code",
   "execution_count": null,
   "id": "f27cb1da",
   "metadata": {},
   "outputs": [],
   "source": [
    "import spatialdata as sd\n",
    "from spatialdata_io import visium_hd"
   ]
  },
  {
   "cell_type": "code",
   "execution_count": null,
   "id": "03ab9e29",
   "metadata": {
    "ExecuteTime": {
     "end_time": "2023-07-20T14:30:56.174729Z",
     "start_time": "2023-07-20T14:30:56.169872Z"
    }
   },
   "outputs": [],
   "source": [
    "sc.set_figure_params(scanpy=True, dpi=250, dpi_save=200)"
   ]
  },
  {
   "cell_type": "code",
   "execution_count": null,
   "id": "8fce8b3b-6f22-49c6-8045-06d79a50043a",
   "metadata": {},
   "outputs": [],
   "source": [
    "random_state=80"
   ]
  },
  {
   "cell_type": "markdown",
   "id": "e26b51ad",
   "metadata": {},
   "source": [
    "# CellPie"
   ]
  },
  {
   "cell_type": "markdown",
   "id": "dc213366-4406-45cb-a5c3-d10718dab254",
   "metadata": {},
   "source": [
    "Download Visium HD CRC P1 data - https://www.10xgenomics.com/products/visium-hd-spatial-gene-expression/dataset-human-crc"
   ]
  },
  {
   "cell_type": "code",
   "execution_count": null,
   "id": "00a8b6ad-a58e-4db6-966d-b12432502d85",
   "metadata": {},
   "outputs": [],
   "source": [
    "%%sh\n",
    "mkdir -p visium_hd_crc_p1\n",
    "pushd visium_hd_crc_p1/\n",
    "wget https://cf.10xgenomics.com/samples/spatial-exp/3.0.0/Visium_HD_Human_Colon_Cancer_P1/Visium_HD_Human_Colon_Cancer_P1_binned_outputs.tar.gz\n",
    "wget https://cf.10xgenomics.com/samples/spatial-exp/3.0.0/Visium_HD_Human_Colon_Cancer_P1/Visium_HD_Human_Colon_Cancer_P1_spatial.tar.gz\n",
    "wget https://cf.10xgenomics.com/samples/spatial-exp/3.0.0/Visium_HD_Human_Colon_Cancer_P1/Visium_HD_Human_Colon_Cancer_P1_molecule_info.h5\n",
    "wget https://cf.10xgenomics.com/samples/spatial-exp/3.0.0/Visium_HD_Human_Colon_Cancer_P1/Visium_HD_Human_Colon_Cancer_P1_feature_slice.h5\n",
    "tar -xzf Visium_HD_Human_Colon_Cancer_P1_binned_output.tar.gz\n",
    "tar -xzf Visium_HD_Human_Colon_Cancer_P1_spatial.tar.gz\n",
    "rm Visium_HD_Human_Colon_Cancer_P1_binned_output.tar.gz\n",
    "rm Visium_HD_Human_Colon_Cancer_P1_spatial.tar.gz\n",
    "popd"
   ]
  },
  {
   "cell_type": "code",
   "execution_count": null,
   "id": "c5af3576-e9b7-4bfd-98ab-063b638ef9f4",
   "metadata": {},
   "outputs": [],
   "source": []
  },
  {
   "cell_type": "code",
   "execution_count": null,
   "id": "d1089964-d4c8-4ef3-ac81-accfc7e5bdf6",
   "metadata": {},
   "outputs": [],
   "source": [
    "import spatialdata_io\n",
    "sdata = spatialdata_io.visium_hd('visium_hd_crc_p1/')"
   ]
  },
  {
   "cell_type": "code",
   "execution_count": null,
   "id": "2880ffb9-e25e-4137-8352-2db03b0e148f",
   "metadata": {},
   "outputs": [],
   "source": [
    "from spatialdata_io.experimental import from_legacy_anndata, to_legacy_anndata\n",
    "adata = to_legacy_anndata(sdata, include_images=True,table_name='square_016um',coordinate_system='downscaled_hires')"
   ]
  },
  {
   "cell_type": "code",
   "execution_count": null,
   "id": "df0933fd-18fd-499f-9a3a-bb0a6e2e8422",
   "metadata": {},
   "outputs": [],
   "source": [
    "image_feat = pd.read_csv('visium_hd_human_colorectal_P1_features.csv',index_col=0)\n",
    "image_feat.index = adata.obs_names\n",
    "adata.obsm['features']=image_feat\n",
    "adata.obsm['features'] = adata.obsm['features'].loc[:, (adata.obsm['features'] != 0).any(axis=0)]"
   ]
  },
  {
   "cell_type": "code",
   "execution_count": null,
   "id": "de09276e-3eb8-42df-96aa-4ea6edab7154",
   "metadata": {},
   "outputs": [],
   "source": [
    "adata.obsm['features']=np.log1p(adata.obsm['features'])"
   ]
  },
  {
   "cell_type": "code",
   "execution_count": null,
   "id": "0736e117-e77a-4165-94c1-cace7f95b2ed",
   "metadata": {},
   "outputs": [],
   "source": [
    "# from cp_utils import model_selection\n",
    "# k = np.arange(1,251)\n",
    "# mod_sel = model_selection(adata,k,random_state=random_state,reps=1)"
   ]
  },
  {
   "cell_type": "code",
   "execution_count": null,
   "id": "ba7cc4b9",
   "metadata": {},
   "outputs": [],
   "source": [
    "k=80"
   ]
  },
  {
   "cell_type": "code",
   "execution_count": null,
   "id": "74a6587b",
   "metadata": {
    "ExecuteTime": {
     "end_time": "2023-07-20T15:17:45.469192Z",
     "start_time": "2023-07-20T15:15:55.839883Z"
    }
   },
   "outputs": [],
   "source": [
    "%%time\n",
    "nmf_model = intNMF(adata,k,epochs = 50, init = 'nndsvd',random_state=random_state,mod1_skew=1.5)\n",
    "nmf_model.fit(adata)"
   ]
  },
  {
   "cell_type": "code",
   "execution_count": null,
   "id": "46685717-2b9c-44f8-afd6-99b11e757d3f",
   "metadata": {},
   "outputs": [],
   "source": [
    "# weight=1\n",
    "from re import sub\n",
    "import matplotlib as mpl\n",
    "# sel_clust = ['Factor_'+str(i+1) for i in range(k)]\n",
    "sel_clust = ['Factor_18','REG1A','Factor_9','TGFBI']\n",
    "with mpl.rc_context({'figure.figsize': (10, 8), 'axes.facecolor': 'black'}):\n",
    "    sc.pl.spatial(adata,\n",
    "                cmap='magma',\n",
    "                color=sel_clust,\n",
    "                library_id = 'Visium_HD_Human_Colon_Cancer_P1_hires_image',\n",
    "                ncols=2,\n",
    "                size=3, img_key='hires', \n",
    "                alpha_img=0.2\n",
    "                 )"
   ]
  },
  {
   "cell_type": "code",
   "execution_count": null,
   "id": "0d28fb86-5ef3-4fbd-aa1e-8f955ecb72a0",
   "metadata": {},
   "outputs": [],
   "source": [
    "# weight=0.8\n",
    "from re import sub\n",
    "import matplotlib as mpl\n",
    "sel_clust = ['Factor_'+str(i+1) for i in range(k)]\n",
    "with mpl.rc_context({'figure.figsize': (5, 6), 'axes.facecolor': 'black'}):\n",
    "    sc.pl.spatial(adata,\n",
    "                cmap='magma',\n",
    "                color=sel_clust,\n",
    "                library_id = 'Visium_HD_Human_Colon_Cancer_P1_hires_image',\n",
    "                ncols=7,\n",
    "                size=5, img_key='hires', \n",
    "                alpha_img=0.2\n",
    "                 )"
   ]
  },
  {
   "cell_type": "code",
   "execution_count": null,
   "id": "402835ca-7f72-4112-99e6-2f4fda8bb8df",
   "metadata": {},
   "outputs": [],
   "source": [
    "adata.var_names_make_unique()\n",
    "reg = sc.get.obs_df(adata,keys='REG1A')\n",
    "tgf = sc.get.obs_df(adata,keys='TGFBI')"
   ]
  },
  {
   "cell_type": "code",
   "execution_count": null,
   "id": "f013dd06-9a59-437a-a8bf-67eba54922ee",
   "metadata": {},
   "outputs": [],
   "source": [
    "time_16 = [3.58,39.33,63]\n",
    "# time_008 = [5.4]\n",
    "# cellpie, nmf,nsf with 3000 inducing points"
   ]
  },
  {
   "cell_type": "code",
   "execution_count": null,
   "id": "5bc90db1-effd-4009-88e5-40519d8c1f05",
   "metadata": {},
   "outputs": [],
   "source": [
    "sns.barplot(time_16,orient='h',width=0.4)"
   ]
  },
  {
   "cell_type": "code",
   "execution_count": null,
   "id": "e953d031-484a-4250-b666-96866c933cc9",
   "metadata": {},
   "outputs": [],
   "source": [
    "factors=adata.obs.iloc[:,5:(5+k)]\n",
    "mi_scores_reg_15 = np.zeros((1,k))\n",
    "for i in range(1):\n",
    "    for j in range(k):\n",
    "        mi_scores_reg_15[i,j] = np.corrcoef(reg,factors.iloc[:, j])[1][0]\n",
    "        \n",
    "mi_scores_tgf_15 = np.zeros((1,k))\n",
    "for i in range(1):\n",
    "    for j in range(k):\n",
    "        mi_scores_tgf_15[i,j] = np.corrcoef(tgf,factors.iloc[:, j])[1][0]"
   ]
  },
  {
   "cell_type": "code",
   "execution_count": null,
   "id": "e50e2179-be29-4dcf-8ae8-b7c0c88528a6",
   "metadata": {},
   "outputs": [],
   "source": [
    "plt.figure(figsize=(30,1))\n",
    "plt.rcParams[\"axes.grid\"] = False\n",
    "sns.heatmap(mi_scores_reg_15, annot=True, cmap='viridis',\n",
    "            xticklabels=factors.columns,annot_kws={\"fontsize\":10})\n",
    "sns.set(font_scale=2)\n",
    "plt.title('Pearson Correlation Between REG1As and CellPie Factors')\n",
    "plt.xlabel('Factors')\n",
    "plt.ylabel('REG1A')\n",
    "plt.show()"
   ]
  },
  {
   "cell_type": "code",
   "execution_count": null,
   "id": "e8c797f4-5b43-47b0-aa98-f08685cd91ee",
   "metadata": {},
   "outputs": [],
   "source": [
    "plt.figure(figsize=(30, 1))\n",
    "plt.rcParams[\"axes.grid\"] = False\n",
    "sns.heatmap(mi_scores_tgf_15, annot=True, cmap='viridis',\n",
    "            xticklabels=factors.columns,annot_kws={\"fontsize\":10})\n",
    "sns.set(font_scale=2)\n",
    "plt.title('Pearson Correlation Between TGFBI and CellPie Factors')\n",
    "plt.xlabel('Factors')\n",
    "plt.ylabel('TGFBI')\n",
    "plt.show()"
   ]
  },
  {
   "cell_type": "code",
   "execution_count": null,
   "id": "55f2781e-6dc2-4186-8ec5-4b61d4c1f43b",
   "metadata": {},
   "outputs": [],
   "source": [
    "mi_scores_reg_15 = np.corrcoef(reg,adata.obs['Factor_18'])[1][0]\n",
    "mi_scores_tgf_15 = np.corrcoef(tgf,adata.obs['Factor_9'])[1][0]"
   ]
  },
  {
   "cell_type": "code",
   "execution_count": null,
   "id": "607cb3a6-a6bb-47d0-b2eb-668556191c86",
   "metadata": {},
   "outputs": [],
   "source": [
    "%%time\n",
    "nmf_model = intNMF(adata,k,epochs = 50, init = 'nndsvd',random_state=random_state,mod1_skew=1)\n",
    "nmf_model.fit(adata)"
   ]
  },
  {
   "cell_type": "code",
   "execution_count": null,
   "id": "01c697e7-f21d-4133-aa6a-7aa51384d0c5",
   "metadata": {},
   "outputs": [],
   "source": [
    "mi_scores_reg_1 = np.corrcoef(reg,adata.obs['Factor_18'])[1][0]\n",
    "mi_scores_tgf_1 = np.corrcoef(tgf,adata.obs['Factor_9'])[1][0]"
   ]
  },
  {
   "cell_type": "code",
   "execution_count": null,
   "id": "ebfa120b-1320-4270-a86f-7b5e05b5c614",
   "metadata": {},
   "outputs": [],
   "source": [
    "%%time\n",
    "nmf_model = intNMF(adata,k,epochs = 50, init = 'nndsvd',random_state=random_state,mod1_skew=0.8)\n",
    "nmf_model.fit(adata)"
   ]
  },
  {
   "cell_type": "code",
   "execution_count": null,
   "id": "3eb42507-5f1a-4c81-810a-801ab34320fb",
   "metadata": {},
   "outputs": [],
   "source": [
    "mi_scores_reg_08 = np.corrcoef(reg,adata.obs['Factor_18'])[1][0]\n",
    "mi_scores_tgf_08 = np.corrcoef(tgf,adata.obs['Factor_9'])[1][0]"
   ]
  },
  {
   "cell_type": "code",
   "execution_count": null,
   "id": "a0f7e658-60dc-4051-9075-6535d6d945f7",
   "metadata": {},
   "outputs": [],
   "source": [
    "%%time\n",
    "nmf_model = intNMF(adata,k,epochs = 50, init = 'nndsvd',random_state=random_state,mod1_skew=1.8)\n",
    "nmf_model.fit(adata)"
   ]
  },
  {
   "cell_type": "code",
   "execution_count": null,
   "id": "31306e16-71f2-42bf-b0eb-3cdc6da6cf53",
   "metadata": {},
   "outputs": [],
   "source": [
    "mi_scores_reg_18 = np.corrcoef(reg,adata.obs['Factor_18'])[1][0]\n",
    "mi_scores_tgf_18 = np.corrcoef(tgf,adata.obs['Factor_9'])[1][0]"
   ]
  },
  {
   "cell_type": "code",
   "execution_count": null,
   "id": "694e473a-a447-420a-b1b4-1678cc3d02f9",
   "metadata": {},
   "outputs": [],
   "source": [
    "%%time\n",
    "nmf_model = intNMF(adata,k,epochs = 50, init = 'nndsvd',random_state=random_state,mod1_skew=2.0)\n",
    "nmf_model.fit(adata)"
   ]
  },
  {
   "cell_type": "code",
   "execution_count": null,
   "id": "c9b1e317-c984-4a43-bb92-ceccf503b4dd",
   "metadata": {},
   "outputs": [],
   "source": [
    "mi_scores_reg_2 = np.corrcoef(reg,adata.obs['Factor_18'])[1][0]\n",
    "mi_scores_tgf_2 = np.corrcoef(tgf,adata.obs['Factor_9'])[1][0]"
   ]
  },
  {
   "cell_type": "code",
   "execution_count": null,
   "id": "b22555b4-fbfc-4cc4-84c1-f1943db02210",
   "metadata": {},
   "outputs": [],
   "source": [
    "scores_reg = [mi_scores_reg_08,mi_scores_reg_1,mi_scores_reg_15,mi_scores_reg_15,mi_scores_reg_2]\n",
    "scores_tgf = [mi_scores_tgf_08,mi_scores_tgf_1,mi_scores_tgf_15,mi_scores_tgf_15,mi_scores_tgf_2]"
   ]
  },
  {
   "cell_type": "code",
   "execution_count": null,
   "id": "9fa9dbe4-6207-4a86-a595-2bc3090c5da7",
   "metadata": {},
   "outputs": [],
   "source": [
    "scores_reg = np.array(scores_reg).reshape(1, -1)\n",
    "scores_tgf = np.array(scores_tgf).reshape(1, -1)"
   ]
  },
  {
   "cell_type": "code",
   "execution_count": null,
   "id": "0e73d4fd-a55f-487c-8e5c-ff3877933e80",
   "metadata": {},
   "outputs": [],
   "source": [
    "plt.figure(figsize=(30, 5))\n",
    "plt.rcParams[\"axes.grid\"] = False\n",
    "sns.heatmap(scores_reg, annot=True, cmap='viridis', annot_kws={\"fontsize\":50})\n",
    "sns.set(font_scale=4)\n",
    "plt.title('Pearson Correlation Between REG1As and CellPie Factors')\n",
    "plt.xlabel('Factors')\n",
    "plt.ylabel('REG1A')\n",
    "plt.show()"
   ]
  },
  {
   "cell_type": "code",
   "execution_count": null,
   "id": "7dcbaba8-c001-400c-99d9-19ef5daa6460",
   "metadata": {},
   "outputs": [],
   "source": [
    "plt.figure(figsize=(30, 5))\n",
    "plt.rcParams[\"axes.grid\"] = False\n",
    "sns.heatmap(scores_tgf, annot=True, cmap='viridis',\n",
    " annot_kws={\"fontsize\":50})\n",
    "sns.set(font_scale=4)\n",
    "plt.title('Pearson Correlation Between TGFBI and CellPie Factors')\n",
    "plt.xlabel('Factors')\n",
    "plt.ylabel('TGFBI')\n",
    "plt.show()"
   ]
  },
  {
   "cell_type": "code",
   "execution_count": null,
   "id": "b105126b",
   "metadata": {},
   "outputs": [],
   "source": [
    "import gseapy as gp"
   ]
  },
  {
   "cell_type": "code",
   "execution_count": null,
   "id": "bbd62182",
   "metadata": {},
   "outputs": [],
   "source": [
    "def gene_er(topic):\n",
    "    enr = gp.enrichr(gene_list=topic, # or \"./tests/data/gene_list.txt\",\n",
    "                gene_sets=['MSigDB_Hallmark_2020'],\n",
    "                organism='human', # don't forget to set organism to the one you desired! e.g. Yeast\n",
    "                outdir=None, # don't write to disk\n",
    "                )\n",
    "    return enr"
   ]
  },
  {
   "cell_type": "code",
   "execution_count": null,
   "id": "30b81d3a",
   "metadata": {},
   "outputs": [],
   "source": [
    "l=cp.get_genes_topic(adata,nmf_model.phi_expr)"
   ]
  },
  {
   "cell_type": "code",
   "execution_count": null,
   "id": "7e22fbfd",
   "metadata": {},
   "outputs": [],
   "source": [
    "enr9 = gene_er(l.T[8].sort_values(ascending=False).index[0:100].to_list())\n",
    "enr18 = gene_er(l.T[17].sort_values(ascending=False).index[0:100].to_list())"
   ]
  },
  {
   "cell_type": "code",
   "execution_count": null,
   "id": "901b7df4",
   "metadata": {},
   "outputs": [],
   "source": [
    "gp.barplot(enr9.res2d,title='GO_Biological_Process_2023')"
   ]
  },
  {
   "cell_type": "code",
   "execution_count": null,
   "id": "1291672a",
   "metadata": {},
   "outputs": [],
   "source": [
    "gp.barplot(enr18.res2d,title='GO_Biological_Process_2023')"
   ]
  },
  {
   "cell_type": "code",
   "execution_count": null,
   "id": "c9c160cb-e7c0-4652-b1da-b96712807728",
   "metadata": {},
   "outputs": [],
   "source": [
    "%%time\n",
    "from sklearn.decomposition import NMF\n",
    "model = NMF(n_components=k, init='nndsvd', random_state=random_state)\n",
    "W = model.fit_transform(adata.X.A)\n",
    "H = model.components_"
   ]
  },
  {
   "cell_type": "code",
   "execution_count": null,
   "id": "91d78a01-68a4-4613-b1b2-f3fd6c1f82a9",
   "metadata": {},
   "outputs": [],
   "source": []
  }
 ],
 "metadata": {
  "kernelspec": {
   "display_name": "Python 3 (ipykernel)",
   "language": "python",
   "name": "python3"
  },
  "language_info": {
   "codemirror_mode": {
    "name": "ipython",
    "version": 3
   },
   "file_extension": ".py",
   "mimetype": "text/x-python",
   "name": "python",
   "nbconvert_exporter": "python",
   "pygments_lexer": "ipython3",
   "version": "3.10.0"
  }
 },
 "nbformat": 4,
 "nbformat_minor": 5
}
