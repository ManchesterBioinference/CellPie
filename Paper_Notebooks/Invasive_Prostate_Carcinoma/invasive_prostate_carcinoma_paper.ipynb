{
 "cells": [
  {
   "cell_type": "markdown",
   "id": "513e4bc1-4d64-4823-bb41-0f7109284d67",
   "metadata": {},
   "source": [
    "Load required libraries. int_nmf_model must be in the same directory. If it is not it can be added to pythons path"
   ]
  },
  {
   "cell_type": "code",
   "execution_count": null,
   "id": "95ff68b8-bd25-4c74-ac54-059372017ae1",
   "metadata": {
    "ExecuteTime": {
     "end_time": "2023-07-20T14:30:56.012795Z",
     "start_time": "2023-07-20T14:30:56.005865Z"
    },
    "tags": []
   },
   "outputs": [],
   "source": [
    "import anndata as ad\n",
    "import scanpy as sc\n",
    "import numpy as np\n",
    "import scipy\n",
    "import sys\n",
    "sys.path.append(\"../../../CellPie/\") # go to parent dir\n",
    "import cellpie_main as cp\n",
    "from cellpie_main import intNMF\n",
    "import anndata as ad\n",
    "from matplotlib import pyplot as plt\n",
    "import pandas as pd\n",
    "import squidpy as sq\n",
    "from sklearn.cluster import KMeans\n",
    "import seaborn as sns"
   ]
  },
  {
   "cell_type": "code",
   "execution_count": null,
   "id": "03ab9e29",
   "metadata": {
    "ExecuteTime": {
     "end_time": "2023-07-20T14:30:56.174729Z",
     "start_time": "2023-07-20T14:30:56.169872Z"
    }
   },
   "outputs": [],
   "source": [
    "sc.set_figure_params(scanpy=True, dpi=250, dpi_save=100)"
   ]
  },
  {
   "cell_type": "code",
   "execution_count": null,
   "id": "26086e7b-a6c4-4c81-9725-55d0250a2bea",
   "metadata": {},
   "outputs": [],
   "source": [
    "random_state=80"
   ]
  },
  {
   "cell_type": "markdown",
   "id": "e26b51ad",
   "metadata": {},
   "source": [
    "# CellPie"
   ]
  },
  {
   "cell_type": "code",
   "execution_count": null,
   "id": "e4eb0634",
   "metadata": {
    "ExecuteTime": {
     "end_time": "2023-07-20T14:30:56.459639Z",
     "start_time": "2023-07-20T14:30:56.437173Z"
    }
   },
   "outputs": [],
   "source": [
    "histo_2 = pd.read_csv('Histology_Visium_FFPE_Human_Prostate_Cancer_cloupe.csv').dropna()\n",
    "histo_2.index = histo_2['Barcode']"
   ]
  },
  {
   "cell_type": "code",
   "execution_count": null,
   "id": "8f868c00-04f0-43f5-afca-afdffd807e4f",
   "metadata": {},
   "outputs": [],
   "source": [
    "%%sh\n",
    "mkdir -p invasive_prostate_visium\n",
    "pushd invasive_prostate_visium/\n",
    "wget https://cf.10xgenomics.com/samples/spatial-exp/1.3.0/Visium_FFPE_Human_Prostate_Cancer/Visium_FFPE_Human_Prostate_Cancer_image.tif\n",
    "wget https://cf.10xgenomics.com/samples/spatial-exp/1.3.0/Visium_FFPE_Human_Prostate_Cancer/Visium_FFPE_Human_Prostate_Cancer_filtered_feature_bc_matrix.h5\n",
    "wget https://cf.10xgenomics.com/samples/spatial-exp/1.3.0/Visium_FFPE_Human_Prostate_Cancer/Visium_FFPE_Human_Prostate_Cancer_spatial.tar.gz\n",
    "tar -xzf Visium_FFPE_Human_Prostate_Cancer_spatial.tar.gz\n",
    "rm Visium_FFPE_Human_Prostate_Cancer_spatial.tar.gz\n",
    "popd"
   ]
  },
  {
   "cell_type": "code",
   "execution_count": null,
   "id": "97ce6d30",
   "metadata": {
    "ExecuteTime": {
     "end_time": "2023-07-20T14:30:59.823257Z",
     "start_time": "2023-07-20T14:30:56.609415Z"
    }
   },
   "outputs": [],
   "source": [
    "# read ST data\n",
    "adata = sc.read_visium(path = 'invasive_prostate_visium/', \n",
    "                       count_file='Visium_FFPE_Human_Prostate_Cancer_filtered_feature_bc_matrix.h5',                   \n",
    "                       load_images=True)\n",
    "adata.var_names_make_unique()\n",
    "adata.var['SYMBOL'] = adata.var_names"
   ]
  },
  {
   "cell_type": "code",
   "execution_count": null,
   "id": "c9c55e09",
   "metadata": {
    "ExecuteTime": {
     "end_time": "2023-07-20T14:31:08.641930Z",
     "start_time": "2023-07-20T14:31:08.620718Z"
    }
   },
   "outputs": [],
   "source": [
    "adata = adata[adata.obs_names.isin(histo_2['Barcode']),:]"
   ]
  },
  {
   "cell_type": "code",
   "execution_count": null,
   "id": "711f9035-cccb-44e6-966c-6adf55413c0a",
   "metadata": {},
   "outputs": [],
   "source": [
    "from feature_extr import extract_features\n",
    "scale_range = np.arange(0.1,3,0.1)\n",
    "features = extract_features(adata,img_path='invasive_prostate_visium/Visium_FFPE_Human_Prostate_Cancer_image.tif',\n",
    "                           scale=1,spot_scale=scale_range)"
   ]
  },
  {
   "cell_type": "code",
   "execution_count": null,
   "id": "1c0dd911-601a-4ae7-b8e7-e6bd838fa214",
   "metadata": {},
   "outputs": [],
   "source": [
    "from cp_utils import preprocess_data\n",
    "preprocess_data(adata,min_cells=100)"
   ]
  },
  {
   "cell_type": "code",
   "execution_count": null,
   "id": "ad139a66-da79-45aa-840b-7cb7d9a25791",
   "metadata": {},
   "outputs": [],
   "source": [
    "adata.obs['Histology']=histo_2['Histology']"
   ]
  },
  {
   "cell_type": "code",
   "execution_count": null,
   "id": "a9a7d199-17dc-4d87-aa86-57fc88b5a9db",
   "metadata": {},
   "outputs": [],
   "source": [
    "from cp_utils import model_selection\n",
    "k = np.arange(1,30)\n",
    "mod_sel = model_selection(adata,k,random_state=random_state)"
   ]
  },
  {
   "cell_type": "code",
   "execution_count": null,
   "id": "edaeaada",
   "metadata": {},
   "outputs": [],
   "source": [
    "from sklearn import metrics\n",
    "res = []\n",
    "for i in np.arange(0, 2.01,0.1):\n",
    "    nmf_model = intNMF(adata,14,epochs = 50, init = 'nndsvd',random_state=random_state,mod1_skew=i)\n",
    "    nmf_model.fit(adata)\n",
    "    \n",
    "    adata.obsm['nmf_cellpie'] = nmf_model.theta\n",
    "    sc.pp.neighbors(adata,n_neighbors=90,random_state=random_state,use_rep='nmf_cellpie',key_added='nmf_cellpie')\n",
    "    sc.tl.leiden(adata,resolution=0.35,random_state=random_state,neighbors_key='nmf_cellpie',key_added = 'CellPie')\n",
    "    # kmeans_cellpie = KMeans(n_clusters=6, init='k-means++',max_iter=500,random_state=random_state).fit(nmf_model.theta[:,:])\n",
    "    # adata.obs['CellPie']=kmeans_cellpie.labels_.astype(str)\n",
    "    \n",
    "    mut_info=metrics.fowlkes_mallows_score(adata.obs['CellPie'],adata.obs['Histology'])\n",
    "    adj_rand=metrics.adjusted_rand_score(adata.obs['CellPie'],adata.obs['Histology'])\n",
    "    adj_mut_info=metrics.adjusted_mutual_info_score(adata.obs['CellPie'],adata.obs['Histology'])\n",
    "    res.append((i,mut_info,adj_rand,adj_mut_info)) "
   ]
  },
  {
   "cell_type": "code",
   "execution_count": null,
   "id": "21f03883",
   "metadata": {
    "scrolled": true
   },
   "outputs": [],
   "source": [
    "score = pd.DataFrame(res)   \n",
    "plt.plot(score[0],score[1],color=\"green\",label='Fowlkes Mallows Score')\n",
    "plt.plot(score[0],score[2],color=\"red\",label='Adjusted Rand Index Score')\n",
    "plt.plot(score[0],score[3],color=\"blue\",label='Adjusted Mutual Info Score')\n",
    "plt.xlabel(\"Modality Weight\")\n",
    "plt.ylabel(\"Score\")\n",
    "plt.legend(prop={'size': 9})"
   ]
  },
  {
   "cell_type": "code",
   "execution_count": null,
   "id": "0cb545f7-8e0f-479a-b154-46cbe3998ceb",
   "metadata": {},
   "outputs": [],
   "source": [
    "score[2].idxmax()"
   ]
  },
  {
   "cell_type": "code",
   "execution_count": null,
   "id": "8d4afb4a-7505-4113-ab0d-1f3417e823df",
   "metadata": {},
   "outputs": [],
   "source": [
    "k = 14"
   ]
  },
  {
   "cell_type": "code",
   "execution_count": null,
   "id": "a5a7ef02-196b-4938-97f1-9878d8752908",
   "metadata": {},
   "outputs": [],
   "source": [
    "nmf_model_0 = intNMF(adata,k,epochs = 50,init = 'nndsvd',random_state=random_state,mod1_skew=2.0)\n",
    "nmf_model_0.fit(adata)"
   ]
  },
  {
   "cell_type": "code",
   "execution_count": null,
   "id": "1b7e233e-e26a-44c3-8f86-d217ab9acb24",
   "metadata": {},
   "outputs": [],
   "source": []
  },
  {
   "cell_type": "code",
   "execution_count": null,
   "id": "74a6587b",
   "metadata": {
    "ExecuteTime": {
     "end_time": "2023-07-20T15:17:45.469192Z",
     "start_time": "2023-07-20T15:15:55.839883Z"
    }
   },
   "outputs": [],
   "source": [
    "nmf_model = intNMF(adata,k,epochs = 50,init = 'nndsvd',random_state=random_state,mod1_skew=1.8)\n",
    "nmf_model.fit(adata)"
   ]
  },
  {
   "cell_type": "code",
   "execution_count": null,
   "id": "e4dd8df7-f74a-4e62-89cf-664a0e6f3ddc",
   "metadata": {},
   "outputs": [],
   "source": [
    "from re import sub\n",
    "import matplotlib as mpl\n",
    "sel_clust = ['Factor_'+str(i+1) for i in range(k)]\n",
    "with mpl.rc_context({'figure.figsize': (5, 6), 'axes.facecolor': 'black'}):\n",
    "    sc.pl.spatial(adata,\n",
    "                cmap='magma',\n",
    "                color=sel_clust,\n",
    "                ncols=3,\n",
    "                size=1, img_key='hires', \n",
    "                alpha_img=0,\n",
    "                 )"
   ]
  },
  {
   "cell_type": "code",
   "execution_count": null,
   "id": "4a09e62f-d0d9-46dc-b5fa-4aab65674917",
   "metadata": {},
   "outputs": [],
   "source": [
    "# adata.obsm['nmf_cellpie'] = nmf_model.theta\n",
    "# sc.pp.neighbors(adata,n_neighbors=90,random_state=random_state,use_rep='nmf_cellpie',key_added='nmf_cellpie')\n",
    "# sc.tl.leiden(adata,resolution=0.35,random_state=random_state,neighbors_key='nmf_cellpie',key_added = 'CellPie')"
   ]
  },
  {
   "cell_type": "code",
   "execution_count": null,
   "id": "99a139cd-3f4d-4e4e-8600-8acbe133f0b7",
   "metadata": {},
   "outputs": [],
   "source": [
    "# from sklearn import metrics\n",
    "# adj_rand=metrics.adjusted_rand_score(adata.obs['CellPie'],adata.obs['Histology'])\n",
    "# adj_rand"
   ]
  },
  {
   "cell_type": "code",
   "execution_count": null,
   "id": "0cee38cf-1135-44b6-ab85-d206fc3b4790",
   "metadata": {},
   "outputs": [],
   "source": [
    "mefisto = pd.read_csv('Benchmark/factors_mefisto_prostate_poi_14.csv',index_col=0)\n",
    "\n",
    "nsf = pd.read_csv('Benchmark/factors_nsf_prostate_poi_14.csv',index_col=0)\n",
    "\n",
    "nsfh_s = pd.read_csv('Benchmark/spatialfactors_nsfh_prostate_poi_14.csv',index_col=0)\n",
    "\n",
    "nsfh_ns = pd.read_csv('Benchmark/nonspatialfactors_nsfh_prostate_poi_14.csv',index_col=0)\n",
    "\n",
    "pnmf = pd.read_csv('Benchmark/factors_pnmf_prostate_poi_14.csv',index_col=0)\n"
   ]
  },
  {
   "cell_type": "code",
   "execution_count": null,
   "id": "5c1124fe-ca6e-453e-a424-c990edc453bc",
   "metadata": {},
   "outputs": [],
   "source": [
    "nsfh_s = nsfh_s.rename(columns={\"0\": \"7\", \"1\": \"8\", \"2\": \"9\", \"3\":\"10\",\"4\":\"11\",\"5\":\"12\", \"6\":\"13\"})"
   ]
  },
  {
   "cell_type": "code",
   "execution_count": null,
   "id": "829afb76-f299-42fd-92c0-ec656a13a0fa",
   "metadata": {},
   "outputs": [],
   "source": [
    "nsfh = pd.concat([nsfh_ns,nsfh_s], axis=1)\n",
    "nsfh"
   ]
  },
  {
   "cell_type": "code",
   "execution_count": null,
   "id": "5dedfa48-91de-4d52-94e8-6e49c8f052d0",
   "metadata": {},
   "outputs": [],
   "source": [
    "from sklearn.decomposition import FactorAnalysis\n",
    "transformer = FactorAnalysis(n_components=k, random_state=random_state)\n",
    "X_transformed = transformer.fit_transform(adata.X.A)"
   ]
  },
  {
   "cell_type": "code",
   "execution_count": null,
   "id": "12fe0a06-d3f3-4bd6-92d0-19bbf09a9c81",
   "metadata": {},
   "outputs": [],
   "source": [
    "for i in range(k):\n",
    "    adata.obs[f\"nsfh_{i+1}\"] = nsfh.iloc[:,i]\n",
    "for i in range(k):\n",
    "    adata.obs[f\"nsf_{i+1}\"] = nsf.iloc[:,i]\n",
    "for i in range(k):\n",
    "    adata.obs[f\"mefisto_{i+1}\"] = mefisto.iloc[:,i]\n",
    "for i in range(k):\n",
    "    adata.obs[f\"FA_{i+1}\"] = X_transformed[:,i]\n",
    "for i in range(k):\n",
    "    adata.obs[f\"pnmf_{i+1}\"] = pnmf.iloc[:,i]"
   ]
  },
  {
   "cell_type": "code",
   "execution_count": null,
   "id": "c01837d2",
   "metadata": {},
   "outputs": [],
   "source": [
    "from re import sub\n",
    "import matplotlib as mpl\n",
    "sel_clust = ['mefisto_'+str(i+1) for i in range(k)]\n",
    "with mpl.rc_context({'figure.figsize': (5, 6), 'axes.facecolor': 'black'}):\n",
    "    sc.pl.spatial(adata,\n",
    "                cmap='magma',\n",
    "                color=sel_clust,\n",
    "                ncols=3,\n",
    "                size=1, img_key='hires',\n",
    "                alpha_img=0\n",
    "                 )"
   ]
  },
  {
   "cell_type": "code",
   "execution_count": null,
   "id": "7bebff03",
   "metadata": {},
   "outputs": [],
   "source": [
    "from re import sub\n",
    "import matplotlib as mpl\n",
    "sel_clust = ['nsfh_'+str(i+1) for i in range(k)]\n",
    "with mpl.rc_context({'figure.figsize': (5, 6), 'axes.facecolor': 'black'}):\n",
    "    sc.pl.spatial(adata,\n",
    "                cmap='magma',\n",
    "                color=sel_clust,\n",
    "                ncols=3,\n",
    "                size=1, img_key='hires', \n",
    "                alpha_img=0\n",
    "                 )"
   ]
  },
  {
   "cell_type": "code",
   "execution_count": null,
   "id": "6c45fa75-ea25-4e16-818d-6b829af0cc24",
   "metadata": {},
   "outputs": [],
   "source": [
    "from re import sub\n",
    "import matplotlib as mpl\n",
    "sel_clust = ['FA_'+str(i+1) for i in range(k)]\n",
    "with mpl.rc_context({'figure.figsize': (5, 6), 'axes.facecolor': 'black'}):\n",
    "    sc.pl.spatial(adata,\n",
    "                cmap='magma',\n",
    "                color=sel_clust,\n",
    "                ncols=3,\n",
    "                size=1, img_key='hires', \n",
    "                alpha_img=0\n",
    "                 )"
   ]
  },
  {
   "cell_type": "code",
   "execution_count": null,
   "id": "26ac0d8c-03c2-42c0-9fa6-7c00c47d7025",
   "metadata": {},
   "outputs": [],
   "source": [
    "from re import sub\n",
    "import matplotlib as mpl\n",
    "sel_clust = ['pnmf_'+str(i+1) for i in range(k)]\n",
    "with mpl.rc_context({'figure.figsize': (5, 6), 'axes.facecolor': 'black'}):\n",
    "    sc.pl.spatial(adata,\n",
    "                cmap='magma',\n",
    "                color=sel_clust,\n",
    "                ncols=3,\n",
    "                size=1, img_key='hires', \n",
    "                alpha_img=0\n",
    "                 )"
   ]
  },
  {
   "cell_type": "code",
   "execution_count": null,
   "id": "102905aa-6f26-48a9-8c47-30326a52afc9",
   "metadata": {},
   "outputs": [],
   "source": [
    "from re import sub\n",
    "import matplotlib as mpl\n",
    "sel_clust = ['nsf_'+str(i+1) for i in range(k)]\n",
    "with mpl.rc_context({'figure.figsize': (5, 6), 'axes.facecolor': 'black'}):\n",
    "    sc.pl.spatial(adata,\n",
    "                cmap='magma',\n",
    "                color=sel_clust,\n",
    "                ncols=3,\n",
    "                size=1, img_key='hires', \n",
    "                alpha_img=0\n",
    "                 )"
   ]
  },
  {
   "cell_type": "markdown",
   "id": "5fe43144",
   "metadata": {
    "ExecuteTime": {
     "end_time": "2023-01-19T14:16:45.044553Z",
     "start_time": "2023-01-19T14:16:45.041947Z"
    }
   },
   "source": [
    "### extract gene loading matrix"
   ]
  },
  {
   "cell_type": "code",
   "execution_count": null,
   "id": "c8e7950d",
   "metadata": {
    "ExecuteTime": {
     "end_time": "2023-04-05T12:36:09.127747Z",
     "start_time": "2023-04-05T12:36:09.110042Z"
    }
   },
   "outputs": [],
   "source": [
    "l = cp.get_genes_topic(adata,nmf_model.phi_expr)"
   ]
  },
  {
   "cell_type": "code",
   "execution_count": null,
   "id": "3b03095d",
   "metadata": {
    "ExecuteTime": {
     "end_time": "2023-04-05T11:01:44.862183Z",
     "start_time": "2023-04-05T11:01:44.621311Z"
    }
   },
   "outputs": [],
   "source": [
    "# adata.write('prostate_reproduce_14Factors_paper.h5ad')"
   ]
  },
  {
   "cell_type": "code",
   "execution_count": null,
   "id": "1e33e9e1-eeed-425a-b4fa-abd867545f01",
   "metadata": {},
   "outputs": [],
   "source": [
    "# adata_l=sc.AnnData(l)"
   ]
  },
  {
   "cell_type": "code",
   "execution_count": null,
   "id": "ab95edd0-09fe-4d82-8caa-72a1ae7161f0",
   "metadata": {},
   "outputs": [],
   "source": [
    "# adata_l.write('prostate_loadings_reproduce_14Factors_papers.h5ad')"
   ]
  },
  {
   "cell_type": "code",
   "execution_count": null,
   "id": "af52be60-6515-4f2a-ba82-465b6df90295",
   "metadata": {},
   "outputs": [],
   "source": [
    "adata.obsm['nsf'] = adata.obs.loc[:,adata.obs.columns.str.contains('nsf_')]\n",
    "sc.pp.neighbors(adata,n_neighbors=90,random_state=random_state,use_rep='nsf',key_added='nsf')\n",
    "sc.tl.leiden(adata,resolution=0.35,random_state=random_state,neighbors_key='nsf',key_added = 'nsf')\n",
    "             \n",
    "adata.obsm['nsfh'] = adata.obs.loc[:,adata.obs.columns.str.contains('nsfh_')]\n",
    "sc.pp.neighbors(adata,n_neighbors=90,random_state=random_state,use_rep='nsfh',key_added='nsfh')\n",
    "sc.tl.leiden(adata,resolution=0.35,random_state=random_state,neighbors_key='nsfh',key_added = 'nsfh')\n",
    "\n",
    "adata.obsm['mefisto'] = adata.obs.loc[:,adata.obs.columns.str.contains('mefisto_')]\n",
    "sc.pp.neighbors(adata,n_neighbors=90,random_state=random_state,use_rep='mefisto',key_added='mefisto')\n",
    "sc.tl.leiden(adata,random_state=random_state,resolution=0.33,neighbors_key='mefisto',key_added = 'mefisto')\n",
    "                   \n",
    "adata.obsm['fa'] = adata.obs.loc[:,adata.obs.columns.str.contains('FA_')]\n",
    "sc.pp.neighbors(adata,n_neighbors=90,random_state=random_state,use_rep='fa',key_added='fa')\n",
    "sc.tl.leiden(adata,random_state=random_state,neighbors_key='fa',resolution=0.38,key_added = 'fa')\n",
    "                                 \n",
    "adata.obsm['pnmf'] = adata.obs.loc[:,adata.obs.columns.str.contains('pnmf_')]\n",
    "sc.pp.neighbors(adata,n_neighbors=90,random_state=random_state,use_rep='pnmf',key_added='pnmf')\n",
    "sc.tl.leiden(adata,resolution=0.39,random_state=random_state,neighbors_key='pnmf',key_added = 'pnmf')\n",
    "\n",
    "adata.obsm['cellpie_0'] =nmf_model_0.theta\n",
    "sc.pp.neighbors(adata,n_neighbors=90,random_state=random_state,use_rep='cellpie_0',key_added='cellpie_0')\n",
    "sc.tl.leiden(adata,resolution=0.135,random_state=random_state,neighbors_key='cellpie_0',key_added = 'cellpie_0')\n",
    "\n",
    "adata.obsm['nmf_cellpie'] = nmf_model.theta\n",
    "sc.pp.neighbors(adata,n_neighbors=90,random_state=random_state,use_rep='nmf_cellpie',key_added='nmf_cellpie')\n",
    "sc.tl.leiden(adata,resolution=0.35,random_state=random_state,neighbors_key='nmf_cellpie',key_added = 'CellPie')"
   ]
  },
  {
   "cell_type": "code",
   "execution_count": null,
   "id": "ea9c0955-f722-4db2-bff5-6c2d4482a580",
   "metadata": {},
   "outputs": [],
   "source": [
    "sc.pl.spatial(adata,color=['Histology','CellPie','nsf','nsfh','mefisto','fa',\n",
    "                           'pnmf','cellpie_0'],\n",
    "              # save='invasive_prostate_new',\n",
    "              size=1.4,ncols=4)"
   ]
  },
  {
   "cell_type": "code",
   "execution_count": null,
   "id": "9b588f76-fa1e-4bbb-a415-f4ec141efa78",
   "metadata": {},
   "outputs": [],
   "source": [
    "from sklearn import metrics\n",
    "l_t = ['CellPie','nsf','nsfh','mefisto','fa','pnmf','cellpie_0']\n",
    "res = []\n",
    "for l_t in l_t:\n",
    "    mut_info=metrics.fowlkes_mallows_score(adata.obs[l_t],adata.obs['Histology'])\n",
    "    adj_rand=metrics.adjusted_rand_score(adata.obs[l_t],adata.obs['Histology'])\n",
    "    adj_mut_info=metrics.adjusted_mutual_info_score(adata.obs[l_t],adata.obs['Histology'])\n",
    "    res.append((l_t,mut_info,adj_rand,adj_mut_info))\n",
    "res_df = pd.DataFrame(res, columns = ['Method','Mutual Info','Adjusted Rand Index','Adjusted Mutual Info'])"
   ]
  },
  {
   "cell_type": "code",
   "execution_count": null,
   "id": "ab685df6-fe07-42c7-bb48-803f5c4766e0",
   "metadata": {},
   "outputs": [],
   "source": [
    "res_df"
   ]
  },
  {
   "cell_type": "code",
   "execution_count": null,
   "id": "bcff183a-441c-4347-8691-742e15a66ef3",
   "metadata": {},
   "outputs": [],
   "source": [
    "res_df"
   ]
  },
  {
   "cell_type": "code",
   "execution_count": null,
   "id": "a49d4b66-44ad-40e9-906e-c4996f243720",
   "metadata": {},
   "outputs": [],
   "source": [
    "import seaborn as sns\n",
    "plot=sns.barplot(data=res_df,x = res_df['Method'],y='Adjusted Rand Index',hue='Adjusted Rand Index',width=0.6, legend=False)\n",
    "plot.set_xticklabels(plot.get_xticklabels(), fontsize=10)\n",
    "plt.title('ARI-Leiden Clustering')\n",
    "plt.grid(False)"
   ]
  },
  {
   "cell_type": "code",
   "execution_count": null,
   "id": "949eef39-af26-44cb-b36f-d18fec367d7a",
   "metadata": {},
   "outputs": [],
   "source": [
    "import pandas as pd\n",
    "import numpy as np\n",
    "import matplotlib.pyplot as plt\n",
    "import seaborn as sns\n",
    "plt.figure(figsize=(10, 8))\n",
    "sns.heatmap(\n",
    "    pd.crosstab(\n",
    "        adata.obs['Histology'],adata.obs['CellPie'].values,\n",
    "        normalize ='columns'\n",
    "    ), \n",
    "    cmap=sns.color_palette(\"crest\", as_cmap=True),\n",
    "    annot = True\n",
    ")\n",
    "plt.grid(None)\n",
    "plt.show()"
   ]
  },
  {
   "cell_type": "code",
   "execution_count": null,
   "id": "f73e83e9-a5e9-4498-af12-126b420ddadd",
   "metadata": {},
   "outputs": [],
   "source": [
    "with mpl.rc_context({'figure.figsize': (2, 3), 'axes.facecolor': 'black'}):\n",
    "    sc.pl.spatial(adata,color=['EPCAM','MSMB'],size=1.4,alpha_img=0,cmap='magma')"
   ]
  },
  {
   "cell_type": "code",
   "execution_count": null,
   "id": "49851217",
   "metadata": {
    "scrolled": true
   },
   "outputs": [],
   "source": [
    "import matplotlib as mpl\n",
    "marker_genes_0 = l.T[7].sort_values(ascending=False).index[0:10].to_list()\n",
    "for g in marker_genes_0:\n",
    "    with mpl.rc_context({'figure.figsize': (2, 3), 'axes.facecolor': 'black'}):\n",
    "        sc.pl.spatial(adata,color=[f'{g}'],size=1.4,alpha_img=0,cmap='magma')"
   ]
  },
  {
   "cell_type": "code",
   "execution_count": null,
   "id": "06703779-5ddd-40ca-9404-56491d4fd81b",
   "metadata": {
    "scrolled": true
   },
   "outputs": [],
   "source": [
    "import matplotlib as mpl\n",
    "marker_genes_1 = l.T[0].sort_values(ascending=False).index[0:30].to_list()\n",
    "for g in marker_genes_1:\n",
    "    with mpl.rc_context({'figure.figsize': (2, 3), 'axes.facecolor': 'black'}):\n",
    "        sc.pl.spatial(adata,color=[f'{g}'],size=1.4,alpha_img=0,cmap='magma')"
   ]
  },
  {
   "cell_type": "code",
   "execution_count": null,
   "id": "6bb7854f",
   "metadata": {},
   "outputs": [],
   "source": [
    "import gseapy as gp\n",
    "def gene_er(topic):\n",
    "    enr = gp.enrichr(gene_list=topic,\n",
    "                gene_sets=['GO_Biological_Process_2023'],cutoff = 0.6,\n",
    "                organism='human', \n",
    "                outdir=None,\n",
    "                )\n",
    "    return enr"
   ]
  },
  {
   "cell_type": "code",
   "execution_count": null,
   "id": "ca941ccb-dfa6-4afd-b719-f2212475b112",
   "metadata": {},
   "outputs": [],
   "source": [
    "l=cp.get_genes_topic(adata,nmf_model.phi_expr)\n",
    "enr0 = gene_er(l.T[0].sort_values(ascending=False).index[0:150].to_list())\n",
    "enr1 = gene_er(l.T[1].sort_values(ascending=False).index[0:150].to_list())\n",
    "enr2 = gene_er(l.T[2].sort_values(ascending=False).index[0:150].to_list())\n",
    "enr3 = gene_er(l.T[3].sort_values(ascending=False).index[0:150].to_list())\n",
    "enr4 = gene_er(l.T[4].sort_values(ascending=False).index[0:150].to_list())\n",
    "enr5 = gene_er(l.T[5].sort_values(ascending=False).index[0:150].to_list())\n",
    "enr6 = gene_er(l.T[6].sort_values(ascending=False).index[0:150].to_list())\n",
    "enr7 = gene_er(l.T[7].sort_values(ascending=False).index[0:150].to_list())\n",
    "enr8= gene_er(l.T[8].sort_values(ascending=False).index[0:150].to_list())\n",
    "enr9 = gene_er(l.T[9].sort_values(ascending=False).index[0:150].to_list())\n",
    "enr10 = gene_er(l.T[10].sort_values(ascending=False).index[0:150].to_list())\n",
    "enr11 = gene_er(l.T[11].sort_values(ascending=False).index[0:150].to_list())\n",
    "enr12 = gene_er(l.T[12].sort_values(ascending=False).index[0:150].to_list())\n",
    "enr13 = gene_er(l.T[13].sort_values(ascending=False).index[0:150].to_list())"
   ]
  },
  {
   "cell_type": "code",
   "execution_count": null,
   "id": "87b791a2-0e86-4256-a8a4-3042b9407570",
   "metadata": {},
   "outputs": [],
   "source": [
    "gp.barplot(enr0.res2d,title='GO_Biological_Process_2023 Factor 1',color=['darkred'])\n",
    "plt.grid(None)"
   ]
  },
  {
   "cell_type": "code",
   "execution_count": null,
   "id": "3085e40a-a8ba-4d53-bf24-29fa28d02a51",
   "metadata": {},
   "outputs": [],
   "source": [
    "gp.barplot(enr1.res2d,title='GO_Biological_Process_2023 Factor 2',color=['darkred'])\n",
    "plt.grid(None)"
   ]
  },
  {
   "cell_type": "code",
   "execution_count": null,
   "id": "bc23a0bd-ffe1-4f09-9d70-a1989cedd2b1",
   "metadata": {},
   "outputs": [],
   "source": [
    "gp.barplot(enr2.res2d,title='GO_Biological_Process_2023 Factor 3',color=['darkred'])\n",
    "plt.grid(None)"
   ]
  },
  {
   "cell_type": "code",
   "execution_count": null,
   "id": "a0c170cc-cef3-4ecf-8336-3b24f8e7080e",
   "metadata": {
    "scrolled": true
   },
   "outputs": [],
   "source": [
    "gp.barplot(enr3.res2d,title='GO_Biological_Process_2023 Factor 4',color=['darkred'])\n",
    "plt.grid(None)"
   ]
  },
  {
   "cell_type": "code",
   "execution_count": null,
   "id": "d7587357",
   "metadata": {},
   "outputs": [],
   "source": [
    "gp.barplot(enr4.res2d,title='GO_Biological_Process_2023 Factor 5',color=['darkred'])\n",
    "plt.grid(None)"
   ]
  },
  {
   "cell_type": "code",
   "execution_count": null,
   "id": "6da82bc5",
   "metadata": {},
   "outputs": [],
   "source": [
    "gp.barplot(enr5.res2d,title='GO_Biological_Process_2023 Factor 6',color=['darkred'])\n",
    "plt.grid(None)"
   ]
  },
  {
   "cell_type": "code",
   "execution_count": null,
   "id": "2b3096c2-4812-44b0-85c1-58675a16ade7",
   "metadata": {},
   "outputs": [],
   "source": [
    "gp.barplot(enr6.res2d,title='GO_Biological_Process_2023 Factor 7',color=['darkred'])\n",
    "plt.grid(None)"
   ]
  },
  {
   "cell_type": "code",
   "execution_count": null,
   "id": "5a80e380-2110-4eb5-b5d5-e7433fcfe381",
   "metadata": {},
   "outputs": [],
   "source": [
    "gp.barplot(enr7.res2d,title='GO_Biological_Process_2023 Factor 8',color=['darkred'])\n",
    "plt.grid(None)"
   ]
  },
  {
   "cell_type": "code",
   "execution_count": null,
   "id": "988ec222-f21b-4f2b-8299-68a2c36e3de2",
   "metadata": {},
   "outputs": [],
   "source": [
    "gp.barplot(enr8.res2d,title='GO_Biological_Process_2023 Factor 9',color=['darkred'])\n",
    "plt.grid(None)"
   ]
  },
  {
   "cell_type": "code",
   "execution_count": null,
   "id": "3ef681c5-7a0c-42e6-92ca-f3fecdda930b",
   "metadata": {},
   "outputs": [],
   "source": [
    "gp.barplot(enr9.res2d,title='GO_Biological_Process_2023 Factor 10',color=['darkred'])\n",
    "plt.grid(None)"
   ]
  },
  {
   "cell_type": "code",
   "execution_count": null,
   "id": "28684906-3bb4-4c0f-9174-280c3192bc45",
   "metadata": {},
   "outputs": [],
   "source": [
    "gp.barplot(enr10.res2d,title='GO_Biological_Process_2023 Factor 11',color=['darkred'])\n",
    "plt.grid(None)"
   ]
  },
  {
   "cell_type": "code",
   "execution_count": null,
   "id": "0660e814-895c-4fe3-ac63-dbdeb27ceb58",
   "metadata": {},
   "outputs": [],
   "source": [
    "gp.barplot(enr11.res2d,title='GO_Biological_Process_2023 Factor 12',color=['darkred'])\n",
    "plt.grid(None)"
   ]
  },
  {
   "cell_type": "code",
   "execution_count": null,
   "id": "f69559a6-0eea-49b2-8a0d-8307135a705d",
   "metadata": {},
   "outputs": [],
   "source": [
    "gp.barplot(enr12.res2d,title='GO_Biological_Process_2023 Factor 13',color=['darkred'])\n",
    "plt.grid(None)"
   ]
  },
  {
   "cell_type": "code",
   "execution_count": null,
   "id": "45ff60b5-2e95-48f8-8bb3-eae9cab73d15",
   "metadata": {},
   "outputs": [],
   "source": [
    "gp.barplot(enr13.res2d,title='GO_Biological_Process_2023 Factor 14',color=['darkred'])\n",
    "plt.grid(None)"
   ]
  }
 ],
 "metadata": {
  "kernelspec": {
   "display_name": "Python 3 (ipykernel)",
   "language": "python",
   "name": "python3"
  },
  "language_info": {
   "codemirror_mode": {
    "name": "ipython",
    "version": 3
   },
   "file_extension": ".py",
   "mimetype": "text/x-python",
   "name": "python",
   "nbconvert_exporter": "python",
   "pygments_lexer": "ipython3",
   "version": "3.10.0"
  }
 },
 "nbformat": 4,
 "nbformat_minor": 5
}
