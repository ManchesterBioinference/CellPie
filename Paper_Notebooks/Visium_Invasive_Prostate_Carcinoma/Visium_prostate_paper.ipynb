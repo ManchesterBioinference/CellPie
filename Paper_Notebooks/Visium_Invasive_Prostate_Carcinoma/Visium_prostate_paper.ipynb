{
 "cells": [
  {
   "cell_type": "code",
   "execution_count": null,
   "id": "96c7a314",
   "metadata": {},
   "outputs": [],
   "source": [
    "import numpy as np\n",
    "import pandas as pd\n",
    "import matplotlib.pyplot as plt\n",
    "from os import path\n",
    "from math import ceil\n",
    "from scanpy import read_h5ad\n",
    "import squidpy as sq\n",
    "import scanpy as sc\n",
    "from sklearn import metrics\n",
    "import sys\n",
    "import seaborn as sns\n",
    "sys.path.append(\"/Users/user/CellPie/CellPie/\") # go to parent dir\n",
    "import cellpie_main as cp\n",
    "from cellpie_main import intNMF"
   ]
  },
  {
   "cell_type": "code",
   "execution_count": null,
   "id": "1caa21d5-ea09-4820-b3ab-34d5168e207c",
   "metadata": {},
   "outputs": [],
   "source": [
    "sc.set_figure_params(scanpy=True, dpi=250, dpi_save=300)"
   ]
  },
  {
   "cell_type": "code",
   "execution_count": null,
   "id": "82be866a",
   "metadata": {},
   "outputs": [],
   "source": [
    "random_state=123"
   ]
  },
  {
   "cell_type": "code",
   "execution_count": null,
   "id": "0b1b72c8",
   "metadata": {},
   "outputs": [],
   "source": [
    "histo_2 = pd.read_csv('Histology_Visium_FFPE_Human_Prostate_Cancer_cloupe.csv').dropna()\n",
    "histo_2.index = histo_2['Barcode']"
   ]
  },
  {
   "cell_type": "markdown",
   "id": "8ae07c45-5bf3-4568-b1c8-f53f8c3bef14",
   "metadata": {},
   "source": [
    "Download Visium Data"
   ]
  },
  {
   "cell_type": "code",
   "execution_count": null,
   "id": "feece086",
   "metadata": {},
   "outputs": [],
   "source": [
    "%%sh\n",
    "mkdir -p invasive_prostate_visium\n",
    "pushd invasive_prostate_visium/\n",
    "wget https://cf.10xgenomics.com/samples/spatial-exp/1.3.0/Visium_FFPE_Human_Prostate_Cancer/Visium_FFPE_Human_Prostate_Cancer_image.tif\n",
    "wget https://cf.10xgenomics.com/samples/spatial-exp/1.3.0/Visium_FFPE_Human_Prostate_Cancer/Visium_FFPE_Human_Prostate_Cancer_filtered_feature_bc_matrix.h5\n",
    "wget https://cf.10xgenomics.com/samples/spatial-exp/1.3.0/Visium_FFPE_Human_Prostate_Cancer/Visium_FFPE_Human_Prostate_Cancer_spatial.tar.gz\n",
    "tar -xzf Visium_FFPE_Human_Prostate_Cancer_spatial.tar.gz\n",
    "rm Visium_FFPE_Human_Prostate_Cancer_spatial.tar.gz\n",
    "popd"
   ]
  },
  {
   "cell_type": "code",
   "execution_count": null,
   "id": "8d7abbef-b5dc-4f70-b84b-679ad6d453d3",
   "metadata": {},
   "outputs": [],
   "source": [
    "# read ST data\n",
    "adata = sc.read_visium(path = 'invasive_prostate_visium/', \n",
    "                       count_file='Visium_FFPE_Human_Prostate_Cancer_filtered_feature_bc_matrix.h5',                   \n",
    "                       load_images=True)\n",
    "adata.var_names_make_unique()\n",
    "adata.var['SYMBOL'] = adata.var_names"
   ]
  },
  {
   "cell_type": "code",
   "execution_count": null,
   "id": "a3ad89e5",
   "metadata": {},
   "outputs": [],
   "source": [
    "adata = adata[adata.obs_names.isin(histo_2['Barcode']),:]"
   ]
  },
  {
   "cell_type": "code",
   "execution_count": null,
   "id": "63bbca98",
   "metadata": {},
   "outputs": [],
   "source": [
    "scale_range = np.arange(0.1,3.1,1)"
   ]
  },
  {
   "cell_type": "code",
   "execution_count": null,
   "id": "e543b1a9",
   "metadata": {},
   "outputs": [],
   "source": [
    "from feature_extr import extract_features\n",
    "features = extract_features(adata,img_path='Visium_FFPE_Human_Prostate_Cancer_image.tif',\n",
    "                           scale=1,spot_scale=scale_range,bins=100)"
   ]
  },
  {
   "cell_type": "code",
   "execution_count": null,
   "id": "1c949261",
   "metadata": {},
   "outputs": [],
   "source": [
    "adata.obs['Histology'] = histo_2['Histology']"
   ]
  },
  {
   "cell_type": "code",
   "execution_count": null,
   "id": "041ba599-4629-4948-8b22-ac3d9e0a23df",
   "metadata": {},
   "outputs": [],
   "source": [
    "from cp_utils import preprocess_data_visium\n",
    "preprocess_data_visium(adata,min_cells=100)"
   ]
  },
  {
   "cell_type": "code",
   "execution_count": null,
   "id": "c4230fbe",
   "metadata": {},
   "outputs": [],
   "source": [
    "from sklearn import metrics\n",
    "res = []"
   ]
  },
  {
   "cell_type": "code",
   "execution_count": null,
   "id": "ed6113fb",
   "metadata": {},
   "outputs": [],
   "source": [
    "import scanpy as sc\n",
    "\n",
    "def find_leiden_resolution(\n",
    "    adata,\n",
    "    target_clusters=6,\n",
    "    start_resolution=0.1,\n",
    "    tolerance=0.01,\n",
    "    max_iters=100,\n",
    "    random_state=123,\n",
    "    neighbors_key='cellpie',\n",
    "    key_added='CellPie',\n",
    "    use_rep = 'cellpie',\n",
    "    \n",
    "    n_neighbors=90\n",
    "):\n",
    "    resolution = start_resolution\n",
    "    step = 0.01 \n",
    "    cluster_counts = []\n",
    "    \n",
    "    sc.pp.neighbors(adata, n_neighbors= n_neighbors, random_state=random_state, use_rep=use_rep, key_added=neighbors_key)\n",
    "    \n",
    "    for i in np.arange(start_resolution,1.01,step):\n",
    "        sc.tl.leiden(adata, resolution=i, random_state=random_state, neighbors_key=neighbors_key, key_added=key_added)\n",
    "    \n",
    "        n_clusters = adata.obs[key_added].nunique()\n",
    "        cluster_counts.append((resolution, n_clusters))\n",
    "        \n",
    "        if abs(n_clusters - target_clusters) <= tolerance:\n",
    "            print(f\"Found resolution: {i} with {n_clusters} clusters\")\n",
    "            return \n",
    "        else:\n",
    "            continue"
   ]
  },
  {
   "cell_type": "code",
   "execution_count": null,
   "id": "d7a59125",
   "metadata": {
    "scrolled": true
   },
   "outputs": [],
   "source": [
    "from cp_utils import model_selection_alpha\n",
    "k = np.arange(8,51)\n",
    "mod_sel = model_selection_alpha(adata,k,random_state=random_state,epochs=20,init='random',mod1_skew=1)"
   ]
  },
  {
   "cell_type": "code",
   "execution_count": null,
   "id": "80d73747-2b06-49a2-8644-21f1dc2336c8",
   "metadata": {
    "scrolled": true
   },
   "outputs": [],
   "source": [
    "res_1 = []\n",
    "for i in np.arange(0.1, 2.01,0.1):\n",
    "    nmf_model = intNMF(adata,26,epochs = 20, init = 'random',random_state=random_state,mod1_skew=i)\n",
    "    nmf_model.fit(adata)\n",
    "    \n",
    "    adata.obsm['cellpie'] = nmf_model.theta\n",
    "    find_leiden_resolution(adata, target_clusters=6,neighbors_key='cellpie',key_added='CellPie',use_rep='cellpie')    \n",
    "    mut_info=metrics.fowlkes_mallows_score(adata.obs['CellPie'],adata.obs['Histology'])\n",
    "    adj_rand=metrics.adjusted_rand_score(adata.obs['CellPie'],adata.obs['Histology'])\n",
    "    adj_mut_info=metrics.adjusted_mutual_info_score(adata.obs['CellPie'],adata.obs['Histology'])\n",
    "    res_1.append((i,mut_info,adj_rand,adj_mut_info)) "
   ]
  },
  {
   "cell_type": "code",
   "execution_count": null,
   "id": "84e390bc-e83b-43dc-87da-943a4d4a414d",
   "metadata": {},
   "outputs": [],
   "source": [
    "score_1 = pd.DataFrame(res_1)   \n",
    "plt.plot(score_1[0],score_1[1],color=\"green\",label='Fowlkes Mallows Score')\n",
    "plt.plot(score_1[0],score_1[2],color=\"red\",label='Adjusted Rand Index Score')\n",
    "plt.plot(score_1[0],score_1[3],color=\"blue\",label='Adjusted Mutual Info Score')\n",
    "plt.xlabel(\"Modality weight\")\n",
    "plt.ylabel(\"Score\")\n",
    "plt.title(\"CellPie\")\n",
    "plt.legend(prop={'size': 9})\n",
    "plt.show()"
   ]
  },
  {
   "cell_type": "code",
   "execution_count": null,
   "id": "6d43121c",
   "metadata": {
    "scrolled": true
   },
   "outputs": [],
   "source": [
    "nmf_model = intNMF(adata,26,epochs=20,init = 'random',random_state=random_state,mod1_skew=1)\n",
    "nmf_model.fit(adata)\n",
    "adata.obsm['cellpie'] = nmf_model.theta"
   ]
  },
  {
   "cell_type": "code",
   "execution_count": null,
   "id": "209e2336-84fc-4f97-b479-bc8abccf079e",
   "metadata": {
    "scrolled": true
   },
   "outputs": [],
   "source": [
    "from re import sub\n",
    "import matplotlib as mpl\n",
    "k=26\n",
    "sel_clust = ['Factor_'+str(i+1) for i in range(k)]\n",
    "with mpl.rc_context({'figure.figsize': (10, 9), 'axes.facecolor': 'black'}):\n",
    "    sc.pl.spatial(adata,\n",
    "                cmap='magma',\n",
    "                color=sel_clust,\n",
    "                ncols=4,\n",
    "                size=1, img_key='hires',\n",
    "                alpha_img=0\n",
    "                 )"
   ]
  },
  {
   "cell_type": "code",
   "execution_count": null,
   "id": "0c22758e-d4b4-4b6d-a9ac-60a96d83a7b5",
   "metadata": {},
   "outputs": [],
   "source": [
    "sc.pp.neighbors(adata, n_neighbors=90, random_state=123, use_rep='cellpie', key_added='cellpie')"
   ]
  },
  {
   "cell_type": "code",
   "execution_count": null,
   "id": "e1750188",
   "metadata": {},
   "outputs": [],
   "source": [
    "# Run Leiden clustering\n",
    "sc.tl.leiden(adata, resolution=0.32999999999999985, random_state=random_state, neighbors_key='cellpie', key_added='CellPie')\n",
    "n_clusters = adata.obs['CellPie'].nunique()\n",
    "n_clusters"
   ]
  },
  {
   "cell_type": "code",
   "execution_count": null,
   "id": "7cb411e8",
   "metadata": {},
   "outputs": [],
   "source": [
    "from sklearn.decomposition import FactorAnalysis\n",
    "transformer = FactorAnalysis(n_components=21,random_state=random_state)\n",
    "X_transformed = transformer.fit_transform(adata.X.toarray())\n",
    "adata.obsm['FA'] = X_transformed"
   ]
  },
  {
   "cell_type": "code",
   "execution_count": null,
   "id": "c7a52ca2",
   "metadata": {},
   "outputs": [],
   "source": [
    "sc.pp.neighbors(adata, n_neighbors= 90, random_state=random_state, use_rep='FA', key_added='fa')\n",
    "sc.tl.leiden(adata, resolution= 0.4299999999999998, random_state=random_state, neighbors_key='fa', key_added='fa')"
   ]
  },
  {
   "cell_type": "code",
   "execution_count": null,
   "id": "5a849dbc",
   "metadata": {},
   "outputs": [],
   "source": [
    "mef = pd.read_csv(f'Benchmark/new_factors_mefisto_prostate_35_bench.csv',index_col=0)\n",
    "mef_aligned = mef.reindex(adata.obs.index)\n",
    "adata.obsm['mefisto'] = mef_aligned\n",
    "sc.pp.neighbors(adata, n_neighbors= 90, random_state=random_state, use_rep='mefisto', key_added='mefisto')\n",
    "sc.tl.leiden(adata, resolution=0.3999999999999998, random_state=random_state, neighbors_key='mefisto', key_added='MEFISTO')"
   ]
  },
  {
   "cell_type": "code",
   "execution_count": null,
   "id": "baa38439",
   "metadata": {},
   "outputs": [],
   "source": [
    "nsf = pd.read_csv(f'Benchmark/factors_nsf_prostate_poi_38_bench.csv',index_col=0)\n",
    "nsf_aligned = nsf.reindex(adata.obs.index)\n",
    "adata.obsm['nsf'] = nsf_aligned\n",
    "sc.pp.neighbors(adata, n_neighbors= 90, random_state=random_state, use_rep='nsf', key_added='nsf')\n",
    "sc.tl.leiden(adata, resolution=0.3199999999999999, random_state=random_state, neighbors_key='nsf', key_added='nsf')"
   ]
  },
  {
   "cell_type": "code",
   "execution_count": null,
   "id": "f53d9bd1",
   "metadata": {},
   "outputs": [],
   "source": [
    "nsfh_s = pd.read_csv(f'Benchmark/spatialfactors_nsfh_prostate_poi_23_bench.csv',index_col=0)\n",
    "\n",
    "nsfh_ns = pd.read_csv(f'Benchmark/nonspatialfactors_nsfh_prostate_poi_23_bench.csv',index_col=0)\n",
    "nsfh = pd.concat([nsfh_ns,nsfh_s], axis=1)\n",
    "    \n",
    "nsfh_aligned = nsfh.reindex(adata.obs.index)\n",
    "adata.obsm['nsfh'] = nsfh_aligned\n",
    "sc.pp.neighbors(adata, n_neighbors= 90, random_state=random_state, use_rep='nsfh', key_added='nsfh')\n",
    "sc.tl.leiden(adata, resolution=0.32999999999999985, random_state=random_state, neighbors_key='nsfh', key_added='NSFH')"
   ]
  },
  {
   "cell_type": "code",
   "execution_count": null,
   "id": "2e608c44",
   "metadata": {},
   "outputs": [],
   "source": [
    "pnmf = pd.read_csv(f'Benchmark/factors_pnmf_prostate_poi_14_bench.csv',index_col=0)\n",
    "\n",
    "pnmf_aligned = pnmf.reindex(adata.obs.index)\n",
    "adata.obsm['pnmf'] = pnmf_aligned\n",
    "\n",
    "sc.pp.neighbors(adata, n_neighbors= 90, random_state=random_state, use_rep='pnmf', key_added='pnmf')\n",
    "sc.tl.leiden(adata, resolution=0.2799999999999999, random_state=random_state, neighbors_key='pnmf', key_added='PNMF')"
   ]
  },
  {
   "cell_type": "code",
   "execution_count": null,
   "id": "85930ce2-4f0e-4371-9a73-8677bc391318",
   "metadata": {},
   "outputs": [],
   "source": [
    "nmf_model_0 = intNMF(adata,26,epochs=20,init = 'random',random_state=random_state,mod1_skew=2)\n",
    "nmf_model_0.fit(adata)\n",
    "adata.obsm['cellpie_0'] = nmf_model_0.theta"
   ]
  },
  {
   "cell_type": "code",
   "execution_count": null,
   "id": "eef4c416-0e6d-4bf7-b0ae-e8942d594662",
   "metadata": {},
   "outputs": [],
   "source": [
    "sc.pp.neighbors(adata, n_neighbors=90, random_state=123, use_rep='cellpie_0', key_added='cellpie_0')\n",
    "sc.tl.leiden(adata, resolution=0.389999999, random_state=random_state, neighbors_key='cellpie_0', key_added='CellPie_0')\n",
    "n_clusters = adata.obs['CellPie_0'].nunique()\n",
    "n_clusters"
   ]
  },
  {
   "cell_type": "code",
   "execution_count": null,
   "id": "1a54b865",
   "metadata": {},
   "outputs": [],
   "source": [
    "adata.uns['CellPie_colors'] = ['#1f77b4','#ff7f0e','#00e6e6','#2ca02c','#8c564b','#9467bd']\n",
    "adata.uns['nsf_colors'] = ['#2ca02c', '#ff7f0e','#1f77b4', '#8c564b', '#cc9900','#9467bd']\n",
    "adata.uns['NSFH_colors'] = ['#ff7f0e','#2ca02c', '#8c564b','#1f77b4','#cc9900','#9467bd']\n",
    "adata.uns['MEFISTO_colors'] = ['#1f77b4','#ff7f0e','#00e6e6','#8c564b','#2ca02c','#9467bd']\n",
    "adata.uns['fa_colors'] = ['#1f77b4','#ff7f0e', '#2ca02c','#8c564b','#00e6e6','#9467bd']\n",
    "adata.uns['PNMF_colors'] = ['#1f77b4','#ff7f0e','#00e6e6','#8c564b','#a93226','#9467bd']\n",
    "adata.uns['CellPie_0_colors'] = ['#ff7f0e','#1f77b4','#00e6e6', '#8c564b', '#2ca02c','#9467bd']"
   ]
  },
  {
   "cell_type": "code",
   "execution_count": null,
   "id": "4eb2fc99",
   "metadata": {
    "scrolled": true
   },
   "outputs": [],
   "source": [
    "sc.pl.spatial(adata,color=['Histology','CellPie','nsf','NSFH','MEFISTO','fa','PNMF', 'CellPie_0'],\n",
    "              size=1.4, ncols = 1\n",
    "             )"
   ]
  },
  {
   "cell_type": "code",
   "execution_count": null,
   "id": "12ecc185",
   "metadata": {},
   "outputs": [],
   "source": [
    "from sklearn import metrics\n",
    "l_t = ['CellPie','nsf','NSFH','MEFISTO','fa','PNMF','CellPie_0']\n",
    "res_all = []\n",
    "for l_t in l_t:\n",
    "    mut_info=metrics.fowlkes_mallows_score(adata.obs[l_t],adata.obs['Histology'])\n",
    "    adj_rand=metrics.adjusted_rand_score(adata.obs[l_t],adata.obs['Histology'])\n",
    "    adj_mut_info=metrics.adjusted_mutual_info_score(adata.obs[l_t],adata.obs['Histology'])\n",
    "    res_all.append((l_t,mut_info,adj_rand,adj_mut_info))\n",
    "res_df = pd.DataFrame(res_all, columns = ['Method','Mutual Info','Adjusted Rand Index','Adjusted Mutual Info'])"
   ]
  },
  {
   "cell_type": "code",
   "execution_count": null,
   "id": "87c24d87-0047-44e9-b003-4013503879c8",
   "metadata": {},
   "outputs": [],
   "source": [
    "res_df"
   ]
  },
  {
   "cell_type": "code",
   "execution_count": null,
   "id": "2374b6cb",
   "metadata": {},
   "outputs": [],
   "source": [
    "import seaborn as sns\n",
    "plot=sns.barplot(data=res_df,x = res_df['Method'],y='Adjusted Rand Index',hue='Adjusted Rand Index',width=0.6, legend=False)\n",
    "plot.set_xticklabels(plot.get_xticklabels(), fontsize=10)\n",
    "plt.title('ARI-Leiden Clustering')\n",
    "plt.grid(False)"
   ]
  },
  {
   "cell_type": "code",
   "execution_count": null,
   "id": "3e0ab4da",
   "metadata": {
    "scrolled": true
   },
   "outputs": [],
   "source": [
    "methods = ['CellPie', 'nsf','NSFH','PNMF','fa','MEFISTO', 'CellPie_0']\n",
    "\n",
    "for i in methods:\n",
    "    plt.figure(figsize=(12, 8))\n",
    "    sns.heatmap(\n",
    "        pd.crosstab(\n",
    "           adata.obs['Histology'].values, adata.obs[f'{i}'].values,\n",
    "            normalize ='columns'\n",
    "        ), annot_kws={'size': 25},\n",
    "        cmap=sns.color_palette(\"crest\", as_cmap=True),\n",
    "        annot = True\n",
    "    )\n",
    "    plt.title(f'Contingency Table {i}')\n",
    "    plt.grid(False)\n",
    "    plt.show()"
   ]
  },
  {
   "cell_type": "code",
   "execution_count": null,
   "id": "2d593760-0f3e-40f0-a622-883f5088c092",
   "metadata": {},
   "outputs": [],
   "source": [
    "nmf_model = intNMF(adata,26,epochs=20,init = 'random',random_state=random_state,mod1_skew=1)\n",
    "nmf_model.fit(adata)\n",
    "adata.obsm['cellpie'] = nmf_model.theta"
   ]
  },
  {
   "cell_type": "code",
   "execution_count": null,
   "id": "26d1eb1b-0c44-4070-9bbf-c63784878692",
   "metadata": {},
   "outputs": [],
   "source": [
    "l=cp.get_genes_topic(adata,nmf_model.phi_expr)"
   ]
  },
  {
   "cell_type": "code",
   "execution_count": null,
   "id": "1b58468c",
   "metadata": {},
   "outputs": [],
   "source": [
    "import gseapy as gp\n",
    "def gene_er(topic):\n",
    "    enr = gp.enrichr(gene_list=topic,\n",
    "                gene_sets=['GO_Biological_Process_2023'],\n",
    "                organism='human', \n",
    "                outdir=None,\n",
    "                )\n",
    "    return enr"
   ]
  },
  {
   "cell_type": "code",
   "execution_count": null,
   "id": "7d4caa84",
   "metadata": {},
   "outputs": [],
   "source": [
    "\n",
    "selected_indices = [0, 1, 2, 3, 4, 5, 6, 7, 8, 9, 10, 11, 12, 13, 19, 25] # Select the factors for enrichment analysis - index\n",
    "\n",
    "enrichment_results = {\n",
    "    i: gene_er(l.T[i].sort_values(ascending=False).index[:150].to_list())\n",
    "    for i in selected_indices\n",
    "}"
   ]
  },
  {
   "cell_type": "code",
   "execution_count": null,
   "id": "a481c569-8542-47d4-82fd-1b5aac3343a4",
   "metadata": {},
   "outputs": [],
   "source": [
    "for i in enrichment_results:\n",
    "    gp.barplot(\n",
    "        enrichment_results[i].res2d,\n",
    "        title=f'GO_Biological_Process_2023 Factor {i+1}',\n",
    "        color=['darkred']\n",
    "    )\n",
    "    plt.grid(None)\n",
    "    plt.show()"
   ]
  }
 ],
 "metadata": {
  "jupytext": {
   "encoding": "# -*- coding: utf-8 -*-"
  },
  "kernelspec": {
   "display_name": "Python 3 (ipykernel)",
   "language": "python",
   "name": "python3"
  },
  "language_info": {
   "codemirror_mode": {
    "name": "ipython",
    "version": 3
   },
   "file_extension": ".py",
   "mimetype": "text/x-python",
   "name": "python",
   "nbconvert_exporter": "python",
   "pygments_lexer": "ipython3",
   "version": "3.12.4"
  }
 },
 "nbformat": 4,
 "nbformat_minor": 5
}
