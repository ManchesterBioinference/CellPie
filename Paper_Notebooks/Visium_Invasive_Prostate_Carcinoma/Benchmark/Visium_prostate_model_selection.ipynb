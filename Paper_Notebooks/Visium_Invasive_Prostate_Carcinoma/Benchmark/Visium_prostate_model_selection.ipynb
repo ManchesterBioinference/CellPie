{
 "cells": [
  {
   "cell_type": "code",
   "execution_count": null,
   "id": "96c7a314",
   "metadata": {},
   "outputs": [],
   "source": [
    "import numpy as np\n",
    "import pandas as pd\n",
    "import matplotlib.pyplot as plt\n",
    "import os\n",
    "from math import ceil\n",
    "from scanpy import read_h5ad\n",
    "from tensorflow_probability import math as tm\n",
    "tfk = tm.psd_kernels\n",
    "import squidpy as sq\n",
    "import scanpy as sc"
   ]
  },
  {
   "cell_type": "code",
   "execution_count": null,
   "id": "ab0a2968-c60d-4a51-983e-15e15c7acdbd",
   "metadata": {},
   "outputs": [],
   "source": [
    "import sys\n",
    "sys.path.append(\"/Users/user/nsf-paper/\") # go to parent dir where nsf is installed"
   ]
  },
  {
   "cell_type": "code",
   "execution_count": null,
   "id": "78e6d00e",
   "metadata": {},
   "outputs": [],
   "source": [
    "from models import cf,sf,sfh\n",
    "from models.mefisto import MEFISTO\n",
    "from utils import preprocess,training,misc,visualize,postprocess"
   ]
  },
  {
   "cell_type": "code",
   "execution_count": null,
   "id": "01202090",
   "metadata": {},
   "outputs": [],
   "source": [
    "random_state=123"
   ]
  },
  {
   "cell_type": "code",
   "execution_count": null,
   "id": "ce7f3cd6-ae0a-4c3f-946c-6f39054e248f",
   "metadata": {},
   "outputs": [],
   "source": [
    "folder_path = \"range_benchmark\"\n",
    "if not os.path.exists(folder_path):\n",
    "    os.makedirs(folder_path)\n",
    "else:\n",
    "    print(f\"Folder '{folder_path}' already exists.\")"
   ]
  },
  {
   "cell_type": "code",
   "execution_count": null,
   "id": "0b1b72c8",
   "metadata": {},
   "outputs": [],
   "source": [
    "histo_2 = pd.read_csv('../Histology_Visium_FFPE_Human_Prostate_Cancer_cloupe.csv').dropna()\n",
    "histo_2.index = histo_2['Barcode']"
   ]
  },
  {
   "cell_type": "code",
   "execution_count": null,
   "id": "839c8033",
   "metadata": {},
   "outputs": [],
   "source": [
    "histo_2.index = histo_2['Barcode']\n",
    "histo_2"
   ]
  },
  {
   "cell_type": "code",
   "execution_count": null,
   "id": "feece086",
   "metadata": {},
   "outputs": [],
   "source": [
    "# read ST data\n",
    "adata = sc.read_visium(path = '../invasive_prostate_visium/', \n",
    "                       count_file='Visium_FFPE_Human_Prostate_Cancer_filtered_feature_bc_matrix.h5', \n",
    "                       library_id='A1_spot',                        \n",
    "                       load_images=True)\n",
    "adata.var_names_make_unique()\n",
    "adata.var['SYMBOL'] = adata.var_names\n",
    "adata = adata[adata.obs_names.isin(histo_2['Barcode']),:]"
   ]
  },
  {
   "cell_type": "code",
   "execution_count": null,
   "id": "fac73e51",
   "metadata": {},
   "outputs": [],
   "source": [
    "dtp = \"float32\"\n",
    "pth ='.'\n",
    "mpth = '.'"
   ]
  },
  {
   "cell_type": "code",
   "execution_count": null,
   "id": "57313ec6",
   "metadata": {},
   "outputs": [],
   "source": [
    "import random\n",
    "ad = adata\n",
    "\n",
    "sc.pp.filter_genes(ad, min_cells=1)\n",
    "sc.pp.filter_cells(ad, min_counts=100)\n",
    "ad.layers = {\"counts\":ad.X.copy()} #store raw counts before normalization changes ad.X\n",
    "sc.pp.normalize_total(ad, inplace=True, layers=None, key_added=\"sizefactor\")\n",
    "sc.pp.log1p(ad)\n",
    "\n",
    "# %% normalization, feature selection and train/test split\n",
    "ad.var['deviance_poisson'] = preprocess.deviancePoisson(ad.layers[\"counts\"])\n",
    "o = np.argsort(-ad.var['deviance_poisson'])\n",
    "idx = list(range(ad.shape[0]))\n",
    "random.shuffle(idx)\n",
    "ad = ad[idx,o]\n",
    "\n",
    "ad.write_h5ad(path.join(pth,\"visium_prostate_cancer.h5ad\"),compression=\"gzip\")\n",
    "ad2 = ad[:,:2000]\n",
    "ad2.write_h5ad(path.join(pth,\"visium_prostate_cancer_J2000.h5ad\"),compression=\"gzip\")"
   ]
  },
  {
   "cell_type": "code",
   "execution_count": null,
   "id": "ef44a131",
   "metadata": {},
   "outputs": [],
   "source": [
    "J = 2000\n",
    "ad = read_h5ad(path.join(pth,\"visium_prostate_cancer_J{}.h5ad\".format(J)))#[:,:J]\n",
    "Dtr,Dval = preprocess.anndata_to_train_val(ad,train_frac=1,layer=\"counts\",sz=\"scanpy\")\n",
    "Dtr_n,Dval_n = preprocess.anndata_to_train_val(ad,train_frac=1) #normalized data\n",
    "fmeans,Dtr_c,Dval_c = preprocess.center_data(Dtr_n,Dval_n) #centered features\n",
    "Xtr = Dtr[\"X\"] #note this should be identical to Dtr_n[\"X\"]\n",
    "Ntr = Xtr.shape[0]\n",
    "Dtf = preprocess.prepare_datasets_tf(Dtr,Dval=Dval,shuffle=False)\n",
    "Dtf_n = preprocess.prepare_datasets_tf(Dtr_n,Dval=Dval_n,shuffle=False)\n",
    "Dtf_c = preprocess.prepare_datasets_tf(Dtr_c,Dval=Dval_c,shuffle=False)\n",
    "visualize.heatmap(Xtr,Dtr[\"Y\"][:,0],marker=\"D\",s=15)"
   ]
  },
  {
   "cell_type": "code",
   "execution_count": null,
   "id": "4c10e68c",
   "metadata": {},
   "outputs": [],
   "source": [
    "#%% Visualize raw data\n",
    "import numpy as np\n",
    "plt.imshow(np.log1p(Dtr[\"Y\"])[:50,:100],cmap=\"Blues\")"
   ]
  },
  {
   "cell_type": "code",
   "execution_count": null,
   "id": "b2ac163f",
   "metadata": {},
   "outputs": [],
   "source": [
    "#%% Visualize inducing points\n",
    "Z = misc.kmeans_inducing_pts(Xtr,500)\n",
    "fig,ax=plt.subplots(figsize=(12,10))\n",
    "ax.scatter(Xtr[:,0],Xtr[:,1],marker=\"D\",s=50,)\n",
    "ax.scatter(Z[:,0],Z[:,1],c=\"red\",s=30)"
   ]
  },
  {
   "cell_type": "code",
   "execution_count": null,
   "id": "22e5181f",
   "metadata": {},
   "outputs": [],
   "source": [
    "# %% initialize inducing points and tuning parameters\n",
    "Z = misc.kmeans_inducing_pts(Xtr, 3000)\n",
    "M = Z.shape[0]\n",
    "ker = tfk.MaternThreeHalves\n",
    "S = 3 #samples for elbo approximation"
   ]
  },
  {
   "cell_type": "code",
   "execution_count": null,
   "id": "15cd8a62",
   "metadata": {},
   "outputs": [],
   "source": [
    "L = np.arange(8,51)\n",
    "L"
   ]
  },
  {
   "cell_type": "code",
   "execution_count": null,
   "id": "9e93f3af",
   "metadata": {
    "scrolled": true
   },
   "outputs": [],
   "source": [
    "# NSF: Spatial only with non-negative factors\n",
    "for col in L:\n",
    "    fit = sf.SpatialFactorization(J,col,Z,psd_kernel=ker,nonneg=True,lik=\"poi\")\n",
    "    fit.elbo_avg(Xtr,Dtr[\"Y\"],sz=Dtr[\"sz\"])\n",
    "    fit.init_loadings(Dtr[\"Y\"],X=Xtr,sz=Dtr[\"sz\"])\n",
    "    fit.elbo_avg(Xtr,Dtr[\"Y\"],sz=Dtr[\"sz\"])\n",
    "    pp = fit.generate_pickle_path(\"scanpy\",base=mpth)\n",
    "    tro = training.ModelTrainer(fit,pickle_path=pp)\n",
    "\n",
    "\n",
    "    hmkw = {\"figsize\":(4,4), \"s\":0.3, \"marker\":\"D\", \"subplot_space\":0,\n",
    "        \"spinecolor\":\"white\"}\n",
    "    insf = postprocess.interpret_nsf(fit,Xtr,S=10,lda_mode=False)\n",
    "    tgnames = [str(i) for i in range(1,col+1)]\n",
    "\n",
    "#%% Top genes for each latent dimensions\n",
    "    W = insf[\"loadings\"]#*insf[\"totals\"][:,None]\n",
    "    topgenes = W.argmax(axis=0).tolist()\n",
    "    tgnames = ad.var.index[topgenes]\n",
    "    Ytg = Dtr[\"Y\"][:,topgenes]/Dtr[\"sz\"]\n",
    "    fig,axes=visualize.multiheatmap(Xtr, np.sqrt(Ytg), (4,3), **hmkw)\n",
    "#save loadings to disk for further interpretation\n",
    "    Wdf=pd.DataFrame(W*insf[\"totals\"][:,None], index=ad.var.index, columns=range(1,col+1))\n",
    "    W = insf[\"loadings\"]#*insf[\"totals\"][:,None]\n",
    "    Wdf=pd.DataFrame(W*insf[\"totals\"][:,None], index=ad.var.index, columns=range(1,col+1))\n",
    "    pd.DataFrame(insf[\"factors\"],index = ad.obs_names).to_csv(f'range_benchmark/factors_nsf_prostate_poi_{col}_bench.csv')"
   ]
  },
  {
   "cell_type": "code",
   "execution_count": null,
   "id": "2af2b284",
   "metadata": {},
   "outputs": [],
   "source": [
    "#%% PNMF: Non-spatial, nonnegative\n",
    "for col in L:\n",
    "    fit = cf.CountFactorization(Ntr, J, col, lik=\"poi\", nonneg=True)\n",
    "    fit.elbo_avg(Dtr[\"Y\"],sz=Dtr[\"sz\"],idx=Dtr[\"idx\"])\n",
    "    fit.init_loadings(Dtr[\"Y\"],sz=Dtr[\"sz\"])\n",
    "    pp = fit.generate_pickle_path(\"scanpy\",base=mpth)\n",
    "    tro = training.ModelTrainer(fit,pickle_path=pp)\n",
    "    ttl = \"PNMF: nonspatial, non-negative factors, Poisson likelihood\"\n",
    "\n",
    "    hmkw = {\"figsize\":(10,8), \"s\":0.5, \"marker\":\"D\", \"subplot_space\":0,\n",
    "        \"spinecolor\":\"white\"}\n",
    "    ipnmf = postprocess.interpret_pnmf(fit,S=8,lda_mode=False)\n",
    "    tgnames = [str(i) for i in range(1,col+1)]\n",
    "    \n",
    "    pd.DataFrame(ipnmf[\"factors\"],index = ad.obs_names).to_csv(f'range_benchmark/factors_pnmf_prostate_poi_{col}_bench.csv')\n"
   ]
  },
  {
   "cell_type": "code",
   "execution_count": null,
   "id": "51ad6270",
   "metadata": {},
   "outputs": [],
   "source": [
    "#%% NSF Hybrid object\n",
    "for col in L:\n",
    "    fit = sfh.SpatialFactorizationHybrid(Ntr, J, col, Z, lik=\"poi\", nonneg=True,\n",
    "                                       psd_kernel=ker)\n",
    "    fit.elbo_avg(Dtr[\"X\"],Dtr[\"Y\"],Dtr[\"idx\"])\n",
    "    fit.init_loadings(Dtr[\"Y\"],X=Dtr[\"X\"])\n",
    "    pp = fit.generate_pickle_path(\"scanpy\",base=mpth)\n",
    "    tro = training.ModelTrainer(fit,pickle_path=pp)\n",
    "\n",
    "    ttl = \"NSFH: spatial, non-negative factors, Poisson likelihood\"\n",
    "\n",
    "    hmkw = {\"figsize\":(10,4), \"s\":0.5, \"marker\":\"D\", \"subplot_space\":0,\n",
    "        \"spinecolor\":\"white\"}\n",
    "    insfh = postprocess.interpret_nsfh(fit,Xtr,S=10,lda_mode=False)\n",
    "    Ws = insfh['spatial'][\"loadings\"]#*insf[\"totals\"][:,None]\n",
    "    Wdfs=pd.DataFrame(Ws*insfh[\"totals\"][:,None], index=ad.var.index)\n",
    "    \n",
    "    Wns = insfh['nonspatial'][\"loadings\"]#*insf[\"totals\"][:,None]\n",
    "    Wdfns=pd.DataFrame(Wns*insfh[\"totals\"][:,None], index=ad.var.index)\n",
    "    \n",
    "    pd.DataFrame(insfh['nonspatial'][\"factors\"],index = ad.obs_names).to_csv(f'range_benchmark/nonspatialfactors_nsfh_prostate_poi_{col}_bench.csv')\n",
    "    pd.DataFrame(insfh['spatial'][\"factors\"],index = ad.obs_names).to_csv(f'range_benchmark/spatialfactors_nsfh_prostate_poi_{col}_bench.csv')\n"
   ]
  },
  {
   "cell_type": "code",
   "execution_count": null,
   "id": "da1ca7db",
   "metadata": {
    "scrolled": true
   },
   "outputs": [],
   "source": [
    "# %% MEFISTO- Gaussian\n",
    "L =  np.arange(27,51)\n",
    "for col in L:\n",
    "    mef = MEFISTO(Dtr_n, col, inducing_pts=1000)\n",
    "    ttl = \"MEFISTO\"\n",
    "    dev_mef = visualize.gof(mef,Dtr,Dval=Dval,title=ttl)\n",
    "    pd.DataFrame(mef.ent.model.nodes[\"Z\"].getExpectations()[\"E\"],index = ad.obs_names).to_csv(f'range_benchmark/new_factors_mefisto_prostate_{col}_bench.csv')"
   ]
  },
  {
   "cell_type": "code",
   "execution_count": null,
   "id": "4b0b2f15-a9e1-49a1-ac8d-1921c54f1d19",
   "metadata": {},
   "outputs": [],
   "source": [
    "adata = sc.read_visium(path = '../invasive_prostate_visium/', \n",
    "                       count_file='Visium_FFPE_Human_Prostate_Cancer_filtered_feature_bc_matrix.h5', \n",
    "                       library_id='A1_spot',                        \n",
    "                       load_images=True)\n",
    "adata.var_names_make_unique()\n",
    "adata.var['SYMBOL'] = adata.var_names"
   ]
  },
  {
   "cell_type": "code",
   "execution_count": null,
   "id": "a3ad89e5",
   "metadata": {},
   "outputs": [],
   "source": [
    "adata = adata[adata.obs_names.isin(histo_2['Barcode']),:]"
   ]
  },
  {
   "cell_type": "code",
   "execution_count": null,
   "id": "1c949261",
   "metadata": {},
   "outputs": [],
   "source": [
    "adata.obs['Histology']=histo_2['Histology']"
   ]
  },
  {
   "cell_type": "code",
   "execution_count": null,
   "id": "f37a443e-cf09-439b-b72e-608d4d024639",
   "metadata": {},
   "outputs": [],
   "source": [
    "sc.pp.filter_genes(adata, min_cells=100)\n",
    "sc.pp.normalize_total(adata)\n",
    "sc.pp.log1p(adata)"
   ]
  },
  {
   "cell_type": "code",
   "execution_count": null,
   "id": "c4230fbe",
   "metadata": {},
   "outputs": [],
   "source": [
    "from sklearn import metrics\n",
    "res = []"
   ]
  },
  {
   "cell_type": "code",
   "execution_count": null,
   "id": "d905a763",
   "metadata": {},
   "outputs": [],
   "source": [
    "import scanpy as sc\n",
    "\n",
    "def find_leiden_resolution(\n",
    "    adata,\n",
    "    target_clusters=6,\n",
    "    start_resolution=0.1,\n",
    "    tolerance=0.01,\n",
    "    max_iters=100,\n",
    "    random_state=123,\n",
    "    neighbors_key='cellpie',\n",
    "    key_added='cellPie',\n",
    "    use_rep = 'cellpie',\n",
    "    \n",
    "    n_neighbors=90\n",
    "):\n",
    "    resolution = start_resolution\n",
    "    step = 0.01  # Step size for adjusting the resolution\n",
    "    cluster_counts = []\n",
    "    \n",
    "    sc.pp.neighbors(adata, n_neighbors= n_neighbors, random_state=random_state, use_rep=use_rep, key_added=neighbors_key)\n",
    "    \n",
    "    for i in np.arange(start_resolution,1.01,step):\n",
    "        \n",
    "        sc.tl.leiden(adata, resolution=i, random_state=random_state, neighbors_key=neighbors_key, key_added=key_added)\n",
    "        \n",
    "        n_clusters = adata.obs[key_added].nunique()\n",
    "        cluster_counts.append((resolution, n_clusters))\n",
    "        \n",
    "        if abs(n_clusters - target_clusters) <= tolerance:\n",
    "            print(f\"Found resolution: {i} with {n_clusters} clusters\")\n",
    "            return \n",
    "        else:\n",
    "            continue"
   ]
  },
  {
   "cell_type": "code",
   "execution_count": null,
   "id": "2d2b872a-a4dc-467d-affb-b8c68afaaa40",
   "metadata": {},
   "outputs": [],
   "source": [
    "L = np.arange(8,51)"
   ]
  },
  {
   "cell_type": "code",
   "execution_count": null,
   "id": "d7ba1bac",
   "metadata": {
    "scrolled": true
   },
   "outputs": [],
   "source": [
    "res_nsf = []\n",
    "for col in L:\n",
    "    nsf = pd.read_csv(f'range_benchmark/factors_nsf_prostate_poi_{col}_bench.csv',index_col=0)\n",
    "    nsf = nsf.dropna(axis=1)\n",
    "    nsf_aligned = nsf.reindex(adata.obs.index)\n",
    "    adata.obsm['nsf'] = nsf_aligned\n",
    "    print(col)\n",
    "    find_leiden_resolution(adata, target_clusters=6,neighbors_key='nsf',key_added='NSF',use_rep='nsf')\n",
    "    nsf_aligned['Histology'] = adata.obs['Histology']\n",
    "    \n",
    "    mut_info=metrics.fowlkes_mallows_score(adata.obs['NSF'], nsf_aligned ['Histology'])\n",
    "    adj_rand=metrics.adjusted_rand_score(adata.obs['NSF'], nsf_aligned ['Histology'])\n",
    "    adj_mut_info=metrics.adjusted_mutual_info_score(adata.obs['NSF'], nsf_aligned ['Histology'])\n",
    "    res_nsf.append((col,mut_info,adj_rand,adj_mut_info))    "
   ]
  },
  {
   "cell_type": "code",
   "execution_count": null,
   "id": "c51e2e2b-317b-4c49-94a5-28367174d5ea",
   "metadata": {},
   "outputs": [],
   "source": [
    "score_nsf[2].max()"
   ]
  },
  {
   "cell_type": "code",
   "execution_count": null,
   "id": "3aabf5fb-35d3-4aba-80eb-6b8cd298cab8",
   "metadata": {},
   "outputs": [],
   "source": [
    "score_nsf = pd.DataFrame(res_nsf)   \n",
    "plt.plot(score_nsf[0],score_nsf[1],color=\"green\",label='Fowlkes Mallows Score')\n",
    "plt.plot(score_nsf[0],score_nsf[2],color=\"red\",label='Adjusted Rand Index Score')\n",
    "plt.plot(score_nsf[0],score_nsf[3],color=\"blue\",label='Adjusted Mutual Info Score')\n",
    "plt.xlabel(\"Number of Factors\")\n",
    "plt.ylabel(\"Score\")\n",
    "plt.title(\"NSF\")\n",
    "plt.legend(prop={'size': 9})"
   ]
  },
  {
   "cell_type": "code",
   "execution_count": null,
   "id": "4a42ee84",
   "metadata": {},
   "outputs": [],
   "source": [
    "res_nsfh = []\n",
    "for col in L:\n",
    "    nsfh_s = pd.read_csv(f'range_benchmark/spatialfactors_nsfh_prostate_poi_{col}_bench.csv',index_col=0)\n",
    "\n",
    "    nsfh_ns = pd.read_csv(f'range_benchmark/nonspatialfactors_nsfh_prostate_poi_{col}_bench.csv',index_col=0)\n",
    "    nsfh = pd.concat([nsfh_ns,nsfh_s], axis=1)\n",
    "    nsfh = nsfh.dropna(axis=1)\n",
    "    \n",
    "    nsfh_aligned = nsfh.reindex(adata.obs.index)\n",
    "    adata.obsm['nsfh'] = nsfh_aligned\n",
    "    find_leiden_resolution(adata, target_clusters=6,neighbors_key='nsfh',key_added='NSFH',use_rep='nsfh')\n",
    "    nsfh_aligned['Histology'] = adata.obs['Histology']\n",
    "    \n",
    "    mut_info=metrics.fowlkes_mallows_score(adata.obs['NSFH'], nsfh_aligned ['Histology'])\n",
    "    adj_rand=metrics.adjusted_rand_score(adata.obs['NSFH'], nsfh_aligned ['Histology'])\n",
    "    adj_mut_info=metrics.adjusted_mutual_info_score(adata.obs['NSFH'], nsfh_aligned ['Histology'])\n",
    "    res_nsfh.append((col,mut_info,adj_rand,adj_mut_info)) \n",
    "    "
   ]
  },
  {
   "cell_type": "code",
   "execution_count": null,
   "id": "4ad244a4",
   "metadata": {},
   "outputs": [],
   "source": [
    "score_nsfh = pd.DataFrame(res_nsfh)   \n",
    "plt.plot(score_nsfh[0],score_nsfh[1],color=\"green\",label='Fowlkes Mallows Score')\n",
    "plt.plot(score_nsfh[0],score_nsfh[2],color=\"red\",label='Adjusted Rand Index Score')\n",
    "plt.plot(score_nsfh[0],score_nsfh[3],color=\"blue\",label='Adjusted Mutual Info Score')\n",
    "plt.xlabel(\"Number of Factors\")\n",
    "plt.ylabel(\"Score\")\n",
    "plt.title(\"NSFH\")\n",
    "plt.legend(prop={'size': 9})"
   ]
  },
  {
   "cell_type": "code",
   "execution_count": null,
   "id": "3ad1934a-d812-4a74-bc30-d0dd94c83f58",
   "metadata": {},
   "outputs": [],
   "source": [
    "score_nsfh[2].max()"
   ]
  },
  {
   "cell_type": "code",
   "execution_count": null,
   "id": "452c1ba2-7f3b-4edd-9c9b-64c8c4a9ce8d",
   "metadata": {},
   "outputs": [],
   "source": [
    "score_nsfh"
   ]
  },
  {
   "cell_type": "code",
   "execution_count": null,
   "id": "de0eb34e",
   "metadata": {},
   "outputs": [],
   "source": [
    "res_pnmf = []\n",
    "for col in L:\n",
    "    pnmf = pd.read_csv(f'range_benchmark/factors_pnmf_prostate_poi_{col}_bench.csv',index_col=0)\n",
    "    pnmf = pnmf.dropna(axis=1)\n",
    "    pnmf_aligned = pnmf.reindex(adata.obs.index)\n",
    "    adata.obsm['pnmf'] = pnmf_aligned\n",
    "    find_leiden_resolution(adata, target_clusters=6,neighbors_key='pnmf',key_added='PNMF',use_rep='pnmf')\n",
    "    pnmf_aligned['Histology'] = adata.obs['Histology']\n",
    "    \n",
    "    mut_info=metrics.fowlkes_mallows_score(adata.obs['PNMF'],pnmf_aligned['Histology'])\n",
    "    adj_rand=metrics.adjusted_rand_score(adata.obs['PNMF'],pnmf_aligned['Histology'])\n",
    "    adj_mut_info=metrics.adjusted_mutual_info_score(adata.obs['PNMF'],pnmf_aligned['Histology'])\n",
    "    res_pnmf.append((col,mut_info,adj_rand,adj_mut_info))  "
   ]
  },
  {
   "cell_type": "code",
   "execution_count": null,
   "id": "40fdbbcf",
   "metadata": {},
   "outputs": [],
   "source": [
    "score_pnmf = pd.DataFrame(res_pnmf)   \n",
    "plt.plot(score_pnmf[0],score_pnmf[1],color=\"green\",label='Fowlkes Mallows Score')\n",
    "plt.plot(score_pnmf[0],score_pnmf[2],color=\"red\",label='Adjusted Rand Index Score')\n",
    "plt.plot(score_pnmf[0],score_pnmf[3],color=\"blue\",label='Adjusted Mutual Info Score')\n",
    "plt.xlabel(\"Number of Factors\")\n",
    "plt.ylabel(\"Score\")\n",
    "plt.title(\"PNMF\")\n",
    "plt.legend(prop={'size': 9})\n",
    "plt.savefig('/Users/user/Desktop/CellPie_paper/Revision/Revision_2/ARI_no_factors_pnmf_prostate.png')"
   ]
  },
  {
   "cell_type": "code",
   "execution_count": null,
   "id": "b336f95e-31c1-4543-9cae-fe3cea87da95",
   "metadata": {},
   "outputs": [],
   "source": [
    "score_pnmf[2].max()"
   ]
  },
  {
   "cell_type": "code",
   "execution_count": null,
   "id": "a5523f89-8bd5-470d-b32b-1b0971585e2c",
   "metadata": {},
   "outputs": [],
   "source": [
    "score_pnmf"
   ]
  },
  {
   "cell_type": "code",
   "execution_count": null,
   "id": "6dd137c9",
   "metadata": {},
   "outputs": [],
   "source": [
    "L = np.arange(8,39)\n",
    "L"
   ]
  },
  {
   "cell_type": "code",
   "execution_count": null,
   "id": "29ac9941",
   "metadata": {},
   "outputs": [],
   "source": [
    "res_mefisto = []\n",
    "for col in L:\n",
    "    mef = pd.read_csv(f'range_benchmark/new_factors_mefisto_prostate_{col}_bench.csv',index_col=0)\n",
    "    mef = mef.dropna(axis=1)\n",
    "    mef_aligned = mef.reindex(adata.obs.index)\n",
    "    adata.obsm['mefisto'] = mef_aligned\n",
    "    find_leiden_resolution(adata, target_clusters=6,neighbors_key='mefisto',key_added='MEFISTO',use_rep='mefisto')\n",
    "    mef_aligned['Histology'] = adata.obs['Histology']\n",
    "    \n",
    "    mut_info=metrics.fowlkes_mallows_score(adata.obs['MEFISTO'],mef_aligned['Histology'])\n",
    "    adj_rand=metrics.adjusted_rand_score(adata.obs['MEFISTO'],mef_aligned['Histology'])\n",
    "    adj_mut_info=metrics.adjusted_mutual_info_score(adata.obs['MEFISTO'],mef_aligned['Histology'])\n",
    "    res_mefisto.append((col,mut_info,adj_rand,adj_mut_info)) "
   ]
  },
  {
   "cell_type": "code",
   "execution_count": null,
   "id": "fd92e8b7-3778-4bb6-a167-ade053c7cf4c",
   "metadata": {},
   "outputs": [],
   "source": [
    "score_mef[2].max()"
   ]
  },
  {
   "cell_type": "code",
   "execution_count": null,
   "id": "5bdba542-398c-490e-a7a6-d7dc80c7659b",
   "metadata": {},
   "outputs": [],
   "source": [
    "score_mef"
   ]
  },
  {
   "cell_type": "code",
   "execution_count": null,
   "id": "b79c2ec6",
   "metadata": {},
   "outputs": [],
   "source": [
    "score_mef = pd.DataFrame(res_mefisto)   \n",
    "plt.plot(score_mef[0],score_mef[1],color=\"green\",label='Fowlkes Mallows Score')\n",
    "plt.plot(score_mef[0],score_mef[2],color=\"red\",label='Adjusted Rand Index Score')\n",
    "plt.plot(score_mef[0],score_mef[3],color=\"blue\",label='Adjusted Mutual Info Score')\n",
    "plt.xlabel(\"Number of Factors\")\n",
    "plt.ylabel(\"Score\")\n",
    "plt.title(\"MEFISTO\")\n",
    "plt.legend(prop={'size': 9})"
   ]
  },
  {
   "cell_type": "code",
   "execution_count": null,
   "id": "c5907437",
   "metadata": {},
   "outputs": [],
   "source": [
    "score_mef"
   ]
  },
  {
   "cell_type": "code",
   "execution_count": null,
   "id": "ae1f7065",
   "metadata": {},
   "outputs": [],
   "source": [
    "L = np.arange(8,51)\n",
    "L"
   ]
  },
  {
   "cell_type": "code",
   "execution_count": null,
   "id": "1881d608",
   "metadata": {
    "scrolled": true
   },
   "outputs": [],
   "source": [
    "from sklearn.decomposition import FactorAnalysis\n",
    "res_fa = []\n",
    "for col in L:\n",
    "    transformer = FactorAnalysis(n_components=col, random_state=random_state)\n",
    "    X_transformed = transformer.fit_transform(adata.X.toarray())\n",
    "    adata.obsm['fa'] = X_transformed\n",
    "    find_leiden_resolution(adata, target_clusters=6,neighbors_key='fa',key_added='FA',use_rep='fa')\n",
    "    \n",
    "    mut_info=metrics.fowlkes_mallows_score(adata.obs['FA'],adata.obs['Histology'])\n",
    "    adj_rand=metrics.adjusted_rand_score(adata.obs['FA'],adata.obs['Histology'])\n",
    "    adj_mut_info=metrics.adjusted_mutual_info_score(adata.obs['FA'],adata.obs['Histology'])\n",
    "    res_fa.append((col,mut_info,adj_rand,adj_mut_info)) "
   ]
  },
  {
   "cell_type": "code",
   "execution_count": null,
   "id": "05060551",
   "metadata": {},
   "outputs": [],
   "source": [
    "score_fa = pd.DataFrame(res_fa)   \n",
    "plt.plot(score_fa[0],score_fa[1],color=\"green\",label='Fowlkes Mallows Score')\n",
    "plt.plot(score_fa[0],score_fa[2],color=\"red\",label='Adjusted Rand Index Score')\n",
    "plt.plot(score_fa[0],score_fa[3],color=\"blue\",label='Adjusted Mutual Info Score')\n",
    "plt.xlabel(\"Number of Factors\")\n",
    "plt.ylabel(\"Score\")\n",
    "plt.title(\"FA\")\n",
    "plt.legend(prop={'size': 9})"
   ]
  },
  {
   "cell_type": "code",
   "execution_count": null,
   "id": "32a08459-894e-4f5e-a17e-b77559c38eb0",
   "metadata": {},
   "outputs": [],
   "source": [
    "score_fa"
   ]
  },
  {
   "cell_type": "code",
   "execution_count": null,
   "id": "0b61ce32-d329-46b0-bb24-171403831a12",
   "metadata": {},
   "outputs": [],
   "source": [
    "score_fa[2].max()"
   ]
  },
  {
   "cell_type": "code",
   "execution_count": null,
   "id": "9928bdf1",
   "metadata": {},
   "outputs": [],
   "source": [
    "# score_fa.to_csv('fa_range_of_factors_leiden_results_paper.csv')\n",
    "# score_nsf.to_csv('nsf_range_of_factors_leiden_results_paper.csv')\n",
    "# score_nsfh.to_csv('nsfh_range_of_factors_leiden_results_paper.csv')\n",
    "# score_mef.to_csv('mefisto_range_of_factors_leiden_results_paper.csv')"
   ]
  },
  {
   "cell_type": "code",
   "execution_count": null,
   "id": "90e4e15c-0770-49cd-9850-d9bd57b6655d",
   "metadata": {},
   "outputs": [],
   "source": []
  }
 ],
 "metadata": {
  "jupytext": {
   "encoding": "# -*- coding: utf-8 -*-"
  },
  "kernelspec": {
   "display_name": "Python 3 (ipykernel)",
   "language": "python",
   "name": "python3"
  },
  "language_info": {
   "codemirror_mode": {
    "name": "ipython",
    "version": 3
   },
   "file_extension": ".py",
   "mimetype": "text/x-python",
   "name": "python",
   "nbconvert_exporter": "python",
   "pygments_lexer": "ipython3",
   "version": "3.12.4"
  }
 },
 "nbformat": 4,
 "nbformat_minor": 5
}
