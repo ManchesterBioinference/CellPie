{
 "cells": [
  {
   "cell_type": "markdown",
   "id": "513e4bc1-4d64-4823-bb41-0f7109284d67",
   "metadata": {},
   "source": [
    "Load required libraries. int_nmf_model must be in the same directory. If it is not it can be added to pythons path"
   ]
  },
  {
   "cell_type": "code",
   "execution_count": null,
   "id": "95ff68b8-bd25-4c74-ac54-059372017ae1",
   "metadata": {
    "ExecuteTime": {
     "end_time": "2023-07-20T14:30:56.012795Z",
     "start_time": "2023-07-20T14:30:56.005865Z"
    },
    "tags": []
   },
   "outputs": [],
   "source": [
    "import anndata as ad\n",
    "import scanpy as sc\n",
    "import numpy as np\n",
    "import scipy\n",
    "import sys\n",
    "sys.path.append(\"../../CellPie/\") # go to parent dir\n",
    "import cellpie_main as cp\n",
    "from cellpie_main import intNMF\n",
    "import anndata as ad\n",
    "from matplotlib import pyplot as plt\n",
    "import scipy.io\n",
    "import pandas as pd\n",
    "import squidpy as sq\n",
    "from PIL import Image\n",
    "from sklearn.cluster import KMeans\n",
    "import seaborn as sns\n",
    "import spatialdata as sd\n",
    "import spatialdata_io\n",
    "from spatialdata_io import visium_hd"
   ]
  },
  {
   "cell_type": "code",
   "execution_count": null,
   "id": "03ab9e29",
   "metadata": {
    "ExecuteTime": {
     "end_time": "2023-07-20T14:30:56.174729Z",
     "start_time": "2023-07-20T14:30:56.169872Z"
    }
   },
   "outputs": [],
   "source": [
    "sc.set_figure_params(scanpy=True, dpi=250, dpi_save=200)"
   ]
  },
  {
   "cell_type": "code",
   "execution_count": null,
   "id": "8fce8b3b-6f22-49c6-8045-06d79a50043a",
   "metadata": {},
   "outputs": [],
   "source": [
    "random_state=123"
   ]
  },
  {
   "cell_type": "markdown",
   "id": "e26b51ad",
   "metadata": {},
   "source": [
    "# CellPie"
   ]
  },
  {
   "cell_type": "code",
   "execution_count": null,
   "id": "77e9ca32-3733-4b40-b24e-a4193be83460",
   "metadata": {},
   "outputs": [],
   "source": [
    "%%sh\n",
    "mkdir -p visium_hd_crc_p1\n",
    "pushd visium_hd_crc_p1/\n",
    "wget https://cf.10xgenomics.com/samples/spatial-exp/3.0.0/Visium_HD_Human_Colon_Cancer_P1/Visium_HD_Human_Colon_Cancer_P1_binned_outputs.tar.gz\n",
    "wget https://cf.10xgenomics.com/samples/spatial-exp/3.0.0/Visium_HD_Human_Colon_Cancer_P1/Visium_HD_Human_Colon_Cancer_P1_spatial.tar.gz\n",
    "wget https://cf.10xgenomics.com/samples/spatial-exp/3.0.0/Visium_HD_Human_Colon_Cancer_P1/Visium_HD_Human_Colon_Cancer_P1_molecule_info.h5\n",
    "wget https://cf.10xgenomics.com/samples/spatial-exp/3.0.0/Visium_HD_Human_Colon_Cancer_P1/Visium_HD_Human_Colon_Cancer_P1_feature_slice.h5\n",
    "tar -xzf Visium_HD_Human_Colon_Cancer_P1_binned_output.tar.gz\n",
    "tar -xzf Visium_HD_Human_Colon_Cancer_P1_spatial.tar.gz\n",
    "rm Visium_HD_Human_Colon_Cancer_P1_binned_output.tar.gz\n",
    "rm Visium_HD_Human_Colon_Cancer_P1_spatial.tar.gz\n",
    "popd"
   ]
  },
  {
   "cell_type": "code",
   "execution_count": null,
   "id": "8dc380de-0536-4b2b-b93e-6794f481694d",
   "metadata": {},
   "outputs": [],
   "source": [
    "sdata = spatialdata_io.visium_hd('visium_hd_crc_p1/')"
   ]
  },
  {
   "cell_type": "code",
   "execution_count": null,
   "id": "804eaba0-bf16-4c48-a050-a460b617d835",
   "metadata": {},
   "outputs": [],
   "source": [
    "scale_range = [0.01,0.05,0.1,0.5,1,1.5,2,2.5,3]"
   ]
  },
  {
   "cell_type": "code",
   "execution_count": null,
   "id": "dcf56905-fe88-4744-a771-f70f6510a2da",
   "metadata": {},
   "outputs": [],
   "source": [
    "from feature_extr import extract_features_visiumhd\n",
    "features = extract_features_visiumhd(sdata,img_path='visium_hd_crc_p1/binned_outputs/square_016um/spatial/tissue_hires_image.png',\n",
    "                           json_path = 'visium_hd_crc_p1/binned_outputs/square_016um/spatial/scalefactors_json.json',resolution='square_016um',\n",
    "                                     spot_scale=scale_range,bins=100)"
   ]
  },
  {
   "cell_type": "code",
   "execution_count": null,
   "id": "2880ffb9-e25e-4137-8352-2db03b0e148f",
   "metadata": {},
   "outputs": [],
   "source": [
    "from spatialdata_io.experimental import from_legacy_anndata, to_legacy_anndata\n",
    "adata = to_legacy_anndata(sdata, include_images=True,table_name='square_016um',coordinate_system='downscaled_hires')"
   ]
  },
  {
   "cell_type": "code",
   "execution_count": null,
   "id": "4197f8dc-cff8-4815-b5c2-42ba7ba7e368",
   "metadata": {},
   "outputs": [],
   "source": [
    "from cp_utils import preprocess_data_visiumHD\n",
    "preprocess_data_visiumHD(adata)"
   ]
  },
  {
   "cell_type": "code",
   "execution_count": null,
   "id": "0736e117-e77a-4165-94c1-cace7f95b2ed",
   "metadata": {
    "scrolled": true
   },
   "outputs": [],
   "source": [
    "# # Model selection\n",
    "# from cp_utils import model_selection_alpha\n",
    "# k = np.arange(1,101)\n",
    "# mod_sel = model_selection_alpha(adata,k,random_state=random_state,epochs = 20, init='random',mod1_skew=1)"
   ]
  },
  {
   "cell_type": "code",
   "execution_count": null,
   "id": "ba7cc4b9",
   "metadata": {},
   "outputs": [],
   "source": [
    "k=80"
   ]
  },
  {
   "cell_type": "code",
   "execution_count": null,
   "id": "74a6587b",
   "metadata": {
    "ExecuteTime": {
     "end_time": "2023-07-20T15:17:45.469192Z",
     "start_time": "2023-07-20T15:15:55.839883Z"
    },
    "scrolled": true
   },
   "outputs": [],
   "source": [
    "%%time\n",
    "nmf_model = intNMF(adata,k,epochs = 20, init = 'random',random_state=random_state,mod1_skew=0.9)\n",
    "nmf_model.fit(adata)"
   ]
  },
  {
   "cell_type": "code",
   "execution_count": null,
   "id": "094cfa8f-9d21-485f-b6da-e9afa457143c",
   "metadata": {},
   "outputs": [],
   "source": [
    "adata.var_names_make_unique()\n",
    "reg = sc.get.obs_df(adata,keys='REG1A')\n",
    "tgf = sc.get.obs_df(adata,keys='TGFBI')"
   ]
  },
  {
   "cell_type": "code",
   "execution_count": null,
   "id": "d7785ad9-b0cb-42dc-9b48-6d52b2e282c0",
   "metadata": {
    "scrolled": true
   },
   "outputs": [],
   "source": [
    "from re import sub\n",
    "import matplotlib as mpl\n",
    "# sel_clust = ['Factor_'+str(i+1) for i in range(k)]\n",
    "sel_clust = ['Factor_34','REG1A','Factor_11','TGFBI']\n",
    "with mpl.rc_context({'figure.figsize': (10, 8), 'axes.facecolor': 'black'}):\n",
    "    sc.pl.spatial(adata,\n",
    "                cmap='magma',\n",
    "                color=sel_clust,\n",
    "                library_id = 'Visium_HD_Human_Colon_Cancer_P1_hires_image',\n",
    "                ncols=2,\n",
    "                size=3, img_key='hires', \n",
    "                alpha_img=0.2)"
   ]
  },
  {
   "cell_type": "code",
   "execution_count": null,
   "id": "0d28fb86-5ef3-4fbd-aa1e-8f955ecb72a0",
   "metadata": {
    "scrolled": true
   },
   "outputs": [],
   "source": [
    "# weight=0.8\n",
    "from re import sub\n",
    "import matplotlib as mpl\n",
    "sel_clust = ['Factor_'+str(i+1) for i in range(k)]\n",
    "with mpl.rc_context({'figure.figsize': (5, 6), 'axes.facecolor': 'black'}):\n",
    "    sc.pl.spatial(adata,\n",
    "                cmap='magma',\n",
    "                color=sel_clust,\n",
    "                library_id = 'Visium_HD_Human_Colon_Cancer_P1_hires_image',\n",
    "                ncols=7,\n",
    "                size=5, img_key='hires', \n",
    "                alpha_img=0.2\n",
    "                 )"
   ]
  },
  {
   "cell_type": "code",
   "execution_count": null,
   "id": "857c8078-06e4-4fae-b024-99dd89933640",
   "metadata": {},
   "outputs": [],
   "source": [
    "pd.DataFrame(mi_scores_reg_all).to_csv('REG1A.csv')\n",
    "pd.DataFrame(mi_scores_tgf_all).to_csv('TGF.csv')"
   ]
  },
  {
   "cell_type": "code",
   "execution_count": null,
   "id": "45b46bf9-0b9a-4c4d-9c3c-e4f9a51dbee1",
   "metadata": {},
   "outputs": [],
   "source": [
    "mi_scores_tgf_all.max(axis=1)"
   ]
  },
  {
   "cell_type": "code",
   "execution_count": null,
   "id": "36f87c0f-e9af-45fc-a87b-20413293a833",
   "metadata": {},
   "outputs": [],
   "source": [
    "weights = np.arange(0.1, 2.01, 0.1)\n",
    "plt.figure(figsize=(10, 6))\n",
    "\n",
    "plt.plot(weights, mi_scores_reg_all.max(axis=1), marker='o', linestyle='-', color='b', label='Max REG1A Correlation')\n",
    "plt.plot(weights, mi_scores_tgf_all.max(axis=1), marker='o', linestyle='--', color='r', label='Max TGF Correlation')\n",
    "\n",
    "plt.title('Maximum Pearson Correlation Between Factors per Weight')\n",
    "plt.xlabel('Weight (mod1_skew)')\n",
    "plt.ylabel('Maximum Correlation')\n",
    "plt.ylim(0.5, 1) \n",
    "plt.grid(True)\n",
    "plt.legend()\n",
    "plt.show()"
   ]
  },
  {
   "cell_type": "code",
   "execution_count": null,
   "id": "b105126b",
   "metadata": {},
   "outputs": [],
   "source": [
    "import gseapy as gp"
   ]
  },
  {
   "cell_type": "code",
   "execution_count": null,
   "id": "a5d43501-4ed9-4923-8274-511b4fd68422",
   "metadata": {},
   "outputs": [],
   "source": [
    "plt.rcParams[\"axes.grid\"] = False"
   ]
  },
  {
   "cell_type": "code",
   "execution_count": null,
   "id": "bbd62182",
   "metadata": {},
   "outputs": [],
   "source": [
    "def gene_er(topic):\n",
    "    enr = gp.enrichr(gene_list=topic, # or \"./tests/data/gene_list.txt\",\n",
    "                gene_sets=['MSigDB_Hallmark_2020'],\n",
    "                organism='human', # don't forget to set organism to the one you desired! e.g. Yeast\n",
    "                outdir=None, # don't write to disk\n",
    "                )\n",
    "    return enr"
   ]
  },
  {
   "cell_type": "code",
   "execution_count": null,
   "id": "30b81d3a",
   "metadata": {},
   "outputs": [],
   "source": [
    "l=cp.get_genes_topic(adata,nmf_model.phi_expr)"
   ]
  },
  {
   "cell_type": "code",
   "execution_count": null,
   "id": "09ba4c9b-e944-4f89-9391-8c6108ee394e",
   "metadata": {},
   "outputs": [],
   "source": [
    "spp1_mac = ['CD52','FBP1','IL1RN','FN1','LPL','CHI3L1','MMP7','SPP1','CHIT1','TGFBI']\n",
    "selenop_mac = ['SPP1','CSF1R','MPEG1','MS4A6A','FGL2','SLC40A1','IGKC','STAB1','SELENOP','REG1A','REG1B']"
   ]
  },
  {
   "cell_type": "code",
   "execution_count": null,
   "id": "7e22fbfd",
   "metadata": {},
   "outputs": [],
   "source": [
    "enr34 = gene_er(l.T[33].sort_values(ascending=False).index[0:150].to_list())\n",
    "enr11 = gene_er(l.T[10].sort_values(ascending=False).index[0:150].to_list())"
   ]
  },
  {
   "cell_type": "code",
   "execution_count": null,
   "id": "f938ff90-e8fe-4c97-89b3-9da06f8ed8dc",
   "metadata": {},
   "outputs": [],
   "source": [
    "sc.set_figure_params(scanpy=True, dpi=250, dpi_save=300)"
   ]
  },
  {
   "cell_type": "code",
   "execution_count": null,
   "id": "901b7df4",
   "metadata": {},
   "outputs": [],
   "source": [
    "gp.barplot(enr34.res2d,title='GO_Biological_Process_2023_Factor_34',color=['darkred'])\n",
    "plt.grid(False)"
   ]
  },
  {
   "cell_type": "code",
   "execution_count": null,
   "id": "1291672a",
   "metadata": {},
   "outputs": [],
   "source": [
    "gp.barplot(enr11.res2d,title='GO_Biological_Process_2023_Factor_11',color=['darkred'])\n",
    "plt.grid(False)"
   ]
  }
 ],
 "metadata": {
  "kernelspec": {
   "display_name": "Python 3 (ipykernel)",
   "language": "python",
   "name": "python3"
  },
  "language_info": {
   "codemirror_mode": {
    "name": "ipython",
    "version": 3
   },
   "file_extension": ".py",
   "mimetype": "text/x-python",
   "name": "python",
   "nbconvert_exporter": "python",
   "pygments_lexer": "ipython3",
   "version": "3.12.4"
  }
 },
 "nbformat": 4,
 "nbformat_minor": 5
}
