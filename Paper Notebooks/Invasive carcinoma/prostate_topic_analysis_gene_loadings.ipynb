{
 "cells": [
  {
   "cell_type": "markdown",
   "metadata": {},
   "source": [
    "# Overview \n",
    "\n",
    "### Each topic outputs a set of genes with a score. Scanpy.tl.score_genes and the PCa cell signatures from H.Song were used to rank cell types within each topic.  The highest ranked genes and cell types per topic were used for futher analysis."
   ]
  },
  {
   "cell_type": "markdown",
   "metadata": {},
   "source": [
    "Imports "
   ]
  },
  {
   "cell_type": "code",
   "execution_count": 1,
   "metadata": {
    "ExecuteTime": {
     "end_time": "2023-01-19T14:20:00.370102Z",
     "start_time": "2023-01-19T14:19:56.723035Z"
    }
   },
   "outputs": [],
   "source": [
    "import pandas as pd \n",
    "import scanpy as sc \n",
    "import numpy as np\n"
   ]
  },
  {
   "cell_type": "markdown",
   "metadata": {},
   "source": [
    "Load  cell pie output - topics x genes "
   ]
  },
  {
   "cell_type": "code",
   "execution_count": 2,
   "metadata": {
    "ExecuteTime": {
     "end_time": "2023-01-19T14:21:45.714662Z",
     "start_time": "2023-01-19T14:21:45.681479Z"
    }
   },
   "outputs": [],
   "source": [
    "iac_path = 'Results/genes_prostate_reproduce.h5ad' \n",
    "iac_adata = sc.read(iac_path)"
   ]
  },
  {
   "cell_type": "markdown",
   "metadata": {},
   "source": [
    "Load PCa cell type signatures from H.Song - https://www.nature.com/articles/s41467-021-27322-4"
   ]
  },
  {
   "cell_type": "code",
   "execution_count": 3,
   "metadata": {
    "ExecuteTime": {
     "end_time": "2023-01-19T14:21:48.688388Z",
     "start_time": "2023-01-19T14:21:48.680846Z"
    }
   },
   "outputs": [],
   "source": [
    "def load_cell_type_signatures():\n",
    "\n",
    "    # Load PCa signature \n",
    "    cell_type_signatures = pd.read_excel('Data/Cell_type_markers.xlsx', 'PCa signature') # SET PATH TO cell_type_markers \n",
    "\n",
    "    # Combine markers from ERGneg and ERGpos tumour to tumour \n",
    "    # Find union between markers \n",
    "    erg_neg = cell_type_signatures['ERGneg_Tumor'].dropna().values\n",
    "    erg_pos = cell_type_signatures['ERGpos_Tumor'].dropna().values\n",
    "    tumour = np.hstack((erg_pos,erg_neg))\n",
    "\n",
    "    # Attach NAN to end to match length of other signatures \n",
    "    tumour = np.unique(tumour).reshape(1,-1)\n",
    "    end_attch = np.array(['NaN'] * (205-93)).reshape(1,-1)\n",
    "\n",
    "    # Combine and replace ERGpos Tumor, ERGneg Tumor with Tumor  in original df \n",
    "    tumour = np.hstack((tumour, end_attch))\n",
    "    cell_type_signatures = cell_type_signatures.drop(['ERGpos_Tumor', 'ERGneg_Tumor'], axis=1)\n",
    "    cell_type_signatures['Tumor'] = tumour[0]\n",
    "    return cell_type_signatures\n"
   ]
  },
  {
   "cell_type": "code",
   "execution_count": 4,
   "metadata": {
    "ExecuteTime": {
     "end_time": "2023-01-19T14:21:50.985540Z",
     "start_time": "2023-01-19T14:21:50.742966Z"
    }
   },
   "outputs": [
    {
     "data": {
      "text/html": [
       "<div>\n",
       "<style scoped>\n",
       "    .dataframe tbody tr th:only-of-type {\n",
       "        vertical-align: middle;\n",
       "    }\n",
       "\n",
       "    .dataframe tbody tr th {\n",
       "        vertical-align: top;\n",
       "    }\n",
       "\n",
       "    .dataframe thead th {\n",
       "        text-align: right;\n",
       "    }\n",
       "</style>\n",
       "<table border=\"1\" class=\"dataframe\">\n",
       "  <thead>\n",
       "    <tr style=\"text-align: right;\">\n",
       "      <th></th>\n",
       "      <th>BE</th>\n",
       "      <th>Club</th>\n",
       "      <th>LE</th>\n",
       "      <th>Endothelial</th>\n",
       "      <th>Fibroblast</th>\n",
       "      <th>Smooth_muscle</th>\n",
       "      <th>T-cells</th>\n",
       "      <th>Myeloid</th>\n",
       "      <th>Neurons</th>\n",
       "      <th>B-cells</th>\n",
       "      <th>Tumor</th>\n",
       "    </tr>\n",
       "  </thead>\n",
       "  <tbody>\n",
       "    <tr>\n",
       "      <th>0</th>\n",
       "      <td>KRT15</td>\n",
       "      <td>MMP7</td>\n",
       "      <td>MSMB</td>\n",
       "      <td>VWF</td>\n",
       "      <td>DCN</td>\n",
       "      <td>MYH11</td>\n",
       "      <td>IL7R</td>\n",
       "      <td>IL1B</td>\n",
       "      <td>S100B</td>\n",
       "      <td>IGKC</td>\n",
       "      <td>A2M</td>\n",
       "    </tr>\n",
       "    <tr>\n",
       "      <th>1</th>\n",
       "      <td>KRT5</td>\n",
       "      <td>PIGR</td>\n",
       "      <td>ACPP</td>\n",
       "      <td>SELE</td>\n",
       "      <td>FBLN1</td>\n",
       "      <td>RGS5</td>\n",
       "      <td>TRBC2</td>\n",
       "      <td>HLA-DRA</td>\n",
       "      <td>NRXN1</td>\n",
       "      <td>CD79A</td>\n",
       "      <td>AGR2</td>\n",
       "    </tr>\n",
       "    <tr>\n",
       "      <th>2</th>\n",
       "      <td>KRT13</td>\n",
       "      <td>OLFM4</td>\n",
       "      <td>NEFH</td>\n",
       "      <td>IFI27</td>\n",
       "      <td>COL1A2</td>\n",
       "      <td>ACTA2</td>\n",
       "      <td>CCL5</td>\n",
       "      <td>HLA-DPA1</td>\n",
       "      <td>SOX2</td>\n",
       "      <td>CXCR4</td>\n",
       "      <td>ALDH1A3</td>\n",
       "    </tr>\n",
       "    <tr>\n",
       "      <th>3</th>\n",
       "      <td>SLC14A1</td>\n",
       "      <td>CP</td>\n",
       "      <td>ORM1</td>\n",
       "      <td>FLT1</td>\n",
       "      <td>IGF1</td>\n",
       "      <td>TAGLN</td>\n",
       "      <td>IFNG</td>\n",
       "      <td>HLA-DPB1</td>\n",
       "      <td>SOX10</td>\n",
       "      <td>CD37</td>\n",
       "      <td>ARL5B</td>\n",
       "    </tr>\n",
       "    <tr>\n",
       "      <th>4</th>\n",
       "      <td>DST</td>\n",
       "      <td>RARRES1</td>\n",
       "      <td>ANPEP</td>\n",
       "      <td>SPARCL1</td>\n",
       "      <td>C7</td>\n",
       "      <td>MYL9</td>\n",
       "      <td>CD8A</td>\n",
       "      <td>HLA-DRB1</td>\n",
       "      <td>NaN</td>\n",
       "      <td>MS4A1</td>\n",
       "      <td>CACNA1D</td>\n",
       "    </tr>\n",
       "    <tr>\n",
       "      <th>...</th>\n",
       "      <td>...</td>\n",
       "      <td>...</td>\n",
       "      <td>...</td>\n",
       "      <td>...</td>\n",
       "      <td>...</td>\n",
       "      <td>...</td>\n",
       "      <td>...</td>\n",
       "      <td>...</td>\n",
       "      <td>...</td>\n",
       "      <td>...</td>\n",
       "      <td>...</td>\n",
       "    </tr>\n",
       "    <tr>\n",
       "      <th>200</th>\n",
       "      <td>NaN</td>\n",
       "      <td>NaN</td>\n",
       "      <td>NaN</td>\n",
       "      <td>NaN</td>\n",
       "      <td>NaN</td>\n",
       "      <td>NaN</td>\n",
       "      <td>NaN</td>\n",
       "      <td>PLCB2</td>\n",
       "      <td>NaN</td>\n",
       "      <td>NaN</td>\n",
       "      <td>NaN</td>\n",
       "    </tr>\n",
       "    <tr>\n",
       "      <th>201</th>\n",
       "      <td>NaN</td>\n",
       "      <td>NaN</td>\n",
       "      <td>NaN</td>\n",
       "      <td>NaN</td>\n",
       "      <td>NaN</td>\n",
       "      <td>NaN</td>\n",
       "      <td>NaN</td>\n",
       "      <td>EMR2</td>\n",
       "      <td>NaN</td>\n",
       "      <td>NaN</td>\n",
       "      <td>NaN</td>\n",
       "    </tr>\n",
       "    <tr>\n",
       "      <th>202</th>\n",
       "      <td>NaN</td>\n",
       "      <td>NaN</td>\n",
       "      <td>NaN</td>\n",
       "      <td>NaN</td>\n",
       "      <td>NaN</td>\n",
       "      <td>NaN</td>\n",
       "      <td>NaN</td>\n",
       "      <td>C10orf54</td>\n",
       "      <td>NaN</td>\n",
       "      <td>NaN</td>\n",
       "      <td>NaN</td>\n",
       "    </tr>\n",
       "    <tr>\n",
       "      <th>203</th>\n",
       "      <td>NaN</td>\n",
       "      <td>NaN</td>\n",
       "      <td>NaN</td>\n",
       "      <td>NaN</td>\n",
       "      <td>NaN</td>\n",
       "      <td>NaN</td>\n",
       "      <td>NaN</td>\n",
       "      <td>SERPINA1</td>\n",
       "      <td>NaN</td>\n",
       "      <td>NaN</td>\n",
       "      <td>NaN</td>\n",
       "    </tr>\n",
       "    <tr>\n",
       "      <th>204</th>\n",
       "      <td>NaN</td>\n",
       "      <td>NaN</td>\n",
       "      <td>NaN</td>\n",
       "      <td>NaN</td>\n",
       "      <td>NaN</td>\n",
       "      <td>NaN</td>\n",
       "      <td>NaN</td>\n",
       "      <td>PPP1R15A</td>\n",
       "      <td>NaN</td>\n",
       "      <td>NaN</td>\n",
       "      <td>NaN</td>\n",
       "    </tr>\n",
       "  </tbody>\n",
       "</table>\n",
       "<p>205 rows × 11 columns</p>\n",
       "</div>"
      ],
      "text/plain": [
       "          BE     Club     LE Endothelial Fibroblast Smooth_muscle T-cells  \\\n",
       "0      KRT15     MMP7   MSMB         VWF        DCN         MYH11    IL7R   \n",
       "1       KRT5     PIGR   ACPP        SELE      FBLN1          RGS5   TRBC2   \n",
       "2      KRT13    OLFM4   NEFH       IFI27     COL1A2         ACTA2    CCL5   \n",
       "3    SLC14A1       CP   ORM1        FLT1       IGF1         TAGLN    IFNG   \n",
       "4        DST  RARRES1  ANPEP     SPARCL1         C7          MYL9    CD8A   \n",
       "..       ...      ...    ...         ...        ...           ...     ...   \n",
       "200      NaN      NaN    NaN         NaN        NaN           NaN     NaN   \n",
       "201      NaN      NaN    NaN         NaN        NaN           NaN     NaN   \n",
       "202      NaN      NaN    NaN         NaN        NaN           NaN     NaN   \n",
       "203      NaN      NaN    NaN         NaN        NaN           NaN     NaN   \n",
       "204      NaN      NaN    NaN         NaN        NaN           NaN     NaN   \n",
       "\n",
       "      Myeloid Neurons  B-cells    Tumor  \n",
       "0        IL1B    S100B    IGKC      A2M  \n",
       "1     HLA-DRA    NRXN1   CD79A     AGR2  \n",
       "2    HLA-DPA1     SOX2   CXCR4  ALDH1A3  \n",
       "3    HLA-DPB1    SOX10    CD37    ARL5B  \n",
       "4    HLA-DRB1      NaN   MS4A1  CACNA1D  \n",
       "..        ...      ...     ...      ...  \n",
       "200     PLCB2      NaN     NaN      NaN  \n",
       "201      EMR2      NaN     NaN      NaN  \n",
       "202  C10orf54      NaN     NaN      NaN  \n",
       "203  SERPINA1      NaN     NaN      NaN  \n",
       "204  PPP1R15A      NaN     NaN      NaN  \n",
       "\n",
       "[205 rows x 11 columns]"
      ]
     },
     "execution_count": 4,
     "metadata": {},
     "output_type": "execute_result"
    }
   ],
   "source": [
    "cell_type_signatures = load_cell_type_signatures()\n",
    "cell_type_signatures"
   ]
  },
  {
   "cell_type": "markdown",
   "metadata": {},
   "source": [
    "Score each cell type within each topic using topic scored ranked genes "
   ]
  },
  {
   "cell_type": "code",
   "execution_count": 5,
   "metadata": {
    "ExecuteTime": {
     "end_time": "2023-01-19T14:21:54.744464Z",
     "start_time": "2023-01-19T14:21:54.738536Z"
    }
   },
   "outputs": [],
   "source": [
    "def score_celltypes_per_topic(iac_adata, cell_type_signatures):\n",
    "    ''' Uses topic score for each gene to rank cell types per topic'''\n",
    "    \n",
    "    # Cell type to be scored \n",
    "    cell_names = cell_type_signatures.columns.tolist()\n",
    "    \n",
    "    # Assign score for each cell type add to adata \n",
    "    for i in cell_names: \n",
    "        cell_genes = cell_type_signatures[i].values\n",
    "        sc.tl.score_genes(iac_adata, cell_genes, score_name=i)\n",
    "    \n",
    "    return iac_adata \n",
    "    "
   ]
  },
  {
   "cell_type": "code",
   "execution_count": 6,
   "metadata": {
    "ExecuteTime": {
     "end_time": "2023-01-19T14:21:57.520238Z",
     "start_time": "2023-01-19T14:21:57.341544Z"
    }
   },
   "outputs": [
    {
     "name": "stdout",
     "output_type": "stream",
     "text": [
      "WARNING: genes are not in var_names and ignored: ['KRT19', 'PDLIM1', 'MIR205HG', 'SEMG1', 'CYR61', nan, nan, nan, nan, nan, nan, nan, nan, nan, nan, nan, nan, nan, nan, nan, nan, nan, nan, nan, nan, nan, nan, nan, nan, nan, nan, nan, nan, nan, nan, nan, nan, nan, nan, nan, nan, nan, nan, nan, nan, nan, nan, nan, nan, nan, nan, nan, nan, nan, nan, nan, nan, nan, nan, nan, nan, nan, nan, nan, nan, nan, nan, nan, nan, nan, nan, nan, nan, nan, nan, nan, nan, nan, nan, nan, nan, nan, nan, nan, nan, nan, nan, nan, nan, nan, nan, nan, nan, nan, nan, nan, nan, nan, nan, nan, nan, nan, nan, nan, nan, nan, nan, nan, nan, nan, nan, nan, nan, nan, nan, nan, nan, nan, nan, nan, nan, nan, nan, nan, nan, nan, nan, nan, nan, nan, nan, nan, nan, nan, nan, nan, nan, nan, nan, nan, nan]\n",
      "WARNING: genes are not in var_names and ignored: ['KRT19', 'HLA-DRB1', 'CEACAM6', nan, nan, nan, nan, nan, nan, nan, nan, nan, nan, nan, nan, nan, nan, nan, nan, nan, nan, nan, nan, nan, nan, nan, nan, nan, nan, nan, nan, nan, nan, nan, nan, nan, nan, nan, nan, nan, nan, nan, nan, nan, nan, nan, nan, nan, nan, nan, nan, nan, nan, nan, nan, nan, nan, nan, nan, nan, nan, nan, nan, nan, nan, nan, nan, nan, nan, nan, nan, nan, nan, nan, nan, nan, nan, nan, nan, nan, nan, nan, nan, nan, nan, nan, nan, nan, nan, nan, nan, nan, nan, nan, nan, nan, nan, nan, nan, nan, nan, nan, nan, nan, nan, nan, nan, nan, nan, nan, nan, nan, nan, nan, nan, nan, nan, nan, nan, nan, nan, nan, nan, nan, nan, nan, nan, nan, nan, nan, nan, nan, nan, nan, nan, nan, nan, nan, nan, nan, nan, nan, nan, nan, nan, nan, nan, nan, nan, nan, nan, nan, nan, nan, nan, nan, nan, nan, nan, nan, nan, nan, nan, nan]\n",
      "WARNING: genes are not in var_names and ignored: [nan, nan, nan, nan, nan, nan, nan, nan, nan, nan, nan, nan, nan, nan, nan, nan, nan, nan, nan, nan, nan, nan, nan, nan, nan, nan, nan, nan, nan, nan, nan, nan, nan, nan, nan, nan, nan, nan, nan, nan, nan, nan, nan, nan, nan, nan, nan, nan, nan, nan, nan, nan, nan, nan, nan, nan, nan, nan, nan, nan, nan, nan, nan, nan, nan, nan, nan, nan, nan, nan, nan, nan, nan, nan, nan, nan, nan, nan, nan, nan, nan, nan, nan, nan, nan, nan, nan, nan, nan, nan, nan, nan, nan, nan, nan, nan, nan, nan, nan, nan, nan, nan, nan, nan, nan, nan, nan, nan, nan, nan, nan, nan, nan, nan, nan, nan, nan, nan, nan, nan, nan, nan, nan, nan, nan, nan, nan, nan, nan, nan, nan, nan, nan, nan, nan, nan, nan, nan, nan, nan, nan, nan, nan, nan, nan, nan, nan, nan, nan, nan, nan, nan, nan, nan, nan]\n",
      "WARNING: genes are not in var_names and ignored: ['FLT1', 'SDPR', 'DARC', 'ELTD1', 'CXorf36', 'GPR116', 'PDLIM1', 'PTRF', 'FAM198B', 'C10orf10', 'KIAA1462', 'PPAP2B', 'KLF2', 'MKL2', 'SSFA2', 'CD59', 'C1QTNF5', 'CTGF', 'SEC14L1', nan, nan, nan, nan, nan, nan, nan, nan, nan, nan, nan, nan, nan, nan, nan, nan, nan, nan, nan, nan, nan]\n",
      "WARNING: genes are not in var_names and ignored: ['PPAP2B', 'RP11-572C15.6', 'GPR124', 'CTGF', 'IGF2', datetime.datetime(2020, 9, 11, 0, 0), 'CYR61', 'LHFP', 'TUBA1A', 'ADH1B', nan, nan, nan, nan, nan, nan, nan, nan, nan, nan, nan, nan, nan, nan, nan, nan, nan]\n",
      "WARNING: genes are not in var_names and ignored: ['MYH11', 'FHL1', 'MLTK', 'PTRF', 'PRKCDBP', 'CSRP1', 'GPR124', 'C2orf40', 'MYL6', 'C10orf10', 'GUCY1B3', 'FAM129A', 'SELM', 'LHFP', 'PPAP2B', 'KLF2', nan, nan, nan, nan, nan, nan, nan, nan, nan, nan, nan, nan, nan, nan, nan, nan, nan]\n",
      "WARNING: genes are not in var_names and ignored: ['BTG1', 'KIAA1551', 'FYB', 'PTPRCAP', 'FAM46C', 'RP11-94L15.2', 'BCL11B', 'TMEM2', 'CD97', 'HLA-B', nan, nan, nan, nan, nan, nan, nan, nan, nan, nan, nan, nan, nan, nan, nan, nan, nan, nan, nan, nan, nan, nan, nan, nan, nan, nan, nan, nan, nan, nan, nan, nan, nan, nan, nan, nan, nan, nan, nan, nan]\n",
      "WARNING: genes are not in var_names and ignored: ['HLA-DRB1', 'IL8', 'HLA-DQB1', 'HLA-DRB5', 'CD83', 'CCL3', 'GPX1', 'FAM26F', 'AMICA1', 'DSE', 'CECR1', 'FYB', 'TMSB10', 'EMR2', 'C10orf54']\n",
      "WARNING: genes are not in var_names and ignored: [nan, nan, nan, nan, nan, nan, nan, nan, nan, nan, nan, nan, nan, nan, nan, nan, nan, nan, nan, nan, nan, nan, nan, nan, nan, nan, nan, nan, nan, nan, nan, nan, nan, nan, nan, nan, nan, nan, nan, nan, nan, nan, nan, nan, nan, nan, nan, nan, nan, nan, nan, nan, nan, nan, nan, nan, nan, nan, nan, nan, nan, nan, nan, nan, nan, nan, nan, nan, nan, nan, nan, nan, nan, nan, nan, nan, nan, nan, nan, nan, nan, nan, nan, nan, nan, nan, nan, nan, nan, nan, nan, nan, nan, nan, nan, nan, nan, nan, nan, nan, nan, nan, nan, nan, nan, nan, nan, nan, nan, nan, nan, nan, nan, nan, nan, nan, nan, nan, nan, nan, nan, nan, nan, nan, nan, nan, nan, nan, nan, nan, nan, nan, nan, nan, nan, nan, nan, nan, nan, nan, nan, nan, nan, nan, nan, nan, nan, nan, nan, nan, nan, nan, nan, nan, nan, nan, nan, nan, nan, nan, nan, nan, nan, nan, nan, nan, nan, nan, nan, nan, nan, nan, nan, nan, nan, nan, nan, nan, nan, nan, nan, nan, nan, nan, nan, nan, nan, nan, nan, nan, nan, nan, nan, nan, nan, nan, nan, nan, nan, nan, nan]\n",
      "WARNING: genes are not in var_names and ignored: ['CD83', 'IGLC2', 'HLA-DQB1', 'RPS26', 'HLA-DRB5', 'RPSA', 'JUND', 'BTG1', 'LINC00926', 'RPS5', 'RPS23', 'RPS27', 'RPL18A', 'KLF2', 'IGLC3', 'RPS8', 'RPS18', 'RPS10', 'RPL8', 'RPS12', 'RPS20', 'RPS29', 'LINC01781', 'RPL13A', 'RPL32', 'RPL21', 'RPLP2', 'LINC01857', 'RPL39', 'RPL30', 'ZFAS1', 'RPL23A', 'RPL11', 'RPS21', 'RPS25', 'RPS27A', 'HLA-DRB1', nan, nan, nan, nan, nan, nan, nan, nan, nan, nan, nan, nan, nan, nan, nan, nan, nan, nan, nan, nan, nan, nan, nan, nan, nan, nan, nan, nan, nan, nan, nan, nan, nan, nan, nan, nan, nan, nan, nan, nan, nan, nan, nan, nan, nan, nan, nan, nan, nan, nan, nan, nan, nan, nan, nan, nan, nan, nan, nan, nan, nan, nan, nan, nan, nan, nan, nan, nan, nan, nan, nan, nan, nan, nan, nan, nan, nan, nan, nan, nan, nan, nan, nan, nan, nan, nan, nan, nan, nan, nan, nan, nan, nan, nan, nan, nan, nan, nan, nan, nan, nan, nan, nan, nan, nan]\n",
      "WARNING: genes are not in var_names and ignored: ['CACNA1D', 'FOLH1', 'HBB', 'KLF2', 'MTRNR2L1', 'MYH11', 'PCA3', 'PCAT4', 'RP11-314O13.1', 'RPL13A', 'RPL7A', 'SLC25A6', 'NaN', 'NaN', 'NaN', 'NaN', 'NaN', 'NaN', 'NaN', 'NaN', 'NaN', 'NaN', 'NaN', 'NaN', 'NaN', 'NaN', 'NaN', 'NaN', 'NaN', 'NaN', 'NaN', 'NaN', 'NaN', 'NaN', 'NaN', 'NaN', 'NaN', 'NaN', 'NaN', 'NaN', 'NaN', 'NaN', 'NaN', 'NaN', 'NaN', 'NaN', 'NaN', 'NaN', 'NaN', 'NaN', 'NaN', 'NaN', 'NaN', 'NaN', 'NaN', 'NaN', 'NaN', 'NaN', 'NaN', 'NaN', 'NaN', 'NaN', 'NaN', 'NaN', 'NaN', 'NaN', 'NaN', 'NaN', 'NaN', 'NaN', 'NaN', 'NaN', 'NaN', 'NaN', 'NaN', 'NaN', 'NaN', 'NaN', 'NaN', 'NaN', 'NaN', 'NaN', 'NaN', 'NaN', 'NaN', 'NaN', 'NaN', 'NaN', 'NaN', 'NaN', 'NaN', 'NaN', 'NaN', 'NaN', 'NaN', 'NaN', 'NaN', 'NaN', 'NaN', 'NaN', 'NaN', 'NaN', 'NaN', 'NaN', 'NaN', 'NaN', 'NaN', 'NaN', 'NaN', 'NaN', 'NaN', 'NaN', 'NaN', 'NaN', 'NaN', 'NaN', 'NaN', 'NaN', 'NaN', 'NaN', 'NaN', 'NaN', 'NaN', 'NaN']\n"
     ]
    },
    {
     "name": "stderr",
     "output_type": "stream",
     "text": [
      "/Users/user/opt/anaconda3/envs/tf/lib/python3.8/site-packages/scanpy/tools/_score_genes.py:151: FutureWarning: Passing a set as an indexer is deprecated and will raise in a future version. Use a list instead.\n",
      "  for cut in np.unique(obs_cut.loc[gene_list]):\n",
      "/Users/user/opt/anaconda3/envs/tf/lib/python3.8/site-packages/scanpy/tools/_score_genes.py:151: FutureWarning: Passing a set as an indexer is deprecated and will raise in a future version. Use a list instead.\n",
      "  for cut in np.unique(obs_cut.loc[gene_list]):\n",
      "/Users/user/opt/anaconda3/envs/tf/lib/python3.8/site-packages/scanpy/tools/_score_genes.py:151: FutureWarning: Passing a set as an indexer is deprecated and will raise in a future version. Use a list instead.\n",
      "  for cut in np.unique(obs_cut.loc[gene_list]):\n",
      "/Users/user/opt/anaconda3/envs/tf/lib/python3.8/site-packages/scanpy/tools/_score_genes.py:151: FutureWarning: Passing a set as an indexer is deprecated and will raise in a future version. Use a list instead.\n",
      "  for cut in np.unique(obs_cut.loc[gene_list]):\n",
      "/Users/user/opt/anaconda3/envs/tf/lib/python3.8/site-packages/scanpy/tools/_score_genes.py:151: FutureWarning: Passing a set as an indexer is deprecated and will raise in a future version. Use a list instead.\n",
      "  for cut in np.unique(obs_cut.loc[gene_list]):\n",
      "/Users/user/opt/anaconda3/envs/tf/lib/python3.8/site-packages/scanpy/tools/_score_genes.py:151: FutureWarning: Passing a set as an indexer is deprecated and will raise in a future version. Use a list instead.\n",
      "  for cut in np.unique(obs_cut.loc[gene_list]):\n",
      "/Users/user/opt/anaconda3/envs/tf/lib/python3.8/site-packages/scanpy/tools/_score_genes.py:151: FutureWarning: Passing a set as an indexer is deprecated and will raise in a future version. Use a list instead.\n",
      "  for cut in np.unique(obs_cut.loc[gene_list]):\n",
      "/Users/user/opt/anaconda3/envs/tf/lib/python3.8/site-packages/scanpy/tools/_score_genes.py:151: FutureWarning: Passing a set as an indexer is deprecated and will raise in a future version. Use a list instead.\n",
      "  for cut in np.unique(obs_cut.loc[gene_list]):\n",
      "/Users/user/opt/anaconda3/envs/tf/lib/python3.8/site-packages/scanpy/tools/_score_genes.py:151: FutureWarning: Passing a set as an indexer is deprecated and will raise in a future version. Use a list instead.\n",
      "  for cut in np.unique(obs_cut.loc[gene_list]):\n",
      "/Users/user/opt/anaconda3/envs/tf/lib/python3.8/site-packages/scanpy/tools/_score_genes.py:151: FutureWarning: Passing a set as an indexer is deprecated and will raise in a future version. Use a list instead.\n",
      "  for cut in np.unique(obs_cut.loc[gene_list]):\n",
      "/Users/user/opt/anaconda3/envs/tf/lib/python3.8/site-packages/scanpy/tools/_score_genes.py:151: FutureWarning: Passing a set as an indexer is deprecated and will raise in a future version. Use a list instead.\n",
      "  for cut in np.unique(obs_cut.loc[gene_list]):\n"
     ]
    }
   ],
   "source": [
    "iac_adata = score_celltypes_per_topic(iac_adata, cell_type_signatures)"
   ]
  },
  {
   "cell_type": "markdown",
   "metadata": {},
   "source": [
    "Create excel file containing ranked cell types and genes per topic with score"
   ]
  },
  {
   "cell_type": "code",
   "execution_count": 7,
   "metadata": {
    "ExecuteTime": {
     "end_time": "2023-01-19T14:22:00.919993Z",
     "start_time": "2023-01-19T14:22:00.915390Z"
    }
   },
   "outputs": [],
   "source": [
    "def rank_celltype_in_topic(topic_n, adata):\n",
    "    ''' Ranks cell types based of topic score '''\n",
    "    print('TOPIC ', topic_n)\n",
    "    topic_col = adata.obs.iloc[topic_n,1:].sort_values(ascending=False)\n",
    "    topic_col.columns = ['sc.tl.score_gene']\n",
    "    return topic_col"
   ]
  },
  {
   "cell_type": "code",
   "execution_count": 8,
   "metadata": {
    "ExecuteTime": {
     "end_time": "2023-01-19T14:22:02.054468Z",
     "start_time": "2023-01-19T14:22:02.048980Z"
    }
   },
   "outputs": [],
   "source": [
    "def find_top_n_markers(topic_marker_genes, topic, n_genes): \n",
    "    ''' Finds all or N top genes per topic '''\n",
    "    topic_N = topic_marker_genes.iloc[:,[0,(topic+1)]]\n",
    "    topic_N_ngenes = topic_N.sort_values(by='Topic_'+str(topic), ascending=False)\n",
    "    topic_N_ngenes.columns = ['Genes', 'Topic score']\n",
    "    return topic_N_ngenes"
   ]
  },
  {
   "cell_type": "code",
   "execution_count": 9,
   "metadata": {
    "ExecuteTime": {
     "end_time": "2023-01-19T14:22:05.377640Z",
     "start_time": "2023-01-19T14:22:05.336119Z"
    }
   },
   "outputs": [],
   "source": [
    "import pandas as pd\n",
    "topic_path = 'Results/marker_genes_prostate_reproduce.csv' # SET PATH to marker_genes_prostate_cancer_invasive_9topics_svd_normalised.csv\n",
    "def load_topic_csv(topic_path):\n",
    "    # Load csv \n",
    "    topic_marker_genes = pd.read_csv(topic_path)\n",
    "    \n",
    "    # Add columns \n",
    "    topic_names = ['Topic_'+str(i) for i in range(9)]\n",
    "    column_names = ['Genes']\n",
    "    column_names.extend(topic_names)\n",
    "    topic_marker_genes.columns = column_names\n",
    "    return topic_marker_genes\n",
    "\n",
    "topic_marker_genes = load_topic_csv(topic_path)"
   ]
  },
  {
   "cell_type": "code",
   "execution_count": 10,
   "metadata": {
    "ExecuteTime": {
     "end_time": "2023-01-19T14:22:07.683894Z",
     "start_time": "2023-01-19T14:22:07.662501Z"
    }
   },
   "outputs": [
    {
     "data": {
      "text/html": [
       "<div>\n",
       "<style scoped>\n",
       "    .dataframe tbody tr th:only-of-type {\n",
       "        vertical-align: middle;\n",
       "    }\n",
       "\n",
       "    .dataframe tbody tr th {\n",
       "        vertical-align: top;\n",
       "    }\n",
       "\n",
       "    .dataframe thead th {\n",
       "        text-align: right;\n",
       "    }\n",
       "</style>\n",
       "<table border=\"1\" class=\"dataframe\">\n",
       "  <thead>\n",
       "    <tr style=\"text-align: right;\">\n",
       "      <th></th>\n",
       "      <th>Genes</th>\n",
       "      <th>Topic_0</th>\n",
       "      <th>Topic_1</th>\n",
       "      <th>Topic_2</th>\n",
       "      <th>Topic_3</th>\n",
       "      <th>Topic_4</th>\n",
       "      <th>Topic_5</th>\n",
       "      <th>Topic_6</th>\n",
       "      <th>Topic_7</th>\n",
       "      <th>Topic_8</th>\n",
       "    </tr>\n",
       "  </thead>\n",
       "  <tbody>\n",
       "    <tr>\n",
       "      <th>0</th>\n",
       "      <td>KLK3</td>\n",
       "      <td>9.693339e+01</td>\n",
       "      <td>9.693339e-15</td>\n",
       "      <td>4.061924e-01</td>\n",
       "      <td>9.693339e-15</td>\n",
       "      <td>3.918281e+00</td>\n",
       "      <td>9.693339e-15</td>\n",
       "      <td>2.183140e+01</td>\n",
       "      <td>1.785393e-01</td>\n",
       "      <td>9.693339e-15</td>\n",
       "    </tr>\n",
       "    <tr>\n",
       "      <th>1</th>\n",
       "      <td>KLK2</td>\n",
       "      <td>5.379239e+01</td>\n",
       "      <td>9.693339e-15</td>\n",
       "      <td>9.693339e-15</td>\n",
       "      <td>9.693339e-15</td>\n",
       "      <td>2.093482e+00</td>\n",
       "      <td>9.693339e-15</td>\n",
       "      <td>1.208155e+01</td>\n",
       "      <td>9.693339e-15</td>\n",
       "      <td>9.693339e-15</td>\n",
       "    </tr>\n",
       "    <tr>\n",
       "      <th>2</th>\n",
       "      <td>EEF2</td>\n",
       "      <td>2.577244e+01</td>\n",
       "      <td>2.467340e+00</td>\n",
       "      <td>9.693339e-15</td>\n",
       "      <td>2.485429e+00</td>\n",
       "      <td>1.194174e+00</td>\n",
       "      <td>4.021616e-02</td>\n",
       "      <td>4.820307e+00</td>\n",
       "      <td>2.716696e+00</td>\n",
       "      <td>1.891999e+00</td>\n",
       "    </tr>\n",
       "    <tr>\n",
       "      <th>3</th>\n",
       "      <td>UBC</td>\n",
       "      <td>2.103491e+01</td>\n",
       "      <td>1.468043e+01</td>\n",
       "      <td>4.269452e+00</td>\n",
       "      <td>1.903673e+01</td>\n",
       "      <td>9.693339e-15</td>\n",
       "      <td>8.818307e-01</td>\n",
       "      <td>9.693339e-15</td>\n",
       "      <td>8.257946e+00</td>\n",
       "      <td>7.315742e+00</td>\n",
       "    </tr>\n",
       "    <tr>\n",
       "      <th>4</th>\n",
       "      <td>ACTB</td>\n",
       "      <td>1.379774e+01</td>\n",
       "      <td>2.356023e+01</td>\n",
       "      <td>2.920128e+00</td>\n",
       "      <td>1.329138e+01</td>\n",
       "      <td>9.693339e-15</td>\n",
       "      <td>1.058018e+00</td>\n",
       "      <td>9.693339e-15</td>\n",
       "      <td>7.687906e+00</td>\n",
       "      <td>6.508517e+00</td>\n",
       "    </tr>\n",
       "    <tr>\n",
       "      <th>...</th>\n",
       "      <td>...</td>\n",
       "      <td>...</td>\n",
       "      <td>...</td>\n",
       "      <td>...</td>\n",
       "      <td>...</td>\n",
       "      <td>...</td>\n",
       "      <td>...</td>\n",
       "      <td>...</td>\n",
       "      <td>...</td>\n",
       "      <td>...</td>\n",
       "    </tr>\n",
       "    <tr>\n",
       "      <th>15930</th>\n",
       "      <td>RASGEF1C</td>\n",
       "      <td>9.693339e-15</td>\n",
       "      <td>3.628410e-03</td>\n",
       "      <td>9.693339e-15</td>\n",
       "      <td>1.958293e-02</td>\n",
       "      <td>9.693339e-15</td>\n",
       "      <td>9.693339e-15</td>\n",
       "      <td>9.693339e-15</td>\n",
       "      <td>1.604830e-02</td>\n",
       "      <td>6.232896e-02</td>\n",
       "    </tr>\n",
       "    <tr>\n",
       "      <th>15931</th>\n",
       "      <td>DRD2</td>\n",
       "      <td>9.693339e-15</td>\n",
       "      <td>9.693339e-15</td>\n",
       "      <td>1.911181e-03</td>\n",
       "      <td>4.618055e-03</td>\n",
       "      <td>9.693339e-15</td>\n",
       "      <td>9.693339e-15</td>\n",
       "      <td>9.693339e-15</td>\n",
       "      <td>1.261923e-03</td>\n",
       "      <td>1.012017e-02</td>\n",
       "    </tr>\n",
       "    <tr>\n",
       "      <th>15932</th>\n",
       "      <td>ANKK1</td>\n",
       "      <td>9.693339e-15</td>\n",
       "      <td>9.693339e-15</td>\n",
       "      <td>1.844314e-04</td>\n",
       "      <td>4.255818e-03</td>\n",
       "      <td>9.693339e-15</td>\n",
       "      <td>9.693339e-15</td>\n",
       "      <td>3.089907e-04</td>\n",
       "      <td>9.693339e-15</td>\n",
       "      <td>9.693339e-15</td>\n",
       "    </tr>\n",
       "    <tr>\n",
       "      <th>15933</th>\n",
       "      <td>FAM169B</td>\n",
       "      <td>9.693339e-15</td>\n",
       "      <td>9.693339e-15</td>\n",
       "      <td>7.923150e-04</td>\n",
       "      <td>9.693339e-15</td>\n",
       "      <td>9.693339e-15</td>\n",
       "      <td>9.693339e-15</td>\n",
       "      <td>9.693339e-15</td>\n",
       "      <td>2.814452e-03</td>\n",
       "      <td>9.693339e-15</td>\n",
       "    </tr>\n",
       "    <tr>\n",
       "      <th>15934</th>\n",
       "      <td>ACP7</td>\n",
       "      <td>9.693339e-15</td>\n",
       "      <td>4.985468e-03</td>\n",
       "      <td>1.678184e-03</td>\n",
       "      <td>4.230524e-04</td>\n",
       "      <td>9.693339e-15</td>\n",
       "      <td>9.693339e-15</td>\n",
       "      <td>4.279825e-04</td>\n",
       "      <td>9.693339e-15</td>\n",
       "      <td>7.264540e-03</td>\n",
       "    </tr>\n",
       "  </tbody>\n",
       "</table>\n",
       "<p>15935 rows × 10 columns</p>\n",
       "</div>"
      ],
      "text/plain": [
       "          Genes       Topic_0       Topic_1       Topic_2       Topic_3  \\\n",
       "0          KLK3  9.693339e+01  9.693339e-15  4.061924e-01  9.693339e-15   \n",
       "1          KLK2  5.379239e+01  9.693339e-15  9.693339e-15  9.693339e-15   \n",
       "2          EEF2  2.577244e+01  2.467340e+00  9.693339e-15  2.485429e+00   \n",
       "3           UBC  2.103491e+01  1.468043e+01  4.269452e+00  1.903673e+01   \n",
       "4          ACTB  1.379774e+01  2.356023e+01  2.920128e+00  1.329138e+01   \n",
       "...         ...           ...           ...           ...           ...   \n",
       "15930  RASGEF1C  9.693339e-15  3.628410e-03  9.693339e-15  1.958293e-02   \n",
       "15931      DRD2  9.693339e-15  9.693339e-15  1.911181e-03  4.618055e-03   \n",
       "15932     ANKK1  9.693339e-15  9.693339e-15  1.844314e-04  4.255818e-03   \n",
       "15933   FAM169B  9.693339e-15  9.693339e-15  7.923150e-04  9.693339e-15   \n",
       "15934      ACP7  9.693339e-15  4.985468e-03  1.678184e-03  4.230524e-04   \n",
       "\n",
       "            Topic_4       Topic_5       Topic_6       Topic_7       Topic_8  \n",
       "0      3.918281e+00  9.693339e-15  2.183140e+01  1.785393e-01  9.693339e-15  \n",
       "1      2.093482e+00  9.693339e-15  1.208155e+01  9.693339e-15  9.693339e-15  \n",
       "2      1.194174e+00  4.021616e-02  4.820307e+00  2.716696e+00  1.891999e+00  \n",
       "3      9.693339e-15  8.818307e-01  9.693339e-15  8.257946e+00  7.315742e+00  \n",
       "4      9.693339e-15  1.058018e+00  9.693339e-15  7.687906e+00  6.508517e+00  \n",
       "...             ...           ...           ...           ...           ...  \n",
       "15930  9.693339e-15  9.693339e-15  9.693339e-15  1.604830e-02  6.232896e-02  \n",
       "15931  9.693339e-15  9.693339e-15  9.693339e-15  1.261923e-03  1.012017e-02  \n",
       "15932  9.693339e-15  9.693339e-15  3.089907e-04  9.693339e-15  9.693339e-15  \n",
       "15933  9.693339e-15  9.693339e-15  9.693339e-15  2.814452e-03  9.693339e-15  \n",
       "15934  9.693339e-15  9.693339e-15  4.279825e-04  9.693339e-15  7.264540e-03  \n",
       "\n",
       "[15935 rows x 10 columns]"
      ]
     },
     "execution_count": 10,
     "metadata": {},
     "output_type": "execute_result"
    }
   ],
   "source": [
    "topic_marker_genes"
   ]
  },
  {
   "cell_type": "code",
   "execution_count": 11,
   "metadata": {
    "ExecuteTime": {
     "end_time": "2023-01-19T14:22:14.942308Z",
     "start_time": "2023-01-19T14:22:14.935281Z"
    }
   },
   "outputs": [],
   "source": [
    "def results_output():\n",
    "    ''' Creates two excel files to store results: \n",
    "    1. ranked_celltypes_per_topic.xlsx\n",
    "    2. ranked_celltypes_per_topic.xlsx '''\n",
    "\n",
    "    # Generate ranked / scored cell types and genes per topic \n",
    "    celltype_rank_dict = {} \n",
    "    top_markers_dict = {} \n",
    "\n",
    "    for i in range(9):\n",
    "        celltype_rank_dict[i] = rank_celltype_in_topic(i,iac_adata)\n",
    "        top_markers_dict[i] = find_top_n_markers(topic_marker_genes, i, n_genes=5)\n",
    "    \n",
    "    # Save to excel\n",
    "    with pd.ExcelWriter('ranked_celltypes_per_topic_PC_prostate_reprod.xlsx') as writer:\n",
    "        for i in range(9): \n",
    "            celltype_rank_dict[i].to_excel(writer, sheet_name='topic_' + str(i))\n",
    "\n",
    "    with pd.ExcelWriter('ranked_genes_per_topic_PC_prostate_reprod.xlsx') as writer:\n",
    "        for i in range(9): \n",
    "            top_markers_dict[i].to_excel(writer, sheet_name='topic_' + str(i))\n",
    "    return \n"
   ]
  },
  {
   "cell_type": "code",
   "execution_count": 12,
   "metadata": {
    "ExecuteTime": {
     "end_time": "2023-01-19T14:22:21.515668Z",
     "start_time": "2023-01-19T14:22:15.674334Z"
    }
   },
   "outputs": [
    {
     "name": "stdout",
     "output_type": "stream",
     "text": [
      "TOPIC  0\n",
      "TOPIC  1\n",
      "TOPIC  2\n",
      "TOPIC  3\n",
      "TOPIC  4\n",
      "TOPIC  5\n",
      "TOPIC  6\n",
      "TOPIC  7\n",
      "TOPIC  8\n"
     ]
    }
   ],
   "source": [
    "results_output()"
   ]
  },
  {
   "cell_type": "code",
   "execution_count": null,
   "metadata": {},
   "outputs": [],
   "source": []
  }
 ],
 "metadata": {
  "kernelspec": {
   "display_name": "Python 3 (ipykernel)",
   "language": "python",
   "name": "python3"
  },
  "language_info": {
   "codemirror_mode": {
    "name": "ipython",
    "version": 3
   },
   "file_extension": ".py",
   "mimetype": "text/x-python",
   "name": "python",
   "nbconvert_exporter": "python",
   "pygments_lexer": "ipython3",
   "version": "3.8.12"
  },
  "vscode": {
   "interpreter": {
    "hash": "610fa5ae9dbdb4e648149fcb911b8b2dcc3a9fd005f0df4d280ad4efc25469fb"
   }
  }
 },
 "nbformat": 4,
 "nbformat_minor": 2
}
