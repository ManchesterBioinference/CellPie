{
 "cells": [
  {
   "cell_type": "markdown",
   "id": "513e4bc1-4d64-4823-bb41-0f7109284d67",
   "metadata": {},
   "source": [
    "Load required libraries. int_nmf_model must be in the same directory. If it is not it can be added to pythons path"
   ]
  },
  {
   "cell_type": "code",
   "execution_count": null,
   "id": "95ff68b8-bd25-4c74-ac54-059372017ae1",
   "metadata": {
    "ExecuteTime": {
     "end_time": "2023-01-19T12:03:20.788347Z",
     "start_time": "2023-01-19T12:03:14.470507Z"
    },
    "execution": {
     "iopub.execute_input": "2021-12-21T16:18:05.897428Z",
     "iopub.status.busy": "2021-12-21T16:18:05.897139Z",
     "iopub.status.idle": "2021-12-21T16:18:05.900845Z",
     "shell.execute_reply": "2021-12-21T16:18:05.900299Z",
     "shell.execute_reply.started": "2021-12-21T16:18:05.897403Z"
    },
    "tags": []
   },
   "outputs": [],
   "source": [
    "import anndata as ad\n",
    "import scanpy as sc\n",
    "import numpy as np\n",
    "import scipy\n",
    "import sys\n",
    "sys.path.append(\"../../CellPie/\") # go to parent dir\n",
    "import cellpie_main as cp\n",
    "from cellpie_main import intNMF\n",
    "import anndata as ad\n",
    "from matplotlib import pyplot as plt\n",
    "import scipy.io\n",
    "import pandas as pd\n",
    "import squidpy as sq\n",
    "from PIL import Image"
   ]
  },
  {
   "cell_type": "code",
   "execution_count": null,
   "id": "03ab9e29",
   "metadata": {
    "ExecuteTime": {
     "end_time": "2023-01-19T12:03:20.794425Z",
     "start_time": "2023-01-19T12:03:20.790315Z"
    }
   },
   "outputs": [],
   "source": [
    "sc.set_figure_params(scanpy=True, dpi=250, dpi_save=150)"
   ]
  },
  {
   "cell_type": "markdown",
   "id": "e26b51ad",
   "metadata": {},
   "source": [
    "# CellPie"
   ]
  },
  {
   "cell_type": "code",
   "execution_count": null,
   "id": "e4eb0634",
   "metadata": {
    "ExecuteTime": {
     "end_time": "2023-01-19T12:03:20.811882Z",
     "start_time": "2023-01-19T12:03:20.796736Z"
    }
   },
   "outputs": [],
   "source": [
    "histo_2 = pd.read_csv('Data/Histology_Visium_FFPE_Human_Prostate_Cancer_cloupe.csv').dropna()"
   ]
  },
  {
   "cell_type": "code",
   "execution_count": null,
   "id": "97ce6d30",
   "metadata": {
    "ExecuteTime": {
     "end_time": "2023-01-19T12:28:45.798005Z",
     "start_time": "2023-01-19T12:28:44.037961Z"
    }
   },
   "outputs": [],
   "source": [
    "# read ST data\n",
    "adata = sc.read_visium(path = 'Data/', \n",
    "                       count_file='Visium_FFPE_Human_Prostate_Cancer_filtered_feature_bc_matrix.h5', \n",
    "                       library_id='A1_spot',                        \n",
    "                       load_images=True)\n",
    "adata.var_names_make_unique()\n",
    "adata.var['SYMBOL'] = adata.var_names\n",
    "sc.pp.calculate_qc_metrics(adata, inplace=True)\n",
    "adata.var['mt'] = [gene.startswith('mt-') for gene in adata.var['SYMBOL']]\n",
    "adata.obs['mt_frac'] = adata[:, adata.var['mt'].tolist()].X.sum(1).A.squeeze()/adata.obs['total_counts']"
   ]
  },
  {
   "cell_type": "code",
   "execution_count": null,
   "id": "ddd9ed57",
   "metadata": {
    "ExecuteTime": {
     "end_time": "2023-01-19T12:28:54.268532Z",
     "start_time": "2023-01-19T12:28:54.235613Z"
    }
   },
   "outputs": [],
   "source": [
    "img = sq.im.ImageContainer(\n",
    "adata.uns[\"spatial\"]['A1_spot'][\"images\"][\"hires\"],\n",
    "scale=adata.uns[\"spatial\"]['A1_spot'][\"scalefactors\"][\"tissue_hires_scalef\"])"
   ]
  },
  {
   "cell_type": "code",
   "execution_count": null,
   "id": "ab8416ef",
   "metadata": {
    "ExecuteTime": {
     "end_time": "2023-01-19T12:28:57.143373Z",
     "start_time": "2023-01-19T12:28:54.592809Z"
    }
   },
   "outputs": [],
   "source": [
    "img.show(channelwise=True)"
   ]
  },
  {
   "cell_type": "code",
   "execution_count": null,
   "id": "9817d661",
   "metadata": {},
   "outputs": [],
   "source": [
    "# the image contains one extra channel that looks empty, so we want to remove this before extracting the features\n",
    "adata.uns[\"spatial\"]['A1_spot'][\"images\"][\"hires\"]=adata.uns[\"spatial\"]['A1_spot'][\"images\"][\"hires\"][:,:,0:3]"
   ]
  },
  {
   "cell_type": "code",
   "execution_count": null,
   "id": "30f2616b",
   "metadata": {
    "ExecuteTime": {
     "end_time": "2023-01-19T12:28:54.016659Z",
     "start_time": "2023-01-19T12:28:53.903204Z"
    }
   },
   "outputs": [],
   "source": [
    "sc.pp.normalize_total(adata)"
   ]
  },
  {
   "cell_type": "code",
   "execution_count": null,
   "id": "c9c55e09",
   "metadata": {
    "ExecuteTime": {
     "end_time": "2023-01-19T12:28:54.084221Z",
     "start_time": "2023-01-19T12:28:54.076482Z"
    }
   },
   "outputs": [],
   "source": [
    "adata = adata[adata.obs_names.isin(histo_2['Barcode']),:]"
   ]
  },
  {
   "cell_type": "code",
   "execution_count": null,
   "id": "c45f6ecb",
   "metadata": {
    "ExecuteTime": {
     "end_time": "2023-01-19T12:29:31.346284Z",
     "start_time": "2023-01-19T12:28:57.145657Z"
    }
   },
   "outputs": [],
   "source": [
    "cp.extract_image_features(adata,\n",
    "    scale_img = 0.2,\n",
    "    spot_scale = 6)"
   ]
  },
  {
   "cell_type": "code",
   "execution_count": null,
   "id": "39fde212",
   "metadata": {},
   "outputs": [],
   "source": [
    "adata.obsm['features']"
   ]
  },
  {
   "cell_type": "code",
   "execution_count": null,
   "id": "74b8479f",
   "metadata": {
    "ExecuteTime": {
     "end_time": "2023-01-19T14:15:36.920172Z",
     "start_time": "2023-01-19T14:15:06.021151Z"
    },
    "scrolled": true
   },
   "outputs": [],
   "source": [
    "nmf_model = intNMF(adata,9,epochs = 50, init = 'NNDSVD',mod1_skew=1)\n",
    "nmf_model.fit(adata)"
   ]
  },
  {
   "cell_type": "code",
   "execution_count": null,
   "id": "ff87233d",
   "metadata": {
    "ExecuteTime": {
     "end_time": "2023-01-19T14:20:26.744832Z",
     "start_time": "2023-01-19T14:20:08.192003Z"
    }
   },
   "outputs": [],
   "source": [
    "cp.plot_topic_proportions(adata,9)"
   ]
  },
  {
   "cell_type": "markdown",
   "id": "5fe43144",
   "metadata": {
    "ExecuteTime": {
     "end_time": "2023-01-19T14:16:45.044553Z",
     "start_time": "2023-01-19T14:16:45.041947Z"
    }
   },
   "source": [
    "### extract gene loading matrix"
   ]
  },
  {
   "cell_type": "code",
   "execution_count": null,
   "id": "c8e7950d",
   "metadata": {
    "ExecuteTime": {
     "end_time": "2023-01-19T14:21:33.519002Z",
     "start_time": "2023-01-19T14:21:33.498111Z"
    }
   },
   "outputs": [],
   "source": [
    "l=cp.get_genes_topic(adata,nmf_model.phi_expr)"
   ]
  },
  {
   "cell_type": "code",
   "execution_count": null,
   "id": "d7856451",
   "metadata": {
    "ExecuteTime": {
     "end_time": "2023-01-19T14:21:33.990043Z",
     "start_time": "2023-01-19T14:21:33.795333Z"
    }
   },
   "outputs": [],
   "source": [
    "l.T.to_csv('Results/marker_genes_prostate_reproduce.csv')"
   ]
  },
  {
   "cell_type": "code",
   "execution_count": null,
   "id": "3b03095d",
   "metadata": {
    "ExecuteTime": {
     "end_time": "2023-01-19T14:21:34.822132Z",
     "start_time": "2023-01-19T14:21:34.488527Z"
    }
   },
   "outputs": [],
   "source": [
    "adata.write('Results/prostate_reproduce.h5ad')"
   ]
  },
  {
   "cell_type": "code",
   "execution_count": null,
   "id": "7b484a41",
   "metadata": {
    "ExecuteTime": {
     "end_time": "2023-01-19T14:21:34.830621Z",
     "start_time": "2023-01-19T14:21:34.824471Z"
    }
   },
   "outputs": [],
   "source": [
    "adata_l=sc.AnnData(l)"
   ]
  },
  {
   "cell_type": "code",
   "execution_count": null,
   "id": "4e47522d",
   "metadata": {
    "ExecuteTime": {
     "end_time": "2023-01-19T14:21:35.567291Z",
     "start_time": "2023-01-19T14:21:35.537750Z"
    }
   },
   "outputs": [],
   "source": [
    "adata_l.write('Results/genes_prostate_reproduce.h5ad')"
   ]
  },
  {
   "cell_type": "markdown",
   "id": "03e148a3",
   "metadata": {
    "ExecuteTime": {
     "end_time": "2022-12-19T14:09:54.997266Z",
     "start_time": "2022-12-19T14:09:54.886309Z"
    }
   },
   "source": [
    "# kmeans "
   ]
  },
  {
   "cell_type": "code",
   "execution_count": null,
   "id": "d14769bc",
   "metadata": {
    "ExecuteTime": {
     "end_time": "2023-01-19T12:30:33.616481Z",
     "start_time": "2023-01-19T12:30:17.280603Z"
    }
   },
   "outputs": [],
   "source": [
    "sc.pp.pca(adata)"
   ]
  },
  {
   "cell_type": "code",
   "execution_count": null,
   "id": "6fe491cb",
   "metadata": {
    "ExecuteTime": {
     "end_time": "2023-01-19T13:38:38.863110Z",
     "start_time": "2023-01-19T13:38:38.725201Z"
    }
   },
   "outputs": [],
   "source": [
    "from sklearn.cluster import KMeans\n",
    "X = adata.obsm['X_pca']\n",
    "kmeans = KMeans(n_clusters=5, init='k-means++',max_iter=500,random_state=2).fit(X)\n",
    "adata.obs['kmeans']=kmeans.labels_.astype(str)"
   ]
  },
  {
   "cell_type": "code",
   "execution_count": null,
   "id": "ffe11597",
   "metadata": {
    "ExecuteTime": {
     "end_time": "2023-01-19T13:38:41.205158Z",
     "start_time": "2023-01-19T13:38:39.617184Z"
    },
    "scrolled": true
   },
   "outputs": [],
   "source": [
    "sc.pl.spatial(adata,color='kmeans',size=1.5)"
   ]
  },
  {
   "cell_type": "code",
   "execution_count": null,
   "id": "439701a2",
   "metadata": {
    "ExecuteTime": {
     "end_time": "2023-01-19T12:30:35.566293Z",
     "start_time": "2023-01-19T12:30:35.563814Z"
    }
   },
   "outputs": [],
   "source": [
    "histo_2.index = histo_2['Barcode']"
   ]
  },
  {
   "cell_type": "markdown",
   "id": "a35e24ab",
   "metadata": {},
   "source": [
    "# CellPie clustering for equal weights "
   ]
  },
  {
   "cell_type": "code",
   "execution_count": null,
   "id": "918c90d7",
   "metadata": {
    "ExecuteTime": {
     "end_time": "2023-01-19T12:30:35.632676Z",
     "start_time": "2023-01-19T12:30:35.568353Z"
    }
   },
   "outputs": [],
   "source": [
    "from sklearn.cluster import KMeans\n",
    "X = adata.obs.iloc[:,12:21].values\n",
    "kmeans = KMeans(n_clusters=5, init='k-means++',max_iter=500,random_state=2).fit(X)\n",
    "adata.obs['kmeans_CellPie_int']=kmeans.labels_.astype(str)"
   ]
  },
  {
   "cell_type": "markdown",
   "id": "eee06a49",
   "metadata": {
    "ExecuteTime": {
     "end_time": "2023-01-19T11:54:45.073049Z",
     "start_time": "2023-01-19T11:54:45.070498Z"
    }
   },
   "source": [
    "# CellPie clustering for single NMF (weight=2)"
   ]
  },
  {
   "cell_type": "code",
   "execution_count": null,
   "id": "013ef9b4",
   "metadata": {
    "ExecuteTime": {
     "end_time": "2023-01-19T12:30:35.757361Z",
     "start_time": "2023-01-19T12:30:35.636747Z"
    }
   },
   "outputs": [],
   "source": [
    "adata_0 = adata.copy()"
   ]
  },
  {
   "cell_type": "code",
   "execution_count": null,
   "id": "e6567e81",
   "metadata": {
    "ExecuteTime": {
     "end_time": "2023-01-19T12:31:03.330043Z",
     "start_time": "2023-01-19T12:30:35.759925Z"
    }
   },
   "outputs": [],
   "source": [
    "nmf_model = intNMF(adata_0,9,epochs = 50, init = 'NNDSVD',mod1_skew=2)\n",
    "nmf_model.fit(adata_0)"
   ]
  },
  {
   "cell_type": "code",
   "execution_count": null,
   "id": "5ba8a9da",
   "metadata": {
    "ExecuteTime": {
     "end_time": "2023-01-19T13:39:01.920892Z",
     "start_time": "2023-01-19T13:39:01.847139Z"
    }
   },
   "outputs": [],
   "source": [
    "from sklearn.cluster import KMeans\n",
    "X = adata_0.obs.iloc[:,12:21].values\n",
    "kmeans = KMeans(n_clusters=5, init='k-means++',max_iter=500,random_state=2).fit(X)\n",
    "adata.obs['kmeans_CellPie_0']=kmeans.labels_.astype(str)"
   ]
  },
  {
   "cell_type": "code",
   "execution_count": null,
   "id": "3ebd4c1c",
   "metadata": {
    "ExecuteTime": {
     "end_time": "2023-01-19T12:31:03.426168Z",
     "start_time": "2023-01-19T12:31:03.423366Z"
    }
   },
   "outputs": [],
   "source": [
    "adata.uns['kmeans_CellPie_int_colors'] = ['#1f77b4','#d62728','#e377c2','#d4ce6c','#279e68']"
   ]
  },
  {
   "cell_type": "code",
   "execution_count": null,
   "id": "316b42e2",
   "metadata": {
    "ExecuteTime": {
     "end_time": "2023-01-19T12:31:03.430999Z",
     "start_time": "2023-01-19T12:31:03.428050Z"
    }
   },
   "outputs": [],
   "source": [
    "adata.uns['kmeans_CellPie_0_colors'] = ['#279e68','#1f77b4','#d62728','#e377c2','#d4ce6c',]"
   ]
  },
  {
   "cell_type": "code",
   "execution_count": null,
   "id": "ac48034b",
   "metadata": {
    "ExecuteTime": {
     "end_time": "2023-01-19T13:39:06.575480Z",
     "start_time": "2023-01-19T13:39:04.769306Z"
    }
   },
   "outputs": [],
   "source": [
    "sc.pl.spatial(adata,color='kmeans_CellPie_0',size=1.5)"
   ]
  },
  {
   "cell_type": "code",
   "execution_count": null,
   "id": "afc31a0b",
   "metadata": {
    "ExecuteTime": {
     "end_time": "2023-01-19T12:31:06.830557Z",
     "start_time": "2023-01-19T12:31:05.098890Z"
    }
   },
   "outputs": [],
   "source": [
    "sc.pl.spatial(adata,color='kmeans_CellPie_int',size=1.5)"
   ]
  },
  {
   "cell_type": "raw",
   "id": "82bcfe34",
   "metadata": {
    "ExecuteTime": {
     "end_time": "2023-01-11T14:51:43.131429Z",
     "start_time": "2023-01-11T14:51:43.116197Z"
    }
   },
   "source": [
    "adj_rand=metrics.adjusted_rand_score(adata.obs['kmeans'],histo_2['Histology'])\n",
    "adj_rand"
   ]
  },
  {
   "cell_type": "code",
   "execution_count": null,
   "id": "108f83bc",
   "metadata": {
    "ExecuteTime": {
     "end_time": "2023-01-19T12:31:08.492885Z",
     "start_time": "2023-01-19T12:31:06.832408Z"
    }
   },
   "outputs": [],
   "source": [
    "import pandas as pd\n",
    "import numpy as np\n",
    "import matplotlib.pyplot as plt\n",
    "import seaborn as sns\n",
    "plt.figure(figsize=(10, 8))\n",
    "sns.heatmap(\n",
    "    pd.crosstab(\n",
    "        adata.obs['kmeans_CellPie_int'].values, histo_2['Histology'],\n",
    "        normalize ='index'\n",
    "    ), \n",
    "    cmap=sns.color_palette(\"crest\", as_cmap=True),\n",
    "    annot = True\n",
    ")\n",
    "plt.show()"
   ]
  },
  {
   "cell_type": "code",
   "execution_count": null,
   "id": "17464a78",
   "metadata": {
    "ExecuteTime": {
     "end_time": "2023-01-19T12:40:50.213696Z",
     "start_time": "2023-01-19T12:31:08.494371Z"
    }
   },
   "outputs": [],
   "source": [
    "from sklearn import metrics\n",
    "res = []\n",
    "\n",
    "for i in np.arange(0, 2.01,0.1):\n",
    "    \n",
    "    nmf_model = intNMF(adata,9,epochs = 50, init = 'NNDSVD',mod1_skew=i)\n",
    "    nmf_model.fit(adata)\n",
    "    from sklearn.cluster import KMeans\n",
    "    X = adata.obs.iloc[:,12:21].values\n",
    "    kmeans = KMeans(n_clusters=5, init='k-means++',max_iter=500,random_state=2).fit(X)\n",
    "    adata.obs['kmeans_t']=kmeans.labels_.astype(str)\n",
    "    mut_info=metrics.fowlkes_mallows_score(adata.obs['kmeans_t'],histo_2['Histology'])\n",
    "    adj_rand=metrics.adjusted_rand_score(adata.obs['kmeans_t'],histo_2['Histology'])\n",
    "    adj_mut_info=metrics.adjusted_mutual_info_score(adata.obs['kmeans_t'],histo_2['Histology'])\n",
    "    print(i,mut_info,adj_rand,adj_mut_info)\n",
    "    res.append((i,mut_info,adj_rand,adj_mut_info)) "
   ]
  },
  {
   "cell_type": "code",
   "execution_count": null,
   "id": "d1eff504",
   "metadata": {
    "ExecuteTime": {
     "end_time": "2023-01-19T12:40:50.218106Z",
     "start_time": "2023-01-19T12:40:50.215496Z"
    }
   },
   "outputs": [],
   "source": [
    "score = pd.DataFrame(res)   "
   ]
  },
  {
   "cell_type": "code",
   "execution_count": null,
   "id": "7ec88fdc",
   "metadata": {
    "ExecuteTime": {
     "end_time": "2023-01-19T12:40:50.707938Z",
     "start_time": "2023-01-19T12:40:50.220274Z"
    },
    "scrolled": true
   },
   "outputs": [],
   "source": [
    "plt.plot(score[0],score[1],color=\"green\",label='Fowlkes Mallows Score')\n",
    "plt.plot(score[0],score[2],color=\"red\",label='Adjusted Rand Score')\n",
    "plt.plot(score[0],score[3],color=\"blue\",label='Adjusted Mutual Info Score')\n",
    "plt.xlabel(\"Weight\")\n",
    "plt.ylabel(\"Score\")\n",
    "plt.legend(prop={'size': 9})"
   ]
  },
  {
   "cell_type": "code",
   "execution_count": null,
   "id": "4eb68bc4",
   "metadata": {
    "ExecuteTime": {
     "end_time": "2023-01-19T13:03:00.739154Z",
     "start_time": "2023-01-19T13:03:00.735038Z"
    }
   },
   "outputs": [],
   "source": [
    "adata.obs['path_anot'] = histo_2['Histology'].values"
   ]
  },
  {
   "cell_type": "code",
   "execution_count": null,
   "id": "06eb7a67",
   "metadata": {
    "ExecuteTime": {
     "end_time": "2023-01-19T13:03:02.811770Z",
     "start_time": "2023-01-19T13:03:00.865870Z"
    }
   },
   "outputs": [],
   "source": [
    "sc.pl.spatial(adata,color='path_anot',size=1.5)"
   ]
  },
  {
   "cell_type": "markdown",
   "id": "1970219d",
   "metadata": {},
   "source": [
    "# SPAGCN"
   ]
  },
  {
   "cell_type": "code",
   "execution_count": null,
   "id": "bd87e1e3",
   "metadata": {
    "ExecuteTime": {
     "end_time": "2023-01-19T13:03:07.054262Z",
     "start_time": "2023-01-19T13:03:07.051135Z"
    }
   },
   "outputs": [],
   "source": [
    "import SpaGCN as spg\n",
    "import cv2"
   ]
  },
  {
   "cell_type": "code",
   "execution_count": null,
   "id": "53d2ec8d",
   "metadata": {
    "ExecuteTime": {
     "end_time": "2023-01-19T13:03:09.679357Z",
     "start_time": "2023-01-19T13:03:07.233281Z"
    }
   },
   "outputs": [],
   "source": [
    "#Read in gene expression and spatial location\n",
    "adata_spg = sc.read_visium(path = 'Data/', \n",
    "                       count_file='Visium_FFPE_Human_Prostate_Cancer_filtered_feature_bc_matrix.h5', \n",
    "                       library_id='A1_spot',                       \n",
    "                       load_images=True)\n",
    "adata_spg.var_names_make_unique()\n",
    "adata_spg.var['SYMBOL'] = adata_spg.var_names\n",
    "#Read in hitology image\n",
    "adata_spg = adata_spg[adata_spg.obs_names.isin(histo_2['Barcode']),:]\n",
    "spatial=pd.read_csv(\"Data/spatial/tissue_positions_list.csv\",sep=\",\",header=None,na_filter=False,index_col=0) \n",
    "adata_spg.obs[\"x1\"]=spatial[1]\n",
    "adata_spg.obs[\"x2\"]=spatial[2]\n",
    "adata_spg.obs[\"x3\"]=spatial[3]\n",
    "adata_spg.obs[\"x4\"]=spatial[4]\n",
    "adata_spg.obs[\"x5\"]=spatial[5]\n",
    "adata_spg.obs[\"x_array\"]=adata_spg.obs[\"x2\"]\n",
    "adata_spg.obs[\"y_array\"]=adata_spg.obs[\"x3\"]\n",
    "adata_spg.obs[\"x_pixel\"]=adata_spg.obs[\"x4\"]\n",
    "adata_spg.obs[\"y_pixel\"]=adata_spg.obs[\"x5\"]\n",
    "#Select captured samples\n",
    "adata_spg=adata_spg[adata_spg.obs[\"x1\"]==1]\n",
    "adata_spg.var_names=[i.upper() for i in list(adata_spg.var_names)]\n",
    "adata_spg.var[\"genename\"]=adata_spg.var.index.astype(\"str\")\n",
    "adata_spg.write_h5ad(\"sample_data.h5ad\")\n",
    "                 \n",
    "adata_spg=sc.read(\"sample_data.h5ad\")\n"
   ]
  },
  {
   "cell_type": "code",
   "execution_count": null,
   "id": "2ca9eda5",
   "metadata": {
    "ExecuteTime": {
     "end_time": "2023-01-19T13:03:54.754229Z",
     "start_time": "2023-01-19T13:03:43.208997Z"
    }
   },
   "outputs": [],
   "source": [
    "img=cv2.imread(\"Data/Visium_FFPE_Human_Prostate_Cancer_image.tif\")"
   ]
  },
  {
   "cell_type": "code",
   "execution_count": null,
   "id": "7153eb91",
   "metadata": {
    "ExecuteTime": {
     "end_time": "2023-01-19T13:04:08.807317Z",
     "start_time": "2023-01-19T13:03:56.218788Z"
    }
   },
   "outputs": [],
   "source": [
    "#Set coordinates\n",
    "x_array=adata_spg.obs[\"x_array\"].tolist()\n",
    "y_array=adata_spg.obs[\"y_array\"].tolist()\n",
    "x_pixel=adata_spg.obs[\"x_pixel\"].tolist()\n",
    "y_pixel=adata_spg.obs[\"y_pixel\"].tolist()\n",
    "\n",
    "#Test coordinates on the image\n",
    "img_new=img.copy()\n",
    "for i in range(len(x_pixel)):\n",
    "    x=x_pixel[i]\n",
    "    y=y_pixel[i]\n",
    "    img_new[int(x-20):int(x+20), int(y-20):int(y+20),:]=0\n",
    "\n",
    "\n",
    "cv2.imwrite('ic_map.jpg', img_new)"
   ]
  },
  {
   "cell_type": "code",
   "execution_count": null,
   "id": "06f617d1",
   "metadata": {
    "ExecuteTime": {
     "end_time": "2023-01-19T13:05:09.510045Z",
     "start_time": "2023-01-19T13:05:00.096344Z"
    }
   },
   "outputs": [],
   "source": [
    "#Calculate adjacent matrix\n",
    "s=1\n",
    "b=49\n",
    "adj=spg.calculate_adj_matrix(x=x_pixel,y=y_pixel, x_pixel=x_pixel, y_pixel=y_pixel, image=img, beta=b, alpha=s, histology=True)\n",
    "#If histlogy image is not available, SpaGCN can calculate the adjacent matrix using the fnction below\n",
    "# adj=spg.calculate_adj_matrix(x=x_pixel,y=y_pixel, histology=False)\n",
    "np.savetxt('ic_adj.csv', adj, delimiter=',')"
   ]
  },
  {
   "cell_type": "code",
   "execution_count": null,
   "id": "8b7dc432",
   "metadata": {
    "ExecuteTime": {
     "end_time": "2023-01-19T13:05:20.942855Z",
     "start_time": "2023-01-19T13:05:09.513339Z"
    }
   },
   "outputs": [],
   "source": [
    "adj=np.loadtxt('ic_adj.csv', delimiter=',')\n",
    "spg.prefilter_genes(adata,min_cells=3) # avoiding all genes are zeros\n",
    "spg.prefilter_specialgenes(adata_spg)\n",
    "#Normalize and take log for UMI\n",
    "sc.pp.normalize_per_cell(adata_spg)\n",
    "sc.pp.log1p(adata_spg)"
   ]
  },
  {
   "cell_type": "code",
   "execution_count": null,
   "id": "f720e31c",
   "metadata": {
    "ExecuteTime": {
     "end_time": "2023-01-19T13:05:23.189417Z",
     "start_time": "2023-01-19T13:05:20.944976Z"
    }
   },
   "outputs": [],
   "source": [
    "p=0.5 \n",
    "#Find the l value given p\n",
    "l=spg.search_l(p, adj, start=0.01, end=1000, tol=0.01, max_run=100)"
   ]
  },
  {
   "cell_type": "code",
   "execution_count": null,
   "id": "0dd5eb8f",
   "metadata": {
    "ExecuteTime": {
     "end_time": "2023-01-19T13:08:19.905377Z",
     "start_time": "2023-01-19T13:07:53.432828Z"
    }
   },
   "outputs": [],
   "source": [
    "#If the number of clusters known, we can use the spg.search_res() fnction to search for suitable resolution(optional)\n",
    "#For this toy data, we set the number of clusters=7 since this tissue has 7 layers\n",
    "n_clusters=5\n",
    "#Set seed\n",
    "r_seed=t_seed=n_seed=100\n",
    "#Seaech for suitable resolution\n",
    "res=spg.search_res(adata_spg, adj, l, n_clusters, start=0.7, step=0.1, tol=5e-3, lr=0.05, max_epochs=20, r_seed=r_seed, t_seed=t_seed, n_seed=n_seed)"
   ]
  },
  {
   "cell_type": "code",
   "execution_count": null,
   "id": "c19be512",
   "metadata": {
    "ExecuteTime": {
     "end_time": "2023-01-19T13:08:46.519177Z",
     "start_time": "2023-01-19T13:08:37.022470Z"
    }
   },
   "outputs": [],
   "source": [
    "import random, torch\n",
    "clf=spg.SpaGCN()\n",
    "res =0.25\n",
    "clf.set_l(l)\n",
    "#Set seed\n",
    "random.seed(r_seed)\n",
    "torch.manual_seed(t_seed)\n",
    "np.random.seed(n_seed)\n",
    "#Run\n",
    "clf.train(adata_spg,adj,init_spa=True,init=\"louvain\",res=res, tol=5e-3, lr=0.05, max_epochs=200)\n",
    "y_pred, prob=clf.predict()\n",
    "adata_spg.obs[\"pred\"]= y_pred\n",
    "adata_spg.obs[\"pred\"]=adata_spg.obs[\"pred\"].astype('category')\n",
    "#Do cluster refinement(optional)\n",
    "#shape=\"hexagon\" for Visium data, \"square\" for ST data.\n",
    "adj_2d=spg.calculate_adj_matrix(x=x_array,y=y_array, histology=False)\n",
    "refined_pred=spg.refine(sample_id=adata_spg.obs.index.tolist(), pred=adata_spg.obs[\"pred\"].tolist(), dis=adj_2d, shape=\"hexagon\")\n",
    "adata_spg.obs[\"SpaGCN_clusters\"]=refined_pred\n",
    "adata_spg.obs[\"SpaGCN_clusters\"]=adata_spg.obs[\"SpaGCN_clusters\"].astype('category')\n",
    "#Save results\n",
    "adata_spg.write_h5ad(\"ic_spagcn_results.h5ad\")"
   ]
  },
  {
   "cell_type": "code",
   "execution_count": null,
   "id": "14b7c572",
   "metadata": {
    "ExecuteTime": {
     "end_time": "2023-01-19T13:09:00.314026Z",
     "start_time": "2023-01-19T13:08:58.159480Z"
    }
   },
   "outputs": [],
   "source": [
    "adata_spg=sc.read(\"ic_spagcn_results.h5ad\")\n",
    "#Set colors used\n",
    "plot_color=[\"#F56867\",\"#FEB915\",\"#C798EE\",\"#59BE86\",\"#7495D3\",\"#D1D1D1\",\"#6D1A9C\",\"#15821E\",\"#3A84E6\",\"#997273\",\"#787878\",\"#DB4C6C\",\"#9E7A7A\",\"#554236\",\"#AF5F3C\",\"#93796C\",\"#F9BD3F\",\"#DAB370\",\"#877F6C\",\"#268785\"]\n",
    "#Plot spatial domains\n",
    "domains=\"pred\"\n",
    "num_celltype=len(adata_spg.obs[domains].unique())\n",
    "adata_spg.uns[domains+\"_colors\"]=list(plot_color[:num_celltype])\n",
    "ax=sc.pl.scatter(adata_spg,alpha=1,x=\"y_pixel\",y=\"x_pixel\",color=domains,title=domains,color_map=plot_color,show=False,size=100000/adata_spg.shape[0])\n",
    "ax.set_aspect('equal', 'box')\n",
    "ax.axes.invert_yaxis()\n",
    "plt.savefig(\"ic_spagcn_pred.png\", dpi=600)\n",
    "plt.close()\n",
    "\n",
    "#Plot refined spatial domains\n",
    "domains=\"SpaGCN_clusters\"\n",
    "num_celltype=len(adata_spg.obs[domains].unique())\n",
    "adata_spg.uns[domains+\"_colors\"]=list(plot_color[:num_celltype])\n",
    "ax=sc.pl.scatter(adata_spg,alpha=1,x=\"y_pixel\",y=\"x_pixel\",color=domains,title=domains,color_map=plot_color,show=False,size=100000/adata_spg.shape[0])\n",
    "ax.set_aspect('equal', 'box')\n",
    "ax.axes.invert_yaxis()\n",
    "plt.savefig(\"ic_spagcn_refined_pred.png\", dpi=600)\n",
    "plt.close()"
   ]
  },
  {
   "cell_type": "code",
   "execution_count": null,
   "id": "f6a07e1f",
   "metadata": {
    "ExecuteTime": {
     "end_time": "2023-01-19T13:10:43.160187Z",
     "start_time": "2023-01-19T13:10:43.155804Z"
    }
   },
   "outputs": [],
   "source": [
    "adata_spg.uns['SpaGCN_clusters_colors'] = ['#359c62','#d32929','#1f77b4','#e377c2','#d4ce6c']"
   ]
  },
  {
   "cell_type": "code",
   "execution_count": null,
   "id": "d0b147f5",
   "metadata": {
    "ExecuteTime": {
     "end_time": "2023-01-19T13:10:45.622866Z",
     "start_time": "2023-01-19T13:10:43.737793Z"
    }
   },
   "outputs": [],
   "source": [
    "sc.pl.spatial(adata_spg,color='SpaGCN_clusters',size=1.5)"
   ]
  },
  {
   "cell_type": "code",
   "execution_count": null,
   "id": "f881a0f4",
   "metadata": {
    "ExecuteTime": {
     "end_time": "2023-01-19T13:11:28.490298Z",
     "start_time": "2023-01-19T13:11:28.463964Z"
    }
   },
   "outputs": [],
   "source": [
    "mut_info=metrics.fowlkes_mallows_score(adata_spg.obs['SpaGCN_clusters'],histo_2['Histology'])\n",
    "adj_rand=metrics.adjusted_rand_score(adata_spg.obs['SpaGCN_clusters'],histo_2['Histology'])\n",
    "adj_mut_info=metrics.adjusted_mutual_info_score(adata_spg.obs['SpaGCN_clusters'],histo_2['Histology'])\n",
    "print(mut_info,adj_rand,adj_mut_info)"
   ]
  },
  {
   "cell_type": "markdown",
   "id": "c692239b",
   "metadata": {},
   "source": [
    "# stLearn"
   ]
  },
  {
   "cell_type": "code",
   "execution_count": null,
   "id": "15ce1a15",
   "metadata": {
    "ExecuteTime": {
     "end_time": "2023-01-19T13:11:43.093582Z",
     "start_time": "2023-01-19T13:11:42.237630Z"
    }
   },
   "outputs": [],
   "source": [
    "import stlearn as st\n",
    "from pathlib import Path"
   ]
  },
  {
   "cell_type": "code",
   "execution_count": null,
   "id": "f47a93e6",
   "metadata": {
    "ExecuteTime": {
     "end_time": "2023-01-19T13:21:32.717656Z",
     "start_time": "2023-01-19T13:21:32.695399Z"
    }
   },
   "outputs": [],
   "source": [
    "# specify PATH to data\n",
    "BASE_PATH = Path(\"Data/\")\n",
    "\n",
    "# spot tile is the intermediate result of image pre-processing\n",
    "TILE_PATH = Path(\"/tmp/tiles\")\n",
    "TILE_PATH.mkdir(parents=True, exist_ok=True)\n",
    "\n",
    "# output path\n",
    "OUT_PATH = Path(\"/\")\n",
    "OUT_PATH.mkdir(parents=True, exist_ok=True)"
   ]
  },
  {
   "cell_type": "code",
   "execution_count": null,
   "id": "44b1ea74",
   "metadata": {
    "ExecuteTime": {
     "end_time": "2023-01-19T13:21:34.259571Z",
     "start_time": "2023-01-19T13:21:32.719629Z"
    }
   },
   "outputs": [],
   "source": [
    "# load data\n",
    "data = st.Read10X(BASE_PATH)"
   ]
  },
  {
   "cell_type": "code",
   "execution_count": null,
   "id": "079a7aa2",
   "metadata": {
    "ExecuteTime": {
     "end_time": "2023-01-19T13:21:34.273617Z",
     "start_time": "2023-01-19T13:21:34.262086Z"
    }
   },
   "outputs": [],
   "source": [
    "data = data[data.obs_names.isin(histo_2['Barcode']),:]"
   ]
  },
  {
   "cell_type": "code",
   "execution_count": null,
   "id": "af4fc68c",
   "metadata": {
    "ExecuteTime": {
     "end_time": "2023-01-19T13:21:35.078624Z",
     "start_time": "2023-01-19T13:21:34.275028Z"
    }
   },
   "outputs": [],
   "source": [
    "# pre-processing for gene count table\n",
    "st.pp.filter_genes(data,min_cells=1)\n",
    "st.pp.normalize_total(data)\n",
    "st.pp.log1p(data)"
   ]
  },
  {
   "cell_type": "code",
   "execution_count": null,
   "id": "c9201141",
   "metadata": {
    "ExecuteTime": {
     "end_time": "2023-01-19T13:25:09.484090Z",
     "start_time": "2023-01-19T13:21:35.080908Z"
    }
   },
   "outputs": [],
   "source": [
    "# pre-processing for spot image\n",
    "st.pp.tiling(data, TILE_PATH)\n",
    "\n",
    "# this step uses deep learning model to extract high-level features from tile images\n",
    "# may need few minutes to be completed\n",
    "st.pp.extract_feature(data)"
   ]
  },
  {
   "cell_type": "code",
   "execution_count": null,
   "id": "ac2b6a2c",
   "metadata": {
    "ExecuteTime": {
     "end_time": "2023-01-19T13:30:13.832667Z",
     "start_time": "2023-01-19T13:29:26.956523Z"
    }
   },
   "outputs": [],
   "source": [
    "# run PCA for gene expression data\n",
    "st.em.run_pca(data,n_comps=50)"
   ]
  },
  {
   "cell_type": "code",
   "execution_count": null,
   "id": "a0b2a02f",
   "metadata": {
    "ExecuteTime": {
     "end_time": "2023-01-19T13:30:25.759727Z",
     "start_time": "2023-01-19T13:30:13.835184Z"
    }
   },
   "outputs": [],
   "source": [
    "data_SME = data.copy()\n",
    "# apply stSME to normalise log transformed data\n",
    "st.spatial.SME.SME_normalize(data_SME, use_data=\"raw\")\n",
    "data_SME.X = data_SME.obsm['raw_SME_normalized']\n",
    "st.pp.scale(data_SME)\n",
    "st.em.run_pca(data_SME,n_comps=50)"
   ]
  },
  {
   "cell_type": "code",
   "execution_count": null,
   "id": "5af99961",
   "metadata": {
    "ExecuteTime": {
     "end_time": "2023-01-19T13:31:41.355694Z",
     "start_time": "2023-01-19T13:31:30.746276Z"
    }
   },
   "outputs": [],
   "source": [
    "# K-means clustering on stSME normalised PCA\n",
    "st.tl.clustering.kmeans(data_SME,n_clusters=5, use_data=\"X_pca\", key_added=\"kmeans_stlearn\")\n",
    "st.pl.cluster_plot(data_SME, use_label=\"kmeans_stlearn\")"
   ]
  },
  {
   "cell_type": "code",
   "execution_count": null,
   "id": "1fba47ef",
   "metadata": {
    "ExecuteTime": {
     "end_time": "2023-01-19T13:31:48.055221Z",
     "start_time": "2023-01-19T13:31:48.016382Z"
    }
   },
   "outputs": [],
   "source": [
    "mut_info=metrics.fowlkes_mallows_score(data_SME.obs['kmeans_stlearn'],histo_2['Histology'])\n",
    "adj_rand=metrics.adjusted_rand_score(data_SME.obs['kmeans_stlearn'],histo_2['Histology'])\n",
    "adj_mut_info=metrics.adjusted_mutual_info_score(data_SME.obs['kmeans_stlearn'],histo_2['Histology'])\n",
    "print(mut_info,adj_rand,adj_mut_info)"
   ]
  },
  {
   "cell_type": "code",
   "execution_count": null,
   "id": "c3ed31c0",
   "metadata": {
    "ExecuteTime": {
     "end_time": "2023-01-19T13:40:04.169859Z",
     "start_time": "2023-01-19T13:40:04.134915Z"
    }
   },
   "outputs": [],
   "source": [
    "mut_info=metrics.fowlkes_mallows_score(adata.obs['kmeans'],histo_2['Histology'])\n",
    "adj_rand=metrics.adjusted_rand_score(adata.obs['kmeans'],histo_2['Histology'])\n",
    "adj_mut_info=metrics.adjusted_mutual_info_score(adata.obs['kmeans'],histo_2['Histology'])\n",
    "print(mut_info,adj_rand,adj_mut_info)"
   ]
  },
  {
   "cell_type": "code",
   "execution_count": null,
   "id": "dcef9376",
   "metadata": {
    "ExecuteTime": {
     "end_time": "2023-01-19T13:32:38.038465Z",
     "start_time": "2023-01-19T13:32:36.366789Z"
    }
   },
   "outputs": [],
   "source": [
    "sc.pl.spatial(data_SME,color=['kmeans_stlearn'],size=1.5)"
   ]
  },
  {
   "cell_type": "code",
   "execution_count": null,
   "id": "4445cd37",
   "metadata": {
    "ExecuteTime": {
     "end_time": "2023-01-19T13:40:17.109946Z",
     "start_time": "2023-01-19T13:40:17.107122Z"
    }
   },
   "outputs": [],
   "source": [
    "f={'CellPie_int':[0.3430071350730446],'CellPie_0':[0.25486035301123516],'kmeans':[0.2667040151343367],\n",
    "'SpaGCN':[0.2616348436322739],\n",
    " 'stLearn':[0.39077121051876296]}"
   ]
  },
  {
   "cell_type": "code",
   "execution_count": null,
   "id": "69f6db4a",
   "metadata": {
    "ExecuteTime": {
     "end_time": "2023-01-19T13:40:18.607020Z",
     "start_time": "2023-01-19T13:40:18.602962Z"
    }
   },
   "outputs": [],
   "source": [
    "score_comp = pd.DataFrame(data=f)"
   ]
  },
  {
   "cell_type": "code",
   "execution_count": null,
   "id": "4a5f5888",
   "metadata": {
    "ExecuteTime": {
     "end_time": "2023-01-19T13:40:18.827869Z",
     "start_time": "2023-01-19T13:40:18.825205Z"
    }
   },
   "outputs": [],
   "source": [
    "score_comp.index = ['ARI']"
   ]
  },
  {
   "cell_type": "code",
   "execution_count": null,
   "id": "e602e66d",
   "metadata": {
    "ExecuteTime": {
     "end_time": "2023-01-19T13:40:19.037816Z",
     "start_time": "2023-01-19T13:40:19.029857Z"
    }
   },
   "outputs": [],
   "source": [
    "score_comp"
   ]
  },
  {
   "cell_type": "code",
   "execution_count": null,
   "id": "0e81394f",
   "metadata": {
    "ExecuteTime": {
     "end_time": "2023-01-19T13:40:20.087247Z",
     "start_time": "2023-01-19T13:40:19.695822Z"
    },
    "scrolled": true
   },
   "outputs": [],
   "source": [
    "import seaborn as sns\n",
    "plot=sns.barplot(data=score_comp,orient='h')\n",
    "plot.set_xlabel( \"ARI\")"
   ]
  },
  {
   "cell_type": "code",
   "execution_count": null,
   "id": "7bb9cc64",
   "metadata": {
    "ExecuteTime": {
     "end_time": "2023-01-19T13:40:34.653090Z",
     "start_time": "2023-01-19T13:40:34.647962Z"
    }
   },
   "outputs": [],
   "source": [
    "list1 = ['Gleason 3','Gleason 4']\n",
    "histo_2_new = histo_2[histo_2['Histology'].isin(list1)]"
   ]
  },
  {
   "cell_type": "code",
   "execution_count": null,
   "id": "bc95346a",
   "metadata": {
    "ExecuteTime": {
     "end_time": "2023-01-19T13:40:34.856128Z",
     "start_time": "2023-01-19T13:40:34.846020Z"
    }
   },
   "outputs": [],
   "source": [
    "histo_2_new"
   ]
  },
  {
   "cell_type": "code",
   "execution_count": null,
   "id": "23dcca44",
   "metadata": {
    "ExecuteTime": {
     "end_time": "2023-01-19T13:40:35.428628Z",
     "start_time": "2023-01-19T13:40:35.416384Z"
    }
   },
   "outputs": [],
   "source": [
    "adata_new = adata[adata.obs_names.isin(histo_2_new['Barcode']),:]"
   ]
  },
  {
   "cell_type": "code",
   "execution_count": null,
   "id": "f817439d",
   "metadata": {
    "ExecuteTime": {
     "end_time": "2023-01-19T13:40:35.785834Z",
     "start_time": "2023-01-19T13:40:35.770402Z"
    }
   },
   "outputs": [],
   "source": [
    "data_SME_new = data_SME[data_SME.obs_names.isin(histo_2_new['Barcode']),:]\n",
    "adata_spg_new = adata_spg[adata_spg.obs_names.isin(histo_2_new['Barcode']),:]"
   ]
  },
  {
   "cell_type": "code",
   "execution_count": null,
   "id": "df78f143",
   "metadata": {
    "ExecuteTime": {
     "end_time": "2023-01-19T13:40:38.014048Z",
     "start_time": "2023-01-19T13:40:38.002810Z"
    }
   },
   "outputs": [],
   "source": [
    "adj_rand_stlearn=metrics.adjusted_rand_score(data_SME_new.obs['kmeans_stlearn'],adata_new.obs['path_anot'])\n",
    "print(adj_rand_stlearn)"
   ]
  },
  {
   "cell_type": "code",
   "execution_count": null,
   "id": "f8518bb2",
   "metadata": {
    "ExecuteTime": {
     "end_time": "2023-01-19T13:40:39.342460Z",
     "start_time": "2023-01-19T13:40:39.214182Z"
    }
   },
   "outputs": [],
   "source": [
    "adata_new.obs['SpaGCN_clusters']=adata_spg_new.obs['SpaGCN_clusters'].values\n",
    "adata_new.obs['stLearn_clusters']=data_SME_new.obs['kmeans_stlearn'].values"
   ]
  },
  {
   "cell_type": "code",
   "execution_count": null,
   "id": "bfa9f959",
   "metadata": {
    "ExecuteTime": {
     "end_time": "2023-01-19T13:40:40.916347Z",
     "start_time": "2023-01-19T13:40:40.907675Z"
    }
   },
   "outputs": [],
   "source": [
    "adj_rand_spag=metrics.adjusted_rand_score(adata_spg_new.obs['SpaGCN_clusters'],adata_new.obs['path_anot'])\n",
    "print(adj_rand_spag)"
   ]
  },
  {
   "cell_type": "code",
   "execution_count": null,
   "id": "3af133c4",
   "metadata": {
    "ExecuteTime": {
     "end_time": "2023-01-19T13:40:43.515606Z",
     "start_time": "2023-01-19T13:40:43.505358Z"
    }
   },
   "outputs": [],
   "source": [
    "# mut_info=metrics.fowlkes_mallows_score(adata_new.obs['kmeans_CellPie_0'],adata_new.obs['path_anot'])\n",
    "adj_rand_0=metrics.adjusted_rand_score(adata_new.obs['kmeans_CellPie_0'],adata_new.obs['path_anot'])\n",
    "# adj_mut_info=metrics.adjusted_mutual_info_score(adata_new.obs['kmeans_CellPie_0'],adata_new.obs['path_anot'])\n",
    "print(adj_rand_0)"
   ]
  },
  {
   "cell_type": "code",
   "execution_count": null,
   "id": "79ef1db1",
   "metadata": {
    "ExecuteTime": {
     "end_time": "2023-01-19T13:40:45.718811Z",
     "start_time": "2023-01-19T13:40:45.699646Z"
    }
   },
   "outputs": [],
   "source": [
    "adj_rand_int=metrics.adjusted_rand_score(adata_new.obs['kmeans_CellPie_int'],adata_new.obs['path_anot'])\n",
    "print(adj_rand_int)\n",
    "adj_rand_tr=metrics.adjusted_rand_score(adata_new.obs['kmeans_CellPie_0'],adata_new.obs['path_anot'])\n",
    "print(adj_rand_tr)\n",
    "adj_rand_kmeans=metrics.adjusted_rand_score(adata_new.obs['kmeans'],adata_new.obs['path_anot'])\n",
    "print(adj_rand_kmeans)"
   ]
  },
  {
   "cell_type": "code",
   "execution_count": null,
   "id": "d4c0d5e6",
   "metadata": {
    "ExecuteTime": {
     "end_time": "2023-01-19T13:42:46.925016Z",
     "start_time": "2023-01-19T13:42:46.920444Z"
    }
   },
   "outputs": [],
   "source": [
    "gl={'CellPie_int':[0.16703789839046385],'CellPie_0':[0.16336514905292712],'kmeans':[-0.016692173989926708],\n",
    "'SpaGCN':[0.02691286576524496],\n",
    " 'stLearn':[-0.026170964381168647]}"
   ]
  },
  {
   "cell_type": "code",
   "execution_count": null,
   "id": "ab0a539b",
   "metadata": {
    "ExecuteTime": {
     "end_time": "2023-01-19T13:41:08.504613Z",
     "start_time": "2023-01-19T13:41:08.499842Z"
    }
   },
   "outputs": [],
   "source": [
    "adata_new.uns['SpaGCN_clusters_colors'] = ['#279e68','#d62728', '#1f77b4', '#ff7f0e']"
   ]
  },
  {
   "cell_type": "code",
   "execution_count": null,
   "id": "1d48229f",
   "metadata": {
    "ExecuteTime": {
     "end_time": "2023-01-19T13:41:08.714269Z",
     "start_time": "2023-01-19T13:41:08.706735Z"
    }
   },
   "outputs": [],
   "source": [
    "adata_new.uns['stLearn_clusters_colors'] = ['#1f77b4','#279e68','#ff7f0e','#d62728']"
   ]
  },
  {
   "cell_type": "code",
   "execution_count": null,
   "id": "0e9998f8",
   "metadata": {
    "ExecuteTime": {
     "end_time": "2023-01-19T13:41:08.893158Z",
     "start_time": "2023-01-19T13:41:08.887405Z"
    }
   },
   "outputs": [],
   "source": [
    "adata_new.uns['kmeans_CellPie_tr_colors'] = [ '#279e68', '#d62728','#279e68', '#aa40fc']"
   ]
  },
  {
   "cell_type": "code",
   "execution_count": null,
   "id": "acd0ba02",
   "metadata": {
    "ExecuteTime": {
     "end_time": "2023-01-19T13:41:15.128598Z",
     "start_time": "2023-01-19T13:41:09.504573Z"
    }
   },
   "outputs": [],
   "source": [
    "sc.pl.spatial(adata_new,\n",
    "              color=['path_anot','kmeans_CellPie_int','kmeans','kmeans_CellPie_0','SpaGCN_clusters','stLearn_clusters'],\n",
    "              size=1.5,ncols=3)\n"
   ]
  },
  {
   "cell_type": "code",
   "execution_count": null,
   "id": "cfa2a6c9",
   "metadata": {
    "ExecuteTime": {
     "end_time": "2023-01-19T13:42:51.189574Z",
     "start_time": "2023-01-19T13:42:51.184699Z"
    }
   },
   "outputs": [],
   "source": [
    "score_comp_g = pd.DataFrame(data=gl)\n",
    "score_comp_g.index = ['ARI']"
   ]
  },
  {
   "cell_type": "code",
   "execution_count": null,
   "id": "deb269fa",
   "metadata": {
    "ExecuteTime": {
     "end_time": "2023-01-19T13:42:52.686544Z",
     "start_time": "2023-01-19T13:42:52.291161Z"
    }
   },
   "outputs": [],
   "source": [
    "plot=sns.barplot(data=score_comp_g,orient='h')\n",
    "plot.set_xlabel( \"ARI\")"
   ]
  },
  {
   "cell_type": "code",
   "execution_count": null,
   "id": "a4c06c05",
   "metadata": {
    "ExecuteTime": {
     "end_time": "2023-01-19T13:43:07.322214Z",
     "start_time": "2023-01-19T13:43:07.264950Z"
    }
   },
   "outputs": [],
   "source": [
    "adata_new.obs.to_csv('adata_prostate_reprod.csv')"
   ]
  },
  {
   "cell_type": "code",
   "execution_count": null,
   "id": "8925277d",
   "metadata": {
    "ExecuteTime": {
     "end_time": "2023-01-19T13:44:37.488105Z",
     "start_time": "2023-01-19T13:44:36.638811Z"
    }
   },
   "outputs": [],
   "source": [
    "adata.write('adata_prostate_repro.h5ad')"
   ]
  },
  {
   "cell_type": "code",
   "execution_count": null,
   "id": "bbbd7e21",
   "metadata": {},
   "outputs": [],
   "source": []
  }
 ],
 "metadata": {
  "kernelspec": {
   "display_name": "Python 3 (ipykernel)",
   "language": "python",
   "name": "python3"
  },
  "language_info": {
   "codemirror_mode": {
    "name": "ipython",
    "version": 3
   },
   "file_extension": ".py",
   "mimetype": "text/x-python",
   "name": "python",
   "nbconvert_exporter": "python",
   "pygments_lexer": "ipython3",
   "version": "3.8.12"
  }
 },
 "nbformat": 4,
 "nbformat_minor": 5
}
