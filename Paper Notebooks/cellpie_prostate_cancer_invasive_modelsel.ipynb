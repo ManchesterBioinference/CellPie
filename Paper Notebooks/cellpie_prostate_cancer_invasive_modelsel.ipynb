{
 "cells": [
  {
   "cell_type": "markdown",
   "id": "513e4bc1-4d64-4823-bb41-0f7109284d67",
   "metadata": {},
   "source": [
    "Load required libraries. int_nmf_model must be in the same directory. If it is not it can be added to pythons path"
   ]
  },
  {
   "cell_type": "code",
   "execution_count": null,
   "id": "95ff68b8-bd25-4c74-ac54-059372017ae1",
   "metadata": {
    "ExecuteTime": {
     "end_time": "2023-07-20T14:30:56.012795Z",
     "start_time": "2023-07-20T14:30:56.005865Z"
    },
    "tags": []
   },
   "outputs": [],
   "source": [
    "import anndata as ad\n",
    "import scanpy as sc\n",
    "import numpy as np\n",
    "import scipy\n",
    "import sys\n",
    "sys.path.append(\"../../CellPie/\") # go to parent dir\n",
    "import cellpie_main as cp\n",
    "from cellpie_main import intNMF\n",
    "import anndata as ad\n",
    "from matplotlib import pyplot as plt\n",
    "import scipy.io\n",
    "import pandas as pd\n",
    "import squidpy as sq\n",
    "from PIL import Image\n",
    "from sklearn.cluster import KMeans\n",
    "from kneed import KneeLocator\n",
    "import seaborn as sns"
   ]
  },
  {
   "cell_type": "code",
   "execution_count": null,
   "id": "03ab9e29",
   "metadata": {
    "ExecuteTime": {
     "end_time": "2023-07-20T14:30:56.174729Z",
     "start_time": "2023-07-20T14:30:56.169872Z"
    }
   },
   "outputs": [],
   "source": [
    "sc.set_figure_params(scanpy=True, dpi=250, dpi_save=100)"
   ]
  },
  {
   "cell_type": "markdown",
   "id": "e26b51ad",
   "metadata": {},
   "source": [
    "# CellPie"
   ]
  },
  {
   "cell_type": "code",
   "execution_count": null,
   "id": "e4eb0634",
   "metadata": {
    "ExecuteTime": {
     "end_time": "2023-07-20T14:30:56.459639Z",
     "start_time": "2023-07-20T14:30:56.437173Z"
    }
   },
   "outputs": [],
   "source": [
    "histo_2 = pd.read_csv('Data/Histology_Visium_FFPE_Human_Prostate_Cancer_cloupe.csv').dropna()"
   ]
  },
  {
   "cell_type": "code",
   "execution_count": null,
   "id": "97ce6d30",
   "metadata": {
    "ExecuteTime": {
     "end_time": "2023-07-20T14:30:59.823257Z",
     "start_time": "2023-07-20T14:30:56.609415Z"
    }
   },
   "outputs": [],
   "source": [
    "# read ST data\n",
    "adata = sc.read_visium(path = 'Data/', \n",
    "                       count_file='Visium_FFPE_Human_Prostate_Cancer_filtered_feature_bc_matrix.h5', \n",
    "                       library_id='A1_spot',                        \n",
    "                       load_images=True)\n",
    "adata.var_names_make_unique()\n",
    "adata.var['SYMBOL'] = adata.var_names"
   ]
  },
  {
   "cell_type": "code",
   "execution_count": null,
   "id": "c9c55e09",
   "metadata": {
    "ExecuteTime": {
     "end_time": "2023-07-20T14:31:08.641930Z",
     "start_time": "2023-07-20T14:31:08.620718Z"
    }
   },
   "outputs": [],
   "source": [
    "adata = adata[adata.obs_names.isin(histo_2['Barcode']),:]"
   ]
  },
  {
   "cell_type": "code",
   "execution_count": null,
   "id": "b1d45f59",
   "metadata": {},
   "outputs": [],
   "source": [
    "# adata.obs['histo_10x'] = histo_10x['Pathology'].values"
   ]
  },
  {
   "cell_type": "code",
   "execution_count": null,
   "id": "ddd9ed57",
   "metadata": {
    "ExecuteTime": {
     "end_time": "2023-07-20T14:30:59.932554Z",
     "start_time": "2023-07-20T14:30:59.854558Z"
    }
   },
   "outputs": [],
   "source": [
    "img = sq.im.ImageContainer(\n",
    "adata.uns[\"spatial\"]['A1_spot'][\"images\"][\"hires\"][:,:,0:3],\n",
    "scale=adata.uns[\"spatial\"]['A1_spot'][\"scalefactors\"][\"tissue_hires_scalef\"])"
   ]
  },
  {
   "cell_type": "code",
   "execution_count": null,
   "id": "ab8416ef",
   "metadata": {
    "ExecuteTime": {
     "end_time": "2023-07-20T14:31:08.614377Z",
     "start_time": "2023-07-20T14:30:59.945913Z"
    }
   },
   "outputs": [],
   "source": [
    "img.show(channelwise=True)"
   ]
  },
  {
   "cell_type": "code",
   "execution_count": null,
   "id": "9817d661",
   "metadata": {
    "ExecuteTime": {
     "end_time": "2023-07-20T14:31:08.652857Z",
     "start_time": "2023-07-20T14:31:08.648480Z"
    }
   },
   "outputs": [],
   "source": [
    "# the image contains one extra channel that looks empty, so we want to remove this before extracting the features\n",
    "adata.uns[\"spatial\"]['A1_spot'][\"images\"][\"hires\"]=adata.uns[\"spatial\"]['A1_spot'][\"images\"][\"hires\"][:,:,0:3]"
   ]
  },
  {
   "cell_type": "code",
   "execution_count": null,
   "id": "abe656b4",
   "metadata": {},
   "outputs": [],
   "source": [
    "for spot_scale in [1,2,3]:\n",
    "    feature_name = f\"features_summary_scale{spot_scale}\"\n",
    "    sq.im.calculate_image_features(\n",
    "        adata,\n",
    "        img.compute(),\n",
    "        features=\"histogram\",\n",
    "        key_added=feature_name,\n",
    "        n_jobs=4,\n",
    "        scale = 1,\n",
    "        spot_scale=spot_scale,\n",
    "    )"
   ]
  },
  {
   "cell_type": "code",
   "execution_count": null,
   "id": "9923ca95",
   "metadata": {},
   "outputs": [],
   "source": [
    "# combine features in one dataframe\n",
    "adata.obsm[\"features\"] = pd.concat(\n",
    "    [adata.obsm[f] for f in adata.obsm.keys() if \"features_summary\" in f],\n",
    "    axis=\"columns\",\n",
    ")\n",
    "# make sure that we have no duplicated feature names in the combined table\n",
    "adata.obsm[\"features\"].columns = ad.utils.make_index_unique(\n",
    "    adata.obsm[\"features\"].columns\n",
    ")"
   ]
  },
  {
   "cell_type": "code",
   "execution_count": null,
   "id": "06382a7c",
   "metadata": {
    "ExecuteTime": {
     "end_time": "2023-07-20T14:32:54.052303Z",
     "start_time": "2023-07-20T14:32:53.533633Z"
    }
   },
   "outputs": [],
   "source": [
    "sc.pp.normalize_total(adata)"
   ]
  },
  {
   "cell_type": "code",
   "execution_count": null,
   "id": "16746266",
   "metadata": {
    "ExecuteTime": {
     "end_time": "2023-07-20T14:32:54.085360Z",
     "start_time": "2023-07-20T14:32:54.059873Z"
    }
   },
   "outputs": [],
   "source": [
    "feat = adata.obsm['features'].loc[:, (adata.obsm['features'] != 0).any(axis=0)]\n",
    "adata.obsm['features'] = feat"
   ]
  },
  {
   "cell_type": "code",
   "execution_count": null,
   "id": "0d85e41e",
   "metadata": {
    "ExecuteTime": {
     "end_time": "2023-07-20T14:32:54.109093Z",
     "start_time": "2023-07-20T14:32:54.101879Z"
    }
   },
   "outputs": [],
   "source": [
    "adata_ms = adata"
   ]
  },
  {
   "cell_type": "code",
   "execution_count": null,
   "id": "b9d784ba",
   "metadata": {
    "ExecuteTime": {
     "end_time": "2023-07-20T14:32:54.194302Z",
     "start_time": "2023-07-20T14:32:54.113490Z"
    }
   },
   "outputs": [],
   "source": [
    "import pickle as pkl\n",
    "def do_model_selection(ks: list, rna, atac, method=\"bic\"):\n",
    "\n",
    "    sweep_res = {}\n",
    "    best_model = [None, 1e20]\n",
    "\n",
    "    if method == \"bic\":\n",
    "\n",
    "        for k in ks:\n",
    "            sweep_res[k] = [intNMF(adata_ms,k,lam=0,epochs = 50, init = 'NNDSVD',mod1_skew=1.6), None]\n",
    "            sweep_res[k][0].fit(adata_ms,tf_transf=False)\n",
    "            \n",
    "            n_atac_features = atac.shape[1]\n",
    "            n_rna_features = rna.shape[1]\n",
    "            n_cells = rna.shape[0]\n",
    "\n",
    "            sweep_res[k][1] = np.log(np.square(sweep_res[k][0].loss[-1])) \n",
    "            if sweep_res[k][1] < best_model[1]:\n",
    "                best_model = sweep_res[k]\n",
    "\n",
    "            sweep_res[k] = tuple(sweep_res[k])\n",
    "            \n",
    "    else:\n",
    "        print(\"incorrect selection of sweep method\")\n",
    "        return\n",
    "\n",
    "    with open('sweep_res_intNMF.pickle', 'wb') as handle:\n",
    "        pkl.dump(sweep_res, handle, protocol=pkl.HIGHEST_PROTOCOL)\n",
    "\n",
    "\n",
    "    return (tuple(best_model), sweep_res)"
   ]
  },
  {
   "cell_type": "code",
   "execution_count": null,
   "id": "4479f83a",
   "metadata": {
    "ExecuteTime": {
     "end_time": "2023-07-20T14:32:54.205312Z",
     "start_time": "2023-07-20T14:32:54.199710Z"
    }
   },
   "outputs": [],
   "source": [
    "n = 30\n",
    "ks = []\n",
    "\n",
    "for i in range(1, n+1):\n",
    "    ks.append(i)"
   ]
  },
  {
   "cell_type": "code",
   "execution_count": null,
   "id": "7e93b559",
   "metadata": {
    "ExecuteTime": {
     "end_time": "2023-07-20T14:58:49.122312Z",
     "start_time": "2023-07-20T14:32:54.210441Z"
    },
    "scrolled": true
   },
   "outputs": [],
   "source": [
    "mod=do_model_selection(ks=ks,rna=adata_ms,atac=adata_ms.obsm['features'])"
   ]
  },
  {
   "cell_type": "code",
   "execution_count": null,
   "id": "b0fdcffe",
   "metadata": {
    "ExecuteTime": {
     "end_time": "2023-07-20T14:58:49.248985Z",
     "start_time": "2023-07-20T14:58:49.146801Z"
    }
   },
   "outputs": [],
   "source": [
    "from kneed import KneeLocator\n",
    "\n",
    "kn = KneeLocator(ks, np.float64(pd.DataFrame.from_dict(mod[1]).iloc[1,:].values),interp_method=\"polynomial\",curve='convex', direction='decreasing')\n",
    "print(kn.knee)"
   ]
  },
  {
   "cell_type": "code",
   "execution_count": null,
   "id": "73a47591",
   "metadata": {
    "ExecuteTime": {
     "end_time": "2023-07-20T15:15:33.567396Z",
     "start_time": "2023-07-20T15:15:31.313854Z"
    }
   },
   "outputs": [],
   "source": [
    "plt.scatter(ks,pd.DataFrame.from_dict(mod[1]).iloc[1,:].values)\n",
    "plt.axvline(kn.knee, linewidth=2, color='r')"
   ]
  },
  {
   "cell_type": "code",
   "execution_count": null,
   "id": "edaeaada",
   "metadata": {},
   "outputs": [],
   "source": [
    "from sklearn import metrics\n",
    "res = []\n",
    "\n",
    "for i in np.arange(0, 2.01,0.1):\n",
    "    \n",
    "    nmf_model = intNMF(adata,11,lam=0,epochs = 50, init = 'NNDSVD',mod1_skew=i)\n",
    "    nmf_model.fit(adata)\n",
    "    from sklearn.cluster import KMeans\n",
    "    X = adata.obs.iloc[:,3:14].values\n",
    "    \n",
    "    kmeans = KMeans(n_clusters=5, init='k-means++',max_iter=500,random_state=2).fit(X)\n",
    "    adata.obs['kmeans_t']=kmeans.labels_.astype(str)\n",
    "    mut_info=metrics.fowlkes_mallows_score(adata.obs['kmeans_t'],histo_2['Histology'])\n",
    "    adj_rand=metrics.adjusted_rand_score(adata.obs['kmeans_t'],histo_2['Histology'])\n",
    "    adj_mut_info=metrics.adjusted_mutual_info_score(adata.obs['kmeans_t'],histo_2['Histology'])\n",
    "    res.append((i,mut_info,adj_rand,adj_mut_info)) "
   ]
  },
  {
   "cell_type": "code",
   "execution_count": null,
   "id": "21f03883",
   "metadata": {},
   "outputs": [],
   "source": [
    "score = pd.DataFrame(res)   \n",
    "plt.plot(score[0],score[1],color=\"green\",label='Fowlkes Mallows Score')\n",
    "plt.plot(score[0],score[2],color=\"red\",label='Adjusted Rand Score')\n",
    "plt.plot(score[0],score[3],color=\"blue\",label='Adjusted Mutual Info Score')\n",
    "plt.xlabel(\"Weight\")\n",
    "plt.ylabel(\"Score\")\n",
    "plt.legend(prop={'size': 9})"
   ]
  },
  {
   "cell_type": "code",
   "execution_count": null,
   "id": "123c4e42",
   "metadata": {},
   "outputs": [],
   "source": [
    "score[2].idxmax()"
   ]
  },
  {
   "cell_type": "code",
   "execution_count": null,
   "id": "74a6587b",
   "metadata": {
    "ExecuteTime": {
     "end_time": "2023-07-20T15:17:45.469192Z",
     "start_time": "2023-07-20T15:15:55.839883Z"
    },
    "scrolled": true
   },
   "outputs": [],
   "source": [
    "nmf_model = intNMF(adata,11,lam=0,epochs = 50, init = 'NNDSVD',mod1_skew=1.7)\n",
    "nmf_model.fit(adata,tf_transf=False)"
   ]
  },
  {
   "cell_type": "code",
   "execution_count": null,
   "id": "000dc6d0",
   "metadata": {
    "scrolled": true
   },
   "outputs": [],
   "source": [
    "cp.plot_topic_proportions(adata,11)"
   ]
  },
  {
   "cell_type": "markdown",
   "id": "5fe43144",
   "metadata": {
    "ExecuteTime": {
     "end_time": "2023-01-19T14:16:45.044553Z",
     "start_time": "2023-01-19T14:16:45.041947Z"
    }
   },
   "source": [
    "### extract gene loading matrix"
   ]
  },
  {
   "cell_type": "code",
   "execution_count": null,
   "id": "c8e7950d",
   "metadata": {
    "ExecuteTime": {
     "end_time": "2023-04-05T12:36:09.127747Z",
     "start_time": "2023-04-05T12:36:09.110042Z"
    }
   },
   "outputs": [],
   "source": [
    "l=cp.get_genes_topic(adata,nmf_model.phi_expr)"
   ]
  },
  {
   "cell_type": "code",
   "execution_count": null,
   "id": "d7856451",
   "metadata": {
    "ExecuteTime": {
     "end_time": "2023-04-05T11:01:41.846939Z",
     "start_time": "2023-04-05T11:01:41.604131Z"
    }
   },
   "outputs": [],
   "source": [
    "l.T.to_csv('Results/marker_genes_prostate_reproduce_11topics_w17.csv')"
   ]
  },
  {
   "cell_type": "code",
   "execution_count": null,
   "id": "3b03095d",
   "metadata": {
    "ExecuteTime": {
     "end_time": "2023-04-05T11:01:44.862183Z",
     "start_time": "2023-04-05T11:01:44.621311Z"
    }
   },
   "outputs": [],
   "source": [
    "adata.write('Results/prostate_reproduce_11topics_w17.h5ad')"
   ]
  },
  {
   "cell_type": "code",
   "execution_count": null,
   "id": "7b484a41",
   "metadata": {
    "ExecuteTime": {
     "end_time": "2023-04-05T12:36:11.609217Z",
     "start_time": "2023-04-05T12:36:11.599655Z"
    }
   },
   "outputs": [],
   "source": [
    "adata_l=sc.AnnData(l)"
   ]
  },
  {
   "cell_type": "code",
   "execution_count": null,
   "id": "4e47522d",
   "metadata": {
    "ExecuteTime": {
     "end_time": "2023-04-05T11:01:50.842043Z",
     "start_time": "2023-04-05T11:01:50.821053Z"
    }
   },
   "outputs": [],
   "source": [
    "adata_l.write('Results/genes_prostate_reproduce_11topics_w17.h5ad')"
   ]
  },
  {
   "cell_type": "code",
   "execution_count": null,
   "id": "25f9b93f-92ce-425d-9f08-2bbd65950fc5",
   "metadata": {},
   "outputs": [],
   "source": [
    "sc.pp.pca(adata)"
   ]
  },
  {
   "cell_type": "code",
   "execution_count": null,
   "id": "8deefd99-a07a-407e-8183-8314f0751898",
   "metadata": {},
   "outputs": [],
   "source": [
    "from sklearn.cluster import KMeans\n",
    "X = adata.obsm['X_pca']\n",
    "kmeans = KMeans(n_clusters=5, init='k-means++',max_iter=500,random_state=2).fit(X)\n",
    "adata.obs['kmeans']=kmeans.labels_.astype(str)"
   ]
  },
  {
   "cell_type": "code",
   "execution_count": null,
   "id": "93f6159f",
   "metadata": {
    "ExecuteTime": {
     "end_time": "2023-07-19T12:37:56.607679Z",
     "start_time": "2023-07-19T12:37:56.449086Z"
    }
   },
   "outputs": [],
   "source": [
    "from sklearn.cluster import KMeans\n",
    "X = adata.obs.iloc[:,3:14].values\n",
    "kmeans = KMeans(n_clusters=5, init='k-means++',max_iter=500,random_state=2).fit(X)\n",
    "adata.obs['kmeans_CellPie_int']=kmeans.labels_.astype(str)"
   ]
  },
  {
   "cell_type": "code",
   "execution_count": null,
   "id": "318d282e",
   "metadata": {
    "ExecuteTime": {
     "end_time": "2023-07-19T12:37:59.289695Z",
     "start_time": "2023-07-19T12:37:59.279909Z"
    }
   },
   "outputs": [],
   "source": [
    "from sklearn import metrics\n",
    "adj_rand=metrics.adjusted_rand_score(adata.obs['kmeans_CellPie_int'],histo_2['Histology'])\n",
    "adj_rand"
   ]
  },
  {
   "cell_type": "code",
   "execution_count": null,
   "id": "579b8fee-2b1b-4f08-a2ef-58809c1e3516",
   "metadata": {},
   "outputs": [],
   "source": [
    "sc.pl.spatial(adata,color='kmeans_CellPie_int')"
   ]
  },
  {
   "cell_type": "markdown",
   "id": "5053a9b4-25a1-4ca9-ae6d-ff707df74689",
   "metadata": {},
   "source": [
    "CellPie clustering for single NMF (weight=2)"
   ]
  },
  {
   "cell_type": "code",
   "execution_count": null,
   "id": "1347ba8b-1249-4b78-a948-163b7a82a296",
   "metadata": {},
   "outputs": [],
   "source": [
    "adata_0 = adata.copy()"
   ]
  },
  {
   "cell_type": "code",
   "execution_count": null,
   "id": "f7a12a98-67c4-4aaa-88a6-d7d0ea1f3944",
   "metadata": {},
   "outputs": [],
   "source": [
    "nmf_model = intNMF(adata_0,11,lam=0,epochs = 50, init = 'NNDSVD',mod1_skew=2)\n",
    "nmf_model.fit(adata_0)"
   ]
  },
  {
   "cell_type": "code",
   "execution_count": null,
   "id": "d4043885-7118-43db-94f6-29362b06125a",
   "metadata": {},
   "outputs": [],
   "source": [
    "X = adata_0.obs.iloc[:,3:14].values\n",
    "kmeans = KMeans(n_clusters=5, init='k-means++',max_iter=500,random_state=2).fit(X)\n",
    "adata_0.obs['kmeans_CellPie_0']=kmeans.labels_.astype(str)"
   ]
  },
  {
   "cell_type": "code",
   "execution_count": null,
   "id": "035898bf-1a19-4732-bb80-bae006e3f98a",
   "metadata": {},
   "outputs": [],
   "source": [
    "adj_rand=metrics.adjusted_rand_score(adata_0.obs['kmeans_CellPie_0'],histo_2['Histology'])\n",
    "adj_rand"
   ]
  },
  {
   "cell_type": "code",
   "execution_count": null,
   "id": "108f83bc",
   "metadata": {
    "ExecuteTime": {
     "end_time": "2023-06-05T14:20:46.939174Z",
     "start_time": "2023-06-05T14:20:45.196181Z"
    },
    "scrolled": true
   },
   "outputs": [],
   "source": [
    "import pandas as pd\n",
    "import numpy as np\n",
    "import matplotlib.pyplot as plt\n",
    "import seaborn as sns\n",
    "plt.figure(figsize=(10, 8))\n",
    "sns.heatmap(\n",
    "    pd.crosstab(\n",
    "        histo_2['Histology'],adata.obs['kmeans_CellPie_int'].values,\n",
    "        normalize ='index'\n",
    "    ), \n",
    "    cmap=sns.color_palette(\"crest\", as_cmap=True),\n",
    "    annot = True\n",
    ")\n",
    "plt.grid(None)\n",
    "plt.show()"
   ]
  },
  {
   "cell_type": "code",
   "execution_count": null,
   "id": "9a2b2f37",
   "metadata": {},
   "outputs": [],
   "source": [
    "sc.pl.spatial(adata,color='kmeans_CellPie_int',size=1.5)"
   ]
  },
  {
   "cell_type": "code",
   "execution_count": null,
   "id": "81889bc1",
   "metadata": {},
   "outputs": [],
   "source": [
    "adata.obs['kmeans_CellPie_0'] = adata_0.obs['kmeans_CellPie_0']"
   ]
  },
  {
   "cell_type": "code",
   "execution_count": null,
   "id": "4eb68bc4",
   "metadata": {
    "ExecuteTime": {
     "end_time": "2023-04-05T12:01:12.765885Z",
     "start_time": "2023-04-05T12:01:12.762361Z"
    }
   },
   "outputs": [],
   "source": [
    "adata.obs['path_anot'] = histo_2['Histology'].values"
   ]
  },
  {
   "cell_type": "code",
   "execution_count": null,
   "id": "adb9c4f2",
   "metadata": {},
   "outputs": [],
   "source": [
    "adata.uns['kmeans_CellPie_int_colors'] =['#279e68', '#1f77b4', '#e377c2' ,'#d62728', '#aa40fc']"
   ]
  },
  {
   "cell_type": "code",
   "execution_count": null,
   "id": "2b56e6bd",
   "metadata": {},
   "outputs": [],
   "source": [
    "adata.uns['kmeans_CellPie_0_colors'] = ['#279e68', '#1f77b4','#e377c2','#d62728' ,'#aa40fc']   "
   ]
  },
  {
   "cell_type": "code",
   "execution_count": null,
   "id": "ac4c4d9c",
   "metadata": {},
   "outputs": [],
   "source": [
    "adata.uns['kmeans_colors'] = ['#279e68', '#1f77b4', '#aa40fc',  '#e377c2','#d62728']"
   ]
  },
  {
   "cell_type": "code",
   "execution_count": null,
   "id": "b86f1535",
   "metadata": {},
   "outputs": [],
   "source": [
    "adata.uns['path_anot_colors']"
   ]
  },
  {
   "cell_type": "code",
   "execution_count": null,
   "id": "ec2e3f66",
   "metadata": {},
   "outputs": [],
   "source": [
    "sc.pl.spatial(adata,color='path_anot',size=1.5)"
   ]
  },
  {
   "cell_type": "markdown",
   "id": "1970219d",
   "metadata": {},
   "source": [
    "# SPAGCN"
   ]
  },
  {
   "cell_type": "code",
   "execution_count": null,
   "id": "bd87e1e3",
   "metadata": {
    "ExecuteTime": {
     "end_time": "2023-01-19T13:03:07.054262Z",
     "start_time": "2023-01-19T13:03:07.051135Z"
    }
   },
   "outputs": [],
   "source": [
    "import SpaGCN as spg\n",
    "import cv2"
   ]
  },
  {
   "cell_type": "code",
   "execution_count": null,
   "id": "53d2ec8d",
   "metadata": {
    "ExecuteTime": {
     "end_time": "2023-01-19T13:03:09.679357Z",
     "start_time": "2023-01-19T13:03:07.233281Z"
    }
   },
   "outputs": [],
   "source": [
    "#Read in gene expression and spatial location\n",
    "adata_spg = sc.read_visium(path = 'Data/', \n",
    "                       count_file='Visium_FFPE_Human_Prostate_Cancer_filtered_feature_bc_matrix.h5', \n",
    "                       library_id='A1_spot',                       \n",
    "                       load_images=True)\n",
    "adata_spg.var_names_make_unique()\n",
    "adata_spg.var['SYMBOL'] = adata_spg.var_names\n",
    "#Read in hitology image\n",
    "adata_spg = adata_spg[adata_spg.obs_names.isin(histo_2['Barcode']),:]\n",
    "spatial=pd.read_csv(\"Data/spatial/tissue_positions_list.csv\",sep=\",\",header=None,na_filter=False,index_col=0) \n",
    "adata_spg.obs[\"x1\"]=spatial[1]\n",
    "adata_spg.obs[\"x2\"]=spatial[2]\n",
    "adata_spg.obs[\"x3\"]=spatial[3]\n",
    "adata_spg.obs[\"x4\"]=spatial[4]\n",
    "adata_spg.obs[\"x5\"]=spatial[5]\n",
    "adata_spg.obs[\"x_array\"]=adata_spg.obs[\"x2\"]\n",
    "adata_spg.obs[\"y_array\"]=adata_spg.obs[\"x3\"]\n",
    "adata_spg.obs[\"x_pixel\"]=adata_spg.obs[\"x4\"]\n",
    "adata_spg.obs[\"y_pixel\"]=adata_spg.obs[\"x5\"]\n",
    "#Select captured samples\n",
    "adata_spg=adata_spg[adata_spg.obs[\"x1\"]==1]\n",
    "adata_spg.var_names=[i.upper() for i in list(adata_spg.var_names)]\n",
    "adata_spg.var[\"genename\"]=adata_spg.var.index.astype(\"str\")\n",
    "adata_spg.write_h5ad(\"sample_data.h5ad\")\n",
    "                 \n",
    "adata_spg=sc.read(\"sample_data.h5ad\")\n"
   ]
  },
  {
   "cell_type": "code",
   "execution_count": null,
   "id": "2ca9eda5",
   "metadata": {
    "ExecuteTime": {
     "end_time": "2023-01-19T13:03:54.754229Z",
     "start_time": "2023-01-19T13:03:43.208997Z"
    }
   },
   "outputs": [],
   "source": [
    "img=cv2.imread(\"/Users/user/Prostate_cancer_invasive/Visium_FFPE_Human_Prostate_Cancer_image.tif\")"
   ]
  },
  {
   "cell_type": "code",
   "execution_count": null,
   "id": "7153eb91",
   "metadata": {
    "ExecuteTime": {
     "end_time": "2023-01-19T13:04:08.807317Z",
     "start_time": "2023-01-19T13:03:56.218788Z"
    }
   },
   "outputs": [],
   "source": [
    "#Set coordinates\n",
    "x_array=adata_spg.obs[\"x_array\"].tolist()\n",
    "y_array=adata_spg.obs[\"y_array\"].tolist()\n",
    "x_pixel=adata_spg.obs[\"x_pixel\"].tolist()\n",
    "y_pixel=adata_spg.obs[\"y_pixel\"].tolist()\n",
    "\n",
    "#Test coordinates on the image\n",
    "img_new=img.copy()\n",
    "for i in range(len(x_pixel)):\n",
    "    x=x_pixel[i]\n",
    "    y=y_pixel[i]\n",
    "    img_new[int(x-20):int(x+20), int(y-20):int(y+20),:]=0\n",
    "\n",
    "cv2.imwrite('ic_map.jpg', img_new)"
   ]
  },
  {
   "cell_type": "code",
   "execution_count": null,
   "id": "06f617d1",
   "metadata": {
    "ExecuteTime": {
     "end_time": "2023-01-19T13:05:09.510045Z",
     "start_time": "2023-01-19T13:05:00.096344Z"
    }
   },
   "outputs": [],
   "source": [
    "#Calculate adjacent matrix\n",
    "s=1\n",
    "b=49\n",
    "adj=spg.calculate_adj_matrix(x=x_pixel,y=y_pixel, x_pixel=x_pixel, y_pixel=y_pixel, image=img, beta=b, alpha=s, histology=True)\n",
    "#If histlogy image is not available, SpaGCN can calculate the adjacent matrix using the fnction below\n",
    "# adj=spg.calculate_adj_matrix(x=x_pixel,y=y_pixel, histology=False)\n",
    "np.savetxt('ic_adj.csv', adj, delimiter=',')"
   ]
  },
  {
   "cell_type": "code",
   "execution_count": null,
   "id": "8b7dc432",
   "metadata": {
    "ExecuteTime": {
     "end_time": "2023-01-19T13:05:20.942855Z",
     "start_time": "2023-01-19T13:05:09.513339Z"
    }
   },
   "outputs": [],
   "source": [
    "adj=np.loadtxt('ic_adj.csv', delimiter=',')\n",
    "spg.prefilter_genes(adata,min_cells=3) # avoiding all genes are zeros\n",
    "spg.prefilter_specialgenes(adata_spg)\n",
    "#Normalize and take log for UMI\n",
    "sc.pp.normalize_per_cell(adata_spg)\n",
    "sc.pp.log1p(adata_spg)"
   ]
  },
  {
   "cell_type": "code",
   "execution_count": null,
   "id": "f720e31c",
   "metadata": {
    "ExecuteTime": {
     "end_time": "2023-01-19T13:05:23.189417Z",
     "start_time": "2023-01-19T13:05:20.944976Z"
    }
   },
   "outputs": [],
   "source": [
    "p=0.5 \n",
    "#Find the l value given p\n",
    "l=spg.search_l(p, adj, start=0.01, end=1000, tol=0.01, max_run=100)"
   ]
  },
  {
   "cell_type": "code",
   "execution_count": null,
   "id": "467c4e5a",
   "metadata": {},
   "outputs": [],
   "source": [
    "r_seed=t_seed=n_seed=100"
   ]
  },
  {
   "cell_type": "code",
   "execution_count": null,
   "id": "0dd5eb8f",
   "metadata": {
    "ExecuteTime": {
     "end_time": "2023-01-19T13:08:19.905377Z",
     "start_time": "2023-01-19T13:07:53.432828Z"
    }
   },
   "outputs": [],
   "source": [
    "#If the number of clusters known, we can use the spg.search_res() fnction to search for suitable resolution(optional)\n",
    "#For this toy data, we set the number of clusters=7 since this tissue has 7 layers\n",
    "n_clusters=7\n",
    "#Set seed\n",
    "r_seed=t_seed=n_seed=100\n",
    "#Seaech for suitable resolution\n",
    "res=spg.search_res(adata_spg, adj, l, n_clusters, start=0.7, step=0.1, tol=5e-3, lr=0.05, max_epochs=20, r_seed=r_seed, t_seed=t_seed, n_seed=n_seed)"
   ]
  },
  {
   "cell_type": "code",
   "execution_count": null,
   "id": "c19be512",
   "metadata": {
    "ExecuteTime": {
     "end_time": "2023-01-19T13:08:46.519177Z",
     "start_time": "2023-01-19T13:08:37.022470Z"
    }
   },
   "outputs": [],
   "source": [
    "import random, torch\n",
    "clf = spg.SpaGCN()\n",
    "res = 0.20000000000000004\n",
    "clf.set_l(l)\n",
    "#Set seed\n",
    "random.seed(r_seed)\n",
    "torch.manual_seed(t_seed)\n",
    "np.random.seed(n_seed)\n",
    "#Run\n",
    "clf.train(adata_spg,adj,init_spa=True,init=\"louvain\",res=res, tol=5e-3, lr=0.05, max_epochs=200)\n",
    "y_pred, prob=clf.predict()\n",
    "adata_spg.obs[\"pred\"]= y_pred\n",
    "adata_spg.obs[\"pred\"]=adata_spg.obs[\"pred\"].astype('category')\n",
    "#Do cluster refinement(optional)\n",
    "#shape=\"hexagon\" for Visium data, \"square\" for ST data.\n",
    "adj_2d=spg.calculate_adj_matrix(x=x_array,y=y_array, histology=False)\n",
    "refined_pred=spg.refine(sample_id=adata_spg.obs.index.tolist(), pred=adata_spg.obs[\"pred\"].tolist(), dis=adj_2d, shape=\"hexagon\")\n",
    "adata_spg.obs[\"SpaGCN_clusters\"]=refined_pred\n",
    "adata_spg.obs[\"SpaGCN_clusters\"]=adata_spg.obs[\"SpaGCN_clusters\"].astype('category')\n",
    "#Save results\n",
    "adata_spg.write_h5ad(\"ic_spagcn_results.h5ad\")"
   ]
  },
  {
   "cell_type": "code",
   "execution_count": null,
   "id": "14b7c572",
   "metadata": {
    "ExecuteTime": {
     "end_time": "2023-01-19T13:09:00.314026Z",
     "start_time": "2023-01-19T13:08:58.159480Z"
    }
   },
   "outputs": [],
   "source": [
    "adata_spg=sc.read(\"ic_spagcn_results.h5ad\")\n",
    "#Set colors used\n",
    "plot_color=[\"#F56867\",\"#FEB915\",\"#C798EE\",\"#59BE86\",\"#7495D3\",\"#D1D1D1\",\"#6D1A9C\",\"#15821E\",\"#3A84E6\",\"#997273\",\"#787878\",\"#DB4C6C\",\"#9E7A7A\",\"#554236\",\"#AF5F3C\",\"#93796C\",\"#F9BD3F\",\"#DAB370\",\"#877F6C\",\"#268785\"]\n",
    "#Plot spatial domains\n",
    "domains=\"pred\"\n",
    "num_celltype=len(adata_spg.obs[domains].unique())\n",
    "adata_spg.uns[domains+\"_colors\"]=list(plot_color[:num_celltype])\n",
    "ax=sc.pl.scatter(adata_spg,alpha=1,x=\"y_pixel\",y=\"x_pixel\",color=domains,title=domains,color_map=plot_color,show=False,size=100000/adata_spg.shape[0])\n",
    "ax.set_aspect('equal', 'box')\n",
    "ax.axes.invert_yaxis()\n",
    "plt.savefig(\"ic_spagcn_pred.png\", dpi=600)\n",
    "plt.close()\n",
    "\n",
    "#Plot refined spatial domains\n",
    "domains=\"SpaGCN_clusters\"\n",
    "num_celltype=len(adata_spg.obs[domains].unique())\n",
    "adata_spg.uns[domains+\"_colors\"]=list(plot_color[:num_celltype])\n",
    "ax=sc.pl.scatter(adata_spg,alpha=1,x=\"y_pixel\",y=\"x_pixel\",color=domains,title=domains,color_map=plot_color,show=False,size=100000/adata_spg.shape[0])\n",
    "ax.set_aspect('equal', 'box')\n",
    "ax.axes.invert_yaxis()\n",
    "plt.savefig(\"ic_spagcn_refined_pred.png\", dpi=600)\n",
    "plt.close()"
   ]
  },
  {
   "cell_type": "code",
   "execution_count": null,
   "id": "f6a07e1f",
   "metadata": {
    "ExecuteTime": {
     "end_time": "2023-01-19T13:10:43.160187Z",
     "start_time": "2023-01-19T13:10:43.155804Z"
    }
   },
   "outputs": [],
   "source": [
    "adata_spg.uns['SpaGCN_clusters_colors'] = ['#359c62','#d32929','#1f77b4','#e377c2','#aa40fc']"
   ]
  },
  {
   "cell_type": "code",
   "execution_count": null,
   "id": "d0b147f5",
   "metadata": {
    "ExecuteTime": {
     "end_time": "2023-01-19T13:10:45.622866Z",
     "start_time": "2023-01-19T13:10:43.737793Z"
    }
   },
   "outputs": [],
   "source": [
    "sc.pl.spatial(adata_spg,color='SpaGCN_clusters',size=1.5)"
   ]
  },
  {
   "cell_type": "code",
   "execution_count": null,
   "id": "f881a0f4",
   "metadata": {
    "ExecuteTime": {
     "end_time": "2023-01-19T13:11:28.490298Z",
     "start_time": "2023-01-19T13:11:28.463964Z"
    }
   },
   "outputs": [],
   "source": [
    "mut_info=metrics.fowlkes_mallows_score(adata_spg.obs['SpaGCN_clusters'],histo_2['Histology'])\n",
    "adj_rand=metrics.adjusted_rand_score(adata_spg.obs['SpaGCN_clusters'],histo_2['Histology'])\n",
    "adj_mut_info=metrics.adjusted_mutual_info_score(adata_spg.obs['SpaGCN_clusters'],histo_2['Histology'])\n",
    "print(mut_info,adj_rand,adj_mut_info)"
   ]
  },
  {
   "cell_type": "markdown",
   "id": "c692239b",
   "metadata": {},
   "source": [
    "# stLearn"
   ]
  },
  {
   "cell_type": "code",
   "execution_count": null,
   "id": "15ce1a15",
   "metadata": {
    "ExecuteTime": {
     "end_time": "2023-01-19T13:11:43.093582Z",
     "start_time": "2023-01-19T13:11:42.237630Z"
    }
   },
   "outputs": [],
   "source": [
    "import stlearn as st\n",
    "from pathlib import Path"
   ]
  },
  {
   "cell_type": "code",
   "execution_count": null,
   "id": "f47a93e6",
   "metadata": {
    "ExecuteTime": {
     "end_time": "2023-01-19T13:21:32.717656Z",
     "start_time": "2023-01-19T13:21:32.695399Z"
    }
   },
   "outputs": [],
   "source": [
    "# specify PATH to data\n",
    "BASE_PATH = Path(\"Data/\")\n",
    "\n",
    "# spot tile is the intermediate result of image pre-processing\n",
    "TILE_PATH = Path(\"/tmp/tiles\")\n",
    "TILE_PATH.mkdir(parents=True, exist_ok=True)\n",
    "\n",
    "# output path\n",
    "OUT_PATH = Path(\"/\")\n",
    "OUT_PATH.mkdir(parents=True, exist_ok=True)"
   ]
  },
  {
   "cell_type": "code",
   "execution_count": null,
   "id": "44b1ea74",
   "metadata": {
    "ExecuteTime": {
     "end_time": "2023-01-19T13:21:34.259571Z",
     "start_time": "2023-01-19T13:21:32.719629Z"
    }
   },
   "outputs": [],
   "source": [
    "# load data\n",
    "data = st.Read10X(BASE_PATH)"
   ]
  },
  {
   "cell_type": "code",
   "execution_count": null,
   "id": "079a7aa2",
   "metadata": {
    "ExecuteTime": {
     "end_time": "2023-01-19T13:21:34.273617Z",
     "start_time": "2023-01-19T13:21:34.262086Z"
    }
   },
   "outputs": [],
   "source": [
    "data = data[data.obs_names.isin(histo_2['Barcode']),:]"
   ]
  },
  {
   "cell_type": "code",
   "execution_count": null,
   "id": "af4fc68c",
   "metadata": {
    "ExecuteTime": {
     "end_time": "2023-01-19T13:21:35.078624Z",
     "start_time": "2023-01-19T13:21:34.275028Z"
    }
   },
   "outputs": [],
   "source": [
    "# pre-processing for gene count table\n",
    "st.pp.filter_genes(data,min_cells=1)\n",
    "st.pp.normalize_total(data)\n",
    "st.pp.log1p(data)"
   ]
  },
  {
   "cell_type": "code",
   "execution_count": null,
   "id": "c9201141",
   "metadata": {
    "ExecuteTime": {
     "end_time": "2023-01-19T13:25:09.484090Z",
     "start_time": "2023-01-19T13:21:35.080908Z"
    }
   },
   "outputs": [],
   "source": [
    "# pre-processing for spot image\n",
    "st.pp.tiling(data, TILE_PATH)\n",
    "\n",
    "# this step uses deep learning model to extract high-level features from tile images\n",
    "# may need few minutes to be completed\n",
    "st.pp.extract_feature(data)"
   ]
  },
  {
   "cell_type": "code",
   "execution_count": null,
   "id": "ac2b6a2c",
   "metadata": {
    "ExecuteTime": {
     "end_time": "2023-01-19T13:30:13.832667Z",
     "start_time": "2023-01-19T13:29:26.956523Z"
    }
   },
   "outputs": [],
   "source": [
    "# run PCA for gene expression data\n",
    "st.em.run_pca(data,n_comps=50)"
   ]
  },
  {
   "cell_type": "code",
   "execution_count": null,
   "id": "a0b2a02f",
   "metadata": {
    "ExecuteTime": {
     "end_time": "2023-01-19T13:30:25.759727Z",
     "start_time": "2023-01-19T13:30:13.835184Z"
    }
   },
   "outputs": [],
   "source": [
    "data_SME = data.copy()\n",
    "# apply stSME to normalise log transformed data\n",
    "st.spatial.SME.SME_normalize(data_SME, use_data=\"raw\")\n",
    "data_SME.X = data_SME.obsm['raw_SME_normalized']\n",
    "st.pp.scale(data_SME)\n",
    "st.em.run_pca(data_SME,n_comps=50)"
   ]
  },
  {
   "cell_type": "code",
   "execution_count": null,
   "id": "5af99961",
   "metadata": {
    "ExecuteTime": {
     "end_time": "2023-01-19T13:31:41.355694Z",
     "start_time": "2023-01-19T13:31:30.746276Z"
    }
   },
   "outputs": [],
   "source": [
    "# K-means clustering on stSME normalised PCA\n",
    "st.tl.clustering.kmeans(data_SME,n_clusters=5, use_data=\"X_pca\", key_added=\"kmeans_stlearn\")\n",
    "st.pl.cluster_plot(data_SME, use_label=\"kmeans_stlearn\")"
   ]
  },
  {
   "cell_type": "code",
   "execution_count": null,
   "id": "35940300",
   "metadata": {},
   "outputs": [],
   "source": [
    "data_SME.uns['kmeans_stlearn_colors'] =['#d32929','#359c62','#1f77b4','#e377c2','#8c564b']"
   ]
  },
  {
   "cell_type": "code",
   "execution_count": null,
   "id": "e167a56d",
   "metadata": {},
   "outputs": [],
   "source": [
    "adata.obs['kmeans_stlearn'] = data_SME.obs['kmeans_stlearn']\n",
    "adata.uns['kmeans_stlearn_colors'] = data_SME.uns['kmeans_stlearn_colors']\n",
    "adata.obs['spaGCN_clusters'] = adata_spg.obs['SpaGCN_clusters']\n",
    "adata.uns['spaGCN_clusters_colors'] = adata_spg.uns['SpaGCN_clusters_colors']"
   ]
  },
  {
   "cell_type": "code",
   "execution_count": null,
   "id": "da3477d8",
   "metadata": {},
   "outputs": [],
   "source": [
    "adata"
   ]
  },
  {
   "cell_type": "code",
   "execution_count": null,
   "id": "9fbb1e54",
   "metadata": {},
   "outputs": [],
   "source": [
    "sc.pl.spatial(adata,color=['kmeans_CellPie_int'])"
   ]
  },
  {
   "cell_type": "code",
   "execution_count": null,
   "id": "bb23685c",
   "metadata": {},
   "outputs": [],
   "source": [
    "sc.pl.spatial(adata,color=['path_anot','kmeans_CellPie_int','kmeans_CellPie_0','kmeans','spaGCN_clusters','kmeans_stlearn'],\n",
    "              size=1.5,ncols=3,legend_loc = 'left margin')"
   ]
  },
  {
   "cell_type": "code",
   "execution_count": null,
   "id": "1fba47ef",
   "metadata": {
    "ExecuteTime": {
     "end_time": "2023-01-19T13:31:48.055221Z",
     "start_time": "2023-01-19T13:31:48.016382Z"
    },
    "scrolled": true
   },
   "outputs": [],
   "source": [
    "l = ['kmeans','kmeans_CellPie_int','kmeans_CellPie_0']\n",
    "for l in l:\n",
    "    mut_info=metrics.fowlkes_mallows_score(adata_0.obs[l],histo_2['Histology'])\n",
    "    adj_rand=metrics.adjusted_rand_score(adata_0.obs[l],histo_2['Histology'])\n",
    "    adj_mut_info=metrics.adjusted_mutual_info_score(adata_0.obs[l],histo_2['Histology'])\n",
    "    print(l,mut_info,adj_rand,adj_mut_info)"
   ]
  },
  {
   "cell_type": "code",
   "execution_count": null,
   "id": "c6e6ac3b",
   "metadata": {},
   "outputs": [],
   "source": [
    "mut_info=metrics.fowlkes_mallows_score(adata_spg.obs['SpaGCN_clusters'],histo_2['Histology'])\n",
    "adj_rand=metrics.adjusted_rand_score(adata_spg.obs['SpaGCN_clusters'],histo_2['Histology'])\n",
    "adj_mut_info=metrics.adjusted_mutual_info_score(adata_spg.obs['SpaGCN_clusters'],histo_2['Histology'])\n",
    "print(mut_info,adj_rand,adj_mut_info)"
   ]
  },
  {
   "cell_type": "code",
   "execution_count": null,
   "id": "0f28bea5",
   "metadata": {},
   "outputs": [],
   "source": [
    "mut_info=metrics.fowlkes_mallows_score(data_SME.obs['kmeans_stlearn'],histo_2['Histology'])\n",
    "adj_rand=metrics.adjusted_rand_score(data_SME.obs['kmeans_stlearn'],histo_2['Histology'])\n",
    "adj_mut_info=metrics.adjusted_mutual_info_score(data_SME.obs['kmeans_stlearn'],histo_2['Histology'])\n",
    "print(mut_info,adj_rand,adj_mut_info)"
   ]
  },
  {
   "cell_type": "code",
   "execution_count": null,
   "id": "4445cd37",
   "metadata": {
    "ExecuteTime": {
     "end_time": "2023-01-19T13:40:17.109946Z",
     "start_time": "2023-01-19T13:40:17.107122Z"
    }
   },
   "outputs": [],
   "source": [
    "f={'CellPie_int':[0.3182037696596412],'CellPie_0':[0.2452324137345626],'kmeans':[0.2667040151343367],\n",
    "'SpaGCN':[0.25655188260699413],\n",
    " 'stLearn':[0.39077121051876296]}"
   ]
  },
  {
   "cell_type": "code",
   "execution_count": null,
   "id": "69f6db4a",
   "metadata": {
    "ExecuteTime": {
     "end_time": "2023-01-19T13:40:18.607020Z",
     "start_time": "2023-01-19T13:40:18.602962Z"
    }
   },
   "outputs": [],
   "source": [
    "score_comp = pd.DataFrame(data=f)\n",
    "score_comp.index = ['ARI']"
   ]
  },
  {
   "cell_type": "code",
   "execution_count": null,
   "id": "0e519527",
   "metadata": {},
   "outputs": [],
   "source": [
    "score_comp"
   ]
  },
  {
   "cell_type": "code",
   "execution_count": null,
   "id": "0e81394f",
   "metadata": {
    "ExecuteTime": {
     "end_time": "2023-01-19T13:40:20.087247Z",
     "start_time": "2023-01-19T13:40:19.695822Z"
    },
    "scrolled": true
   },
   "outputs": [],
   "source": [
    "import seaborn as sns\n",
    "\n",
    "plot=sns.barplot(data=score_comp,orient='h')\n",
    "plot.set_xlabel( \"ARI\")\n",
    "plt.grid(False)"
   ]
  },
  {
   "cell_type": "code",
   "execution_count": null,
   "id": "d5cf43e5",
   "metadata": {},
   "outputs": [],
   "source": [
    "histo_3_new = histo_2[histo_2['Histology'].str.contains('Gleason 3')]\n",
    "histo_4_new = histo_2[histo_2['Histology'].str.contains('Gleason 4')]"
   ]
  },
  {
   "cell_type": "code",
   "execution_count": null,
   "id": "ba6cb0f3",
   "metadata": {},
   "outputs": [],
   "source": [
    "adata_spa_new_g4 = adata_spg.obs[(adata_spg.obs['SpaGCN_clusters']==0)]\n",
    "adata_spa_new_g3= adata_spg.obs[(adata_spg.obs['SpaGCN_clusters']==0)]\n",
    "adata_stl_new_g4 = data_SME.obs[(data_SME.obs['kmeans_stlearn']=='1')]\n",
    "adata_stl_new_g3= data_SME.obs[(data_SME.obs['kmeans_stlearn']=='1')]\n",
    "adata_km_new_g4 = adata.obs[(adata.obs['kmeans']=='0')]\n",
    "adata_km_new_g3= adata.obs[(adata.obs['kmeans']=='0')]"
   ]
  },
  {
   "cell_type": "code",
   "execution_count": null,
   "id": "e98ceee0",
   "metadata": {},
   "outputs": [],
   "source": [
    "adata_int_new_g4 = adata.obs[(adata.obs['kmeans_CellPie_int']=='3')]\n",
    "adata_int_new_g3= adata.obs[(adata.obs['kmeans_CellPie_int']=='0')]\n",
    "adata_0_new_g4 = adata_0.obs[(adata_0.obs['kmeans_CellPie_0']=='3')]\n",
    "adata_0_new_g3= adata_0.obs[(adata_0.obs['kmeans_CellPie_0']=='0')]"
   ]
  },
  {
   "cell_type": "code",
   "execution_count": null,
   "id": "8ae2d2e7",
   "metadata": {},
   "outputs": [],
   "source": [
    "g3_spa_overl = histo_3_new.index.intersection(adata_spa_new_g3.index)\n",
    "g4_spa_overl = histo_4_new.index.intersection(adata_spa_new_g4.index)\n",
    "g3_stl_overl = histo_3_new.index.intersection(adata_stl_new_g3.index)\n",
    "g4_stl_overl = histo_4_new.index.intersection(adata_stl_new_g4.index)\n",
    "g3_km_overl = histo_3_new.index.intersection(adata_km_new_g3.index)\n",
    "g4_km_overl = histo_4_new.index.intersection(adata_km_new_g4.index)"
   ]
  },
  {
   "cell_type": "code",
   "execution_count": null,
   "id": "e218fa08",
   "metadata": {},
   "outputs": [],
   "source": [
    "adata_int_new_g3"
   ]
  },
  {
   "cell_type": "code",
   "execution_count": null,
   "id": "cbeacf54",
   "metadata": {},
   "outputs": [],
   "source": [
    "g3_int_overl"
   ]
  },
  {
   "cell_type": "code",
   "execution_count": null,
   "id": "e2c4b973",
   "metadata": {},
   "outputs": [],
   "source": [
    "g3_spa_dif =adata_spa_new_g3.index.difference(histo_3_new.index)\n",
    "g4_spa_dif = adata_spa_new_g4.index.difference(histo_4_new.index)\n",
    "g3_stl_dif = adata_stl_new_g3.index.difference(histo_3_new.index)\n",
    "g4_stl_dif =adata_stl_new_g4.index.difference(histo_4_new.index)\n",
    "g3_km_dif = adata_km_new_g3.index.difference(histo_3_new.index)\n",
    "g4_km_dif = adata_km_new_g4.index.difference(histo_4_new.index)"
   ]
  },
  {
   "cell_type": "code",
   "execution_count": null,
   "id": "7310dab8",
   "metadata": {},
   "outputs": [],
   "source": [
    "g3_int_dif"
   ]
  },
  {
   "cell_type": "code",
   "execution_count": null,
   "id": "04d67a66",
   "metadata": {},
   "outputs": [],
   "source": [
    "histo_3_new.index = histo_3_new['Barcode']\n",
    "histo_4_new.index = histo_4_new['Barcode']"
   ]
  },
  {
   "cell_type": "code",
   "execution_count": null,
   "id": "5f4c36c9",
   "metadata": {},
   "outputs": [],
   "source": [
    "g3_int_overl = histo_3_new.index.intersection(adata_int_new_g3.index)\n",
    "g4_int_overl = histo_4_new.index.intersection(adata_int_new_g4.index)\n",
    "g3_0_overl = histo_3_new.index.intersection(adata_0_new_g3.index)\n",
    "g4_0_overl = histo_4_new.index.intersection(adata_0_new_g4.index)"
   ]
  },
  {
   "cell_type": "code",
   "execution_count": null,
   "id": "ba83eebc",
   "metadata": {},
   "outputs": [],
   "source": [
    "g3_int_dif =adata_int_new_g3.index.difference(histo_3_new.index)\n",
    "g4_int_dif = adata_int_new_g4.index.difference(histo_4_new.index)\n",
    "g3_0_dif = adata_0_new_g3.index.difference(histo_3_new.index)\n",
    "g4_0_dif = adata_0_new_g4.index.difference(histo_4_new.index)"
   ]
  },
  {
   "cell_type": "code",
   "execution_count": null,
   "id": "64673f7d",
   "metadata": {},
   "outputs": [],
   "source": [
    "ac_g3_int = g3_int_overl.shape[0]/(adata_int_new_g3.shape[0])\n",
    "ac_g4_int = g4_int_overl.shape[0]/(adata_int_new_g4.shape[0])\n",
    "\n",
    "ac_g3_0 = g3_0_overl.shape[0]/(adata_0_new_g3.shape[0])\n",
    "\n",
    "ac_g4_0 = g4_0_overl.shape[0]/(adata_0_new_g4.shape[0])\n",
    "print(ac_g3_int,ac_g4_int,ac_g3_0,ac_g4_0)"
   ]
  },
  {
   "cell_type": "code",
   "execution_count": null,
   "id": "27d9e17f",
   "metadata": {},
   "outputs": [],
   "source": [
    "pre_g3_int = g3_int_overl.shape[0]/(g3_int_overl.shape[0]+g3_int_dif.shape[0])\n",
    "pre_g4_int = g4_int_overl.shape[0]/(g4_int_overl.shape[0]+g4_int_dif.shape[0])\n",
    "\n",
    "pre_g3_0 = g3_0_overl.shape[0]/(g3_0_overl.shape[0]+g3_0_dif.shape[0])\n",
    "\n",
    "pre_g4_0 = g4_0_overl.shape[0]/(g4_0_overl.shape[0]+g4_0_dif.shape[0])\n",
    "print(pre_g3_int,pre_g4_int,pre_g3_0,pre_g4_0)"
   ]
  },
  {
   "cell_type": "code",
   "execution_count": null,
   "id": "34f1c858",
   "metadata": {},
   "outputs": [],
   "source": [
    "ratio_g3_spa = g3_spa_overl.shape[0]/(adata_spa_new_g3.shape[0])\n",
    "ratio_g4_spa = g4_spa_overl.shape[0]/(adata_spa_new_g4.shape[0])\n",
    "\n",
    "ratio_g3_stl = g3_stl_overl.shape[0]/(adata_stl_new_g3.shape[0])\n",
    "\n",
    "ratio_g4_stl = g4_stl_overl.shape[0]/(adata_stl_new_g4.shape[0])\n",
    "ratio_g3_km = g3_km_overl.shape[0]/(adata_km_new_g3.shape[0])\n",
    "\n",
    "ratio_g4_km = g4_km_overl.shape[0]/(adata_km_new_g4.shape[0])\n",
    "print(ratio_g3_spa,ratio_g4_spa,ratio_g3_stl,ratio_g4_stl,ratio_g3_km,ratio_g4_km)"
   ]
  },
  {
   "cell_type": "code",
   "execution_count": null,
   "id": "ea5d8b70",
   "metadata": {},
   "outputs": [],
   "source": [
    "pre_g3_spa = g3_spa_overl.shape[0]/(g3_spa_overl.shape[0]+g3_spa_dif.shape[0])\n",
    "pre_g4_spa = g4_spa_overl.shape[0]/(g4_spa_overl.shape[0]+g4_spa_dif.shape[0])\n",
    "\n",
    "pre_g3_stl = g3_stl_overl.shape[0]/(g3_stl_overl.shape[0]+g3_stl_dif.shape[0])\n",
    "\n",
    "pre_g4_stl = g4_stl_overl.shape[0]/(g4_stl_overl.shape[0]+g4_stl_dif.shape[0])\n",
    "pre_g3_km = g3_km_overl.shape[0]/(g3_km_overl.shape[0]+g3_km_dif.shape[0])\n",
    "\n",
    "pre_g4_km = g4_km_overl.shape[0]/(g4_km_overl.shape[0]+g4_km_dif.shape[0])\n",
    "print(pre_g3_spa,pre_g4_spa,pre_g3_stl,pre_g4_stl,pre_g3_km,pre_g4_km)"
   ]
  },
  {
   "cell_type": "code",
   "execution_count": null,
   "id": "7a6db86d",
   "metadata": {},
   "outputs": [],
   "source": [
    "g3 ={'CellPie_int':[0.625],'CellPie_0':[0.5624178712220762],'kmeans':[0.4297159504734159],'SpaGCN':[0.45419254658385094],'stLearn':[0.3992042440318302] }\n",
    "g4 ={'CellPie_int':[ 0.5338474721508141],'CellPie_0':[ 0.45729813664596275],'kmeans':[0.5142024763292061],'SpaGCN':[ 0.45729813664596275],'stLearn':[0.5358090185676393]}"
   ]
  },
  {
   "cell_type": "code",
   "execution_count": null,
   "id": "a6b9e611",
   "metadata": {},
   "outputs": [],
   "source": [
    "score_g3 = pd.DataFrame(data=g3)\n",
    "score_g4 = pd.DataFrame(data=g4)\n",
    "plot=sns.barplot(data=score_g3,orient='h')\n",
    "plot.set_xlabel(\"Precision\")\n",
    "plt.grid(False)"
   ]
  },
  {
   "cell_type": "code",
   "execution_count": null,
   "id": "72373689",
   "metadata": {
    "scrolled": true
   },
   "outputs": [],
   "source": [
    "plot=sns.barplot(data=score_g4,orient='h')\n",
    "plot.set_xlabel( \"Precision\")\n",
    "plt.grid(False)"
   ]
  },
  {
   "cell_type": "code",
   "execution_count": null,
   "id": "8925277d",
   "metadata": {
    "ExecuteTime": {
     "end_time": "2023-01-19T13:44:37.488105Z",
     "start_time": "2023-01-19T13:44:36.638811Z"
    }
   },
   "outputs": [],
   "source": [
    "adata.write('adata_prostate_repro.h5ad')"
   ]
  }
 ],
 "metadata": {
  "kernelspec": {
   "display_name": "Python 3 (ipykernel)",
   "language": "python",
   "name": "python3"
  },
  "language_info": {
   "codemirror_mode": {
    "name": "ipython",
    "version": 3
   },
   "file_extension": ".py",
   "mimetype": "text/x-python",
   "name": "python",
   "nbconvert_exporter": "python",
   "pygments_lexer": "ipython3",
   "version": "3.8.12"
  }
 },
 "nbformat": 4,
 "nbformat_minor": 5
}
