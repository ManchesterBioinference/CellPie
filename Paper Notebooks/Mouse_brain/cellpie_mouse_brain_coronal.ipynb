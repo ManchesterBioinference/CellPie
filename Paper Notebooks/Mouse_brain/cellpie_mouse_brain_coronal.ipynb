{
 "cells": [
  {
   "cell_type": "markdown",
   "id": "513e4bc1-4d64-4823-bb41-0f7109284d67",
   "metadata": {},
   "source": [
    "Load required libraries. int_nmf_model must be in the same directory. If it is not it can be added to pythons path"
   ]
  },
  {
   "cell_type": "code",
   "execution_count": null,
   "id": "95ff68b8-bd25-4c74-ac54-059372017ae1",
   "metadata": {
    "ExecuteTime": {
     "end_time": "2023-01-19T16:32:18.613465Z",
     "start_time": "2023-01-19T16:32:18.608424Z"
    },
    "execution": {
     "iopub.execute_input": "2021-12-21T16:18:05.897428Z",
     "iopub.status.busy": "2021-12-21T16:18:05.897139Z",
     "iopub.status.idle": "2021-12-21T16:18:05.900845Z",
     "shell.execute_reply": "2021-12-21T16:18:05.900299Z",
     "shell.execute_reply.started": "2021-12-21T16:18:05.897403Z"
    },
    "tags": []
   },
   "outputs": [],
   "source": [
    "import anndata as ad\n",
    "import scanpy as sc\n",
    "import numpy as np\n",
    "import scipy\n",
    "import sys\n",
    "import seaborn as sns\n",
    "sys.path.append(\"../../CellPie/\") # go to parent dir\n",
    "import cellpie_main as cp\n",
    "from cellpie_main import intNMF\n",
    "import anndata as ad\n",
    "from matplotlib import pyplot as plt\n",
    "import scipy.io\n",
    "import pandas as pd\n",
    "import squidpy as sq\n",
    "from PIL import Image"
   ]
  },
  {
   "cell_type": "code",
   "execution_count": null,
   "id": "6caee421",
   "metadata": {
    "ExecuteTime": {
     "end_time": "2023-01-19T16:32:18.773963Z",
     "start_time": "2023-01-19T16:32:18.770850Z"
    }
   },
   "outputs": [],
   "source": [
    "sc.set_figure_params(scanpy=True, dpi=250, dpi_save=150)"
   ]
  },
  {
   "cell_type": "code",
   "execution_count": null,
   "id": "97ce6d30",
   "metadata": {
    "ExecuteTime": {
     "end_time": "2023-01-19T16:32:20.155852Z",
     "start_time": "2023-01-19T16:32:18.932785Z"
    }
   },
   "outputs": [],
   "source": [
    "# read ST data\n",
    "adata = sc.read_visium(path = 'Data/', \n",
    "                       count_file='filtered_feature_bc_matrix.h5', \n",
    "                       library_id='A1_spot', \n",
    "                       load_images=True)\n",
    "adata.var_names_make_unique()\n",
    "adata.var['SYMBOL'] = adata.var_names\n",
    "sc.pp.calculate_qc_metrics(adata, inplace=True)\n",
    "adata.var['mt'] = [gene.startswith('mt-') for gene in adata.var['SYMBOL']]\n",
    "adata.obs['mt_frac'] = adata[:, adata.var['mt'].tolist()].X.sum(1).A.squeeze()/adata.obs['total_counts']"
   ]
  },
  {
   "cell_type": "code",
   "execution_count": null,
   "id": "93bb34cf",
   "metadata": {
    "ExecuteTime": {
     "end_time": "2023-01-19T16:32:20.394547Z",
     "start_time": "2023-01-19T16:32:20.158642Z"
    }
   },
   "outputs": [],
   "source": [
    "sc.pp.filter_genes(adata, min_cells=30)"
   ]
  },
  {
   "cell_type": "code",
   "execution_count": null,
   "id": "f3bba09e",
   "metadata": {
    "ExecuteTime": {
     "end_time": "2023-01-19T16:32:20.464452Z",
     "start_time": "2023-01-19T16:32:20.396529Z"
    }
   },
   "outputs": [],
   "source": [
    "sc.pp.normalize_total(adata)"
   ]
  },
  {
   "cell_type": "code",
   "execution_count": null,
   "id": "66aa8673",
   "metadata": {
    "ExecuteTime": {
     "end_time": "2023-01-19T16:32:20.481408Z",
     "start_time": "2023-01-19T16:32:20.466735Z"
    }
   },
   "outputs": [],
   "source": [
    "img_n = sq.im.ImageContainer(\n",
    "adata.uns[\"spatial\"]['A1_spot'][\"images\"][\"hires\"][:,:,0],\n",
    "scale=adata.uns[\"spatial\"]['A1_spot'][\"scalefactors\"][\"tissue_hires_scalef\"])"
   ]
  },
  {
   "cell_type": "code",
   "execution_count": null,
   "id": "4619ad48",
   "metadata": {
    "ExecuteTime": {
     "end_time": "2023-01-19T16:32:20.497546Z",
     "start_time": "2023-01-19T16:32:20.483049Z"
    }
   },
   "outputs": [],
   "source": [
    "img_g = sq.im.ImageContainer(\n",
    "adata.uns[\"spatial\"]['A1_spot'][\"images\"][\"hires\"][:,:,2],\n",
    "scale=adata.uns[\"spatial\"]['A1_spot'][\"scalefactors\"][\"tissue_hires_scalef\"])"
   ]
  },
  {
   "cell_type": "code",
   "execution_count": null,
   "id": "771b13c2",
   "metadata": {
    "ExecuteTime": {
     "end_time": "2023-01-19T16:32:20.874458Z",
     "start_time": "2023-01-19T16:32:20.831284Z"
    }
   },
   "outputs": [],
   "source": [
    "img = sq.im.ImageContainer(\n",
    "adata.uns[\"spatial\"]['A1_spot'][\"images\"][\"hires\"],\n",
    "scale=adata.uns[\"spatial\"]['A1_spot'][\"scalefactors\"][\"tissue_hires_scalef\"])"
   ]
  },
  {
   "cell_type": "code",
   "execution_count": null,
   "id": "67919567",
   "metadata": {
    "ExecuteTime": {
     "end_time": "2023-01-19T16:32:17.002862Z",
     "start_time": "2023-01-19T16:32:17.002847Z"
    }
   },
   "outputs": [],
   "source": [
    "# cp.extract_image_features(adata,scale_img=1,mask_circle = False,\n",
    "#     spot_scale = 2.5)"
   ]
  },
  {
   "cell_type": "code",
   "execution_count": null,
   "id": "65c9a168",
   "metadata": {
    "ExecuteTime": {
     "end_time": "2023-01-19T16:32:46.395814Z",
     "start_time": "2023-01-19T16:32:28.042852Z"
    }
   },
   "outputs": [],
   "source": [
    "sq.im.calculate_image_features(\n",
    "    adata,\n",
    "    img,\n",
    "    features=\"histogram\",\n",
    "    features_kwargs={\"histogram\": {\"bins\": 10}},\n",
    "    mask_circle = False,\n",
    "    spot_scale = 2.5,\n",
    "    key_added=\"features\"\n",
    ")"
   ]
  },
  {
   "cell_type": "code",
   "execution_count": null,
   "id": "3ece453c",
   "metadata": {
    "ExecuteTime": {
     "end_time": "2023-01-19T16:32:46.588068Z",
     "start_time": "2023-01-19T16:32:46.398060Z"
    }
   },
   "outputs": [],
   "source": [
    "adata_g = adata.copy()\n",
    "adata_n = adata.copy()"
   ]
  },
  {
   "cell_type": "markdown",
   "id": "1c7e8e34",
   "metadata": {},
   "source": [
    "## extract intensity values from neurons and glia image channels - ground truth"
   ]
  },
  {
   "cell_type": "code",
   "execution_count": null,
   "id": "b8fb5ec0",
   "metadata": {
    "ExecuteTime": {
     "end_time": "2023-01-19T16:33:04.670831Z",
     "start_time": "2023-01-19T16:32:46.589515Z"
    }
   },
   "outputs": [],
   "source": [
    "sq.im.calculate_image_features(\n",
    "    adata_g,\n",
    "    img_g,\n",
    "    features=\"summary\",\n",
    "    mask_circle=True,\n",
    "    show_progress_bar=True,\n",
    "    scale=1,\n",
    "    key_added=\"features\"\n",
    ")"
   ]
  },
  {
   "cell_type": "code",
   "execution_count": null,
   "id": "ce9e7176",
   "metadata": {
    "ExecuteTime": {
     "end_time": "2023-01-19T16:33:21.877484Z",
     "start_time": "2023-01-19T16:33:04.674163Z"
    }
   },
   "outputs": [],
   "source": [
    "sq.im.calculate_image_features(\n",
    "    adata_n,\n",
    "    img_n,\n",
    "    features=\"summary\",\n",
    "    mask_circle=True,\n",
    "    show_progress_bar=True,\n",
    "    scale=1,\n",
    "    key_added=\"features\"\n",
    ")"
   ]
  },
  {
   "cell_type": "code",
   "execution_count": null,
   "id": "c339fc8a",
   "metadata": {
    "ExecuteTime": {
     "end_time": "2023-01-19T16:33:21.885031Z",
     "start_time": "2023-01-19T16:33:21.879456Z"
    }
   },
   "outputs": [],
   "source": [
    "adata_g.obs['glial'] = adata_g.obsm['features']['summary_ch-0_mean']\n",
    "adata_n.obs['neurons'] = adata_n.obsm['features']['summary_ch-0_mean']"
   ]
  },
  {
   "cell_type": "code",
   "execution_count": null,
   "id": "330e1628",
   "metadata": {
    "ExecuteTime": {
     "end_time": "2022-11-18T16:06:31.416800Z",
     "start_time": "2022-11-18T15:21:59.179715Z"
    }
   },
   "outputs": [],
   "source": [
    "# int_nmf_model_update.model_selection(adata,3,60)"
   ]
  },
  {
   "cell_type": "code",
   "execution_count": null,
   "id": "17464a78",
   "metadata": {
    "ExecuteTime": {
     "end_time": "2023-01-19T15:31:25.629097Z",
     "start_time": "2023-01-19T15:31:03.718515Z"
    }
   },
   "outputs": [],
   "source": [
    "nmf_model = intNMF(adata,17, epochs = 60, init = 'NNDSVD',mod1_skew=1,random_state=2)\n",
    "nmf_model.fit(adata)"
   ]
  },
  {
   "cell_type": "code",
   "execution_count": null,
   "id": "a0da975b",
   "metadata": {
    "ExecuteTime": {
     "end_time": "2023-01-19T15:31:54.647714Z",
     "start_time": "2023-01-19T15:31:25.630939Z"
    },
    "scrolled": true
   },
   "outputs": [],
   "source": [
    "cp.plot_topic_proportions(adata,17)"
   ]
  },
  {
   "cell_type": "code",
   "execution_count": null,
   "id": "6d9e0fc9",
   "metadata": {
    "ExecuteTime": {
     "end_time": "2023-01-19T16:33:21.948905Z",
     "start_time": "2023-01-19T16:33:21.907694Z"
    }
   },
   "outputs": [],
   "source": [
    "# this function has been taken from https://github.com/BayraktarLab/cell2location\n",
    "\n",
    "import warnings\n",
    "\n",
    "import matplotlib as mpl\n",
    "import matplotlib.pyplot as plt\n",
    "import numpy as np\n",
    "from matplotlib.colors import ListedColormap\n",
    "from matplotlib.gridspec import GridSpec\n",
    "\n",
    "\n",
    "def get_rgb_function(cmap, min_value, max_value):\n",
    "    r\"\"\"Generate a function to map continous values to RGB values using colormap between min_value & max_value.\"\"\"\n",
    "\n",
    "    if min_value > max_value:\n",
    "        raise ValueError(\"Max_value should be greater or than min_value.\")\n",
    "\n",
    "    if min_value == max_value:\n",
    "        warnings.warn(\n",
    "            \"Max_color is equal to min_color. It might be because of the data or bad parameter choice. \"\n",
    "            \"If you are using plot_contours function try increasing max_color_quantile parameter and\"\n",
    "            \"removing cell types with all zero values.\"\n",
    "        )\n",
    "\n",
    "        def func_equal(x):\n",
    "            factor = 0 if max_value == 0 else 0.5\n",
    "            return cmap(np.ones_like(x) * factor)\n",
    "\n",
    "        return func_equal\n",
    "\n",
    "    def func(x):\n",
    "        return cmap((np.clip(x, min_value, max_value) - min_value) / (max_value - min_value))\n",
    "\n",
    "    return func\n",
    "\n",
    "\n",
    "def rgb_to_ryb(rgb):\n",
    "    \"\"\"\n",
    "    Converts colours from RGB colorspace to RYB\n",
    "    Parameters\n",
    "    ----------\n",
    "    rgb\n",
    "        numpy array Nx3\n",
    "    Returns\n",
    "    -------\n",
    "    Numpy array Nx3\n",
    "    \"\"\"\n",
    "    rgb = np.array(rgb)\n",
    "    if len(rgb.shape) == 1:\n",
    "        rgb = rgb[np.newaxis, :]\n",
    "\n",
    "    white = rgb.min(axis=1)\n",
    "    black = (1 - rgb).min(axis=1)\n",
    "    rgb = rgb - white[:, np.newaxis]\n",
    "\n",
    "    yellow = rgb[:, :2].min(axis=1)\n",
    "    ryb = np.zeros_like(rgb)\n",
    "    ryb[:, 0] = rgb[:, 0] - yellow\n",
    "    ryb[:, 1] = (yellow + rgb[:, 1]) / 2\n",
    "    ryb[:, 2] = (rgb[:, 2] + rgb[:, 1] - yellow) / 2\n",
    "\n",
    "    mask = ~(ryb == 0).all(axis=1)\n",
    "    if mask.any():\n",
    "        norm = ryb[mask].max(axis=1) / rgb[mask].max(axis=1)\n",
    "        ryb[mask] = ryb[mask] / norm[:, np.newaxis]\n",
    "\n",
    "    return ryb + black[:, np.newaxis]\n",
    "\n",
    "\n",
    "def ryb_to_rgb(ryb):\n",
    "    \"\"\"\n",
    "    Converts colours from RYB colorspace to RGB\n",
    "    Parameters\n",
    "    ----------\n",
    "    ryb\n",
    "        numpy array Nx3\n",
    "    Returns\n",
    "    -------\n",
    "    Numpy array Nx3\n",
    "    \"\"\"\n",
    "    ryb = np.array(ryb)\n",
    "    if len(ryb.shape) == 1:\n",
    "        ryb = ryb[np.newaxis, :]\n",
    "\n",
    "    black = ryb.min(axis=1)\n",
    "    white = (1 - ryb).min(axis=1)\n",
    "    ryb = ryb - black[:, np.newaxis]\n",
    "\n",
    "    green = ryb[:, 1:].min(axis=1)\n",
    "    rgb = np.zeros_like(ryb)\n",
    "    rgb[:, 0] = ryb[:, 0] + ryb[:, 1] - green\n",
    "    rgb[:, 1] = green + ryb[:, 1]\n",
    "    rgb[:, 2] = (ryb[:, 2] - green) * 2\n",
    "\n",
    "    mask = ~(ryb == 0).all(axis=1)\n",
    "    if mask.any():\n",
    "        norm = rgb[mask].max(axis=1) / ryb[mask].max(axis=1)\n",
    "        rgb[mask] = rgb[mask] / norm[:, np.newaxis]\n",
    "\n",
    "    return rgb + white[:, np.newaxis]\n",
    "\n",
    "\n",
    "def plot_spatial_general(\n",
    "    value_df,\n",
    "    coords,\n",
    "    labels,\n",
    "    text=None,\n",
    "    circle_diameter=4.0,\n",
    "    alpha_scaling=1.0,\n",
    "    max_col=(np.inf, np.inf, np.inf, np.inf, np.inf, np.inf, np.inf,np.inf, np.inf, np.inf, np.inf, np.inf, np.inf, np.inf,np.inf,np.inf,np.inf),\n",
    "    max_color_quantile=0.98,\n",
    "    show_img=True,\n",
    "    img=None,\n",
    "    img_alpha=1.0,\n",
    "    adjust_text=False,\n",
    "    plt_axis=\"off\",\n",
    "    axis_y_flipped=True,\n",
    "    x_y_labels=(\"\", \"\"),\n",
    "    crop_x=None,\n",
    "    crop_y=None,\n",
    "    text_box_alpha=0.9,\n",
    "    reorder_cmap=range(17),\n",
    "    style=\"fast\",\n",
    "    colorbar_position=\"bottom\",\n",
    "    colorbar_label_kw={},\n",
    "    colorbar_shape={},\n",
    "    colorbar_tick_size=12,\n",
    "    colorbar_grid=None,\n",
    "    image_cmap=\"Greys_r\",\n",
    "    white_spacing=20,\n",
    "):\n",
    "    r\"\"\"Plot spatial abundance of cell types (regulatory programmes) with colour gradient and interpolation.\n",
    "      This method supports only 7 cell types with these colours (in order, which can be changed using reorder_cmap).\n",
    "      'yellow' 'orange' 'blue' 'green' 'purple' 'grey' 'white'\n",
    "    :param value_df: pd.DataFrame - with cell abundance or other features (only 7 allowed, columns) across locations (rows)\n",
    "    :param coords: np.ndarray - x and y coordinates (in columns) to be used for ploting spots\n",
    "    :param text: pd.DataFrame - with x, y coordinates, text to be printed\n",
    "    :param circle_diameter: diameter of circles\n",
    "    :param labels: list of strings, labels of cell types\n",
    "    :param alpha_scaling: adjust color alpha\n",
    "    :param max_col: crops the colorscale maximum value for each column in value_df.\n",
    "    :param max_color_quantile: crops the colorscale at x quantile of the data.\n",
    "    :param show_img: show image?\n",
    "    :param img: numpy array representing a tissue image.\n",
    "        If not provided a black background image is used.\n",
    "    :param img_alpha: transparency of the image\n",
    "    :param lim: x and y max limits on the plot. Minimum is always set to 0, if `lim` is None maximum\n",
    "        is set to image height and width. If 'no_limit' then no limit is set.\n",
    "    :param adjust_text: move text label to prevent overlap\n",
    "    :param plt_axis: show axes?\n",
    "    :param axis_y_flipped: flip y axis to match coordinates of the plotted image\n",
    "    :param reorder_cmap: reorder colors to make sure you get the right color for each category\n",
    "    :param style: plot style (matplolib.style.context):\n",
    "        'fast' - white background & dark text;\n",
    "        'dark_background' - black background & white text;\n",
    "    :param colorbar_position: 'bottom', 'right' or None\n",
    "    :param colorbar_label_kw: dict that will be forwarded to ax.set_label()\n",
    "    :param colorbar_shape: dict {'vertical_gaps': 1.5, 'horizontal_gaps': 1.5,\n",
    "                                    'width': 0.2, 'height': 0.2}, not obligatory to contain all params\n",
    "    :param colorbar_tick_size: colorbar ticks label size\n",
    "    :param colorbar_grid: tuple of colorbar grid (rows, columns)\n",
    "    :param image_cmap: matplotlib colormap for grayscale image\n",
    "    :param white_spacing: percent of colorbars to be hidden\n",
    "    \"\"\"\n",
    "\n",
    "    if value_df.shape[1] > 17:\n",
    "        raise ValueError(\"Maximum of 7 cell types / factors can be plotted at the moment\")\n",
    "\n",
    "    def create_colormap(R, G, B):\n",
    "        spacing = int(white_spacing * 2.55)\n",
    "\n",
    "        N = 255\n",
    "        M = 3\n",
    "\n",
    "        alphas = np.concatenate([[0] * spacing * M, np.linspace(0, 1.0, (N - spacing) * M)])\n",
    "\n",
    "        vals = np.ones((N * M, 4))\n",
    "        #         vals[:, 0] = np.linspace(1, R / 255, N * M)\n",
    "        #         vals[:, 1] = np.linspace(1, G / 255, N * M)\n",
    "        #         vals[:, 2] = np.linspace(1, B / 255, N * M)\n",
    "        for i, color in enumerate([R, G, B]):\n",
    "            vals[:, i] = color / 255\n",
    "        vals[:, 3] = alphas\n",
    "\n",
    "        return ListedColormap(vals)\n",
    "    cmaps = []\n",
    "#     # Create linearly scaled colormaps\n",
    "#     YellowCM = create_colormap(240, 228, 66)  # #F0E442 ['#F0E442', '#D55E00', '#56B4E9',\n",
    "#     # '#009E73', '#5A14A5', '#C8C8C8', '#323232']\n",
    "    RedCM = create_colormap(199, 49, 38)  # #D55E00\n",
    "    BlueCM = create_colormap(86, 180, 233)  # #56B4E9\n",
    "    GreenCM = create_colormap(0,100,0)  # #009E73\n",
    "#     GreyCM = create_colormap(200, 200, 200)  # #C8C8C8\n",
    "#     WhiteCM = create_colormap(50, 50, 50)  # #323232\n",
    "#     PurpleCM = create_colormap(90, 20, 165)  # #5A14A5\n",
    "    \n",
    "    Bl1=create_colormap(186, 71, 67)\n",
    "    Bl2=create_colormap(73, 99, 82)\n",
    "    Bl3=create_colormap(173, 107, 57)\n",
    "    Bl4=create_colormap(125, 53, 133)\n",
    "    Bl5=create_colormap(110, 117, 133)\n",
    "    Bl6=create_colormap(35, 105, 110)\n",
    "    Bl7=create_colormap(184, 136, 186)\n",
    "    Bl8=create_colormap(217, 194, 189)\n",
    "    Bl9=create_colormap(162, 196, 198)\n",
    "    Bl10=create_colormap(65, 87, 135)\n",
    "    Bl11=create_colormap(124, 137, 126)\n",
    "    Bl12=create_colormap(219, 212, 66)\n",
    "    Bl13=create_colormap(64, 57, 62)\n",
    "    Bl14=create_colormap(174, 210, 140)\n",
    "    Bl15=create_colormap(152, 89, 171)\n",
    "    Bl16=create_colormap(171, 171, 89)\n",
    "    Bl17=create_colormap(89, 171, 112)\n",
    "    \n",
    "    cmaps = [RedCM,BlueCM,GreenCM,Bl4,Bl5,Bl6,Bl7,Bl8,Bl9,Bl10,Bl11,Bl12,Bl13,Bl14,Bl15,Bl16,Bl17]\n",
    "\n",
    "    cmaps = [cmaps[i] for i in reorder_cmap]\n",
    "\n",
    "    with mpl.style.context(style):\n",
    "\n",
    "        fig = plt.figure()\n",
    "\n",
    "        if colorbar_position == \"right\":\n",
    "\n",
    "            if colorbar_grid is None:\n",
    "                colorbar_grid = (len(labels), 1)\n",
    "\n",
    "            shape = {\"vertical_gaps\": 1.5, \"horizontal_gaps\": 0, \"width\": 0.15, \"height\": 0.2}\n",
    "            shape = {**shape, **colorbar_shape}\n",
    "\n",
    "            gs = GridSpec(\n",
    "                nrows=colorbar_grid[0] + 2,\n",
    "                ncols=colorbar_grid[1] + 1,\n",
    "                width_ratios=[1, *[shape[\"width\"]] * colorbar_grid[1]],\n",
    "                height_ratios=[1, *[shape[\"height\"]] * colorbar_grid[0], 1],\n",
    "                hspace=shape[\"vertical_gaps\"],\n",
    "                wspace=shape[\"horizontal_gaps\"],\n",
    "            )\n",
    "            ax = fig.add_subplot(gs[:, 0], aspect=\"equal\", rasterized=True)\n",
    "\n",
    "        if colorbar_position == \"bottom\":\n",
    "            if colorbar_grid is None:\n",
    "                if len(labels) <= 3:\n",
    "                    colorbar_grid = (1, len(labels))\n",
    "                else:\n",
    "                    n_rows = round(len(labels) / 3 + 0.5 - 1e-9)\n",
    "                    colorbar_grid = (n_rows, 3)\n",
    "\n",
    "            shape = {\"vertical_gaps\": 0.3, \"horizontal_gaps\": 0.6, \"width\": 0.2, \"height\": 0.035}\n",
    "            shape = {**shape, **colorbar_shape}\n",
    "\n",
    "            gs = GridSpec(\n",
    "                nrows=colorbar_grid[0] + 1,\n",
    "                ncols=colorbar_grid[1] + 2,\n",
    "                width_ratios=[0.3, *[shape[\"width\"]] * colorbar_grid[1], 0.3],\n",
    "                height_ratios=[1, *[shape[\"height\"]] * colorbar_grid[0]],\n",
    "                hspace=shape[\"vertical_gaps\"],\n",
    "                wspace=shape[\"horizontal_gaps\"],\n",
    "            )\n",
    "\n",
    "            ax = fig.add_subplot(gs[0, :], aspect=\"equal\", rasterized=True)\n",
    "\n",
    "        if colorbar_position is None:\n",
    "            ax = fig.add_subplot(aspect=\"equal\", rasterized=True)\n",
    "\n",
    "        if colorbar_position is not None:\n",
    "            cbar_axes = []\n",
    "            for row in range(1, colorbar_grid[0] + 1):\n",
    "                for column in range(1, colorbar_grid[1] + 1):\n",
    "                    cbar_axes.append(fig.add_subplot(gs[row, column]))\n",
    "\n",
    "            n_excess = colorbar_grid[0] * colorbar_grid[1] - len(labels)\n",
    "            if n_excess > 0:\n",
    "                for i in range(1, n_excess + 1):\n",
    "                    cbar_axes[-i].set_visible(False)\n",
    "\n",
    "        ax.set_xlabel(x_y_labels[0])\n",
    "        ax.set_ylabel(x_y_labels[1])\n",
    "\n",
    "        if img is not None and show_img:\n",
    "            ax.imshow(img, aspect=\"equal\", alpha=img_alpha, origin=\"lower\", cmap=image_cmap)\n",
    "\n",
    "        # crop images in needed\n",
    "        if crop_x is not None:\n",
    "            ax.set_xlim(crop_x[0], crop_x[1])\n",
    "        if crop_y is not None:\n",
    "            ax.set_ylim(crop_y[0], crop_y[1])\n",
    "\n",
    "        if axis_y_flipped:\n",
    "            ax.invert_yaxis()\n",
    "\n",
    "        if plt_axis == \"off\":\n",
    "            for spine in ax.spines.values():\n",
    "                spine.set_visible(False)\n",
    "            ax.tick_params(bottom=False, labelbottom=False, left=False, labelleft=False)\n",
    "\n",
    "        counts = value_df.values.copy()\n",
    "\n",
    "        # plot spots as circles\n",
    "        c_ord = list(np.arange(0, counts.shape[1]))\n",
    "\n",
    "        colors = np.zeros((*counts.shape, 4))\n",
    "        weights = np.zeros(counts.shape)\n",
    "\n",
    "        for c in c_ord:\n",
    "\n",
    "            min_color_intensity = counts[:, c].min()\n",
    "            max_color_intensity = np.min([np.quantile(counts[:, c], max_color_quantile), max_col[c]])\n",
    "\n",
    "            rgb_function = get_rgb_function(cmap=cmaps[c], min_value=min_color_intensity, max_value=max_color_intensity)\n",
    "\n",
    "            color = rgb_function(counts[:, c])\n",
    "            color[:, 3] = color[:, 3] * alpha_scaling\n",
    "\n",
    "            norm = mpl.colors.Normalize(vmin=min_color_intensity, vmax=max_color_intensity)\n",
    "\n",
    "            if colorbar_position is not None:\n",
    "                cbar_ticks = [\n",
    "                    min_color_intensity,\n",
    "                    np.mean([min_color_intensity, max_color_intensity]),\n",
    "                    max_color_intensity,\n",
    "                ]\n",
    "                cbar_ticks = np.array(cbar_ticks)\n",
    "\n",
    "                if max_color_intensity > 13:\n",
    "                    cbar_ticks = cbar_ticks.astype(np.int32)\n",
    "                else:\n",
    "                    cbar_ticks = cbar_ticks.round(2)\n",
    "\n",
    "                cbar = fig.colorbar(\n",
    "                    mpl.cm.ScalarMappable(norm=norm, cmap=cmaps[c]),\n",
    "                    cax=cbar_axes[c],\n",
    "                    orientation=\"horizontal\",\n",
    "                    extend=\"both\",\n",
    "                    ticks=cbar_ticks,\n",
    "                )\n",
    "\n",
    "                cbar.ax.tick_params(labelsize=colorbar_tick_size)\n",
    "                max_color = rgb_function(max_color_intensity / 1.5)\n",
    "                cbar.ax.set_title(labels[c], **{**{\"size\": 20, \"color\": max_color, \"alpha\": 1}, **colorbar_label_kw})\n",
    "\n",
    "            colors[:, c] = color\n",
    "            weights[:, c] = np.clip(counts[:, c] / (max_color_intensity + 1e-10), 0, 1)\n",
    "            weights[:, c][counts[:, c] < min_color_intensity] = 0\n",
    "\n",
    "        colors_ryb = np.zeros((*weights.shape, 3))\n",
    "\n",
    "        for i in range(colors.shape[0]):\n",
    "            colors_ryb[i] = rgb_to_ryb(colors[i, :, :3])\n",
    "\n",
    "        def kernel(w):\n",
    "            return w**2\n",
    "\n",
    "        kernel_weights = kernel(weights[:, :, np.newaxis])\n",
    "        weighted_colors_ryb = (colors_ryb * kernel_weights).sum(axis=1) / kernel_weights.sum(axis=1)\n",
    "\n",
    "        weighted_colors = np.zeros((weights.shape[0], 4))\n",
    "\n",
    "        weighted_colors[:, :3] = ryb_to_rgb(weighted_colors_ryb)\n",
    "\n",
    "        weighted_colors[:, 3] = colors[:, :, 3].max(axis=1)\n",
    "\n",
    "        ax.scatter(x=coords[:, 0], y=coords[:, 1], c=weighted_colors, s=circle_diameter**2)\n",
    "\n",
    "        # add text\n",
    "        if text is not None:\n",
    "            bbox_props = dict(boxstyle=\"round\", ec=\"0.5\", alpha=text_box_alpha, fc=\"w\")\n",
    "            texts = []\n",
    "            for x, y, s in zip(\n",
    "                np.array(text.iloc[:, 0].values).flatten(),\n",
    "                np.array(text.iloc[:, 1].values).flatten(),\n",
    "                text.iloc[:, 2].tolist(),\n",
    "            ):\n",
    "                texts.append(ax.text(x, y, s, ha=\"center\", va=\"bottom\", bbox=bbox_props))\n",
    "\n",
    "            if adjust_text:\n",
    "                from adjustText import adjust_text\n",
    "\n",
    "                adjust_text(texts, arrowprops=dict(arrowstyle=\"->\", color=\"w\", lw=0.5))\n",
    "\n",
    "    return fig\n",
    "\n",
    "\n",
    "def plot_spatial(adata, color, img_key=\"hires\", show_img=True, **kwargs):\n",
    "    \"\"\"Plot spatial abundance of cell types (regulatory programmes) with colour gradient\n",
    "    and interpolation (from Visium anndata).\n",
    "    This method supports only 7 cell types with these colours (in order, which can be changed using reorder_cmap).\n",
    "    'yellow' 'orange' 'blue' 'green' 'purple' 'grey' 'white'\n",
    "    :param adata: adata object with spatial coordinates in adata.obsm['spatial']\n",
    "    :param color: list of adata.obs column names to be plotted\n",
    "    :param kwargs: arguments to plot_spatial_general\n",
    "    :return: matplotlib figure\n",
    "    \"\"\"\n",
    "\n",
    "    if show_img is True:\n",
    "        kwargs[\"show_img\"] = True\n",
    "        kwargs[\"img\"] = list(adata.uns[\"spatial\"].values())[0][\"images\"][img_key]\n",
    "\n",
    "    # location coordinates\n",
    "    if \"spatial\" in adata.uns.keys():\n",
    "        kwargs[\"coords\"] = (\n",
    "            adata.obsm[\"spatial\"] * list(adata.uns[\"spatial\"].values())[0][\"scalefactors\"][f\"tissue_{img_key}_scalef\"]\n",
    "        )\n",
    "    else:\n",
    "        kwargs[\"coords\"] = adata.obsm[\"spatial\"]\n",
    "\n",
    "    fig = plot_spatial_general(value_df=adata.obs[color], **kwargs)  # cell abundance values\n",
    "\n",
    "    return fig"
   ]
  },
  {
   "cell_type": "code",
   "execution_count": null,
   "id": "062a5214",
   "metadata": {
    "ExecuteTime": {
     "end_time": "2023-01-19T17:20:20.455270Z",
     "start_time": "2023-01-19T17:20:20.449525Z"
    }
   },
   "outputs": [],
   "source": [
    "adata.obs['Ground_truth_neurons']=adata_n.obs['neurons']\n",
    "adata.obs['Ground_truth_glial']=adata_g.obs['glial']"
   ]
  },
  {
   "cell_type": "code",
   "execution_count": null,
   "id": "b42ccf42",
   "metadata": {
    "ExecuteTime": {
     "end_time": "2023-01-19T14:42:42.790224Z",
     "start_time": "2023-01-19T14:42:35.600067Z"
    },
    "scrolled": true
   },
   "outputs": [],
   "source": [
    "\n",
    "clust_col = ['Ground_truth_glial']\n",
    "\n",
    "with mpl.rc_context({'figure.figsize': (15, 15)}):\n",
    "    plt.rcParams[\"axes.grid\"] = False\n",
    "    fig = plot_spatial(\n",
    "        adata=adata,\n",
    "        labels = clust_col,\n",
    "        # labels to show on a plot\n",
    "        color=clust_col,\n",
    "        show_img=True,\n",
    "        # 'fast' (white background) or 'dark_background'\n",
    "        style='fast',\n",
    "         reorder_cmap=(0,1),\n",
    "        circle_diameter=10,\n",
    "        img_alpha=0,\n",
    "        colorbar_position='right'\n",
    "    )"
   ]
  },
  {
   "cell_type": "code",
   "execution_count": null,
   "id": "5d56ff16",
   "metadata": {
    "ExecuteTime": {
     "end_time": "2023-01-19T14:42:49.621578Z",
     "start_time": "2023-01-19T14:42:42.795270Z"
    },
    "scrolled": false
   },
   "outputs": [],
   "source": [
    "clust_col = ['Ground_truth_neurons']\n",
    "\n",
    "with mpl.rc_context({'figure.figsize': (15, 15)}):\n",
    "    plt.rcParams[\"axes.grid\"] = False\n",
    "    fig = plot_spatial(\n",
    "        adata=adata,\n",
    "        labels = clust_col,\n",
    "        color=clust_col,\n",
    "        show_img=True,\n",
    "        # 'fast' (white background) or 'dark_background'\n",
    "        style='fast',\n",
    "         reorder_cmap=(2,3),\n",
    "        circle_diameter=10,\n",
    "        img_alpha=0,\n",
    "        colorbar_position='right'\n",
    "    )"
   ]
  },
  {
   "cell_type": "code",
   "execution_count": null,
   "id": "5f539844",
   "metadata": {
    "ExecuteTime": {
     "end_time": "2023-01-19T16:33:26.835745Z",
     "start_time": "2023-01-19T16:33:26.738705Z"
    }
   },
   "outputs": [],
   "source": [
    "adata_cellpie = adata.copy()"
   ]
  },
  {
   "cell_type": "markdown",
   "id": "9ccc6f7d",
   "metadata": {},
   "source": [
    "##### we run CellPie for a range of weights: [0,0.4,1,1.6,2]"
   ]
  },
  {
   "cell_type": "code",
   "execution_count": null,
   "id": "18d36230-acfb-4539-8705-1658df57d567",
   "metadata": {
    "ExecuteTime": {
     "end_time": "2023-01-19T17:11:25.870568Z",
     "start_time": "2023-01-19T17:11:03.530240Z"
    },
    "execution": {
     "iopub.execute_input": "2021-12-21T16:19:21.282266Z",
     "iopub.status.busy": "2021-12-21T16:19:21.282034Z",
     "iopub.status.idle": "2021-12-21T16:23:03.152098Z",
     "shell.execute_reply": "2021-12-21T16:23:03.151289Z",
     "shell.execute_reply.started": "2021-12-21T16:19:21.282242Z"
    },
    "scrolled": true,
    "tags": []
   },
   "outputs": [],
   "source": [
    "k=17\n",
    "nmf_model = intNMF(adata_cellpie,k, epochs = 60,init = 'NNDSVD',mod1_skew=2,random_state=2)\n",
    "nmf_model.fit(adata_cellpie)"
   ]
  },
  {
   "cell_type": "code",
   "execution_count": null,
   "id": "7f28d883",
   "metadata": {
    "ExecuteTime": {
     "end_time": "2023-01-19T17:18:50.927234Z",
     "start_time": "2023-01-19T17:18:33.487315Z"
    },
    "scrolled": true
   },
   "outputs": [],
   "source": [
    "from itertools import combinations\n",
    "from scipy import stats\n",
    "\n",
    "for l in range(5,6):\n",
    "\n",
    "#     adata.obs = adata.obs.drop(columns=['comb'])\n",
    "#     adata_cellpie.obs = adata_cellpie.obs.drop(columns=['comb'])\n",
    "    cc = list(combinations(adata_cellpie.obs.iloc[:,12:29].columns,l))\n",
    "\n",
    "    res3=[]\n",
    "    adata_new = adata_cellpie\n",
    "\n",
    "    i=0\n",
    "\n",
    "    for c in cc:\n",
    "        adata_new.obs['comb'] = np.zeros(len(adata_cellpie.obs['deconv_0']))\n",
    "    \n",
    "        for j in range(0,l):\n",
    "            adata_new.obs['comb'] = adata_new.obs['comb'] + adata_new.obs[cc[i][j]] \n",
    "        \n",
    "        rho_n  = stats.spearmanr(adata_new.obs[\"comb\"],adata_n.obs['neurons'])\n",
    "        rho_g = stats.spearmanr(adata_new.obs[\"comb\"],adata_g.obs['glial'])\n",
    "        i=i+1\n",
    "        res3.append((c,rho_n[0],rho_g[0]))\n",
    "\n",
    "    coeff2 = pd.DataFrame(res3)\n",
    "    print(l,coeff2.max())\n"
   ]
  },
  {
   "cell_type": "code",
   "execution_count": null,
   "id": "0692bd20",
   "metadata": {
    "ExecuteTime": {
     "end_time": "2023-01-19T16:34:11.819130Z",
     "start_time": "2023-01-19T16:34:11.815151Z"
    }
   },
   "outputs": [],
   "source": [
    "# weight 0 max for l=2\n",
    "neur_max_0 =[ coeff2[0].loc[coeff2[1].idxmax()]]"
   ]
  },
  {
   "cell_type": "code",
   "execution_count": null,
   "id": "c5ad6e9f",
   "metadata": {
    "ExecuteTime": {
     "end_time": "2023-01-19T16:36:12.342242Z",
     "start_time": "2023-01-19T16:36:12.338680Z"
    }
   },
   "outputs": [],
   "source": [
    "# weight 0 max for l=11\n",
    "glial_max_0 =[ coeff2[0].loc[coeff2[2].idxmax()]]"
   ]
  },
  {
   "cell_type": "code",
   "execution_count": null,
   "id": "62824307",
   "metadata": {
    "ExecuteTime": {
     "end_time": "2023-01-19T16:34:29.955303Z",
     "start_time": "2023-01-19T16:34:29.949674Z"
    }
   },
   "outputs": [],
   "source": [
    "l=2\n",
    "i=0\n",
    "for c in neur_max_0:\n",
    "    adata_cellpie.obs['CellPie_neurons_0'] = np.zeros(len(adata_cellpie.obs['deconv_0']))\n",
    "    for j in range(0,l):\n",
    "        adata_cellpie.obs['CellPie_neurons_0'] = adata_cellpie.obs['CellPie_neurons_0']+adata_cellpie.obs[neur_max_0[i][j]]\n",
    "    i=i+1\n",
    "        "
   ]
  },
  {
   "cell_type": "code",
   "execution_count": null,
   "id": "5b4371aa",
   "metadata": {
    "ExecuteTime": {
     "end_time": "2023-01-19T16:37:23.860796Z",
     "start_time": "2023-01-19T16:37:23.854232Z"
    }
   },
   "outputs": [],
   "source": [
    "l=11\n",
    "i=0\n",
    "for c in glial_max_0:\n",
    "    adata_cellpie.obs['CellPie_glial_0'] = np.zeros(len(adata_cellpie.obs['deconv_0']))\n",
    "    for j in range(0,l):\n",
    "        adata_cellpie.obs['CellPie_glial_0'] = adata_cellpie.obs['CellPie_glial_0']+adata_cellpie.obs[glial_max_0[i][j]]\n",
    "    i=i+1"
   ]
  },
  {
   "cell_type": "code",
   "execution_count": null,
   "id": "45ff0779",
   "metadata": {
    "ExecuteTime": {
     "end_time": "2023-01-19T16:53:27.996839Z",
     "start_time": "2023-01-19T16:53:27.993886Z"
    }
   },
   "outputs": [],
   "source": [
    "# weight 0.4 max for l=6\n",
    "neur_max_04 =[ coeff2[0].loc[coeff2[1].idxmax()]]"
   ]
  },
  {
   "cell_type": "code",
   "execution_count": null,
   "id": "a14defc9",
   "metadata": {
    "ExecuteTime": {
     "end_time": "2023-01-19T16:53:37.511294Z",
     "start_time": "2023-01-19T16:53:37.506212Z"
    }
   },
   "outputs": [],
   "source": [
    "neur_max_04"
   ]
  },
  {
   "cell_type": "code",
   "execution_count": null,
   "id": "b5c0bf05",
   "metadata": {
    "ExecuteTime": {
     "end_time": "2023-01-19T16:52:00.175347Z",
     "start_time": "2023-01-19T16:52:00.171099Z"
    }
   },
   "outputs": [],
   "source": [
    "# weight 0.4 max for l=5\n",
    "glial_max_04 =[ coeff2[0].loc[coeff2[2].idxmax()]]"
   ]
  },
  {
   "cell_type": "code",
   "execution_count": null,
   "id": "79959b08",
   "metadata": {
    "ExecuteTime": {
     "end_time": "2023-01-19T16:53:49.133264Z",
     "start_time": "2023-01-19T16:53:49.126533Z"
    }
   },
   "outputs": [],
   "source": [
    "l=6\n",
    "i=0\n",
    "for c in neur_max_04:\n",
    "    adata_cellpie.obs['CellPie_neurons_0.4'] = np.zeros(len(adata_cellpie.obs['deconv_0']))\n",
    "    for j in range(0,l):\n",
    "        adata_cellpie.obs['CellPie_neurons_0.4'] = adata_cellpie.obs['CellPie_neurons_0.4']+adata_cellpie.obs[neur_max_04[i][j]]\n",
    "    i=i+1"
   ]
  },
  {
   "cell_type": "code",
   "execution_count": null,
   "id": "96feafa7",
   "metadata": {
    "ExecuteTime": {
     "end_time": "2023-01-19T16:52:20.344475Z",
     "start_time": "2023-01-19T16:52:20.336322Z"
    }
   },
   "outputs": [],
   "source": [
    "l=5\n",
    "i=0\n",
    "for c in glial_max_04:\n",
    "    adata_cellpie.obs['CellPie_glial_0.4'] = np.zeros(len(adata_cellpie.obs['deconv_0']))\n",
    "    for j in range(0,l):\n",
    "        adata_cellpie.obs['CellPie_glial_0.4'] = adata_cellpie.obs['CellPie_glial_0.4']+adata_cellpie.obs[glial_max_04[i][j]]\n",
    "    i=i+1"
   ]
  },
  {
   "cell_type": "code",
   "execution_count": null,
   "id": "08875513",
   "metadata": {
    "ExecuteTime": {
     "end_time": "2023-01-19T17:03:15.563758Z",
     "start_time": "2023-01-19T17:03:15.559623Z"
    }
   },
   "outputs": [],
   "source": [
    "# weight 1 max for l=7\n",
    "neur_max_1 =[ coeff2[0].loc[coeff2[1].idxmax()]]"
   ]
  },
  {
   "cell_type": "code",
   "execution_count": null,
   "id": "5ecdbcef",
   "metadata": {
    "ExecuteTime": {
     "end_time": "2023-01-19T17:55:37.639883Z",
     "start_time": "2023-01-19T17:55:37.549549Z"
    }
   },
   "outputs": [],
   "source": [
    "neur_max_1"
   ]
  },
  {
   "cell_type": "code",
   "execution_count": null,
   "id": "c59e652d",
   "metadata": {
    "ExecuteTime": {
     "end_time": "2023-01-19T17:02:08.162886Z",
     "start_time": "2023-01-19T17:02:08.158725Z"
    }
   },
   "outputs": [],
   "source": [
    "# weight 1 max for l=5\n",
    "glial_max_1 =[ coeff2[0].loc[coeff2[2].idxmax()]]"
   ]
  },
  {
   "cell_type": "code",
   "execution_count": null,
   "id": "25cc34f1",
   "metadata": {
    "ExecuteTime": {
     "end_time": "2023-01-19T17:03:15.571891Z",
     "start_time": "2023-01-19T17:03:15.565769Z"
    }
   },
   "outputs": [],
   "source": [
    "l=7\n",
    "i=0\n",
    "for c in neur_max_1:\n",
    "    adata_cellpie.obs['CellPie_neurons'] = np.zeros(len(adata_cellpie.obs['deconv_0']))\n",
    "    for j in range(0,l):\n",
    "        adata_cellpie.obs['CellPie_neurons'] = adata_cellpie.obs['CellPie_neurons']+adata_cellpie.obs[neur_max_1[i][j]]\n",
    "    i=i+1"
   ]
  },
  {
   "cell_type": "code",
   "execution_count": null,
   "id": "e831b9dd",
   "metadata": {
    "ExecuteTime": {
     "end_time": "2023-01-19T17:02:11.295258Z",
     "start_time": "2023-01-19T17:02:11.288884Z"
    }
   },
   "outputs": [],
   "source": [
    "l=5\n",
    "i=0\n",
    "for c in glial_max_1:\n",
    "    adata_cellpie.obs['CellPie_glial'] = np.zeros(len(adata_cellpie.obs['deconv_0']))\n",
    "    for j in range(0,l):\n",
    "        adata_cellpie.obs['CellPie_glial'] = adata_cellpie.obs['CellPie_glial']+adata_cellpie.obs[glial_max_1[i][j]]\n",
    "    i=i+1"
   ]
  },
  {
   "cell_type": "code",
   "execution_count": null,
   "id": "3eb2fb7b",
   "metadata": {
    "ExecuteTime": {
     "end_time": "2023-01-19T17:10:27.853476Z",
     "start_time": "2023-01-19T17:10:27.849806Z"
    }
   },
   "outputs": [],
   "source": [
    "# weight 1.6 max for l=3\n",
    "neur_max_16 =[ coeff2[0].loc[coeff2[1].idxmax()]]"
   ]
  },
  {
   "cell_type": "code",
   "execution_count": null,
   "id": "c4340d2b",
   "metadata": {
    "ExecuteTime": {
     "end_time": "2023-01-19T17:10:31.456359Z",
     "start_time": "2023-01-19T17:10:31.448846Z"
    }
   },
   "outputs": [],
   "source": [
    "l=3\n",
    "i=0\n",
    "for c in neur_max_16:\n",
    "    adata_cellpie.obs['CellPie_neurons_16'] = np.zeros(len(adata_cellpie.obs['deconv_0']))\n",
    "    for j in range(0,l):\n",
    "        adata_cellpie.obs['CellPie_neurons_16'] = adata_cellpie.obs['CellPie_neurons_16']+adata_cellpie.obs[neur_max_16[i][j]]\n",
    "    i=i+1"
   ]
  },
  {
   "cell_type": "code",
   "execution_count": null,
   "id": "2ec00b38",
   "metadata": {
    "ExecuteTime": {
     "end_time": "2023-01-19T17:10:53.805266Z",
     "start_time": "2023-01-19T17:10:53.802218Z"
    }
   },
   "outputs": [],
   "source": [
    "# weight 1.6 max for l=5\n",
    "glial_max_16 =[ coeff2[0].loc[coeff2[2].idxmax()]]"
   ]
  },
  {
   "cell_type": "code",
   "execution_count": null,
   "id": "e1c65744",
   "metadata": {
    "ExecuteTime": {
     "end_time": "2023-01-19T17:10:53.828603Z",
     "start_time": "2023-01-19T17:10:53.808030Z"
    }
   },
   "outputs": [],
   "source": [
    "l=5\n",
    "i=0\n",
    "for c in glial_max_16:\n",
    "    adata_cellpie.obs['CellPie_glial_16'] = np.zeros(len(adata_cellpie.obs['deconv_0']))\n",
    "    for j in range(0,l):\n",
    "        adata_cellpie.obs['CellPie_glial_16'] = adata_cellpie.obs['CellPie_glial_16']+adata_cellpie.obs[glial_max_16[i][j]]\n",
    "    i=i+1"
   ]
  },
  {
   "cell_type": "code",
   "execution_count": null,
   "id": "974d880b",
   "metadata": {
    "ExecuteTime": {
     "end_time": "2023-01-19T17:18:26.510403Z",
     "start_time": "2023-01-19T17:18:26.507825Z"
    }
   },
   "outputs": [],
   "source": [
    "# weight 2 max for l=1\n",
    "neur_max_2 =[ coeff2[0].loc[coeff2[1].idxmax()]]"
   ]
  },
  {
   "cell_type": "code",
   "execution_count": null,
   "id": "2b2baff2",
   "metadata": {
    "ExecuteTime": {
     "end_time": "2023-01-19T17:18:27.931928Z",
     "start_time": "2023-01-19T17:18:27.927048Z"
    }
   },
   "outputs": [],
   "source": [
    "l=1\n",
    "i=0\n",
    "for c in neur_max_2:\n",
    "    adata_cellpie.obs['CellPie_neurons_2'] = np.zeros(len(adata_cellpie.obs['deconv_0']))\n",
    "    for j in range(0,l):\n",
    "        adata_cellpie.obs['CellPie_neurons_2'] = adata_cellpie.obs['CellPie_neurons_2']+adata_cellpie.obs[neur_max_2[i][j]]\n",
    "    i=i+1"
   ]
  },
  {
   "cell_type": "code",
   "execution_count": null,
   "id": "4fed684a",
   "metadata": {
    "ExecuteTime": {
     "end_time": "2023-01-19T17:18:50.933712Z",
     "start_time": "2023-01-19T17:18:50.930115Z"
    }
   },
   "outputs": [],
   "source": [
    "# weight 2 max for l=5\n",
    "glial_max_2 =[ coeff2[0].loc[coeff2[2].idxmax()]]"
   ]
  },
  {
   "cell_type": "code",
   "execution_count": null,
   "id": "c0a8d877",
   "metadata": {
    "ExecuteTime": {
     "end_time": "2023-01-19T17:18:50.941725Z",
     "start_time": "2023-01-19T17:18:50.936553Z"
    }
   },
   "outputs": [],
   "source": [
    "l=5\n",
    "i=0\n",
    "for c in glial_max_2:\n",
    "    adata_cellpie.obs['CellPie_glial_2'] = np.zeros(len(adata_cellpie.obs['deconv_0']))\n",
    "    for j in range(0,l):\n",
    "        adata_cellpie.obs['CellPie_glial_2'] = adata_cellpie.obs['CellPie_glial_2']+adata_cellpie.obs[glial_max_2[i][j]]\n",
    "    i=i+1"
   ]
  },
  {
   "cell_type": "code",
   "execution_count": null,
   "id": "eb5c2e40",
   "metadata": {
    "ExecuteTime": {
     "end_time": "2023-01-19T17:03:36.599501Z",
     "start_time": "2023-01-19T17:03:28.642308Z"
    },
    "scrolled": true
   },
   "outputs": [],
   "source": [
    "clust_col = ['CellPie_neurons']\n",
    "with mpl.rc_context({'figure.figsize': (15, 15)}):\n",
    "    plt.rcParams[\"axes.grid\"] = False\n",
    "    fig = plot_spatial(\n",
    "        adata=adata_cellpie,\n",
    "        labels = clust_col,\n",
    "        color=clust_col,\n",
    "        show_img=True,\n",
    "        # 'fast' (white background) or 'dark_background'\n",
    "        style='fast',\n",
    "         reorder_cmap=(2,3),\n",
    "        circle_diameter=10,\n",
    "        img_alpha=0,\n",
    "        colorbar_position='right'\n",
    "    )"
   ]
  },
  {
   "cell_type": "code",
   "execution_count": null,
   "id": "03ee241f",
   "metadata": {
    "ExecuteTime": {
     "end_time": "2023-01-19T17:03:54.181444Z",
     "start_time": "2023-01-19T17:03:47.325064Z"
    }
   },
   "outputs": [],
   "source": [
    "clust_col = ['CellPie_glial']\n",
    "\n",
    "with mpl.rc_context({'figure.figsize': (15, 15)}):\n",
    "    plt.rcParams[\"axes.grid\"] = False\n",
    "    fig = plot_spatial(\n",
    "        adata=adata_cellpie,\n",
    "        labels = clust_col,\n",
    "        color=clust_col,\n",
    "        show_img=True,\n",
    "        # 'fast' (white background) or 'dark_background'\n",
    "        style='fast',\n",
    "         reorder_cmap=(0,1),\n",
    "        circle_diameter=10,\n",
    "        img_alpha=0,\n",
    "        colorbar_position='right'\n",
    "    )"
   ]
  },
  {
   "cell_type": "markdown",
   "id": "616329d5",
   "metadata": {},
   "source": [
    "## stDeconvolve"
   ]
  },
  {
   "cell_type": "code",
   "execution_count": null,
   "id": "ca6f3fc6",
   "metadata": {
    "ExecuteTime": {
     "end_time": "2023-01-19T17:22:55.512086Z",
     "start_time": "2023-01-19T17:22:55.497192Z"
    }
   },
   "outputs": [],
   "source": [
    "stdec = pd.read_csv('Data/deconprop-mouse_brain_if_17_new.csv')"
   ]
  },
  {
   "cell_type": "code",
   "execution_count": null,
   "id": "4f06152f",
   "metadata": {
    "ExecuteTime": {
     "end_time": "2023-01-19T17:22:57.450747Z",
     "start_time": "2023-01-19T17:22:57.441628Z"
    }
   },
   "outputs": [],
   "source": [
    "adata=adata[adata.obs_names.isin(stdec['Unnamed: 0']),:]"
   ]
  },
  {
   "cell_type": "code",
   "execution_count": null,
   "id": "b4bfd081",
   "metadata": {
    "ExecuteTime": {
     "end_time": "2023-01-17T18:52:28.946390Z",
     "start_time": "2023-01-17T18:52:28.851105Z"
    }
   },
   "outputs": [],
   "source": [
    "# adata.X.A = adata_n.X.A"
   ]
  },
  {
   "cell_type": "code",
   "execution_count": null,
   "id": "dfd70e0c",
   "metadata": {
    "ExecuteTime": {
     "end_time": "2023-01-19T17:23:27.406530Z",
     "start_time": "2023-01-19T17:23:27.392719Z"
    }
   },
   "outputs": [],
   "source": [
    "adata_n=adata_n[adata_n.obs_names.isin(stdec['Unnamed: 0']),:]\n",
    "adata_g=adata_g[adata_g.obs_names.isin(stdec['Unnamed: 0']),:]"
   ]
  },
  {
   "cell_type": "code",
   "execution_count": null,
   "id": "70964275",
   "metadata": {
    "ExecuteTime": {
     "end_time": "2023-01-19T17:23:34.895250Z",
     "start_time": "2023-01-19T17:23:34.741564Z"
    }
   },
   "outputs": [],
   "source": [
    "adata_stdec = adata.copy()"
   ]
  },
  {
   "cell_type": "code",
   "execution_count": null,
   "id": "3151eae7",
   "metadata": {
    "ExecuteTime": {
     "end_time": "2023-01-19T17:23:43.786641Z",
     "start_time": "2023-01-19T17:23:43.774229Z"
    }
   },
   "outputs": [],
   "source": [
    "for i in range(1,18):\n",
    "    adata_stdec.obs[f\"st_dec{i}\"] = stdec.iloc[:,i].values"
   ]
  },
  {
   "cell_type": "code",
   "execution_count": null,
   "id": "bc400154",
   "metadata": {
    "ExecuteTime": {
     "end_time": "2023-01-19T17:24:12.839733Z",
     "start_time": "2023-01-19T17:24:12.827693Z"
    }
   },
   "outputs": [],
   "source": [
    "adata_stdec.obs['comb_n'] = adata_stdec.obs['st_dec1']+adata_stdec.obs['st_dec2']+adata_stdec.obs['st_dec3']+adata_stdec.obs['st_dec5']+adata_stdec.obs['st_dec6']+adata_stdec.obs['st_dec7']+adata_stdec.obs['st_dec8'] +adata_stdec.obs['st_dec9']+adata_stdec.obs['st_dec10'] +adata_stdec.obs['st_dec13']+adata_stdec.obs['st_dec14'] +adata_stdec.obs['st_dec15']\n",
    "adata_stdec.obs['comb_g'] = adata_stdec.obs['st_dec1']+adata_stdec.obs['st_dec2']+adata_stdec.obs['st_dec4']+adata_stdec.obs['st_dec6']+adata_stdec.obs['st_dec8']+adata_stdec.obs['st_dec10']+adata_stdec.obs['st_dec11'] + adata_stdec.obs['st_dec12']+adata_stdec.obs['st_dec13'] + adata_stdec.obs['st_dec14']+adata_stdec.obs['st_dec15']  +adata_stdec.obs['st_dec16']"
   ]
  },
  {
   "cell_type": "code",
   "execution_count": null,
   "id": "d78740fc",
   "metadata": {
    "ExecuteTime": {
     "end_time": "2023-01-19T17:24:13.389112Z",
     "start_time": "2023-01-19T17:24:13.379794Z"
    },
    "scrolled": true
   },
   "outputs": [],
   "source": [
    "from itertools import combinations\n",
    "\n",
    "for l in range(13,14):\n",
    "\n",
    "    cc = list(combinations(adata_stdec.obs.iloc[:,47:64].columns,l))\n",
    "\n",
    "    res3=[]\n",
    "    i=0\n",
    "    for c in cc:\n",
    "        adata_stdec.obs['comb'] = np.zeros(len(adata_stdec.obs['st_dec1']))\n",
    "        for j in range(0,l):\n",
    "            adata_stdec.obs['comb'] = adata_stdec.obs['comb'] + adata_stdec.obs[cc[i][j]] \n",
    "\n",
    "        rho_n  = stats.spearmanr(adata_stdec.obs[\"comb\"],adata_n.obs['neurons'])\n",
    "        rho_g = stats.spearmanr(adata_stdec.obs[\"comb\"],adata_g.obs['glial'])\n",
    "        i=i+1\n",
    "        res3.append((c,rho_n[0],rho_g[0]))\n",
    "    coeff2 = pd.DataFrame(res3)\n",
    "    print(l,coeff2.max())"
   ]
  },
  {
   "cell_type": "code",
   "execution_count": null,
   "id": "6086f659",
   "metadata": {
    "ExecuteTime": {
     "end_time": "2023-01-19T17:24:16.670554Z",
     "start_time": "2023-01-19T17:24:16.557993Z"
    }
   },
   "outputs": [],
   "source": [
    "adata.obs['StDeconvolve_glial'] = adata_stdec.obs['comb_g']\n",
    "adata.obs['StDeconvolve_neurons'] = adata_stdec.obs['comb_n']"
   ]
  },
  {
   "cell_type": "markdown",
   "id": "470e66a2",
   "metadata": {},
   "source": [
    "## Cell2Location"
   ]
  },
  {
   "cell_type": "code",
   "execution_count": null,
   "id": "7268e8b8",
   "metadata": {
    "ExecuteTime": {
     "end_time": "2023-01-19T17:25:19.162489Z",
     "start_time": "2023-01-19T17:25:19.134964Z"
    }
   },
   "outputs": [],
   "source": [
    "c2l = pd.read_csv('Data/c2l_mouse_brain_if_deconv.csv')"
   ]
  },
  {
   "cell_type": "code",
   "execution_count": null,
   "id": "c4facd7c",
   "metadata": {
    "ExecuteTime": {
     "end_time": "2023-01-19T17:25:39.542051Z",
     "start_time": "2023-01-19T17:25:39.537721Z"
    }
   },
   "outputs": [],
   "source": [
    "adata_cellpie.obs['C2l_glial'] = c2l['c2l_glial'].values\n",
    "adata_cellpie.obs['C2l_neurons'] = c2l['c2l_neurons'].values"
   ]
  },
  {
   "cell_type": "code",
   "execution_count": null,
   "id": "e4aef05b",
   "metadata": {
    "ExecuteTime": {
     "end_time": "2023-01-19T17:29:09.321800Z",
     "start_time": "2023-01-19T17:29:09.115891Z"
    }
   },
   "outputs": [],
   "source": [
    "adata_n_c2l = adata_cellpie.copy()\n",
    "adata_g_c2l = adata_cellpie.copy()"
   ]
  },
  {
   "cell_type": "code",
   "execution_count": null,
   "id": "e7fdb77d",
   "metadata": {
    "ExecuteTime": {
     "end_time": "2023-01-19T17:30:51.652244Z",
     "start_time": "2023-01-19T17:30:29.175303Z"
    }
   },
   "outputs": [],
   "source": [
    "sq.im.calculate_image_features(\n",
    "    adata_g_c2l,\n",
    "    img_g,\n",
    "    features=\"summary\",\n",
    "    mask_circle=True,\n",
    "    show_progress_bar=True,\n",
    "    scale=1,\n",
    "    key_added=\"features\"\n",
    ")"
   ]
  },
  {
   "cell_type": "code",
   "execution_count": null,
   "id": "d46b1429",
   "metadata": {
    "ExecuteTime": {
     "end_time": "2023-01-19T17:31:09.021838Z",
     "start_time": "2023-01-19T17:30:51.655038Z"
    }
   },
   "outputs": [],
   "source": [
    "sq.im.calculate_image_features(\n",
    "    adata_n_c2l,\n",
    "    img_n,\n",
    "    features=\"summary\",\n",
    "    mask_circle=True,\n",
    "    show_progress_bar=True,\n",
    "    scale=1,\n",
    "    key_added=\"features\"\n",
    ")"
   ]
  },
  {
   "cell_type": "code",
   "execution_count": null,
   "id": "fcbb936b",
   "metadata": {
    "ExecuteTime": {
     "end_time": "2023-01-19T17:31:09.040879Z",
     "start_time": "2023-01-19T17:31:09.024577Z"
    }
   },
   "outputs": [],
   "source": [
    "adata_g_c2l.obs['glial'] = adata_g_c2l.obsm['features']['summary_ch-0_mean']\n",
    "adata_n_c2l.obs['neurons'] = adata_n_c2l.obsm['features']['summary_ch-0_mean']"
   ]
  },
  {
   "cell_type": "code",
   "execution_count": null,
   "id": "97060b8f",
   "metadata": {
    "ExecuteTime": {
     "end_time": "2023-01-19T17:31:35.682789Z",
     "start_time": "2023-01-19T17:31:35.674532Z"
    }
   },
   "outputs": [],
   "source": [
    "from scipy import stats\n",
    "rho, pval = stats.spearmanr(adata_cellpie.obs['C2l_neurons'],adata_n_c2l.obs['neurons'])\n",
    "print('rho jointNMF:',rho)"
   ]
  },
  {
   "cell_type": "code",
   "execution_count": null,
   "id": "e7d58175",
   "metadata": {
    "ExecuteTime": {
     "end_time": "2023-01-19T17:31:53.871504Z",
     "start_time": "2023-01-19T17:31:53.864613Z"
    }
   },
   "outputs": [],
   "source": [
    "from scipy import stats\n",
    "rho, pval = stats.spearmanr(adata_cellpie.obs['C2l_glial'],adata_g_c2l.obs['glial'])\n",
    "print('rho jointNMF:',rho)"
   ]
  },
  {
   "cell_type": "markdown",
   "id": "533fdd37",
   "metadata": {},
   "source": [
    "## Stereorscope"
   ]
  },
  {
   "cell_type": "code",
   "execution_count": null,
   "id": "036d6419",
   "metadata": {
    "ExecuteTime": {
     "end_time": "2023-01-19T17:32:48.297981Z",
     "start_time": "2023-01-19T17:32:48.260978Z"
    }
   },
   "outputs": [],
   "source": [
    "stereo = pd.read_csv('Data/mouse_brain_stereoscope.csv')"
   ]
  },
  {
   "cell_type": "code",
   "execution_count": null,
   "id": "a97fd990",
   "metadata": {
    "ExecuteTime": {
     "end_time": "2023-01-19T17:33:09.822042Z",
     "start_time": "2023-01-19T17:33:09.817291Z"
    }
   },
   "outputs": [],
   "source": [
    "adata_cellpie.obs['Stereoscope_glial'] = stereo['Glial_stereoscope'].values\n",
    "adata_cellpie.obs['Stereoscope_neurons'] = stereo['Neurons_stereoscope'].values"
   ]
  },
  {
   "cell_type": "code",
   "execution_count": null,
   "id": "886d7bf6",
   "metadata": {
    "ExecuteTime": {
     "end_time": "2023-01-19T17:36:44.375584Z",
     "start_time": "2023-01-19T17:36:44.351580Z"
    }
   },
   "outputs": [],
   "source": [
    "data_glial_2=pd.concat([adata.obs['StDeconvolve_glial'],adata_cellpie.obs['CellPie_glial_2'],adata_cellpie.obs['Stereoscope_glial'],adata_cellpie.obs['C2l_glial'],adata_g_c2l.obs['glial']],axis=1)\n",
    "data_glial_16=pd.concat([adata.obs['StDeconvolve_glial'],adata_cellpie.obs['CellPie_glial_16'],adata_cellpie.obs['Stereoscope_glial'],adata_cellpie.obs['C2l_glial'],adata_g_c2l.obs['glial']],axis=1)\n",
    "data_glial_1=pd.concat([adata.obs['StDeconvolve_glial'],adata_cellpie.obs['CellPie_glial'],adata_cellpie.obs['Stereoscope_glial'],adata_cellpie.obs['C2l_glial'],adata_g_c2l.obs['glial']],axis=1)         \n",
    "data_glial_04=pd.concat([adata.obs['StDeconvolve_glial'],adata_cellpie.obs['CellPie_glial_0.4'],adata_cellpie.obs['Stereoscope_glial'],adata_cellpie.obs['C2l_glial'],adata_g_c2l.obs['glial']],axis=1)\n",
    "data_glial_0=pd.concat([adata.obs['StDeconvolve_glial'],adata_cellpie.obs['CellPie_glial_0'],adata_cellpie.obs['Stereoscope_glial'],adata_cellpie.obs['C2l_glial'],adata_g_c2l.obs['glial']],axis=1)\n",
    "            "
   ]
  },
  {
   "cell_type": "code",
   "execution_count": null,
   "id": "3eed256f",
   "metadata": {
    "ExecuteTime": {
     "end_time": "2023-01-19T17:37:03.989334Z",
     "start_time": "2023-01-19T17:37:03.967238Z"
    }
   },
   "outputs": [],
   "source": [
    "data_neurons_2=pd.concat([adata.obs['StDeconvolve_neurons'],adata_cellpie.obs['CellPie_neurons_2'],adata_cellpie.obs['Stereoscope_neurons'],adata_cellpie.obs['C2l_neurons'],adata_n_c2l.obs['neurons']],axis=1)\n",
    "data_neurons_16=pd.concat([adata.obs['StDeconvolve_neurons'],adata_cellpie.obs['CellPie_neurons_16'],adata_cellpie.obs['Stereoscope_neurons'],adata_cellpie.obs['C2l_neurons'],adata_n_c2l.obs['neurons']],axis=1)            \n",
    "data_neurons_1=pd.concat([adata.obs['StDeconvolve_neurons'],adata_cellpie.obs['CellPie_neurons'],adata_cellpie.obs['Stereoscope_neurons'],adata_cellpie.obs['C2l_neurons'],adata_n_c2l.obs['neurons']],axis=1)\n",
    "data_neurons_04=pd.concat([adata.obs['StDeconvolve_neurons'],adata_cellpie.obs['CellPie_neurons_0.4'],adata_cellpie.obs['Stereoscope_neurons'],adata_cellpie.obs['C2l_neurons'],adata_n_c2l.obs['neurons']],axis=1)\n",
    "data_neurons_0=pd.concat([adata.obs['StDeconvolve_neurons'],adata_cellpie.obs['CellPie_neurons_0'],adata_cellpie.obs['Stereoscope_neurons'],adata_cellpie.obs['C2l_neurons'],adata_n_c2l.obs['neurons']],axis=1)\n",
    "            "
   ]
  },
  {
   "cell_type": "code",
   "execution_count": null,
   "id": "1185f747",
   "metadata": {
    "ExecuteTime": {
     "end_time": "2023-01-19T17:37:26.805671Z",
     "start_time": "2023-01-19T17:37:24.816592Z"
    }
   },
   "outputs": [],
   "source": [
    "plt.figure(figsize=(2, 2))\n",
    "corr_2 = data_glial_2.corr(method='spearman')[['glial']]\n",
    "corr_16 = data_glial_16.corr(method='spearman')[['glial']]\n",
    "corr_1 = data_glial_1.corr(method='spearman')[['glial']]\n",
    "corr_04 = data_glial_04.corr(method='spearman')[['glial']]\n",
    "corr_0 = data_glial_0.corr(method='spearman')[['glial']]\n",
    "\n",
    "f,(ax1,ax2,ax3,ax4,ax5, axcb) = plt.subplots(1,6, \n",
    "            gridspec_kw={'width_ratios':[4,4,4,4,4,0.4]},figsize=(8, 7))\n",
    "ax1.get_shared_y_axes().join(ax2,ax3,ax4,ax5)\n",
    "g1 = sns.heatmap(corr_0,cmap=sns.color_palette(\"crest\", as_cmap=True),vmin=0,square=True,annot=True,annot_kws={\"fontsize\":25},xticklabels=False,cbar=False,ax=ax1)\n",
    "g1.set_ylabel('')\n",
    "g2 = sns.heatmap(corr_04,cmap=sns.color_palette(\"crest\", as_cmap=True),vmin=0,square=True,annot=True,annot_kws={\"fontsize\":25},xticklabels=False,cbar=False,ax=ax2)\n",
    "g2.set_ylabel('')\n",
    "g2.set_yticks([])\n",
    "g3 = sns.heatmap(corr_1,cmap=sns.color_palette(\"crest\", as_cmap=True),vmin=0,square=True,annot=True,annot_kws={\"fontsize\":25},cbar=False, ax=ax3)\n",
    "g3.set_ylabel('')\n",
    "g3.set_yticks([])\n",
    "g4 = sns.heatmap(corr_16,cmap=sns.color_palette(\"crest\", as_cmap=True),vmin=0,square=True,annot=True,annot_kws={\"fontsize\":25},cbar=False,xticklabels=False, ax=ax4)\n",
    "g4.set_ylabel('')\n",
    "g4.set_yticks([])\n",
    "g6 = sns.heatmap(corr_2,cmap=sns.color_palette(\"crest\", as_cmap=True),vmin=0,square=True,annot=True,annot_kws={\"fontsize\":25},ax=ax5,xticklabels=False, cbar_ax=axcb)\n",
    "g6.set_ylabel('')\n",
    "g6.set_xlabel('')\n",
    "g6.set_yticks([])\n",
    "plt.gcf().subplots_adjust(bottom=0.15)\n",
    "plt.savefig('glial_heatmap.jpg',dpi=500,bbox_inches='tight')"
   ]
  },
  {
   "cell_type": "code",
   "execution_count": null,
   "id": "a26af7d0",
   "metadata": {
    "ExecuteTime": {
     "end_time": "2023-01-19T17:37:56.094130Z",
     "start_time": "2023-01-19T17:37:53.408152Z"
    }
   },
   "outputs": [],
   "source": [
    "plt.figure(figsize=(2, 2))\n",
    "corr_2 = data_neurons_2.corr(method='spearman')[['neurons']]\n",
    "corr_16 = data_neurons_16.corr(method='spearman')[['neurons']]\n",
    "corr_1 = data_neurons_1.corr(method='spearman')[['neurons']]\n",
    "corr_04 = data_neurons_04.corr(method='spearman')[['neurons']]\n",
    "corr_0 = data_neurons_0.corr(method='spearman')[['neurons']]\n",
    "\n",
    "f,(ax1,ax2,ax3,ax4,ax6, axcb) = plt.subplots(1,6, \n",
    "            gridspec_kw={'width_ratios':[4,4,4,4,4,0.8]},figsize=(8, 7))\n",
    "ax1.get_shared_y_axes().join(ax2,ax3,ax4,ax5)\n",
    "g1 = sns.heatmap(corr_0,cmap=sns.color_palette(\"crest\", as_cmap=True),vmin=0,square=True,annot=True,annot_kws={\"fontsize\":25},xticklabels=False,cbar=False,ax=ax1)\n",
    "g1.set_ylabel('')\n",
    "g2 = sns.heatmap(corr_04,cmap=sns.color_palette(\"crest\", as_cmap=True),vmin=0,square=True,annot=True,annot_kws={\"fontsize\":25},xticklabels=False,cbar=False,ax=ax2)\n",
    "g2.set_ylabel('')\n",
    "g2.set_yticks([])\n",
    "g3 = sns.heatmap(corr_1,cmap=sns.color_palette(\"crest\", as_cmap=True),vmin=0,square=True,annot=True,annot_kws={\"fontsize\":25},cbar=False, ax=ax3)\n",
    "g3.set_ylabel('')\n",
    "g3.set_yticks([])\n",
    "g4 = sns.heatmap(corr_16,cmap=sns.color_palette(\"crest\", as_cmap=True),vmin=0,square=True,annot=True,annot_kws={\"fontsize\":25},cbar=False,xticklabels=False, ax=ax4)\n",
    "g4.set_ylabel('')\n",
    "g4.set_yticks([])\n",
    "g6 = sns.heatmap(corr_2,cmap=sns.color_palette(\"crest\", as_cmap=True),vmin=0,square=True,annot=True,annot_kws={\"fontsize\":25},ax=ax6,xticklabels=False, cbar_ax=axcb)\n",
    "g6.set_ylabel('')\n",
    "g6.set_xlabel('')\n",
    "g6.set_yticks([])\n",
    "\n",
    "plt.gcf().subplots_adjust(bottom=0.15)\n",
    "plt.savefig('neurons_heatmap.jpg',dpi=500,bbox_inches='tight')"
   ]
  },
  {
   "cell_type": "code",
   "execution_count": null,
   "id": "a1d96321",
   "metadata": {
    "ExecuteTime": {
     "end_time": "2023-01-19T17:38:40.890032Z",
     "start_time": "2023-01-19T17:38:17.647975Z"
    }
   },
   "outputs": [],
   "source": [
    "nmf_model = intNMF(adata_cellpie,17, epochs = 60,init = 'NNDSVD',mod1_skew=1,random_state=2)\n",
    "nmf_model.fit(adata_cellpie)"
   ]
  },
  {
   "cell_type": "code",
   "execution_count": null,
   "id": "2f43115b-81a1-4d06-9421-55ee9869649e",
   "metadata": {
    "ExecuteTime": {
     "end_time": "2023-01-19T17:38:48.524538Z",
     "start_time": "2023-01-19T17:38:48.514024Z"
    }
   },
   "outputs": [],
   "source": [
    "# get the top genes per topic\n",
    "l=cp.get_genes_topic(adata_cellpie,nmf_model.phi_expr)"
   ]
  },
  {
   "cell_type": "code",
   "execution_count": null,
   "id": "5f30328d",
   "metadata": {
    "ExecuteTime": {
     "end_time": "2023-01-19T17:38:51.785087Z",
     "start_time": "2023-01-19T17:38:51.460074Z"
    }
   },
   "outputs": [],
   "source": [
    "l.T.to_csv('marker_genes_mouse_if_repr.csv')"
   ]
  },
  {
   "cell_type": "code",
   "execution_count": null,
   "id": "fb6e2d84",
   "metadata": {
    "ExecuteTime": {
     "end_time": "2023-01-19T17:38:52.519810Z",
     "start_time": "2023-01-19T17:38:52.514087Z"
    }
   },
   "outputs": [],
   "source": [
    "genes=l.T"
   ]
  },
  {
   "cell_type": "code",
   "execution_count": null,
   "id": "1e684311",
   "metadata": {
    "ExecuteTime": {
     "end_time": "2023-01-19T17:38:52.972412Z",
     "start_time": "2023-01-19T17:38:52.966046Z"
    }
   },
   "outputs": [],
   "source": [
    "adata_l=sc.AnnData(l)"
   ]
  },
  {
   "cell_type": "code",
   "execution_count": null,
   "id": "286369b0",
   "metadata": {
    "ExecuteTime": {
     "end_time": "2023-01-19T17:38:53.939823Z",
     "start_time": "2023-01-19T17:38:53.906749Z"
    }
   },
   "outputs": [],
   "source": [
    "adata_l.write('mouse_if_genes_repr.h5ad')"
   ]
  }
 ],
 "metadata": {
  "kernelspec": {
   "display_name": "Python 3 (ipykernel)",
   "language": "python",
   "name": "python3"
  },
  "language_info": {
   "codemirror_mode": {
    "name": "ipython",
    "version": 3
   },
   "file_extension": ".py",
   "mimetype": "text/x-python",
   "name": "python",
   "nbconvert_exporter": "python",
   "pygments_lexer": "ipython3",
   "version": "3.8.12"
  }
 },
 "nbformat": 4,
 "nbformat_minor": 5
}
